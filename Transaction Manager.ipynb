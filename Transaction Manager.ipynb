{
 "cells": [
  {
   "cell_type": "markdown",
   "metadata": {},
   "source": [
    "## A Simple Transaction Manager in Python\n",
    "\n",
    "This notebook implements a simple transaction manager in python. It supports S2PL and MVCC, detects deadlocks, supports the typical isolation levels, and generates pseudo-code."
   ]
  },
  {
   "cell_type": "markdown",
   "metadata": {},
   "source": [
    "Copyright Ankur Sharma & Jens Dittrich, [Big Data Analytics Group](https://bigdata.uni-saarland.de/), [CC-BY-SA](https://creativecommons.org/licenses/by-sa/4.0/legalcode)"
   ]
  },
  {
   "cell_type": "code",
   "execution_count": 1,
   "metadata": {},
   "outputs": [],
   "source": [
    "import random\n",
    "from tm.transaction_manager import TransactionManager\n",
    "from tm.enum import IsolationLevel, TransactionStatus"
   ]
  },
  {
   "cell_type": "markdown",
   "metadata": {},
   "source": [
    "##  Function to generate sample ``accounts`` table"
   ]
  },
  {
   "cell_type": "code",
   "execution_count": 2,
   "metadata": {},
   "outputs": [],
   "source": [
    "f_names = ['Alan', 'Alexa', 'Maria', 'Chris', 'Lyra', 'Demi', 'Mindy', 'Carol', 'Clark', 'Michael', 'Michelle']\n",
    "l_names = ['Jones', 'Franklin', 'Melon', 'Jordan', 'Bolt', 'Burns', 'Zest', 'Mueller', 'Hunt', 'Hoellen', 'Kemf']\n",
    "\n",
    "def get_sample_tx_manager(isolation_level, use_mvcc):\n",
    "    \"\"\" Create a sample transaction manager with sample table\n",
    "    \n",
    "    Parameters\n",
    "    ----------\n",
    "        isolation_level :IsolationLevel\n",
    "            The isolation level to be used by the transaction manager. Available options:\n",
    "                SingleVersion: READ_UNCOMMITTED, READ_COMMITTED, REPEATABLE_READS, SERIALIZABLE\n",
    "                Multi-Version: SNAPSHOT_ISOLATION, SERIALIZABLE\n",
    "                \n",
    "        use_mvcc :bool\n",
    "            Should the transaction manager use multi-version store underneath?\n",
    "            \n",
    "    Returns\n",
    "    -------\n",
    "        :TransactionManager with a sample table\n",
    "    \n",
    "    \"\"\"\n",
    "    tx_manager = TransactionManager(isolation_level, use_mvcc)\n",
    "    tx_manager.add_table('accounts', ['Firstname', 'Lastname', 'Balance'], [str, str, float])\n",
    "    \n",
    "    # insert sample data\n",
    "    tx = tx_manager.begin_transaction()\n",
    "    \n",
    "    for i in range(4):\n",
    "        rnd_fname = f_names[random.randint(0, 10)]\n",
    "        rnd_lname = l_names[random.randint(0, 10)]\n",
    "        tx.insert('accounts', {'Firstname': rnd_fname, 'Lastname': rnd_lname, 'Balance': 100.0})\n",
    "    tx_manager.commit_transaction(tx)\n",
    "    # tx_manager.print_tables()\n",
    "    return tx_manager"
   ]
  },
  {
   "cell_type": "markdown",
   "metadata": {},
   "source": [
    "## Create sample schedule"
   ]
  },
  {
   "cell_type": "code",
   "execution_count": 3,
   "metadata": {
    "scrolled": true
   },
   "outputs": [],
   "source": [
    "\n",
    "# Sample schedule\n",
    "\"\"\"\n",
    "Guidelines to write the schedule:\n",
    "\n",
    "    1. The schedule must be a list of string ordered wrt time.\n",
    "    2. DO NOT use quotes for table_name and column options.\n",
    "    3. The values dictionary in UPDATE and INSERT must be a valid dictionary. Key names must be enclosed in\n",
    "       single quotes.\n",
    "    4. Multi-version implementation only supports SNAPSHOT_ISOLATION and SERIALIZABLE isolation levels.\n",
    "    5. Single-version implementation does not supports SNAPSHOT_ISOLATION.\n",
    "    6. Each string in the schedule consists of a transaction name and a statement to execute, separated by a semi-colon.\n",
    "       \n",
    "       \n",
    "Allowed operations:\n",
    "    1. READ(table_name=sample_table, rowid=0, column=Balance)\n",
    "        Read the given `Balance` value from the row whose rowid is `0` from sample_table. DO NOT enclose the\n",
    "        table_name and column in quotes.\n",
    "            \n",
    "    2. UPDATE(table_name=sample_table, rowid=0, values={'Balance': 100.0})\n",
    "        Update the `Balance` to `100.0` in row whose rowid is `0` in the sample_table. The values parameter must\n",
    "        be a string representation of a valid python dictionary.\n",
    "        \n",
    "    3. INSERT(table_name=sample_table, values={'Balance': 100.0, ... })\n",
    "        Insert the given row in the sample_table. The values parameter must be a string representation of a \n",
    "        valid python dictionary.\n",
    "        \n",
    "    4. DELETE(table_name=sample_table, rowid=0)\n",
    "        Delete row whose rowid is `0` from the sample table. DO NOT enclose the table_name in quotes.\n",
    "        \n",
    "    5. ASSERT(constraint=())\n",
    "        Check if the constraint holds. The constraint must be a valid python logical expression. DO NOT enclose\n",
    "        the constraint in quotes. If the constraint is violated, the transaction is ABORTED.\n",
    "    \n",
    "    6. COMMIT()\n",
    "        Commit the transaction.\n",
    "    \n",
    "    7. ABORT()\n",
    "        Abort the transaction.\n",
    "\"\"\"\n",
    "\n",
    "schedule = [\n",
    "    \"TX2; BEGIN()\",\n",
    "    \"TX2; bal2_0 = READ(table_name=accounts, rowid=0, column=Balance)\",\n",
    "    \"TX2; ASSERT(constraint=(bal2_0 >= 100))\",\n",
    "    \"TX1; BEGIN()\",\n",
    "    \"TX1; bal1_0 = READ(table_name=accounts, rowid=0, column=Balance)\",\n",
    "    \"TX2; UPDATE(table_name=accounts, rowid=0, values={'Balance': bal2_0 - 100.0})\",\n",
    "    \"TX2; COMMIT()\",\n",
    "    \"TX1; ASSERT(constraint=(bal1_0 >= 100))\",\n",
    "    \"TX1; bal1_0 = READ(table_name=accounts, rowid=0, column=Balance)\",\n",
    "    \"TX1; UPDATE(table_name=accounts, rowid=0, values={'Balance': bal1_0 - 100.0})\",\n",
    "    \"TX3; BEGIN()\",\n",
    "    \"TX3; bal3_3 = READ(table_name=accounts, rowid=3, column=Balance)\",\n",
    "    \"TX3; UPDATE(table_name=accounts, rowid=3, values={'Balance': bal3_3 + 100.0})\",\n",
    "    \"TX1; bal1_3 = READ(table_name=accounts, rowid=3, column=Balance)\",\n",
    "    \"TX3; ABORT()\",\n",
    "    \"TX1; UPDATE(table_name=accounts, rowid=3, values={'Balance': bal1_3 + 100.0})\",\n",
    "    \"TX1; COMMIT()\"\n",
    "]"
   ]
  },
  {
   "cell_type": "markdown",
   "metadata": {},
   "source": [
    "### Create sample TransactionManager\n",
    "\n",
    "Note: T3 is forcefully aborted so it can never commit.\n",
    "\n",
    "#### Behaviour under different Isolation Levels\n",
    "\n",
    "* Lock Based Concurrency Control\n",
    "    1. **READ_UNCOMMITTED**: This isolation level allows dirty reads. So, even though **T3** aborts, **T1** can read the uncommitted modifications done by **T3**, and can still commit.\n",
    "    2. **READ_COMMITTED**: Since the read locks are immediately released after reading a tuple in this isolation level, we can observe that **T1** and **T2** can both commit even in the presence of cycle (due to write skew) in the precedence graph.\n",
    "    3. **REPEATABLE_READS**: In this isolation, one transaction per cycle in the precedence graph must abort. This is why only **T1** or **T2** is able to commit under this isolation level (here **T2**). Phantom reads are allowed in this isolation level. Since we do not allow predicated reads in this implementation, this is same as SERIALIZABLE.\n",
    "    4. **SERIALIZABLE**: In this isolation, one transaction per cycle in the precedence graph must abort. This is why only **T1** or **T2** is able to commit under this isolation level (here **T2**).\n",
    "    \n",
    "    \n",
    "    \n",
    "* Multi-version Concurrency Control (Core Lecture)\n",
    "    1. **SNAPSHOT_ISOLATION**: Under this isolation level, every transaction sees the state as of the time when it started. Write skew is allowed under this isolation level. **T1** and **T2** both commit under this isolation level.\n",
    "    2. **SERIALIZABLE**: In this isolation, one transaction per cycle in the precedence graph must abort. This is why only **T2** is able to commit under this isolation level."
   ]
  },
  {
   "cell_type": "code",
   "execution_count": 4,
   "metadata": {},
   "outputs": [],
   "source": [
    "# Create a sample transaction manager with a sample accounts table with 4 rows and\n",
    "# balance initialized to 100.0\n",
    "tx_manager = get_sample_tx_manager(IsolationLevel.SERIALIZABLE, use_mvcc=False)"
   ]
  },
  {
   "cell_type": "markdown",
   "metadata": {},
   "source": [
    "### Precedence Graph"
   ]
  },
  {
   "cell_type": "code",
   "execution_count": 5,
   "metadata": {
    "scrolled": true
   },
   "outputs": [
    {
     "data": {
      "image/svg+xml": [
       "<?xml version=\"1.0\" encoding=\"UTF-8\" standalone=\"no\"?>\n",
       "<!DOCTYPE svg PUBLIC \"-//W3C//DTD SVG 1.1//EN\"\n",
       " \"http://www.w3.org/Graphics/SVG/1.1/DTD/svg11.dtd\">\n",
       "<!-- Generated by graphviz version 3.0.0 (20220226.1711)\n",
       " -->\n",
       "<!-- Pages: 1 -->\n",
       "<svg width=\"134pt\" height=\"116pt\"\n",
       " viewBox=\"0.00 0.00 134.00 116.00\" xmlns=\"http://www.w3.org/2000/svg\" xmlns:xlink=\"http://www.w3.org/1999/xlink\">\n",
       "<g id=\"graph0\" class=\"graph\" transform=\"scale(1 1) rotate(0) translate(4 112)\">\n",
       "<polygon fill=\"white\" stroke=\"transparent\" points=\"-4,4 -4,-112 130,-112 130,4 -4,4\"/>\n",
       "<!-- TX2 -->\n",
       "<g id=\"node1\" class=\"node\">\n",
       "<title>TX2</title>\n",
       "<ellipse fill=\"none\" stroke=\"black\" cx=\"27\" cy=\"-90\" rx=\"27\" ry=\"18\"/>\n",
       "<text text-anchor=\"middle\" x=\"27\" y=\"-86.3\" font-family=\"Times,serif\" font-size=\"14.00\">TX2</text>\n",
       "</g>\n",
       "<!-- TX1 -->\n",
       "<g id=\"node3\" class=\"node\">\n",
       "<title>TX1</title>\n",
       "<ellipse fill=\"none\" stroke=\"black\" cx=\"27\" cy=\"-18\" rx=\"27\" ry=\"18\"/>\n",
       "<text text-anchor=\"middle\" x=\"27\" y=\"-14.3\" font-family=\"Times,serif\" font-size=\"14.00\">TX1</text>\n",
       "</g>\n",
       "<!-- TX2&#45;&gt;TX1 -->\n",
       "<g id=\"edge1\" class=\"edge\">\n",
       "<title>TX2&#45;&gt;TX1</title>\n",
       "<path fill=\"none\" stroke=\"black\" d=\"M21.16,-72.41C20.3,-64.51 20.05,-54.85 20.41,-45.94\"/>\n",
       "<polygon fill=\"black\" stroke=\"black\" points=\"23.9,-46.18 21.12,-35.96 16.92,-45.68 23.9,-46.18\"/>\n",
       "</g>\n",
       "<!-- TX3 -->\n",
       "<g id=\"node2\" class=\"node\">\n",
       "<title>TX3</title>\n",
       "<ellipse fill=\"none\" stroke=\"black\" cx=\"99\" cy=\"-90\" rx=\"27\" ry=\"18\"/>\n",
       "<text text-anchor=\"middle\" x=\"99\" y=\"-86.3\" font-family=\"Times,serif\" font-size=\"14.00\">TX3</text>\n",
       "</g>\n",
       "<!-- TX3&#45;&gt;TX1 -->\n",
       "<g id=\"edge2\" class=\"edge\">\n",
       "<title>TX3&#45;&gt;TX1</title>\n",
       "<path fill=\"none\" stroke=\"black\" d=\"M84.43,-74.83C74.25,-64.94 60.48,-51.55 48.97,-40.36\"/>\n",
       "<polygon fill=\"black\" stroke=\"black\" points=\"51.41,-37.85 41.8,-33.38 46.53,-42.87 51.41,-37.85\"/>\n",
       "</g>\n",
       "<!-- TX1&#45;&gt;TX2 -->\n",
       "<g id=\"edge3\" class=\"edge\">\n",
       "<title>TX1&#45;&gt;TX2</title>\n",
       "<path fill=\"none\" stroke=\"black\" d=\"M32.88,-35.96C33.71,-43.83 33.95,-53.37 33.58,-62.19\"/>\n",
       "<polygon fill=\"black\" stroke=\"black\" points=\"30.07,-62.18 32.84,-72.41 37.06,-62.69 30.07,-62.18\"/>\n",
       "</g>\n",
       "</g>\n",
       "</svg>\n"
      ],
      "text/plain": [
       "<graphviz.graphs.Digraph at 0x12841b0d0>"
      ]
     },
     "execution_count": 5,
     "metadata": {},
     "output_type": "execute_result"
    }
   ],
   "source": [
    "# Draw the precedence graph\n",
    "tx_manager.generate_precedence_graph(schedule)"
   ]
  },
  {
   "cell_type": "markdown",
   "metadata": {},
   "source": [
    "### Execute the schedule"
   ]
  },
  {
   "cell_type": "code",
   "execution_count": 6,
   "metadata": {
    "scrolled": false
   },
   "outputs": [
    {
     "name": "stdout",
     "output_type": "stream",
     "text": [
      "******************\n",
      "submitted_schedule\n",
      "******************\n",
      "0 \t  TX2 \t=>  BEGIN()\n",
      "1 \t  TX2 \t=>  bal2_0 = READ(table_name=accounts, rowid=0, column=Balance)\n",
      "2 \t  TX2 \t=>  ASSERT(constraint=(bal2_0 >= 100))\n",
      "3 \t  TX1 \t=>  BEGIN()\n",
      "4 \t  TX1 \t=>  bal1_0 = READ(table_name=accounts, rowid=0, column=Balance)\n",
      "5 \t  TX2 \t=>  UPDATE(table_name=accounts, rowid=0, values={'Balance': bal2_0 - 100.0})\n",
      "6 \t  TX2 \t=>  COMMIT()\n",
      "7 \t  TX1 \t=>  ASSERT(constraint=(bal1_0 >= 100))\n",
      "8 \t  TX1 \t=>  bal1_0 = READ(table_name=accounts, rowid=0, column=Balance)\n",
      "9 \t  TX1 \t=>  UPDATE(table_name=accounts, rowid=0, values={'Balance': bal1_0 - 100.0})\n",
      "10 \t  TX3 \t=>  BEGIN()\n",
      "11 \t  TX3 \t=>  bal3_3 = READ(table_name=accounts, rowid=3, column=Balance)\n",
      "12 \t  TX3 \t=>  UPDATE(table_name=accounts, rowid=3, values={'Balance': bal3_3 + 100.0})\n",
      "13 \t  TX1 \t=>  bal1_3 = READ(table_name=accounts, rowid=3, column=Balance)\n",
      "14 \t  TX3 \t=>  ABORT()\n",
      "15 \t  TX1 \t=>  UPDATE(table_name=accounts, rowid=3, values={'Balance': bal1_3 + 100.0})\n",
      "16 \t  TX1 \t=>  COMMIT()\n",
      "\n",
      "*****************\n",
      "executed_schedule\n",
      "*****************\n",
      "0 \t  TX2 \t=>  BEGIN()\n",
      "1 \t  TX2 \t=>  bal2_0 = READ(table_name=accounts, rowid=0, column=Balance)\n",
      "2 \t  TX2 \t=>  ASSERT(constraint=(bal2_0 >= 100))\n",
      "5 \t  TX2 \t=>  UPDATE(table_name=accounts, rowid=0, values={'Balance': bal2_0 - 100.0})\n",
      "6 \t  TX2 \t=>  COMMIT()\n",
      "\n",
      "******************\n",
      "transaction_status\n",
      "******************\n",
      "TX2 \t =>  TransactionStatus.COMMITTED\n",
      "TX3 \t =>  TransactionStatus.ABORTED\n",
      "TX1 \t =>  TransactionStatus.ABORTED\n",
      "\n",
      "*********************\n",
      "state_after_execution\n",
      "*********************\n",
      "--------\n",
      "\u001b[1maccounts\u001b[0m \n",
      "--------------------------------------------\n",
      "\u001b[1mrow_id     Firstname  Lastname   Balance    \u001b[0m \n",
      "--------------------------------------------\n",
      "0          Maria      Jordan     0.0        \n",
      "1          Alexa      Franklin   100.0      \n",
      "2          Alexa      Burns      100.0      \n",
      "3          Lyra       Hoellen    100.0      \n",
      "\n",
      "\n"
     ]
    }
   ],
   "source": [
    "# Try to execute the given schedule using the transaction manager\n",
    "tx_manager.execute_schedule(schedule, dump_exec_code=False)"
   ]
  },
  {
   "cell_type": "markdown",
   "metadata": {},
   "source": [
    "# Write Skew Anomaly (Core Lecture)"
   ]
  },
  {
   "cell_type": "markdown",
   "metadata": {},
   "source": [
    "## Create sample schedule"
   ]
  },
  {
   "cell_type": "code",
   "execution_count": 7,
   "metadata": {},
   "outputs": [],
   "source": [
    "# Sample schedule\n",
    "'''\n",
    "This example contains two transactions TX1 and TX2. They both read a row which is modified\n",
    "by other transactions. This schedule leads to a cycle in the serialization graph implying \n",
    "that both of these transactions cannot commit under full serializability. However, they can\n",
    "both commit under SNAPSHOT_ISOLATION.\n",
    "'''\n",
    "\n",
    "schedule = [\n",
    "    \"TX1; BEGIN()\",\n",
    "    \"TX1; bal1_0 = READ(table_name=accounts, rowid=0, column=Balance)\",\n",
    "    \"TX1; bal1_3 = READ(table_name=accounts, rowid=3, column=Balance)\",\n",
    "    \n",
    "    \"TX2; BEGIN()\",\n",
    "    \"TX2; bal2_3 = READ(table_name=accounts, rowid=3, column=Balance)\",\n",
    "    \n",
    "    \"TX1; ASSERT(constraint=(bal1_0 >= 0))\",\n",
    "    \n",
    "    \"TX2; bal2_0 = READ(table_name=accounts, rowid=0, column=Balance)\",\n",
    "    \n",
    "    \"TX2; ASSERT(constraint=(bal2_3 >= 0))\",\n",
    "    \n",
    "    \"TX1; UPDATE(table_name=accounts, rowid=3, values={'Balance': bal1_3 - 100.0})\",\n",
    "    \"TX2; UPDATE(table_name=accounts, rowid=0, values={'Balance': bal2_0 - 100.0})\",\n",
    "\n",
    "    \"TX2; COMMIT()\",\n",
    "    \"TX1; COMMIT()\"\n",
    "]"
   ]
  },
  {
   "cell_type": "markdown",
   "metadata": {},
   "source": [
    "### Create sample TransactionManager"
   ]
  },
  {
   "cell_type": "code",
   "execution_count": 8,
   "metadata": {},
   "outputs": [],
   "source": [
    "# Create a sample transaction manager with a sample accounts table with 4 rows and\n",
    "# balance initialized to 100.0\n",
    "tx_manager = get_sample_tx_manager(IsolationLevel.SERIALIZABLE, use_mvcc=True)"
   ]
  },
  {
   "cell_type": "markdown",
   "metadata": {},
   "source": [
    "### Precedence Graph"
   ]
  },
  {
   "cell_type": "code",
   "execution_count": 9,
   "metadata": {},
   "outputs": [
    {
     "data": {
      "image/svg+xml": [
       "<?xml version=\"1.0\" encoding=\"UTF-8\" standalone=\"no\"?>\n",
       "<!DOCTYPE svg PUBLIC \"-//W3C//DTD SVG 1.1//EN\"\n",
       " \"http://www.w3.org/Graphics/SVG/1.1/DTD/svg11.dtd\">\n",
       "<!-- Generated by graphviz version 3.0.0 (20220226.1711)\n",
       " -->\n",
       "<!-- Pages: 1 -->\n",
       "<svg width=\"62pt\" height=\"116pt\"\n",
       " viewBox=\"0.00 0.00 62.00 116.00\" xmlns=\"http://www.w3.org/2000/svg\" xmlns:xlink=\"http://www.w3.org/1999/xlink\">\n",
       "<g id=\"graph0\" class=\"graph\" transform=\"scale(1 1) rotate(0) translate(4 112)\">\n",
       "<polygon fill=\"white\" stroke=\"transparent\" points=\"-4,4 -4,-112 58,-112 58,4 -4,4\"/>\n",
       "<!-- TX2 -->\n",
       "<g id=\"node1\" class=\"node\">\n",
       "<title>TX2</title>\n",
       "<ellipse fill=\"none\" stroke=\"black\" cx=\"27\" cy=\"-90\" rx=\"27\" ry=\"18\"/>\n",
       "<text text-anchor=\"middle\" x=\"27\" y=\"-86.3\" font-family=\"Times,serif\" font-size=\"14.00\">TX2</text>\n",
       "</g>\n",
       "<!-- TX1 -->\n",
       "<g id=\"node2\" class=\"node\">\n",
       "<title>TX1</title>\n",
       "<ellipse fill=\"none\" stroke=\"black\" cx=\"27\" cy=\"-18\" rx=\"27\" ry=\"18\"/>\n",
       "<text text-anchor=\"middle\" x=\"27\" y=\"-14.3\" font-family=\"Times,serif\" font-size=\"14.00\">TX1</text>\n",
       "</g>\n",
       "<!-- TX2&#45;&gt;TX1 -->\n",
       "<g id=\"edge1\" class=\"edge\">\n",
       "<title>TX2&#45;&gt;TX1</title>\n",
       "<path fill=\"none\" stroke=\"black\" d=\"M21.16,-72.41C20.3,-64.51 20.05,-54.85 20.41,-45.94\"/>\n",
       "<polygon fill=\"black\" stroke=\"black\" points=\"23.9,-46.18 21.12,-35.96 16.92,-45.68 23.9,-46.18\"/>\n",
       "</g>\n",
       "<!-- TX1&#45;&gt;TX2 -->\n",
       "<g id=\"edge2\" class=\"edge\">\n",
       "<title>TX1&#45;&gt;TX2</title>\n",
       "<path fill=\"none\" stroke=\"black\" d=\"M32.88,-35.96C33.71,-43.83 33.95,-53.37 33.58,-62.19\"/>\n",
       "<polygon fill=\"black\" stroke=\"black\" points=\"30.07,-62.18 32.84,-72.41 37.06,-62.69 30.07,-62.18\"/>\n",
       "</g>\n",
       "</g>\n",
       "</svg>\n"
      ],
      "text/plain": [
       "<graphviz.graphs.Digraph at 0x12841bf40>"
      ]
     },
     "execution_count": 9,
     "metadata": {},
     "output_type": "execute_result"
    }
   ],
   "source": [
    "# Draw the precedence graph\n",
    "tx_manager.generate_precedence_graph(schedule)"
   ]
  },
  {
   "cell_type": "markdown",
   "metadata": {},
   "source": [
    "### Execute the schedule"
   ]
  },
  {
   "cell_type": "code",
   "execution_count": 10,
   "metadata": {},
   "outputs": [
    {
     "name": "stdout",
     "output_type": "stream",
     "text": [
      "******************\n",
      "submitted_schedule\n",
      "******************\n",
      "0 \t  TX1 \t=>  BEGIN()\n",
      "1 \t  TX1 \t=>  bal1_0 = READ(table_name=accounts, rowid=0, column=Balance)\n",
      "2 \t  TX1 \t=>  bal1_3 = READ(table_name=accounts, rowid=3, column=Balance)\n",
      "3 \t  TX2 \t=>  BEGIN()\n",
      "4 \t  TX2 \t=>  bal2_3 = READ(table_name=accounts, rowid=3, column=Balance)\n",
      "5 \t  TX1 \t=>  ASSERT(constraint=(bal1_0 >= 0))\n",
      "6 \t  TX2 \t=>  bal2_0 = READ(table_name=accounts, rowid=0, column=Balance)\n",
      "7 \t  TX2 \t=>  ASSERT(constraint=(bal2_3 >= 0))\n",
      "8 \t  TX1 \t=>  UPDATE(table_name=accounts, rowid=3, values={'Balance': bal1_3 - 100.0})\n",
      "9 \t  TX2 \t=>  UPDATE(table_name=accounts, rowid=0, values={'Balance': bal2_0 - 100.0})\n",
      "10 \t  TX2 \t=>  COMMIT()\n",
      "11 \t  TX1 \t=>  COMMIT()\n",
      "\n",
      "*****************\n",
      "executed_schedule\n",
      "*****************\n",
      "3 \t  TX2 \t=>  BEGIN()\n",
      "4 \t  TX2 \t=>  bal2_3 = READ(table_name=accounts, rowid=3, column=Balance)\n",
      "6 \t  TX2 \t=>  bal2_0 = READ(table_name=accounts, rowid=0, column=Balance)\n",
      "7 \t  TX2 \t=>  ASSERT(constraint=(bal2_3 >= 0))\n",
      "9 \t  TX2 \t=>  UPDATE(table_name=accounts, rowid=0, values={'Balance': bal2_0 - 100.0})\n",
      "10 \t  TX2 \t=>  COMMIT()\n",
      "\n",
      "******************\n",
      "transaction_status\n",
      "******************\n",
      "TX2 \t =>  TransactionStatus.COMMITTED\n",
      "TX1 \t =>  TransactionStatus.ABORTED\n",
      "\n",
      "*********************\n",
      "state_after_execution\n",
      "*********************\n",
      "--------\n",
      "\u001b[1maccounts\u001b[0m \n",
      "------------------------------------------------------------------------\n",
      "\u001b[1mrow_id      begin_ts    end_ts      Firstname   Lastname    Balance     \u001b[0m \n",
      "------------------------------------------------------------------------\n",
      "0           5           4294967296  Alan        Burns       0.0         \n",
      "1           2           4294967296  Alan        Jones       100.0       \n",
      "2           2           4294967296  Michael     Bolt        100.0       \n",
      "3           2           4294967296  Alexa       Jones       100.0       \n",
      "\n",
      "\n",
      "\n",
      "\n",
      "--------\n",
      "\u001b[1maccounts (older_versions)\u001b[0m \n",
      "------------------------------------------------------------------------\n",
      "\u001b[1mrow_id      begin_ts    end_ts      Firstname   Lastname    Balance     \u001b[0m \n",
      "------------------------------------------------------------------------\n",
      "0           2           4294967296  Alan        Burns       100.0       \n",
      "\n",
      "\n"
     ]
    }
   ],
   "source": [
    "# Execute the given schedule using the transaction manager\n",
    "tx_manager.execute_schedule(schedule, dump_exec_code=False)"
   ]
  }
 ],
 "metadata": {
  "kernelspec": {
   "display_name": "Python 3 (ipykernel)",
   "language": "python",
   "name": "python3"
  },
  "language_info": {
   "codemirror_mode": {
    "name": "ipython",
    "version": 3
   },
   "file_extension": ".py",
   "mimetype": "text/x-python",
   "name": "python",
   "nbconvert_exporter": "python",
   "pygments_lexer": "ipython3",
   "version": "3.10.4"
  },
  "varInspector": {
   "cols": {
    "lenName": 16,
    "lenType": 16,
    "lenVar": 40
   },
   "kernels_config": {
    "python": {
     "delete_cmd_postfix": "",
     "delete_cmd_prefix": "del ",
     "library": "var_list.py",
     "varRefreshCmd": "print(var_dic_list())"
    },
    "r": {
     "delete_cmd_postfix": ") ",
     "delete_cmd_prefix": "rm(",
     "library": "var_list.r",
     "varRefreshCmd": "cat(var_dic_list()) "
    }
   },
   "types_to_exclude": [
    "module",
    "function",
    "builtin_function_or_method",
    "instance",
    "_Feature"
   ],
   "window_display": false
  }
 },
 "nbformat": 4,
 "nbformat_minor": 2
}
