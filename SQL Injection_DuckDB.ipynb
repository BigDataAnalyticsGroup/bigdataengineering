{
 "cells": [
  {
   "cell_type": "markdown",
   "id": "f281536d",
   "metadata": {},
   "source": [
    "# SQL Injection\n",
    "\n",
    "In this notebook, we show a simple SQL injection example in which we inject and execute arbitrary SQL code in a DuckDB database. Afterwards, we discuss the state-of-the-art solution to prevent SQL injections.\n",
    "\n",
    "The notebook is based on our analog notebook [SQL Injection](https://github.com/BigDataAnalyticsGroup/bigdataengineering/blob/master/SQL%20Injection.ipynb), that shows SQL Injection and in particular prepared statements in the context of a [PostgreSQL](https://www.postgresql.org/) database using the [`psycopg`](https://www.psycopg.org/psycopg3/docs/index.html) package for Python.\n",
    "\n",
    "Copyright Joris Nix & Jens Dittrich, [Big Data Analytics Group](https://bigdata.uni-saarland.de/), [CC-BY-SA](https://creativecommons.org/licenses/by-sa/4.0/legalcode)"
   ]
  },
  {
   "cell_type": "markdown",
   "id": "5b31428e",
   "metadata": {},
   "source": [
    "## Setup "
   ]
  },
  {
   "cell_type": "code",
   "execution_count": 1,
   "id": "db523063",
   "metadata": {},
   "outputs": [
    {
     "name": "stdout",
     "output_type": "stream",
     "text": [
      "id,username,pwd\r\n",
      "0,immanuel,ThisIsImmi\r\n",
      "1,joris,'bestpwintheworld.\r\n",
      "2,kai,'secretstr1ng\r\n",
      "3,felix,'gueswaht?\r\n",
      "4,lukas,'youll_never_know\r\n",
      "5,marcel,'s3cby0psc\r\n",
      "6,' OR '1'='1,nopassword\r\n"
     ]
    }
   ],
   "source": [
    "# dataset\n",
    "!cat data/sql-injection/users.csv"
   ]
  },
  {
   "cell_type": "code",
   "execution_count": 2,
   "id": "5962ea80",
   "metadata": {},
   "outputs": [],
   "source": [
    "import duckdb\n",
    "\n",
    "conn = duckdb.connect(database=':memory:')\n",
    "\n",
    "def init_db(conn):\n",
    "    \n",
    "    # Drop table if it exists\n",
    "    conn.execute(\"DROP TABLE IF EXISTS users;\")\n",
    "\n",
    "    # Create accounts table\n",
    "    conn.execute(\"\"\"CREATE TABLE users (\n",
    "                        id INTEGER PRIMARY KEY,\n",
    "                        username VARCHAR(42) UNIQUE,\n",
    "                        pwd char(128));\"\"\")\n",
    "    \n",
    "    conn.execute(\"COPY users FROM './data/sql-injection/users.csv' (FORMAT CSV, HEADER, DELIMITER ',')\")\n",
    "    \n",
    "init_db(conn)"
   ]
  },
  {
   "cell_type": "markdown",
   "id": "82c064fd",
   "metadata": {},
   "source": [
    "## SQL Injection Example\n",
    "\n",
    "First, we define a function that queries the database for information about a user with the name `username`."
   ]
  },
  {
   "cell_type": "code",
   "execution_count": 3,
   "id": "f913b84f",
   "metadata": {},
   "outputs": [],
   "source": [
    "def execute_query(query):\n",
    "    conn.execute(query) # execute query\n",
    "    res = conn.fetchall() # fetch results\n",
    "    display(res)\n",
    "    \n",
    "def get_user_info(username):\n",
    "    statement = \"SELECT * FROM users WHERE username = '\" + username + \"'\";\n",
    "    execute_query(statement)"
   ]
  },
  {
   "cell_type": "markdown",
   "id": "c76f46e2",
   "metadata": {},
   "source": [
    "We expect the user to enter something like this."
   ]
  },
  {
   "cell_type": "code",
   "execution_count": 4,
   "id": "de94f208",
   "metadata": {},
   "outputs": [
    {
     "data": {
      "text/plain": [
       "[(5, 'marcel', \"'s3cby0psc\")]"
      ]
     },
     "metadata": {},
     "output_type": "display_data"
    }
   ],
   "source": [
    "username = \"marcel\" \n",
    "    \n",
    "get_user_info(username)"
   ]
  },
  {
   "cell_type": "markdown",
   "id": "40c9886c",
   "metadata": {},
   "source": [
    "However, the user can also enter something like this, which should be a valid user in our system."
   ]
  },
  {
   "cell_type": "code",
   "execution_count": 5,
   "id": "e7bbdbda",
   "metadata": {},
   "outputs": [],
   "source": [
    "username = \"' OR '1'='1\""
   ]
  },
  {
   "cell_type": "markdown",
   "id": "3123af7d",
   "metadata": {},
   "source": [
    "This constructs the following query,\n",
    "```\n",
    "SELECT * FROM users WHERE username = '' OR '1'='1'\n",
    "```\n",
    "which results in a WHERE clause that is always true and therefore, returns the complete `users` table."
   ]
  },
  {
   "cell_type": "code",
   "execution_count": 6,
   "id": "2a303372",
   "metadata": {},
   "outputs": [
    {
     "data": {
      "text/plain": [
       "[(0, 'immanuel', 'ThisIsImmi'),\n",
       " (1, 'joris', \"'bestpwintheworld.\"),\n",
       " (2, 'kai', \"'secretstr1ng\"),\n",
       " (3, 'felix', \"'gueswaht?\"),\n",
       " (4, 'lukas', \"'youll_never_know\"),\n",
       " (5, 'marcel', \"'s3cby0psc\"),\n",
       " (6, \"' OR '1'='1\", 'nopassword')]"
      ]
     },
     "metadata": {},
     "output_type": "display_data"
    }
   ],
   "source": [
    "get_user_info(username) # prints the whole table content"
   ]
  },
  {
   "cell_type": "code",
   "execution_count": 7,
   "id": "a604ffb3",
   "metadata": {},
   "outputs": [],
   "source": [
    "# or even this\n",
    "username = \"'; DROP TABLE users; SELECT 42 WHERE '42'='42\""
   ]
  },
  {
   "cell_type": "markdown",
   "id": "9e68989b",
   "metadata": {},
   "source": [
    "This constructs the following query.\n",
    "```\n",
    "SELECT * FROM users WHERE username = 'bla'; DROP TABLE users;\n",
    "SELECT 42 WHERE '42' = '42';\n",
    "```\n",
    "After executing this query, the table `users` and all its content is deleted from the database."
   ]
  },
  {
   "cell_type": "code",
   "execution_count": 8,
   "id": "f709e16a",
   "metadata": {},
   "outputs": [
    {
     "data": {
      "text/plain": [
       "[(42,)]"
      ]
     },
     "metadata": {},
     "output_type": "display_data"
    }
   ],
   "source": [
    "get_user_info(username)"
   ]
  },
  {
   "cell_type": "markdown",
   "id": "0d23ed9c",
   "metadata": {},
   "source": [
    "We can check that the `users` table was indeed deleted by trying to retrieve the tuples from the table afterwards, which results in a `UndefinedTable` exception."
   ]
  },
  {
   "cell_type": "code",
   "execution_count": 9,
   "id": "373fa0e6",
   "metadata": {},
   "outputs": [
    {
     "name": "stdout",
     "output_type": "stream",
     "text": [
      "Catalog Error: Table with name users does not exist!\n",
      "Did you mean \"temp.information_schema.tables\"?\n",
      "LINE 1: SELECT * FROM users;\n",
      "                      ^\n"
     ]
    }
   ],
   "source": [
    "statement = \"SELECT * FROM users;\"\n",
    "try:\n",
    "    execute_query(statement)\n",
    "except Exception as e:\n",
    "    print(e)"
   ]
  },
  {
   "cell_type": "markdown",
   "id": "dd327dbc",
   "metadata": {},
   "source": [
    "# Prevent Attack using Prepared Statements\n",
    "\n",
    "The underlying problem and the reason that makes SQL Injections possible is the mixing of code and data. Therefore, SQL Injections can be prevented by sending the data (user input) separately from the SQL code to the database server.\n",
    "\n",
    "In DuckDB, this can be achieved by using so called [prepared statements](https://duckdb.org/docs/api/python/dbapi#querying). Prepared statements allow us to define parameters before executing a parameterized query. In the example from above the prepared statement would look as follows:\n",
    "```SQL\n",
    "PREPARE get_user_info AS\n",
    "    SELECT *\n",
    "    FROM users\n",
    "    WHERE username=$1;\n",
    "```\n",
    "To run the prepared statement, we can use the `EXECUTE` statement.\n",
    "```SQL\n",
    "EXECUTE get_user_info(username);\n",
    "```\n",
    "This will make sure that when executing `get_user_info()` the entire user provided username is interpreted as string and the code and data are send separately to the database server.\n",
    "\n",
    "\n",
    "Below, we define a secure function to query the database for user information using a prepared statement.\n",
    "\n",
    "**Note:** Prepared statements are not only used to prevent SQL injections but also to optimize query execution by avoiding the re-compilation of the query (the query is cached) in case the same query (even with different parameters) is send multiple times to the database server. For more information, refer to [this](https://duckdb.org/docs/api/c/prepared) part of the DuckDB documentation."
   ]
  },
  {
   "cell_type": "code",
   "execution_count": 10,
   "id": "8ac1b61d",
   "metadata": {},
   "outputs": [],
   "source": [
    "def get_user_info_prepared(username):\n",
    "    # we provide the user input as a parameter\n",
    "    conn.execute(\"SELECT * FROM users WHERE username=?;\", [username])\n",
    "    res = conn.fetchall()\n",
    "    display(res)\n",
    "\n",
    "# initialize database again (`users` table previously deleted)\n",
    "init_db(conn)"
   ]
  },
  {
   "cell_type": "markdown",
   "id": "40d71bad",
   "metadata": {},
   "source": [
    "When executing the secure function using a valid username, we receive the expected output."
   ]
  },
  {
   "cell_type": "code",
   "execution_count": 11,
   "id": "999bbff7",
   "metadata": {},
   "outputs": [
    {
     "data": {
      "text/plain": [
       "[(4, 'lukas', \"'youll_never_know\")]"
      ]
     },
     "metadata": {},
     "output_type": "display_data"
    }
   ],
   "source": [
    "get_user_info_prepared(\"lukas\")"
   ]
  },
  {
   "cell_type": "markdown",
   "id": "0e0e7f42",
   "metadata": {},
   "source": [
    "However, if we now try to get information for the user `' OR '1'='1` (or inject malicious code into the query), the username is interpreted as a string and therefore, the correct user information is returned (beforehand the whole table was returned)."
   ]
  },
  {
   "cell_type": "code",
   "execution_count": 12,
   "id": "325f6952",
   "metadata": {},
   "outputs": [
    {
     "data": {
      "text/plain": [
       "[(6, \"' OR '1'='1\", 'nopassword')]"
      ]
     },
     "metadata": {},
     "output_type": "display_data"
    }
   ],
   "source": [
    "get_user_info_prepared(\"' OR '1'='1\")"
   ]
  },
  {
   "cell_type": "markdown",
   "id": "1e30ad2d",
   "metadata": {},
   "source": [
    "It is also not possible to delete the `users` table anymore. The malicious code `DROP TABLE users;` is **not** executed. The user `'; DROP TABLE users; SELECT 42 WHERE 42='42` does not exist in the table `users` and therefore, an empty result is returned."
   ]
  },
  {
   "cell_type": "code",
   "execution_count": 13,
   "id": "deeb0ca9",
   "metadata": {
    "scrolled": true
   },
   "outputs": [
    {
     "data": {
      "text/plain": [
       "[]"
      ]
     },
     "metadata": {},
     "output_type": "display_data"
    }
   ],
   "source": [
    "get_user_info_prepared(\"'; DROP TABLE users; SELECT 42 WHERE 42='42\")"
   ]
  },
  {
   "cell_type": "markdown",
   "id": "bb9fd882",
   "metadata": {},
   "source": [
    "We can verify this by querying the `users` table afterwards."
   ]
  },
  {
   "cell_type": "code",
   "execution_count": 14,
   "id": "b1cdfc42",
   "metadata": {},
   "outputs": [
    {
     "data": {
      "text/plain": [
       "[(0, 'immanuel', 'ThisIsImmi'),\n",
       " (1, 'joris', \"'bestpwintheworld.\"),\n",
       " (2, 'kai', \"'secretstr1ng\"),\n",
       " (3, 'felix', \"'gueswaht?\"),\n",
       " (4, 'lukas', \"'youll_never_know\"),\n",
       " (5, 'marcel', \"'s3cby0psc\"),\n",
       " (6, \"' OR '1'='1\", 'nopassword')]"
      ]
     },
     "metadata": {},
     "output_type": "display_data"
    }
   ],
   "source": [
    "execute_query(\"SELECT * FROM users;\")"
   ]
  }
 ],
 "metadata": {
  "kernelspec": {
   "display_name": "Python 3 (ipykernel)",
   "language": "python",
   "name": "python3"
  },
  "language_info": {
   "codemirror_mode": {
    "name": "ipython",
    "version": 3
   },
   "file_extension": ".py",
   "mimetype": "text/x-python",
   "name": "python",
   "nbconvert_exporter": "python",
   "pygments_lexer": "ipython3",
   "version": "3.10.12"
  },
  "varInspector": {
   "cols": {
    "lenName": 16,
    "lenType": 16,
    "lenVar": 40
   },
   "kernels_config": {
    "python": {
     "delete_cmd_postfix": "",
     "delete_cmd_prefix": "del ",
     "library": "var_list.py",
     "varRefreshCmd": "print(var_dic_list())"
    },
    "r": {
     "delete_cmd_postfix": ") ",
     "delete_cmd_prefix": "rm(",
     "library": "var_list.r",
     "varRefreshCmd": "cat(var_dic_list()) "
    }
   },
   "types_to_exclude": [
    "module",
    "function",
    "builtin_function_or_method",
    "instance",
    "_Feature"
   ],
   "window_display": false
  }
 },
 "nbformat": 4,
 "nbformat_minor": 5
}
