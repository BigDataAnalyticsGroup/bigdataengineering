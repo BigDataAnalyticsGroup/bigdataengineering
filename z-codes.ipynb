{
 "cells": [
  {
   "cell_type": "markdown",
   "metadata": {},
   "source": [
    "This is an educational implementation of z-codes.\n",
    "\n",
    "Copyright, Prof. Dr. Jens Dittrich\n",
    "\n",
    "https://bigdata.uni-saarland.de/"
   ]
  },
  {
   "cell_type": "code",
   "execution_count": 1,
   "metadata": {},
   "outputs": [],
   "source": [
    "from operator import add\n",
    "from textwrap import wrap"
   ]
  },
  {
   "cell_type": "code",
   "execution_count": 2,
   "metadata": {},
   "outputs": [
    {
     "data": {
      "text/plain": [
       "'000110'"
      ]
     },
     "execution_count": 2,
     "metadata": {},
     "output_type": "execute_result"
    }
   ],
   "source": [
    "# convert OSM-coordinates into a z-code:\n",
    "# notice that we use a string-representation of z-codes for educational purposes\n",
    "# a real implementation would represent z-codes in a bit-vector or map them to signed integers\n",
    "def tile2ZCode(zoom, x, y):\n",
    "    if zoom == 0:\n",
    "        return ''\n",
    "    x_binary =  ((bin(x)[2:]).zfill(zoom))\n",
    "    y_binary =  ((bin(y)[2:]).zfill(zoom))\n",
    "    return ''.join(map(add, y_binary, x_binary))\n",
    "\n",
    "tile2ZCode(3,2,1)"
   ]
  },
  {
   "cell_type": "code",
   "execution_count": 3,
   "metadata": {},
   "outputs": [
    {
     "data": {
      "text/plain": [
       "(2, 3, 1)"
      ]
     },
     "execution_count": 3,
     "metadata": {},
     "output_type": "execute_result"
    }
   ],
   "source": [
    "# inverse of tile2ZCode\n",
    "# convert Oz-code to SM-coordinates:\n",
    "def zCode2Tile(zCode):\n",
    "    assert( len(zCode)%2 ==0 )\n",
    "    zoom = len(zCode)//2\n",
    "    x = y = 0\n",
    "    exponent = int(zoom)-1\n",
    "    for i in range(0,len(zCode),2):\n",
    "        y += int(zCode[i])*2**exponent\n",
    "        x += int(zCode[i+1])*2**exponent\n",
    "        exponent -= 1\n",
    "    return (zoom, x, y)\n",
    "    \n",
    "zCode2Tile(tile2ZCode(2,3,1))"
   ]
  },
  {
   "cell_type": "code",
   "execution_count": 4,
   "metadata": {},
   "outputs": [
    {
     "name": "stdout",
     "output_type": "stream",
     "text": [
      "\u001b[1;31mha\u001b[1;m\u001b[1;32mll\u001b[1;m\u001b[1;33mo \u001b[1;m\u001b[1;34mwe\u001b[1;m\u001b[1;35mlt\u001b[1;m"
     ]
    }
   ],
   "source": [
    "startEsc = '\\033[1;'\n",
    "middleEsc = 'm'\n",
    "endEsc = '\\033[1;m'\n",
    "\n",
    "# color-codes a string in steps of <stepSize>\n",
    "def colPrint(string, stepSize=2):\n",
    "    color = 31\n",
    "    for i in range(0,len(string),stepSize):\n",
    "        prefix = string[i:i+stepSize]\n",
    "        print(startEsc+str(color)+middleEsc+prefix+endEsc, end='')\n",
    "        color += 1\n",
    "colPrint('hallo welt')"
   ]
  },
  {
   "cell_type": "code",
   "execution_count": 5,
   "metadata": {
    "scrolled": false
   },
   "outputs": [
    {
     "name": "stdout",
     "output_type": "stream",
     "text": [
      "\u001b[1;31m00\u001b[1;m\u001b[1;32m00\u001b[1;m\u001b[1;33m00\u001b[1;m \u001b[1;31m00\u001b[1;m\u001b[1;32m00\u001b[1;m\u001b[1;33m01\u001b[1;m \u001b[1;31m00\u001b[1;m\u001b[1;32m01\u001b[1;m\u001b[1;33m00\u001b[1;m \u001b[1;31m00\u001b[1;m\u001b[1;32m01\u001b[1;m\u001b[1;33m01\u001b[1;m \u001b[1;31m01\u001b[1;m\u001b[1;32m00\u001b[1;m\u001b[1;33m00\u001b[1;m \u001b[1;31m01\u001b[1;m\u001b[1;32m00\u001b[1;m\u001b[1;33m01\u001b[1;m \u001b[1;31m01\u001b[1;m\u001b[1;32m01\u001b[1;m\u001b[1;33m00\u001b[1;m \u001b[1;31m01\u001b[1;m\u001b[1;32m01\u001b[1;m\u001b[1;33m01\u001b[1;m \n",
      "\u001b[1;31m00\u001b[1;m\u001b[1;32m00\u001b[1;m\u001b[1;33m10\u001b[1;m \u001b[1;31m00\u001b[1;m\u001b[1;32m00\u001b[1;m\u001b[1;33m11\u001b[1;m \u001b[1;31m00\u001b[1;m\u001b[1;32m01\u001b[1;m\u001b[1;33m10\u001b[1;m \u001b[1;31m00\u001b[1;m\u001b[1;32m01\u001b[1;m\u001b[1;33m11\u001b[1;m \u001b[1;31m01\u001b[1;m\u001b[1;32m00\u001b[1;m\u001b[1;33m10\u001b[1;m \u001b[1;31m01\u001b[1;m\u001b[1;32m00\u001b[1;m\u001b[1;33m11\u001b[1;m \u001b[1;31m01\u001b[1;m\u001b[1;32m01\u001b[1;m\u001b[1;33m10\u001b[1;m \u001b[1;31m01\u001b[1;m\u001b[1;32m01\u001b[1;m\u001b[1;33m11\u001b[1;m \n",
      "\u001b[1;31m00\u001b[1;m\u001b[1;32m10\u001b[1;m\u001b[1;33m00\u001b[1;m \u001b[1;31m00\u001b[1;m\u001b[1;32m10\u001b[1;m\u001b[1;33m01\u001b[1;m \u001b[1;31m00\u001b[1;m\u001b[1;32m11\u001b[1;m\u001b[1;33m00\u001b[1;m \u001b[1;31m00\u001b[1;m\u001b[1;32m11\u001b[1;m\u001b[1;33m01\u001b[1;m \u001b[1;31m01\u001b[1;m\u001b[1;32m10\u001b[1;m\u001b[1;33m00\u001b[1;m \u001b[1;31m01\u001b[1;m\u001b[1;32m10\u001b[1;m\u001b[1;33m01\u001b[1;m \u001b[1;31m01\u001b[1;m\u001b[1;32m11\u001b[1;m\u001b[1;33m00\u001b[1;m \u001b[1;31m01\u001b[1;m\u001b[1;32m11\u001b[1;m\u001b[1;33m01\u001b[1;m \n",
      "\u001b[1;31m00\u001b[1;m\u001b[1;32m10\u001b[1;m\u001b[1;33m10\u001b[1;m \u001b[1;31m00\u001b[1;m\u001b[1;32m10\u001b[1;m\u001b[1;33m11\u001b[1;m \u001b[1;31m00\u001b[1;m\u001b[1;32m11\u001b[1;m\u001b[1;33m10\u001b[1;m \u001b[1;31m00\u001b[1;m\u001b[1;32m11\u001b[1;m\u001b[1;33m11\u001b[1;m \u001b[1;31m01\u001b[1;m\u001b[1;32m10\u001b[1;m\u001b[1;33m10\u001b[1;m \u001b[1;31m01\u001b[1;m\u001b[1;32m10\u001b[1;m\u001b[1;33m11\u001b[1;m \u001b[1;31m01\u001b[1;m\u001b[1;32m11\u001b[1;m\u001b[1;33m10\u001b[1;m \u001b[1;31m01\u001b[1;m\u001b[1;32m11\u001b[1;m\u001b[1;33m11\u001b[1;m \n",
      "\u001b[1;31m10\u001b[1;m\u001b[1;32m00\u001b[1;m\u001b[1;33m00\u001b[1;m \u001b[1;31m10\u001b[1;m\u001b[1;32m00\u001b[1;m\u001b[1;33m01\u001b[1;m \u001b[1;31m10\u001b[1;m\u001b[1;32m01\u001b[1;m\u001b[1;33m00\u001b[1;m \u001b[1;31m10\u001b[1;m\u001b[1;32m01\u001b[1;m\u001b[1;33m01\u001b[1;m \u001b[1;31m11\u001b[1;m\u001b[1;32m00\u001b[1;m\u001b[1;33m00\u001b[1;m \u001b[1;31m11\u001b[1;m\u001b[1;32m00\u001b[1;m\u001b[1;33m01\u001b[1;m \u001b[1;31m11\u001b[1;m\u001b[1;32m01\u001b[1;m\u001b[1;33m00\u001b[1;m \u001b[1;31m11\u001b[1;m\u001b[1;32m01\u001b[1;m\u001b[1;33m01\u001b[1;m \n",
      "\u001b[1;31m10\u001b[1;m\u001b[1;32m00\u001b[1;m\u001b[1;33m10\u001b[1;m \u001b[1;31m10\u001b[1;m\u001b[1;32m00\u001b[1;m\u001b[1;33m11\u001b[1;m \u001b[1;31m10\u001b[1;m\u001b[1;32m01\u001b[1;m\u001b[1;33m10\u001b[1;m \u001b[1;31m10\u001b[1;m\u001b[1;32m01\u001b[1;m\u001b[1;33m11\u001b[1;m \u001b[1;31m11\u001b[1;m\u001b[1;32m00\u001b[1;m\u001b[1;33m10\u001b[1;m \u001b[1;31m11\u001b[1;m\u001b[1;32m00\u001b[1;m\u001b[1;33m11\u001b[1;m \u001b[1;31m11\u001b[1;m\u001b[1;32m01\u001b[1;m\u001b[1;33m10\u001b[1;m \u001b[1;31m11\u001b[1;m\u001b[1;32m01\u001b[1;m\u001b[1;33m11\u001b[1;m \n",
      "\u001b[1;31m10\u001b[1;m\u001b[1;32m10\u001b[1;m\u001b[1;33m00\u001b[1;m \u001b[1;31m10\u001b[1;m\u001b[1;32m10\u001b[1;m\u001b[1;33m01\u001b[1;m \u001b[1;31m10\u001b[1;m\u001b[1;32m11\u001b[1;m\u001b[1;33m00\u001b[1;m \u001b[1;31m10\u001b[1;m\u001b[1;32m11\u001b[1;m\u001b[1;33m01\u001b[1;m \u001b[1;31m11\u001b[1;m\u001b[1;32m10\u001b[1;m\u001b[1;33m00\u001b[1;m \u001b[1;31m11\u001b[1;m\u001b[1;32m10\u001b[1;m\u001b[1;33m01\u001b[1;m \u001b[1;31m11\u001b[1;m\u001b[1;32m11\u001b[1;m\u001b[1;33m00\u001b[1;m \u001b[1;31m11\u001b[1;m\u001b[1;32m11\u001b[1;m\u001b[1;33m01\u001b[1;m \n",
      "\u001b[1;31m10\u001b[1;m\u001b[1;32m10\u001b[1;m\u001b[1;33m10\u001b[1;m \u001b[1;31m10\u001b[1;m\u001b[1;32m10\u001b[1;m\u001b[1;33m11\u001b[1;m \u001b[1;31m10\u001b[1;m\u001b[1;32m11\u001b[1;m\u001b[1;33m10\u001b[1;m \u001b[1;31m10\u001b[1;m\u001b[1;32m11\u001b[1;m\u001b[1;33m11\u001b[1;m \u001b[1;31m11\u001b[1;m\u001b[1;32m10\u001b[1;m\u001b[1;33m10\u001b[1;m \u001b[1;31m11\u001b[1;m\u001b[1;32m10\u001b[1;m\u001b[1;33m11\u001b[1;m \u001b[1;31m11\u001b[1;m\u001b[1;32m11\u001b[1;m\u001b[1;33m10\u001b[1;m \u001b[1;31m11\u001b[1;m\u001b[1;32m11\u001b[1;m\u001b[1;33m11\u001b[1;m \n"
     ]
    }
   ],
   "source": [
    "# print all z-codes of a given zoom-level:\n",
    "def printZCodes(zoom):\n",
    "    for y in range(2 ** zoom):\n",
    "        for x in range(2 ** zoom):\n",
    "            zCode= tile2ZCode(zoom, x, y)\n",
    "            colPrint(zCode)\n",
    "            print(' ', end='')\n",
    "        print()\n",
    "\n",
    "printZCodes(3)"
   ]
  },
  {
   "cell_type": "code",
   "execution_count": 6,
   "metadata": {},
   "outputs": [],
   "source": [
    "def computeZCodes(zoom):\n",
    "    results = []\n",
    "    for y in range(2 ** zoom):\n",
    "        for x in range(2 ** zoom):\n",
    "            zCode= tile2ZCode(zoom, x, y)\n",
    "            results.append( (zCode,x,y) )\n",
    "    return results"
   ]
  },
  {
   "cell_type": "code",
   "execution_count": 7,
   "metadata": {},
   "outputs": [
    {
     "data": {
      "application/vnd.jupyter.widget-view+json": {
       "model_id": "35725575cb6a4e6890f7bf5435a4371e",
       "version_major": 2,
       "version_minor": 0
      },
      "text/plain": [
       "Canvas(layout=Layout(height='300px', width='300px'), size=(300, 300), sync_image_data=True)"
      ]
     },
     "metadata": {},
     "output_type": "display_data"
    },
    {
     "data": {
      "application/vnd.jupyter.widget-view+json": {
       "model_id": "594ff6e52d4b4a6e8a4504de77d32cf5",
       "version_major": 2,
       "version_minor": 0
      },
      "text/plain": [
       "Canvas(layout=Layout(height='300px', width='300px'), size=(300, 300), sync_image_data=True)"
      ]
     },
     "metadata": {},
     "output_type": "display_data"
    },
    {
     "data": {
      "application/vnd.jupyter.widget-view+json": {
       "model_id": "e9eb64ee38e44329a17b88457f9b77cf",
       "version_major": 2,
       "version_minor": 0
      },
      "text/plain": [
       "Canvas(layout=Layout(height='300px', width='300px'), size=(300, 300), sync_image_data=True)"
      ]
     },
     "metadata": {},
     "output_type": "display_data"
    },
    {
     "data": {
      "application/vnd.jupyter.widget-view+json": {
       "model_id": "0f1b03afd1e742b7afa00fdf8bd33e63",
       "version_major": 2,
       "version_minor": 0
      },
      "text/plain": [
       "Canvas(layout=Layout(height='300px', width='300px'), size=(300, 300), sync_image_data=True)"
      ]
     },
     "metadata": {},
     "output_type": "display_data"
    },
    {
     "data": {
      "application/vnd.jupyter.widget-view+json": {
       "model_id": "6a35ab66dc414c69b1c3de8ced22350e",
       "version_major": 2,
       "version_minor": 0
      },
      "text/plain": [
       "Canvas(layout=Layout(height='300px', width='300px'), size=(300, 300), sync_image_data=True)"
      ]
     },
     "metadata": {},
     "output_type": "display_data"
    }
   ],
   "source": [
    "from ipycanvas import Canvas, hold_canvas\n",
    "\n",
    "# visualize the data space in z-code order, i.e. draw the z-curve:\n",
    "def visualizeZCodes(zoom):\n",
    "    results = computeZCodes(zoom)\n",
    "    results.sort()\n",
    "    x_width, y_width = 300, 300\n",
    "    canvas = Canvas(size=(x_width, y_width),sync_image_data=True)\n",
    "    canvas.line_width = 1\n",
    "    max_x = max_y = 2**zoom\n",
    "    mult_x, mult_y  = x_width/max_x, y_width/max_y\n",
    "    start = results.pop(0)\n",
    "    start_x, start_y = start[1], start[2]\n",
    "    with hold_canvas(canvas):\n",
    "        while len(results)>0:\n",
    "            next = results.pop(0)\n",
    "            next_x, next_y = next[1], next[2]\n",
    "            canvas.begin_path()\n",
    "            canvas.move_to( (start_x+0.5)*mult_x, (start_y+0.5)*mult_y)\n",
    "            canvas.line_to( (next_x+0.5)*mult_x, (next_y+0.5)*mult_y)\n",
    "            canvas.stroke()\n",
    "            start_x,start_y = next_x, next_y \n",
    "    return canvas\n",
    "\n",
    "for zoom in range(1,6):\n",
    "    display(visualizeZCodes(zoom))"
   ]
  }
 ],
 "metadata": {
  "kernelspec": {
   "display_name": "Python 3",
   "language": "python",
   "name": "python3"
  },
  "language_info": {
   "codemirror_mode": {
    "name": "ipython",
    "version": 3
   },
   "file_extension": ".py",
   "mimetype": "text/x-python",
   "name": "python",
   "nbconvert_exporter": "python",
   "pygments_lexer": "ipython3",
   "version": "3.7.4"
  },
  "varInspector": {
   "cols": {
    "lenName": 16,
    "lenType": 16,
    "lenVar": 40
   },
   "kernels_config": {
    "python": {
     "delete_cmd_postfix": "",
     "delete_cmd_prefix": "del ",
     "library": "var_list.py",
     "varRefreshCmd": "print(var_dic_list())"
    },
    "r": {
     "delete_cmd_postfix": ") ",
     "delete_cmd_prefix": "rm(",
     "library": "var_list.r",
     "varRefreshCmd": "cat(var_dic_list()) "
    }
   },
   "types_to_exclude": [
    "module",
    "function",
    "builtin_function_or_method",
    "instance",
    "_Feature"
   ],
   "window_display": false
  }
 },
 "nbformat": 4,
 "nbformat_minor": 2
}
