{
 "cells": [
  {
   "cell_type": "markdown",
   "metadata": {},
   "source": [
    "# The Relational Algebra in Python.\n"
   ]
  },
  {
   "cell_type": "markdown",
   "metadata": {},
   "source": [
    "Copyright Jens Dittrich & Marcel Maltry, [Big Data Analytics Group](https://bigdata.uni-saarland.de/), [CC-BY-SA](https://creativecommons.org/licenses/by-sa/4.0/legalcode)"
   ]
  },
  {
   "cell_type": "markdown",
   "metadata": {},
   "source": [
    "### Imports"
   ]
  },
  {
   "cell_type": "code",
   "execution_count": 1,
   "metadata": {},
   "outputs": [],
   "source": [
    "from graphviz import Digraph, Source\n",
    "from ra.relation import Relation\n",
    "from ra.schema_utils import build_schema\n",
    "\n",
    "# https://docs.python.org/3.7/library/operator.html\n",
    "# used here to be able to use certain built-in python operators as function parameters\n",
    "import operator  "
   ]
  },
  {
   "cell_type": "markdown",
   "metadata": {},
   "source": [
    "# Abstract classes for relational operators"
   ]
  },
  {
   "cell_type": "code",
   "execution_count": 2,
   "metadata": {
    "code_folding": []
   },
   "outputs": [],
   "source": [
    "class Operator:    \n",
    "    \"\"\"Abstract base class for an operator in an operator tree.\"\"\"\n",
    "    \n",
    "    def __init__(self):\n",
    "        \"\"\"Initializes a new Operator object.\"\"\"\n",
    "        pass\n",
    "    \n",
    "    def __str__(self):\n",
    "        \"\"\"Returns a string representation of the subtree rooted in the operator node.\"\"\"\n",
    "        pass\n",
    "    \n",
    "    def get_graph(self, print_source=False):\n",
    "        \"\"\"Computes a `graphviz.Digraph` of the operator and all its children.\"\"\"\n",
    "        graph = Digraph(engine='circo')\n",
    "        self._dot(graph, '')\n",
    "        if print_source:\n",
    "            print(graph)\n",
    "        graph.graph_attr['rankdir'] = 'BT'  # display graph bottom-up\n",
    "        return graph\n",
    "    \n",
    "    def evaluate(self):\n",
    "        \"\"\"Returns a `Relation` object representing the result of the operator.\n",
    "        Note:\n",
    "            Inner nodes also call `evaluate` on their childern to receive evaluated inputs.\n",
    "        \n",
    "        Returns:\n",
    "            A `Relation` object representing the result after evaluating  the operator.\n",
    "        \"\"\"\n",
    "        pass\n",
    "    \n",
    "    def _dot(self, graph, prefix):\n",
    "        \"\"\"Adds a node representing the operator to the graph.\n",
    "        Note:\n",
    "            Inner nodes also call `dot` on their children and add edges\n",
    "            \n",
    "        Args:\n",
    "            graph (:obj: graphviz.Digraph): The graph a node is added to.\n",
    "            prefix (:obj: `str`): The prefix for the unique identifier name, here path to the node.\n",
    "            \n",
    "        Returns:\n",
    "            The name of the node added, s.t. parents can add edges from the inserted node.\n",
    "        \"\"\"\n",
    "        pass\n",
    "    \n",
    "    \n",
    "    def close(self):\n",
    "        \"\"\"Cleans up resources used by this operator. Rarely useful and/or required in Python\n",
    "        \"\"\"\n",
    "        pass\n",
    "    \n",
    "class UnaryOperator(Operator):\n",
    "    \"\"\"Abstract base class for an internal node performing a unary operation.\n",
    "    \n",
    "    Attributes:\n",
    "        input (:obj: `Operator`): The input to the unary operator\n",
    "    \"\"\"\n",
    "    def __init__(self, input):\n",
    "        self.input = input\n",
    "    \n",
    "    def _dot_helper(self, graph, prefix, name, label):\n",
    "        \"\"\"Helper for adding the node to the dot graph by perfoming common actions.\"\"\"\n",
    "        # add node to graph\n",
    "        graph.node(name, label)\n",
    "        # recursively add subtree to graph\n",
    "        child_name = self.input._dot(graph, prefix+'I')\n",
    "        # add edge from child to this node\n",
    "        graph.edge(child_name, name)\n",
    "        \n",
    "    def close(self):\n",
    "        self.input.close()\n",
    "        \n",
    "class BinaryOperator(Operator):\n",
    "    \"\"\"Abstract base class for an internal node performing a binary operation.\n",
    "    \n",
    "    Attributes:\n",
    "        l_input (:obj: Operator): The left input to the binary operator.\n",
    "        r_input (:obj: Operator): The right input to the binary operator.\n",
    "    \"\"\"\n",
    "    def __init__(self, l_input, r_input):\n",
    "        self.l_input = l_input\n",
    "        self.r_input = r_input\n",
    "    \n",
    "    def _dot_helper(self, graph, prefix, name, label):\n",
    "        \"\"\"Helper for adding the node to the dot graph by perfoming common actions.\"\"\"\n",
    "        # add node to graph\n",
    "        graph.node(name, label)\n",
    "        # recursively add subtree to graph\n",
    "        l_child_name = self.l_input._dot(graph, prefix+'L')\n",
    "        r_child_name = self.r_input._dot(graph, prefix+'R')\n",
    "        # add edge from child to this node\n",
    "        graph.edge(l_child_name, name)\n",
    "        graph.edge(r_child_name, name)\n",
    "\n",
    "    def close(self):\n",
    "        self.l_input.close()\n",
    "        self.r_input.close()\n",
    "        \n",
    "\n",
    "class SetOperator(BinaryOperator):\n",
    "    \"\"\"Generic class for an internal node performing a set operation.\n",
    "    \n",
    "    Attributes:\n",
    "        l_input (:obj: Operator): The left input to the binary operator.\n",
    "        r_input (:obj: Operator): The right input to the binary operator.\n",
    "        operator (function): The set operator as function from the operator module\n",
    "        symbol (:obj: `str`): The symbol representig the set operation.\n",
    "    \"\"\"\n",
    "    def __init__(self, l_input, r_input, operator, symbol):\n",
    "        super().__init__(l_input, r_input)\n",
    "        self.operator = operator\n",
    "        self.symbol = symbol\n",
    "    \n",
    "    def __str__(self):\n",
    "        return \"({}) {} ({})\".format(self.l_input, self.symbol, self.r_input)\n",
    "    \n",
    "    def evaluate(self):\n",
    "        \"\"\"Performs a set operation on its inputs.\"\"\"\n",
    "        # evaluate child nodes\n",
    "        l_eval_input = self.l_input.evaluate()\n",
    "        r_eval_input = self.r_input.evaluate()\n",
    "        # integrity checks (attributes and domains must be identical)\n",
    "        assert l_eval_input.attributes == r_eval_input.attributes\n",
    "        assert l_eval_input.domains == r_eval_input.domains\n",
    "        # create empty new relation\n",
    "        new_schema = build_schema(l_eval_input.attributes, l_eval_input.domains)\n",
    "        new_relation = Relation(\"Result\", new_schema)\n",
    "        # add tuples to new relation\n",
    "        for tup in self.operator(l_eval_input.tuples, r_eval_input.tuples):\n",
    "            new_relation.add_tuple(tup)\n",
    "        return new_relation         \n",
    "        \n",
    "    def _dot(self, graph, prefix):\n",
    "        # build name and label and call helper function\n",
    "        node_name = prefix + 'SOp'\n",
    "        node_label = self.symbol\n",
    "        self._dot_helper(graph, prefix, node_name, node_label)\n",
    "        return node_name    \n",
    "\n",
    "        \n",
    "class LeafOperator(Operator):\n",
    "    \"\"\"Abstract base class for a leaf node of an operator tree.\"\"\"\n",
    "    pass"
   ]
  },
  {
   "cell_type": "markdown",
   "metadata": {},
   "source": [
    "# Relation\n",
    "\n",
    "### Implementation"
   ]
  },
  {
   "cell_type": "code",
   "execution_count": 3,
   "metadata": {},
   "outputs": [],
   "source": [
    "class LeafRelation(LeafOperator):\n",
    "    \"\"\"Leaf operator wrapping an input relation.\n",
    "    \n",
    "    Attributes:\n",
    "        relation (:obj: `Relation`): The relation held by the leaf operator.\n",
    "    \"\"\"\n",
    "    def __init__(self, relation):\n",
    "        self.relation = relation\n",
    "        \n",
    "    def __str__(self):\n",
    "        return self.relation.name\n",
    "    \n",
    "    def evaluate(self):\n",
    "        \"\"\"Evaluates the operator by returning the relation held by the leaf node.\"\"\"\n",
    "        return self.relation\n",
    "    \n",
    "    def _dot(self, graph, prefix):\n",
    "        node_name = prefix + 'Rel'\n",
    "        node_label = self.relation.name\n",
    "        graph.node(node_name, node_label)\n",
    "        return node_name"
   ]
  },
  {
   "cell_type": "markdown",
   "metadata": {},
   "source": [
    "### Application"
   ]
  },
  {
   "cell_type": "code",
   "execution_count": 4,
   "metadata": {},
   "outputs": [
    {
     "name": "stdout",
     "output_type": "stream",
     "text": [
      "{'movies_directors': <ra.relation.Relation object at 0x110218da0>, 'actors': <ra.relation.Relation object at 0x10dee6ac8>, 'directors': <ra.relation.Relation object at 0x110276c88>, 'movies_genres': <ra.relation.Relation object at 0x110276dd8>, 'directors_genres': <ra.relation.Relation object at 0x11020eba8>, 'movies': <ra.relation.Relation object at 0x10dd84e80>, 'roles': <ra.relation.Relation object at 0x10dd84c50>}\n"
     ]
    }
   ],
   "source": [
    "from os import listdir\n",
    "\n",
    "# Data source: https://relational.fit.cvut.cz/dataset/IMDb\n",
    "# Information courtesy of IMDb (http://www.imdb.com). Used with permission.\n",
    "# Notice: The data can only be used for personal and non-commercial use and must not\n",
    "# be altered/republished/resold/repurposed to create any kind of online/offline\n",
    "# database of movie information (except for individual personal use).\n",
    "\n",
    "path = 'data/IMDb_sample'  \n",
    "# create a list of all files in that directory that end with \"*.csv\":\n",
    "files = [file for file in listdir(path) if file.endswith('.csv')]\n",
    "\n",
    "from ra.csv_utils import load_csv\n",
    "\n",
    "relations = [load_csv(path + '/' + file, file[:-4], delimiter='\\t') for file in files]\n",
    "\n",
    "relationsDict = {}\n",
    "for rel in relations:\n",
    "    relationsDict[rel.name] = rel\n",
    "print(relationsDict)"
   ]
  },
  {
   "cell_type": "code",
   "execution_count": 5,
   "metadata": {},
   "outputs": [],
   "source": [
    "# build LeafRelation object from relations dictionary\n",
    "movies_directors = LeafRelation(relationsDict['movies_directors'])\n",
    "actors = LeafRelation(relationsDict['actors'])\n",
    "directors = LeafRelation(relationsDict['directors'])\n",
    "movies_genres = LeafRelation(relationsDict['movies_genres'])\n",
    "directors_genres = LeafRelation(relationsDict['directors_genres'])\n",
    "movies = LeafRelation(relationsDict['movies'])\n",
    "roles = LeafRelation(relationsDict['roles'])"
   ]
  },
  {
   "cell_type": "code",
   "execution_count": 6,
   "metadata": {},
   "outputs": [
    {
     "name": "stdout",
     "output_type": "stream",
     "text": [
      "[directors] : {[ id:int, first_name:str, last_name:str ]}\n",
      "{\n",
      "\t(11652, James (I), Cameron),\n",
      "\t(78273, Quentin, Tarantino),\n",
      "\t(43095, Stanley, Kubrick)\n",
      "}\n"
     ]
    }
   ],
   "source": [
    "directors.evaluate().print_set()"
   ]
  },
  {
   "cell_type": "code",
   "execution_count": 7,
   "metadata": {},
   "outputs": [
    {
     "data": {
      "image/svg+xml": [
       "<?xml version=\"1.0\" encoding=\"UTF-8\" standalone=\"no\"?>\n",
       "<!DOCTYPE svg PUBLIC \"-//W3C//DTD SVG 1.1//EN\"\n",
       " \"http://www.w3.org/Graphics/SVG/1.1/DTD/svg11.dtd\">\n",
       "<!-- Generated by graphviz version 2.36.0 (20140111.2315)\n",
       " -->\n",
       "<!-- Title: %3 Pages: 1 -->\n",
       "<svg width=\"92pt\" height=\"44pt\"\n",
       " viewBox=\"0.00 0.00 92.00 44.00\" xmlns=\"http://www.w3.org/2000/svg\" xmlns:xlink=\"http://www.w3.org/1999/xlink\">\n",
       "<g id=\"graph0\" class=\"graph\" transform=\"scale(1 1) rotate(0) translate(4 40)\">\n",
       "<title>%3</title>\n",
       "<polygon fill=\"white\" stroke=\"none\" points=\"-4,4 -4,-40 88,-40 88,4 -4,4\"/>\n",
       "<!-- Rel -->\n",
       "<g id=\"node1\" class=\"node\"><title>Rel</title>\n",
       "<ellipse fill=\"none\" stroke=\"black\" cx=\"42\" cy=\"-18\" rx=\"42.4939\" ry=\"18\"/>\n",
       "<text text-anchor=\"middle\" x=\"42\" y=\"-14.3\" font-family=\"Times,serif\" font-size=\"14.00\">directors</text>\n",
       "</g>\n",
       "</g>\n",
       "</svg>\n"
      ],
      "text/plain": [
       "<graphviz.files.Source at 0x110218860>"
      ]
     },
     "execution_count": 7,
     "metadata": {},
     "output_type": "execute_result"
    }
   ],
   "source": [
    "graph = directors.get_graph()\n",
    "Source(graph)"
   ]
  },
  {
   "cell_type": "markdown",
   "metadata": {},
   "source": [
    "# Selection\n",
    "\n",
    "### Implementation"
   ]
  },
  {
   "cell_type": "code",
   "execution_count": 8,
   "metadata": {},
   "outputs": [],
   "source": [
    "class Selection(UnaryOperator):\n",
    "    \"\"\"The relational selection:\n",
    "        \n",
    "    Attributes:    \n",
    "        input (:obj: `Operator`): The input to the selection operator.\n",
    "        predicate (:obj: `str`): The predicate to be evaluated by the selection on its input.\n",
    "    \"\"\"\n",
    "    def __init__(self, input, predicate):\n",
    "        super().__init__(input)\n",
    "        self.predicate = predicate\n",
    "        \n",
    "    def __str__(self):\n",
    "        return \"σ_[{}]({})\".format(self.predicate, self.input)\n",
    "    \n",
    "    def evaluate(self):\n",
    "        \"\"\"Performs the selection by evaluating the predicate on its input.\"\"\"\n",
    "        # evaluate child node\n",
    "        eval_input = self.input.evaluate()\n",
    "        # build empty relation with same schema as input\n",
    "        new_schema = build_schema(eval_input.attributes, eval_input.domains)\n",
    "        new_relation = Relation(\"Result\", new_schema)\n",
    "        # check predicate for each tuple in input\n",
    "        for tup in eval_input.tuples:\n",
    "            # evaluate predicate for given tup using eval\n",
    "            if eval(self.predicate, Selection._locals_dict(tup, eval_input.attributes)):\n",
    "                new_relation.add_tuple(tup)  # implicitly handles duplicate elimination\n",
    "        return new_relation\n",
    "    \n",
    "    def _dot(self, graph, prefix):\n",
    "        # build name and label and call helper function\n",
    "        node_name = prefix + 'Sel'\n",
    "        node_label = \"σ_[{}]\".format(self.predicate)\n",
    "        self._dot_helper(graph, prefix, node_name, node_label)\n",
    "        return node_name\n",
    "    \n",
    "    @staticmethod\n",
    "    def _locals_dict(tup, attributes):\n",
    "        \"\"\"\n",
    "        Builds a dictionary mapping the attribute names to the corresponding value in the tuple for use in `eval`\n",
    "\n",
    "        Args:\n",
    "            tup (`tuple`): The tuple of values.\n",
    "            attributes(`list` of :obj: `string`): The attribute names\n",
    "        \n",
    "        Returns:\n",
    "            A dictionary mapping attribute names to tuple values\n",
    "        \"\"\"\n",
    "        # build dictionary\n",
    "        return {attr: val for attr, val in zip(attributes, tup)}"
   ]
  },
  {
   "cell_type": "markdown",
   "metadata": {},
   "source": [
    "### Application"
   ]
  },
  {
   "cell_type": "code",
   "execution_count": 9,
   "metadata": {},
   "outputs": [],
   "source": [
    "newmovies =  Selection(movies, 'year>2000')"
   ]
  },
  {
   "cell_type": "code",
   "execution_count": 10,
   "metadata": {},
   "outputs": [
    {
     "name": "stdout",
     "output_type": "stream",
     "text": [
      "σ_[year>2000](movies)\n"
     ]
    }
   ],
   "source": [
    "print(newmovies)"
   ]
  },
  {
   "cell_type": "code",
   "execution_count": 11,
   "metadata": {},
   "outputs": [
    {
     "name": "stdout",
     "output_type": "stream",
     "text": [
      "[Result] : {[ id:int, name:str, year:int, rank:float ]}\n",
      "{\n",
      "\t(105938, Expedition: Bismarck, 2002, 7.5),\n",
      "\t(176712, Kill Bill: Vol. 2, 2004, 8.2),\n",
      "\t(393538, Jimmy Kimmel Live!, 2003, 6.7),\n",
      "\t(176711, Kill Bill: Vol. 1, 2003, 8.4),\n",
      "\t(127297, Ghosts of the Abyss, 2003, 6.7),\n",
      "\t(159665, Inglorious Bastards, 2006, 8.3),\n",
      "\t(10934, Aliens of the Deep, 2005, 6.5),\n",
      "\t(96779, Earthship.TV, 2001, 5.6)\n",
      "}\n"
     ]
    }
   ],
   "source": [
    "newmovies.evaluate().print_set()"
   ]
  },
  {
   "cell_type": "code",
   "execution_count": 12,
   "metadata": {},
   "outputs": [
    {
     "data": {
      "image/svg+xml": [
       "<?xml version=\"1.0\" encoding=\"UTF-8\" standalone=\"no\"?>\n",
       "<!DOCTYPE svg PUBLIC \"-//W3C//DTD SVG 1.1//EN\"\n",
       " \"http://www.w3.org/Graphics/SVG/1.1/DTD/svg11.dtd\">\n",
       "<!-- Generated by graphviz version 2.36.0 (20140111.2315)\n",
       " -->\n",
       "<!-- Title: %3 Pages: 1 -->\n",
       "<svg width=\"138pt\" height=\"116pt\"\n",
       " viewBox=\"0.00 0.00 138.00 116.00\" xmlns=\"http://www.w3.org/2000/svg\" xmlns:xlink=\"http://www.w3.org/1999/xlink\">\n",
       "<g id=\"graph0\" class=\"graph\" transform=\"scale(1 1) rotate(0) translate(4 112)\">\n",
       "<title>%3</title>\n",
       "<polygon fill=\"white\" stroke=\"none\" points=\"-4,4 -4,-112 134,-112 134,4 -4,4\"/>\n",
       "<!-- Sel -->\n",
       "<g id=\"node1\" class=\"node\"><title>Sel</title>\n",
       "<ellipse fill=\"none\" stroke=\"black\" cx=\"65\" cy=\"-90\" rx=\"65.7887\" ry=\"18\"/>\n",
       "<text text-anchor=\"middle\" x=\"65\" y=\"-86.3\" font-family=\"Times,serif\" font-size=\"14.00\">σ_[year&gt;2000]</text>\n",
       "</g>\n",
       "<!-- IRel -->\n",
       "<g id=\"node2\" class=\"node\"><title>IRel</title>\n",
       "<ellipse fill=\"none\" stroke=\"black\" cx=\"65\" cy=\"-18\" rx=\"37.0935\" ry=\"18\"/>\n",
       "<text text-anchor=\"middle\" x=\"65\" y=\"-14.3\" font-family=\"Times,serif\" font-size=\"14.00\">movies</text>\n",
       "</g>\n",
       "<!-- IRel&#45;&gt;Sel -->\n",
       "<g id=\"edge1\" class=\"edge\"><title>IRel&#45;&gt;Sel</title>\n",
       "<path fill=\"none\" stroke=\"black\" d=\"M65,-36.3034C65,-44.0173 65,-53.2875 65,-61.8876\"/>\n",
       "<polygon fill=\"black\" stroke=\"black\" points=\"61.5001,-61.8956 65,-71.8957 68.5001,-61.8957 61.5001,-61.8956\"/>\n",
       "</g>\n",
       "</g>\n",
       "</svg>\n"
      ],
      "text/plain": [
       "<graphviz.files.Source at 0x1102ad9b0>"
      ]
     },
     "execution_count": 12,
     "metadata": {},
     "output_type": "execute_result"
    }
   ],
   "source": [
    "graph = newmovies.get_graph()\n",
    "Source(graph)"
   ]
  },
  {
   "cell_type": "markdown",
   "metadata": {},
   "source": [
    "# Projection\n",
    "\n",
    "### Implementation"
   ]
  },
  {
   "cell_type": "code",
   "execution_count": 13,
   "metadata": {},
   "outputs": [],
   "source": [
    "class Projection(UnaryOperator):\n",
    "    \"\"\"\"The relational projection:\n",
    "        \n",
    "    Attributes:    \n",
    "        input (:obj: `Operator`): The input to the projection operator.\n",
    "        attributes (`list` of :obj: `str`): The names of the attributes the input is projected on.\n",
    "    \"\"\"\n",
    "    def __init__(self, input, attributes):\n",
    "        super().__init__(input)\n",
    "        self.attributes = attributes\n",
    "        \n",
    "    def __str__(self):\n",
    "        return \"π_{}({})\".format(self.attributes, self.input)\n",
    "    \n",
    "    def evaluate(self):\n",
    "        \"\"\"Performs the projection.\"\"\"\n",
    "        # evaluate child node\n",
    "        eval_input = self.input.evaluate()\n",
    "        # build new empty relation with the projected attributes\n",
    "        new_schema = build_schema(self.attributes, [*map(eval_input.get_attribute_domain, self.attributes)])\n",
    "        new_relation = Relation(\"Result\", new_schema)\n",
    "        # add tuples to new relation\n",
    "        attr_indexes = [*map(eval_input.get_attribute_index, self.attributes)]\n",
    "        for tup in eval_input.tuples:\n",
    "            new_tup = tuple(tup[i] for i in attr_indexes)\n",
    "            new_relation.add_tuple(new_tup)  # automatically eliminates duplicates\n",
    "        return new_relation\n",
    "    \n",
    "    def _dot(self, graph, prefix):\n",
    "        # build name and label and call helper function\n",
    "        node_name = prefix + 'Pro'\n",
    "        node_label = \"π_{}\".format(self.attributes)\n",
    "        self._dot_helper(graph, prefix, node_name, node_label)\n",
    "        return node_name"
   ]
  },
  {
   "cell_type": "markdown",
   "metadata": {},
   "source": [
    "### Application"
   ]
  },
  {
   "cell_type": "code",
   "execution_count": 14,
   "metadata": {},
   "outputs": [],
   "source": [
    "exp2 = Projection(newmovies, ['id', 'year'])"
   ]
  },
  {
   "cell_type": "code",
   "execution_count": 15,
   "metadata": {},
   "outputs": [
    {
     "name": "stdout",
     "output_type": "stream",
     "text": [
      "π_['id', 'year'](σ_[year>2000](movies))\n"
     ]
    }
   ],
   "source": [
    "print(exp2)"
   ]
  },
  {
   "cell_type": "code",
   "execution_count": 16,
   "metadata": {},
   "outputs": [
    {
     "name": "stdout",
     "output_type": "stream",
     "text": [
      "[Result] : {[ id:int, year:int ]}\n",
      "{\n",
      "\t(96779, 2001),\n",
      "\t(393538, 2003),\n",
      "\t(176712, 2004),\n",
      "\t(176711, 2003),\n",
      "\t(127297, 2003),\n",
      "\t(159665, 2006),\n",
      "\t(105938, 2002),\n",
      "\t(10934, 2005)\n",
      "}\n"
     ]
    }
   ],
   "source": [
    "exp2.evaluate().print_set()"
   ]
  },
  {
   "cell_type": "code",
   "execution_count": 17,
   "metadata": {},
   "outputs": [
    {
     "data": {
      "image/svg+xml": [
       "<?xml version=\"1.0\" encoding=\"UTF-8\" standalone=\"no\"?>\n",
       "<!DOCTYPE svg PUBLIC \"-//W3C//DTD SVG 1.1//EN\"\n",
       " \"http://www.w3.org/Graphics/SVG/1.1/DTD/svg11.dtd\">\n",
       "<!-- Generated by graphviz version 2.36.0 (20140111.2315)\n",
       " -->\n",
       "<!-- Title: %3 Pages: 1 -->\n",
       "<svg width=\"138pt\" height=\"188pt\"\n",
       " viewBox=\"0.00 0.00 138.00 188.00\" xmlns=\"http://www.w3.org/2000/svg\" xmlns:xlink=\"http://www.w3.org/1999/xlink\">\n",
       "<g id=\"graph0\" class=\"graph\" transform=\"scale(1 1) rotate(0) translate(4 184)\">\n",
       "<title>%3</title>\n",
       "<polygon fill=\"white\" stroke=\"none\" points=\"-4,4 -4,-184 134,-184 134,4 -4,4\"/>\n",
       "<!-- Pro -->\n",
       "<g id=\"node1\" class=\"node\"><title>Pro</title>\n",
       "<ellipse fill=\"none\" stroke=\"black\" cx=\"65\" cy=\"-162\" rx=\"60.3893\" ry=\"18\"/>\n",
       "<text text-anchor=\"middle\" x=\"65\" y=\"-158.3\" font-family=\"Times,serif\" font-size=\"14.00\">π_[&#39;id&#39;, &#39;year&#39;]</text>\n",
       "</g>\n",
       "<!-- ISel -->\n",
       "<g id=\"node2\" class=\"node\"><title>ISel</title>\n",
       "<ellipse fill=\"none\" stroke=\"black\" cx=\"65\" cy=\"-90\" rx=\"65.7887\" ry=\"18\"/>\n",
       "<text text-anchor=\"middle\" x=\"65\" y=\"-86.3\" font-family=\"Times,serif\" font-size=\"14.00\">σ_[year&gt;2000]</text>\n",
       "</g>\n",
       "<!-- ISel&#45;&gt;Pro -->\n",
       "<g id=\"edge2\" class=\"edge\"><title>ISel&#45;&gt;Pro</title>\n",
       "<path fill=\"none\" stroke=\"black\" d=\"M65,-108.303C65,-116.017 65,-125.288 65,-133.888\"/>\n",
       "<polygon fill=\"black\" stroke=\"black\" points=\"61.5001,-133.896 65,-143.896 68.5001,-133.896 61.5001,-133.896\"/>\n",
       "</g>\n",
       "<!-- IIRel -->\n",
       "<g id=\"node3\" class=\"node\"><title>IIRel</title>\n",
       "<ellipse fill=\"none\" stroke=\"black\" cx=\"65\" cy=\"-18\" rx=\"37.0935\" ry=\"18\"/>\n",
       "<text text-anchor=\"middle\" x=\"65\" y=\"-14.3\" font-family=\"Times,serif\" font-size=\"14.00\">movies</text>\n",
       "</g>\n",
       "<!-- IIRel&#45;&gt;ISel -->\n",
       "<g id=\"edge1\" class=\"edge\"><title>IIRel&#45;&gt;ISel</title>\n",
       "<path fill=\"none\" stroke=\"black\" d=\"M65,-36.3034C65,-44.0173 65,-53.2875 65,-61.8876\"/>\n",
       "<polygon fill=\"black\" stroke=\"black\" points=\"61.5001,-61.8956 65,-71.8957 68.5001,-61.8957 61.5001,-61.8956\"/>\n",
       "</g>\n",
       "</g>\n",
       "</svg>\n"
      ],
      "text/plain": [
       "<graphviz.files.Source at 0x1102c8518>"
      ]
     },
     "execution_count": 17,
     "metadata": {},
     "output_type": "execute_result"
    }
   ],
   "source": [
    "graph = exp2.get_graph()\n",
    "Source(graph)"
   ]
  },
  {
   "cell_type": "markdown",
   "metadata": {},
   "source": [
    "# Cartesian Product\n",
    "\n",
    "### Implementation"
   ]
  },
  {
   "cell_type": "code",
   "execution_count": 18,
   "metadata": {},
   "outputs": [],
   "source": [
    "class Cartesian_Product(BinaryOperator):\n",
    "    \"\"\"The relational cartesion product\n",
    "    \n",
    "    Attributes:\n",
    "        l_input (:obj: `Operator`): The left input to the cartesian product operator.\n",
    "        r_input (:obj: `Operator`): The right input to the cartesian product operator.\n",
    "    \"\"\"\n",
    "    def __init__(self, l_input, r_input):\n",
    "        super().__init__(l_input, r_input)\n",
    "        \n",
    "    def __str__(self):\n",
    "        return \"({}) × ({})\".format(str(self.l_input), str(self.r_input))\n",
    "    \n",
    "    def evaluate(self):\n",
    "        \"\"\"Performs a cartesian product on its inputs.\"\"\"\n",
    "        # evaluate child nodes\n",
    "        l_eval_input = self.l_input.evaluate()\n",
    "        r_eval_input = self.r_input.evaluate()\n",
    "        # integrity check (equally named attributes are not allowed here)\n",
    "        assert len(set(l_eval_input.attributes) & set(r_eval_input.attributes)) == 0\n",
    "        # create empty new relation\n",
    "        new_schema = build_schema(l_eval_input.attributes+r_eval_input.attributes,\n",
    "                                  l_eval_input.domains+r_eval_input.domains)\n",
    "        new_relation = Relation(\"Result\", new_schema)\n",
    "        # insert cartesian product of tuples\n",
    "        for tup1 in l_eval_input.tuples:\n",
    "            for tup2 in r_eval_input.tuples:\n",
    "                new_relation.add_tuple(tup1+tup2)\n",
    "        return new_relation\n",
    "    \n",
    "    def _dot(self, graph, prefix):\n",
    "        # build name and label and call helper function\n",
    "        node_name = prefix + 'Car'\n",
    "        node_label = \"×\"\n",
    "        self._dot_helper(graph, prefix, node_name, node_label)\n",
    "        return node_name"
   ]
  },
  {
   "cell_type": "markdown",
   "metadata": {},
   "source": [
    "### Application"
   ]
  },
  {
   "cell_type": "code",
   "execution_count": 19,
   "metadata": {},
   "outputs": [],
   "source": [
    "cartesianProduct = Cartesian_Product(directors, directors_genres)"
   ]
  },
  {
   "cell_type": "code",
   "execution_count": 20,
   "metadata": {},
   "outputs": [
    {
     "name": "stdout",
     "output_type": "stream",
     "text": [
      "(directors) × (directors_genres)\n"
     ]
    }
   ],
   "source": [
    "print(cartesianProduct)"
   ]
  },
  {
   "cell_type": "code",
   "execution_count": 21,
   "metadata": {},
   "outputs": [
    {
     "name": "stdout",
     "output_type": "stream",
     "text": [
      "[directors] : {[ id:int, first_name:str, last_name:str ]}\n",
      "{\n",
      "\t(11652, James (I), Cameron),\n",
      "\t(78273, Quentin, Tarantino),\n",
      "\t(43095, Stanley, Kubrick)\n",
      "}\n"
     ]
    }
   ],
   "source": [
    "directors.evaluate().print_set()"
   ]
  },
  {
   "cell_type": "code",
   "execution_count": 22,
   "metadata": {},
   "outputs": [
    {
     "name": "stdout",
     "output_type": "stream",
     "text": [
      "[directors_genres] : {[ director_id:int, genre:str, prob:float ]}\n",
      "{\n",
      "\t(43095, Action, 0.0625),\n",
      "\t(11652, Adventure, 0.166667),\n",
      "\t(11652, Comedy, 0.0833333),\n",
      "\t(78273, Action, 0.5),\n",
      "\t(43095, Sci-Fi, 0.1875),\n",
      "\t(43095, War, 0.375),\n",
      "\t(11652, Action, 0.5),\n",
      "\t(43095, Crime, 0.1875),\n",
      "\t(11652, Romance, 0.25),\n",
      "\t(78273, Mystery, 0.125),\n",
      "\t(78273, Crime, 0.5),\n",
      "\t(43095, Drama, 0.625),\n",
      "\t(43095, Horror, 0.0625),\n",
      "\t(43095, Short, 0.1875),\n",
      "\t(11652, Thriller, 0.416667),\n",
      "\t(43095, Comedy, 0.125),\n",
      "\t(11652, Documentary, 0.25),\n",
      "\t(11652, Drama, 0.25),\n",
      "\t(11652, Fantasy, 0.0833333),\n",
      "\t(11652, Horror, 0.166667),\n",
      "\t(11652, Short, 0.25),\n",
      "\t(43095, Romance, 0.1875),\n",
      "\t(78273, Thriller, 0.5),\n",
      "\t(11652, Sci-Fi, 0.5),\n",
      "\t(78273, War, 0.125),\n",
      "\t(43095, Thriller, 0.1875),\n",
      "\t(78273, Romance, 0.125),\n",
      "\t(43095, Music, 0.0625),\n",
      "\t(43095, Film-Noir, 0.125),\n",
      "\t(78273, Comedy, 0.25),\n",
      "\t(11652, Family, 0.0833333),\n",
      "\t(43095, Adventure, 0.0625),\n",
      "\t(43095, Mystery, 0.0625),\n",
      "\t(43095, Documentary, 0.1875),\n",
      "\t(78273, Drama, 0.75)\n",
      "}\n"
     ]
    }
   ],
   "source": [
    "directors_genres.evaluate().print_set()"
   ]
  },
  {
   "cell_type": "code",
   "execution_count": 23,
   "metadata": {},
   "outputs": [
    {
     "data": {
      "text/plain": [
       "(35, 3)"
      ]
     },
     "execution_count": 23,
     "metadata": {},
     "output_type": "execute_result"
    }
   ],
   "source": [
    "len(directors_genres.evaluate()), len(directors.evaluate())"
   ]
  },
  {
   "cell_type": "code",
   "execution_count": 24,
   "metadata": {},
   "outputs": [
    {
     "name": "stdout",
     "output_type": "stream",
     "text": [
      "number of expected tuples in cross product:  105\n"
     ]
    }
   ],
   "source": [
    "print(\"number of expected tuples in cross product: \", len(directors_genres.evaluate())*len(directors.evaluate()))"
   ]
  },
  {
   "cell_type": "code",
   "execution_count": 25,
   "metadata": {
    "scrolled": false
   },
   "outputs": [
    {
     "name": "stdout",
     "output_type": "stream",
     "text": [
      "[Result] : {[ id:int, first_name:str, last_name:str, director_id:int, genre:str, prob:float ]}\n",
      "{\n",
      "\t(43095, Stanley, Kubrick, 43095, Adventure, 0.0625),\n",
      "\t(43095, Stanley, Kubrick, 43095, Crime, 0.1875),\n",
      "\t(78273, Quentin, Tarantino, 43095, Crime, 0.1875),\n",
      "\t(11652, James (I), Cameron, 78273, Mystery, 0.125),\n",
      "\t(43095, Stanley, Kubrick, 11652, Drama, 0.25),\n",
      "\t(43095, Stanley, Kubrick, 11652, Short, 0.25),\n",
      "\t(78273, Quentin, Tarantino, 43095, War, 0.375),\n",
      "\t(43095, Stanley, Kubrick, 78273, Action, 0.5),\n",
      "\t(78273, Quentin, Tarantino, 43095, Thriller, 0.1875),\n",
      "\t(78273, Quentin, Tarantino, 11652, Sci-Fi, 0.5)\n",
      "\tWARNING: skipping 95 out of 105 tuples...\n",
      "}\n"
     ]
    }
   ],
   "source": [
    "cartesianProduct.evaluate().print_set(10)"
   ]
  },
  {
   "cell_type": "code",
   "execution_count": 26,
   "metadata": {},
   "outputs": [
    {
     "data": {
      "image/svg+xml": [
       "<?xml version=\"1.0\" encoding=\"UTF-8\" standalone=\"no\"?>\n",
       "<!DOCTYPE svg PUBLIC \"-//W3C//DTD SVG 1.1//EN\"\n",
       " \"http://www.w3.org/Graphics/SVG/1.1/DTD/svg11.dtd\">\n",
       "<!-- Generated by graphviz version 2.36.0 (20140111.2315)\n",
       " -->\n",
       "<!-- Title: %3 Pages: 1 -->\n",
       "<svg width=\"251pt\" height=\"116pt\"\n",
       " viewBox=\"0.00 0.00 251.00 116.00\" xmlns=\"http://www.w3.org/2000/svg\" xmlns:xlink=\"http://www.w3.org/1999/xlink\">\n",
       "<g id=\"graph0\" class=\"graph\" transform=\"scale(1 1) rotate(0) translate(4 112)\">\n",
       "<title>%3</title>\n",
       "<polygon fill=\"white\" stroke=\"none\" points=\"-4,4 -4,-112 247,-112 247,4 -4,4\"/>\n",
       "<!-- Car -->\n",
       "<g id=\"node1\" class=\"node\"><title>Car</title>\n",
       "<ellipse fill=\"none\" stroke=\"black\" cx=\"107\" cy=\"-90\" rx=\"27\" ry=\"18\"/>\n",
       "<text text-anchor=\"middle\" x=\"107\" y=\"-86.3\" font-family=\"Times,serif\" font-size=\"14.00\">×</text>\n",
       "</g>\n",
       "<!-- LRel -->\n",
       "<g id=\"node2\" class=\"node\"><title>LRel</title>\n",
       "<ellipse fill=\"none\" stroke=\"black\" cx=\"42\" cy=\"-18\" rx=\"42.4939\" ry=\"18\"/>\n",
       "<text text-anchor=\"middle\" x=\"42\" y=\"-14.3\" font-family=\"Times,serif\" font-size=\"14.00\">directors</text>\n",
       "</g>\n",
       "<!-- LRel&#45;&gt;Car -->\n",
       "<g id=\"edge1\" class=\"edge\"><title>LRel&#45;&gt;Car</title>\n",
       "<path fill=\"none\" stroke=\"black\" d=\"M56.7495,-34.8841C65.4652,-44.2702 76.6376,-56.3021 86.2337,-66.6363\"/>\n",
       "<polygon fill=\"black\" stroke=\"black\" points=\"83.8284,-69.1897 93.1978,-74.1361 88.958,-64.4265 83.8284,-69.1897\"/>\n",
       "</g>\n",
       "<!-- RRel -->\n",
       "<g id=\"node3\" class=\"node\"><title>RRel</title>\n",
       "<ellipse fill=\"none\" stroke=\"black\" cx=\"173\" cy=\"-18\" rx=\"70.6878\" ry=\"18\"/>\n",
       "<text text-anchor=\"middle\" x=\"173\" y=\"-14.3\" font-family=\"Times,serif\" font-size=\"14.00\">directors_genres</text>\n",
       "</g>\n",
       "<!-- RRel&#45;&gt;Car -->\n",
       "<g id=\"edge2\" class=\"edge\"><title>RRel&#45;&gt;Car</title>\n",
       "<path fill=\"none\" stroke=\"black\" d=\"M157.359,-35.589C148.489,-44.9965 137.28,-56.8847 127.69,-67.0558\"/>\n",
       "<polygon fill=\"black\" stroke=\"black\" points=\"125.051,-64.7526 120.738,-74.4295 130.145,-69.5547 125.051,-64.7526\"/>\n",
       "</g>\n",
       "</g>\n",
       "</svg>\n"
      ],
      "text/plain": [
       "<graphviz.files.Source at 0x1102c8860>"
      ]
     },
     "execution_count": 26,
     "metadata": {},
     "output_type": "execute_result"
    }
   ],
   "source": [
    "graph = cartesianProduct.get_graph()\n",
    "Source(graph)"
   ]
  },
  {
   "cell_type": "markdown",
   "metadata": {},
   "source": [
    "# Intersection\n",
    "\n",
    "We use the generic `SetOperator` to compute the intersection of the sets of input tuples."
   ]
  },
  {
   "cell_type": "code",
   "execution_count": 27,
   "metadata": {},
   "outputs": [],
   "source": [
    "class Intersection(SetOperator):\n",
    "    \"\"\"The relational intersection operator\n",
    "    \n",
    "    Attributes:\n",
    "        l_input (:obj: Operator): The left input to the binary operator.\n",
    "        r_input (:obj: Operator): The right input to the binary operator.\n",
    "    \"\"\"\n",
    "    def __init__(self, l_input, r_input):\n",
    "        super().__init__(l_input, r_input, operator.and_, \"∩\")"
   ]
  },
  {
   "cell_type": "markdown",
   "metadata": {},
   "source": [
    "### Application"
   ]
  },
  {
   "cell_type": "code",
   "execution_count": 28,
   "metadata": {},
   "outputs": [],
   "source": [
    "goodmovies = Selection(movies, \"rank>=7.5\")\n",
    "goodAndNew = Intersection(newmovies, goodmovies)"
   ]
  },
  {
   "cell_type": "code",
   "execution_count": 29,
   "metadata": {},
   "outputs": [
    {
     "name": "stdout",
     "output_type": "stream",
     "text": [
      "[Result] : {[ id:int, name:str, year:int, rank:float ]}\n",
      "{\n",
      "\t(176712, Kill Bill: Vol. 2, 2004, 8.2),\n",
      "\t(105938, Expedition: Bismarck, 2002, 7.5),\n",
      "\t(159665, Inglorious Bastards, 2006, 8.3),\n",
      "\t(176711, Kill Bill: Vol. 1, 2003, 8.4)\n",
      "}\n"
     ]
    }
   ],
   "source": [
    "goodAndNew.evaluate().print_set()"
   ]
  },
  {
   "cell_type": "code",
   "execution_count": 30,
   "metadata": {},
   "outputs": [
    {
     "data": {
      "image/svg+xml": [
       "<?xml version=\"1.0\" encoding=\"UTF-8\" standalone=\"no\"?>\n",
       "<!DOCTYPE svg PUBLIC \"-//W3C//DTD SVG 1.1//EN\"\n",
       " \"http://www.w3.org/Graphics/SVG/1.1/DTD/svg11.dtd\">\n",
       "<!-- Generated by graphviz version 2.36.0 (20140111.2315)\n",
       " -->\n",
       "<!-- Title: %3 Pages: 1 -->\n",
       "<svg width=\"285pt\" height=\"188pt\"\n",
       " viewBox=\"0.00 0.00 285.00 188.00\" xmlns=\"http://www.w3.org/2000/svg\" xmlns:xlink=\"http://www.w3.org/1999/xlink\">\n",
       "<g id=\"graph0\" class=\"graph\" transform=\"scale(1 1) rotate(0) translate(4 184)\">\n",
       "<title>%3</title>\n",
       "<polygon fill=\"white\" stroke=\"none\" points=\"-4,4 -4,-184 281,-184 281,4 -4,4\"/>\n",
       "<!-- SOp -->\n",
       "<g id=\"node1\" class=\"node\"><title>SOp</title>\n",
       "<ellipse fill=\"none\" stroke=\"black\" cx=\"139\" cy=\"-162\" rx=\"27\" ry=\"18\"/>\n",
       "<text text-anchor=\"middle\" x=\"139\" y=\"-158.3\" font-family=\"Times,serif\" font-size=\"14.00\">∩</text>\n",
       "</g>\n",
       "<!-- LSel -->\n",
       "<g id=\"node2\" class=\"node\"><title>LSel</title>\n",
       "<ellipse fill=\"none\" stroke=\"black\" cx=\"65\" cy=\"-90\" rx=\"65.7887\" ry=\"18\"/>\n",
       "<text text-anchor=\"middle\" x=\"65\" y=\"-86.3\" font-family=\"Times,serif\" font-size=\"14.00\">σ_[year&gt;2000]</text>\n",
       "</g>\n",
       "<!-- LSel&#45;&gt;SOp -->\n",
       "<g id=\"edge3\" class=\"edge\"><title>LSel&#45;&gt;SOp</title>\n",
       "<path fill=\"none\" stroke=\"black\" d=\"M82.537,-107.589C92.7171,-117.219 105.645,-129.448 116.561,-139.774\"/>\n",
       "<polygon fill=\"black\" stroke=\"black\" points=\"114.416,-142.563 124.086,-146.892 119.227,-137.478 114.416,-142.563\"/>\n",
       "</g>\n",
       "<!-- LIRel -->\n",
       "<g id=\"node3\" class=\"node\"><title>LIRel</title>\n",
       "<ellipse fill=\"none\" stroke=\"black\" cx=\"65\" cy=\"-18\" rx=\"37.0935\" ry=\"18\"/>\n",
       "<text text-anchor=\"middle\" x=\"65\" y=\"-14.3\" font-family=\"Times,serif\" font-size=\"14.00\">movies</text>\n",
       "</g>\n",
       "<!-- LIRel&#45;&gt;LSel -->\n",
       "<g id=\"edge1\" class=\"edge\"><title>LIRel&#45;&gt;LSel</title>\n",
       "<path fill=\"none\" stroke=\"black\" d=\"M65,-36.3034C65,-44.0173 65,-53.2875 65,-61.8876\"/>\n",
       "<polygon fill=\"black\" stroke=\"black\" points=\"61.5001,-61.8956 65,-71.8957 68.5001,-61.8957 61.5001,-61.8956\"/>\n",
       "</g>\n",
       "<!-- RSel -->\n",
       "<g id=\"node4\" class=\"node\"><title>RSel</title>\n",
       "<ellipse fill=\"none\" stroke=\"black\" cx=\"213\" cy=\"-90\" rx=\"64.189\" ry=\"18\"/>\n",
       "<text text-anchor=\"middle\" x=\"213\" y=\"-86.3\" font-family=\"Times,serif\" font-size=\"14.00\">σ_[rank&gt;=7.5]</text>\n",
       "</g>\n",
       "<!-- RSel&#45;&gt;SOp -->\n",
       "<g id=\"edge4\" class=\"edge\"><title>RSel&#45;&gt;SOp</title>\n",
       "<path fill=\"none\" stroke=\"black\" d=\"M195.463,-107.589C185.283,-117.219 172.355,-129.448 161.439,-139.774\"/>\n",
       "<polygon fill=\"black\" stroke=\"black\" points=\"158.773,-137.478 153.914,-146.892 163.584,-142.563 158.773,-137.478\"/>\n",
       "</g>\n",
       "<!-- RIRel -->\n",
       "<g id=\"node5\" class=\"node\"><title>RIRel</title>\n",
       "<ellipse fill=\"none\" stroke=\"black\" cx=\"213\" cy=\"-18\" rx=\"37.0935\" ry=\"18\"/>\n",
       "<text text-anchor=\"middle\" x=\"213\" y=\"-14.3\" font-family=\"Times,serif\" font-size=\"14.00\">movies</text>\n",
       "</g>\n",
       "<!-- RIRel&#45;&gt;RSel -->\n",
       "<g id=\"edge2\" class=\"edge\"><title>RIRel&#45;&gt;RSel</title>\n",
       "<path fill=\"none\" stroke=\"black\" d=\"M213,-36.3034C213,-44.0173 213,-53.2875 213,-61.8876\"/>\n",
       "<polygon fill=\"black\" stroke=\"black\" points=\"209.5,-61.8956 213,-71.8957 216.5,-61.8957 209.5,-61.8956\"/>\n",
       "</g>\n",
       "</g>\n",
       "</svg>\n"
      ],
      "text/plain": [
       "<graphviz.files.Source at 0x1102c8198>"
      ]
     },
     "execution_count": 30,
     "metadata": {},
     "output_type": "execute_result"
    }
   ],
   "source": [
    "graph = goodAndNew.get_graph()\n",
    "Source(graph)"
   ]
  },
  {
   "cell_type": "markdown",
   "metadata": {},
   "source": [
    "Alternatively, without intersection but with two conditions in the selection instead:"
   ]
  },
  {
   "cell_type": "code",
   "execution_count": 31,
   "metadata": {},
   "outputs": [],
   "source": [
    "goodAndNewSel = Selection(movies, \"year>2000 and rank>=7.5\")"
   ]
  },
  {
   "cell_type": "code",
   "execution_count": 32,
   "metadata": {},
   "outputs": [
    {
     "name": "stdout",
     "output_type": "stream",
     "text": [
      "[Result] : {[ id:int, name:str, year:int, rank:float ]}\n",
      "{\n",
      "\t(176711, Kill Bill: Vol. 1, 2003, 8.4),\n",
      "\t(105938, Expedition: Bismarck, 2002, 7.5),\n",
      "\t(159665, Inglorious Bastards, 2006, 8.3),\n",
      "\t(176712, Kill Bill: Vol. 2, 2004, 8.2)\n",
      "}\n"
     ]
    }
   ],
   "source": [
    "goodAndNewSel.evaluate().print_set()"
   ]
  },
  {
   "cell_type": "code",
   "execution_count": 33,
   "metadata": {},
   "outputs": [
    {
     "data": {
      "image/svg+xml": [
       "<?xml version=\"1.0\" encoding=\"UTF-8\" standalone=\"no\"?>\n",
       "<!DOCTYPE svg PUBLIC \"-//W3C//DTD SVG 1.1//EN\"\n",
       " \"http://www.w3.org/Graphics/SVG/1.1/DTD/svg11.dtd\">\n",
       "<!-- Generated by graphviz version 2.36.0 (20140111.2315)\n",
       " -->\n",
       "<!-- Title: %3 Pages: 1 -->\n",
       "<svg width=\"248pt\" height=\"116pt\"\n",
       " viewBox=\"0.00 0.00 248.00 116.00\" xmlns=\"http://www.w3.org/2000/svg\" xmlns:xlink=\"http://www.w3.org/1999/xlink\">\n",
       "<g id=\"graph0\" class=\"graph\" transform=\"scale(1 1) rotate(0) translate(4 112)\">\n",
       "<title>%3</title>\n",
       "<polygon fill=\"white\" stroke=\"none\" points=\"-4,4 -4,-112 244,-112 244,4 -4,4\"/>\n",
       "<!-- Sel -->\n",
       "<g id=\"node1\" class=\"node\"><title>Sel</title>\n",
       "<ellipse fill=\"none\" stroke=\"black\" cx=\"120\" cy=\"-90\" rx=\"120.779\" ry=\"18\"/>\n",
       "<text text-anchor=\"middle\" x=\"120\" y=\"-86.3\" font-family=\"Times,serif\" font-size=\"14.00\">σ_[year&gt;2000 and rank&gt;=7.5]</text>\n",
       "</g>\n",
       "<!-- IRel -->\n",
       "<g id=\"node2\" class=\"node\"><title>IRel</title>\n",
       "<ellipse fill=\"none\" stroke=\"black\" cx=\"120\" cy=\"-18\" rx=\"37.0935\" ry=\"18\"/>\n",
       "<text text-anchor=\"middle\" x=\"120\" y=\"-14.3\" font-family=\"Times,serif\" font-size=\"14.00\">movies</text>\n",
       "</g>\n",
       "<!-- IRel&#45;&gt;Sel -->\n",
       "<g id=\"edge1\" class=\"edge\"><title>IRel&#45;&gt;Sel</title>\n",
       "<path fill=\"none\" stroke=\"black\" d=\"M120,-36.3034C120,-44.0173 120,-53.2875 120,-61.8876\"/>\n",
       "<polygon fill=\"black\" stroke=\"black\" points=\"116.5,-61.8956 120,-71.8957 123.5,-61.8957 116.5,-61.8956\"/>\n",
       "</g>\n",
       "</g>\n",
       "</svg>\n"
      ],
      "text/plain": [
       "<graphviz.files.Source at 0x1102c8ac8>"
      ]
     },
     "execution_count": 33,
     "metadata": {},
     "output_type": "execute_result"
    }
   ],
   "source": [
    "graph = goodAndNewSel.get_graph()\n",
    "Source(graph)"
   ]
  },
  {
   "cell_type": "markdown",
   "metadata": {},
   "source": [
    "# Union\n",
    "\n",
    "We use the generic `SetOperator` to compute the union of the sets of input tuples."
   ]
  },
  {
   "cell_type": "code",
   "execution_count": 34,
   "metadata": {},
   "outputs": [],
   "source": [
    "class Union(SetOperator):\n",
    "    \"\"\"The relational union operator\n",
    "    \n",
    "    Attributes:\n",
    "        l_input (:obj: Operator): The left input to the binary operator.\n",
    "        r_input (:obj: Operator): The right input to the binary operator.\n",
    "    \"\"\"\n",
    "    def __init__(self, l_input, r_input):\n",
    "        super().__init__(l_input, r_input, operator.or_, \"∪\")"
   ]
  },
  {
   "cell_type": "markdown",
   "metadata": {},
   "source": [
    "### Application"
   ]
  },
  {
   "cell_type": "code",
   "execution_count": 35,
   "metadata": {},
   "outputs": [],
   "source": [
    "goodOrNew = Union(goodmovies, newmovies)"
   ]
  },
  {
   "cell_type": "code",
   "execution_count": 36,
   "metadata": {},
   "outputs": [
    {
     "name": "stdout",
     "output_type": "stream",
     "text": [
      "(σ_[rank>=7.5](movies)) ∪ (σ_[year>2000](movies))\n"
     ]
    }
   ],
   "source": [
    "print(goodOrNew)"
   ]
  },
  {
   "cell_type": "code",
   "execution_count": 37,
   "metadata": {},
   "outputs": [
    {
     "name": "stdout",
     "output_type": "stream",
     "text": [
      "[Result] : {[ id:int, name:str, year:int, rank:float ]}\n",
      "{\n",
      "\t(164572, Jackie Brown, 1997, 7.5),\n",
      "\t(177019, Killing, The, 1956, 8.1),\n",
      "\t(176711, Kill Bill: Vol. 1, 2003, 8.4),\n",
      "\t(92616, Dr. Strangelove or: How I Learned to Stop Worrying and Love the Bomb, 1964, 8.7),\n",
      "\t(96779, Earthship.TV, 2001, 5.6),\n",
      "\t(1711, 2001: A Space Odyssey, 1968, 8.3),\n",
      "\t(105938, Expedition: Bismarck, 2002, 7.5),\n",
      "\t(176712, Kill Bill: Vol. 2, 2004, 8.2),\n",
      "\t(393538, Jimmy Kimmel Live!, 2003, 6.7),\n",
      "\t(193519, Lolita, 1962, 7.6),\n",
      "\t(276217, Reservoir Dogs, 1992, 8.3),\n",
      "\t(127297, Ghosts of the Abyss, 2003, 6.7),\n",
      "\t(267038, Pulp Fiction, 1994, 8.7),\n",
      "\t(121538, Full Metal Jacket, 1987, 8.2),\n",
      "\t(310455, Spartacus, 1960, 8.0),\n",
      "\t(328285, Terminator, The, 1984, 7.9),\n",
      "\t(65764, Clockwork Orange, A, 1971, 8.3),\n",
      "\t(387728, ER, 1994, 7.7),\n",
      "\t(328277, Terminator 2: Judgment Day, 1991, 8.1),\n",
      "\t(299073, Shining, The, 1980, 8.2),\n",
      "\t(159665, Inglorious Bastards, 2006, 8.3),\n",
      "\t(10920, Aliens, 1986, 8.2),\n",
      "\t(250612, Paths of Glory, 1957, 8.6),\n",
      "\t(10934, Aliens of the Deep, 2005, 6.5),\n",
      "\t(30431, Barry Lyndon, 1975, 7.9)\n",
      "}\n"
     ]
    }
   ],
   "source": [
    "goodOrNew.evaluate().print_set()"
   ]
  },
  {
   "cell_type": "code",
   "execution_count": 38,
   "metadata": {},
   "outputs": [
    {
     "data": {
      "image/svg+xml": [
       "<?xml version=\"1.0\" encoding=\"UTF-8\" standalone=\"no\"?>\n",
       "<!DOCTYPE svg PUBLIC \"-//W3C//DTD SVG 1.1//EN\"\n",
       " \"http://www.w3.org/Graphics/SVG/1.1/DTD/svg11.dtd\">\n",
       "<!-- Generated by graphviz version 2.36.0 (20140111.2315)\n",
       " -->\n",
       "<!-- Title: %3 Pages: 1 -->\n",
       "<svg width=\"285pt\" height=\"188pt\"\n",
       " viewBox=\"0.00 0.00 285.00 188.00\" xmlns=\"http://www.w3.org/2000/svg\" xmlns:xlink=\"http://www.w3.org/1999/xlink\">\n",
       "<g id=\"graph0\" class=\"graph\" transform=\"scale(1 1) rotate(0) translate(4 184)\">\n",
       "<title>%3</title>\n",
       "<polygon fill=\"white\" stroke=\"none\" points=\"-4,4 -4,-184 281,-184 281,4 -4,4\"/>\n",
       "<!-- SOp -->\n",
       "<g id=\"node1\" class=\"node\"><title>SOp</title>\n",
       "<ellipse fill=\"none\" stroke=\"black\" cx=\"138\" cy=\"-162\" rx=\"27\" ry=\"18\"/>\n",
       "<text text-anchor=\"middle\" x=\"138\" y=\"-158.3\" font-family=\"Times,serif\" font-size=\"14.00\">∪</text>\n",
       "</g>\n",
       "<!-- LSel -->\n",
       "<g id=\"node2\" class=\"node\"><title>LSel</title>\n",
       "<ellipse fill=\"none\" stroke=\"black\" cx=\"64\" cy=\"-90\" rx=\"64.189\" ry=\"18\"/>\n",
       "<text text-anchor=\"middle\" x=\"64\" y=\"-86.3\" font-family=\"Times,serif\" font-size=\"14.00\">σ_[rank&gt;=7.5]</text>\n",
       "</g>\n",
       "<!-- LSel&#45;&gt;SOp -->\n",
       "<g id=\"edge3\" class=\"edge\"><title>LSel&#45;&gt;SOp</title>\n",
       "<path fill=\"none\" stroke=\"black\" d=\"M81.537,-107.589C91.7171,-117.219 104.645,-129.448 115.561,-139.774\"/>\n",
       "<polygon fill=\"black\" stroke=\"black\" points=\"113.416,-142.563 123.086,-146.892 118.227,-137.478 113.416,-142.563\"/>\n",
       "</g>\n",
       "<!-- LIRel -->\n",
       "<g id=\"node3\" class=\"node\"><title>LIRel</title>\n",
       "<ellipse fill=\"none\" stroke=\"black\" cx=\"64\" cy=\"-18\" rx=\"37.0935\" ry=\"18\"/>\n",
       "<text text-anchor=\"middle\" x=\"64\" y=\"-14.3\" font-family=\"Times,serif\" font-size=\"14.00\">movies</text>\n",
       "</g>\n",
       "<!-- LIRel&#45;&gt;LSel -->\n",
       "<g id=\"edge1\" class=\"edge\"><title>LIRel&#45;&gt;LSel</title>\n",
       "<path fill=\"none\" stroke=\"black\" d=\"M64,-36.3034C64,-44.0173 64,-53.2875 64,-61.8876\"/>\n",
       "<polygon fill=\"black\" stroke=\"black\" points=\"60.5001,-61.8956 64,-71.8957 67.5001,-61.8957 60.5001,-61.8956\"/>\n",
       "</g>\n",
       "<!-- RSel -->\n",
       "<g id=\"node4\" class=\"node\"><title>RSel</title>\n",
       "<ellipse fill=\"none\" stroke=\"black\" cx=\"212\" cy=\"-90\" rx=\"65.7887\" ry=\"18\"/>\n",
       "<text text-anchor=\"middle\" x=\"212\" y=\"-86.3\" font-family=\"Times,serif\" font-size=\"14.00\">σ_[year&gt;2000]</text>\n",
       "</g>\n",
       "<!-- RSel&#45;&gt;SOp -->\n",
       "<g id=\"edge4\" class=\"edge\"><title>RSel&#45;&gt;SOp</title>\n",
       "<path fill=\"none\" stroke=\"black\" d=\"M194.463,-107.589C184.283,-117.219 171.355,-129.448 160.439,-139.774\"/>\n",
       "<polygon fill=\"black\" stroke=\"black\" points=\"157.773,-137.478 152.914,-146.892 162.584,-142.563 157.773,-137.478\"/>\n",
       "</g>\n",
       "<!-- RIRel -->\n",
       "<g id=\"node5\" class=\"node\"><title>RIRel</title>\n",
       "<ellipse fill=\"none\" stroke=\"black\" cx=\"212\" cy=\"-18\" rx=\"37.0935\" ry=\"18\"/>\n",
       "<text text-anchor=\"middle\" x=\"212\" y=\"-14.3\" font-family=\"Times,serif\" font-size=\"14.00\">movies</text>\n",
       "</g>\n",
       "<!-- RIRel&#45;&gt;RSel -->\n",
       "<g id=\"edge2\" class=\"edge\"><title>RIRel&#45;&gt;RSel</title>\n",
       "<path fill=\"none\" stroke=\"black\" d=\"M212,-36.3034C212,-44.0173 212,-53.2875 212,-61.8876\"/>\n",
       "<polygon fill=\"black\" stroke=\"black\" points=\"208.5,-61.8956 212,-71.8957 215.5,-61.8957 208.5,-61.8956\"/>\n",
       "</g>\n",
       "</g>\n",
       "</svg>\n"
      ],
      "text/plain": [
       "<graphviz.files.Source at 0x110218a58>"
      ]
     },
     "execution_count": 38,
     "metadata": {},
     "output_type": "execute_result"
    }
   ],
   "source": [
    "graph = goodOrNew.get_graph()\n",
    "Source(graph)"
   ]
  },
  {
   "cell_type": "markdown",
   "metadata": {},
   "source": [
    "Alternatively, without union but with two conditions in the selection instead."
   ]
  },
  {
   "cell_type": "code",
   "execution_count": 39,
   "metadata": {},
   "outputs": [],
   "source": [
    "goodOrNewSel = Selection(movies, \"year>2000 or rank>=7.5\")"
   ]
  },
  {
   "cell_type": "code",
   "execution_count": 40,
   "metadata": {},
   "outputs": [
    {
     "name": "stdout",
     "output_type": "stream",
     "text": [
      "σ_[year>2000 or rank>=7.5](movies)\n"
     ]
    }
   ],
   "source": [
    "print(goodOrNewSel)"
   ]
  },
  {
   "cell_type": "code",
   "execution_count": 41,
   "metadata": {},
   "outputs": [
    {
     "name": "stdout",
     "output_type": "stream",
     "text": [
      "[Result] : {[ id:int, name:str, year:int, rank:float ]}\n",
      "{\n",
      "\t(164572, Jackie Brown, 1997, 7.5),\n",
      "\t(177019, Killing, The, 1956, 8.1),\n",
      "\t(176711, Kill Bill: Vol. 1, 2003, 8.4),\n",
      "\t(92616, Dr. Strangelove or: How I Learned to Stop Worrying and Love the Bomb, 1964, 8.7),\n",
      "\t(96779, Earthship.TV, 2001, 5.6),\n",
      "\t(1711, 2001: A Space Odyssey, 1968, 8.3),\n",
      "\t(105938, Expedition: Bismarck, 2002, 7.5),\n",
      "\t(176712, Kill Bill: Vol. 2, 2004, 8.2),\n",
      "\t(393538, Jimmy Kimmel Live!, 2003, 6.7),\n",
      "\t(193519, Lolita, 1962, 7.6),\n",
      "\t(127297, Ghosts of the Abyss, 2003, 6.7),\n",
      "\t(276217, Reservoir Dogs, 1992, 8.3),\n",
      "\t(267038, Pulp Fiction, 1994, 8.7),\n",
      "\t(121538, Full Metal Jacket, 1987, 8.2),\n",
      "\t(310455, Spartacus, 1960, 8.0),\n",
      "\t(328285, Terminator, The, 1984, 7.9),\n",
      "\t(65764, Clockwork Orange, A, 1971, 8.3),\n",
      "\t(387728, ER, 1994, 7.7),\n",
      "\t(328277, Terminator 2: Judgment Day, 1991, 8.1),\n",
      "\t(299073, Shining, The, 1980, 8.2),\n",
      "\t(159665, Inglorious Bastards, 2006, 8.3),\n",
      "\t(10920, Aliens, 1986, 8.2),\n",
      "\t(250612, Paths of Glory, 1957, 8.6),\n",
      "\t(10934, Aliens of the Deep, 2005, 6.5),\n",
      "\t(30431, Barry Lyndon, 1975, 7.9)\n",
      "}\n"
     ]
    }
   ],
   "source": [
    "goodOrNewSel.evaluate().print_set()"
   ]
  },
  {
   "cell_type": "code",
   "execution_count": 42,
   "metadata": {},
   "outputs": [
    {
     "data": {
      "image/svg+xml": [
       "<?xml version=\"1.0\" encoding=\"UTF-8\" standalone=\"no\"?>\n",
       "<!DOCTYPE svg PUBLIC \"-//W3C//DTD SVG 1.1//EN\"\n",
       " \"http://www.w3.org/Graphics/SVG/1.1/DTD/svg11.dtd\">\n",
       "<!-- Generated by graphviz version 2.36.0 (20140111.2315)\n",
       " -->\n",
       "<!-- Title: %3 Pages: 1 -->\n",
       "<svg width=\"238pt\" height=\"116pt\"\n",
       " viewBox=\"0.00 0.00 238.00 116.00\" xmlns=\"http://www.w3.org/2000/svg\" xmlns:xlink=\"http://www.w3.org/1999/xlink\">\n",
       "<g id=\"graph0\" class=\"graph\" transform=\"scale(1 1) rotate(0) translate(4 112)\">\n",
       "<title>%3</title>\n",
       "<polygon fill=\"white\" stroke=\"none\" points=\"-4,4 -4,-112 234,-112 234,4 -4,4\"/>\n",
       "<!-- Sel -->\n",
       "<g id=\"node1\" class=\"node\"><title>Sel</title>\n",
       "<ellipse fill=\"none\" stroke=\"black\" cx=\"115\" cy=\"-90\" rx=\"115.08\" ry=\"18\"/>\n",
       "<text text-anchor=\"middle\" x=\"115\" y=\"-86.3\" font-family=\"Times,serif\" font-size=\"14.00\">σ_[year&gt;2000 or rank&gt;=7.5]</text>\n",
       "</g>\n",
       "<!-- IRel -->\n",
       "<g id=\"node2\" class=\"node\"><title>IRel</title>\n",
       "<ellipse fill=\"none\" stroke=\"black\" cx=\"115\" cy=\"-18\" rx=\"37.0935\" ry=\"18\"/>\n",
       "<text text-anchor=\"middle\" x=\"115\" y=\"-14.3\" font-family=\"Times,serif\" font-size=\"14.00\">movies</text>\n",
       "</g>\n",
       "<!-- IRel&#45;&gt;Sel -->\n",
       "<g id=\"edge1\" class=\"edge\"><title>IRel&#45;&gt;Sel</title>\n",
       "<path fill=\"none\" stroke=\"black\" d=\"M115,-36.3034C115,-44.0173 115,-53.2875 115,-61.8876\"/>\n",
       "<polygon fill=\"black\" stroke=\"black\" points=\"111.5,-61.8956 115,-71.8957 118.5,-61.8957 111.5,-61.8956\"/>\n",
       "</g>\n",
       "</g>\n",
       "</svg>\n"
      ],
      "text/plain": [
       "<graphviz.files.Source at 0x1102d0128>"
      ]
     },
     "execution_count": 42,
     "metadata": {},
     "output_type": "execute_result"
    }
   ],
   "source": [
    "graph = goodOrNewSel.get_graph()\n",
    "Source(graph)"
   ]
  },
  {
   "cell_type": "markdown",
   "metadata": {},
   "source": [
    "# Difference\n",
    "\n",
    "We use the generic `SetOperator` to compute the difference of the sets of input tuples."
   ]
  },
  {
   "cell_type": "code",
   "execution_count": 43,
   "metadata": {},
   "outputs": [],
   "source": [
    "class Difference(SetOperator):\n",
    "    \"\"\"The relational difference operator\n",
    "    \n",
    "    Attributes:\n",
    "        l_input (:obj: Operator): The left input to the binary operator.\n",
    "        r_input (:obj: Operator): The right input to the binary operator.\n",
    "    \"\"\"\n",
    "    def __init__(self, l_input, r_input):\n",
    "        super().__init__(l_input, r_input, operator.sub, \"−\")"
   ]
  },
  {
   "cell_type": "markdown",
   "metadata": {},
   "source": [
    "### Application"
   ]
  },
  {
   "cell_type": "code",
   "execution_count": 44,
   "metadata": {},
   "outputs": [],
   "source": [
    "newButBadMovies = Difference(newmovies, goodmovies)"
   ]
  },
  {
   "cell_type": "code",
   "execution_count": 45,
   "metadata": {},
   "outputs": [
    {
     "name": "stdout",
     "output_type": "stream",
     "text": [
      "(σ_[year>2000](movies)) − (σ_[rank>=7.5](movies))\n"
     ]
    }
   ],
   "source": [
    "print(newButBadMovies)"
   ]
  },
  {
   "cell_type": "code",
   "execution_count": 46,
   "metadata": {},
   "outputs": [
    {
     "name": "stdout",
     "output_type": "stream",
     "text": [
      "[Result] : {[ id:int, name:str, year:int, rank:float ]}\n",
      "{\n",
      "\t(393538, Jimmy Kimmel Live!, 2003, 6.7),\n",
      "\t(10934, Aliens of the Deep, 2005, 6.5),\n",
      "\t(127297, Ghosts of the Abyss, 2003, 6.7),\n",
      "\t(96779, Earthship.TV, 2001, 5.6)\n",
      "}\n"
     ]
    }
   ],
   "source": [
    "newButBadMovies.evaluate().print_set()"
   ]
  },
  {
   "cell_type": "code",
   "execution_count": 47,
   "metadata": {},
   "outputs": [
    {
     "data": {
      "image/svg+xml": [
       "<?xml version=\"1.0\" encoding=\"UTF-8\" standalone=\"no\"?>\n",
       "<!DOCTYPE svg PUBLIC \"-//W3C//DTD SVG 1.1//EN\"\n",
       " \"http://www.w3.org/Graphics/SVG/1.1/DTD/svg11.dtd\">\n",
       "<!-- Generated by graphviz version 2.36.0 (20140111.2315)\n",
       " -->\n",
       "<!-- Title: %3 Pages: 1 -->\n",
       "<svg width=\"285pt\" height=\"188pt\"\n",
       " viewBox=\"0.00 0.00 285.00 188.00\" xmlns=\"http://www.w3.org/2000/svg\" xmlns:xlink=\"http://www.w3.org/1999/xlink\">\n",
       "<g id=\"graph0\" class=\"graph\" transform=\"scale(1 1) rotate(0) translate(4 184)\">\n",
       "<title>%3</title>\n",
       "<polygon fill=\"white\" stroke=\"none\" points=\"-4,4 -4,-184 281,-184 281,4 -4,4\"/>\n",
       "<!-- SOp -->\n",
       "<g id=\"node1\" class=\"node\"><title>SOp</title>\n",
       "<ellipse fill=\"none\" stroke=\"black\" cx=\"139\" cy=\"-162\" rx=\"27\" ry=\"18\"/>\n",
       "<text text-anchor=\"middle\" x=\"139\" y=\"-158.3\" font-family=\"Times,serif\" font-size=\"14.00\">−</text>\n",
       "</g>\n",
       "<!-- LSel -->\n",
       "<g id=\"node2\" class=\"node\"><title>LSel</title>\n",
       "<ellipse fill=\"none\" stroke=\"black\" cx=\"65\" cy=\"-90\" rx=\"65.7887\" ry=\"18\"/>\n",
       "<text text-anchor=\"middle\" x=\"65\" y=\"-86.3\" font-family=\"Times,serif\" font-size=\"14.00\">σ_[year&gt;2000]</text>\n",
       "</g>\n",
       "<!-- LSel&#45;&gt;SOp -->\n",
       "<g id=\"edge3\" class=\"edge\"><title>LSel&#45;&gt;SOp</title>\n",
       "<path fill=\"none\" stroke=\"black\" d=\"M82.537,-107.589C92.7171,-117.219 105.645,-129.448 116.561,-139.774\"/>\n",
       "<polygon fill=\"black\" stroke=\"black\" points=\"114.416,-142.563 124.086,-146.892 119.227,-137.478 114.416,-142.563\"/>\n",
       "</g>\n",
       "<!-- LIRel -->\n",
       "<g id=\"node3\" class=\"node\"><title>LIRel</title>\n",
       "<ellipse fill=\"none\" stroke=\"black\" cx=\"65\" cy=\"-18\" rx=\"37.0935\" ry=\"18\"/>\n",
       "<text text-anchor=\"middle\" x=\"65\" y=\"-14.3\" font-family=\"Times,serif\" font-size=\"14.00\">movies</text>\n",
       "</g>\n",
       "<!-- LIRel&#45;&gt;LSel -->\n",
       "<g id=\"edge1\" class=\"edge\"><title>LIRel&#45;&gt;LSel</title>\n",
       "<path fill=\"none\" stroke=\"black\" d=\"M65,-36.3034C65,-44.0173 65,-53.2875 65,-61.8876\"/>\n",
       "<polygon fill=\"black\" stroke=\"black\" points=\"61.5001,-61.8956 65,-71.8957 68.5001,-61.8957 61.5001,-61.8956\"/>\n",
       "</g>\n",
       "<!-- RSel -->\n",
       "<g id=\"node4\" class=\"node\"><title>RSel</title>\n",
       "<ellipse fill=\"none\" stroke=\"black\" cx=\"213\" cy=\"-90\" rx=\"64.189\" ry=\"18\"/>\n",
       "<text text-anchor=\"middle\" x=\"213\" y=\"-86.3\" font-family=\"Times,serif\" font-size=\"14.00\">σ_[rank&gt;=7.5]</text>\n",
       "</g>\n",
       "<!-- RSel&#45;&gt;SOp -->\n",
       "<g id=\"edge4\" class=\"edge\"><title>RSel&#45;&gt;SOp</title>\n",
       "<path fill=\"none\" stroke=\"black\" d=\"M195.463,-107.589C185.283,-117.219 172.355,-129.448 161.439,-139.774\"/>\n",
       "<polygon fill=\"black\" stroke=\"black\" points=\"158.773,-137.478 153.914,-146.892 163.584,-142.563 158.773,-137.478\"/>\n",
       "</g>\n",
       "<!-- RIRel -->\n",
       "<g id=\"node5\" class=\"node\"><title>RIRel</title>\n",
       "<ellipse fill=\"none\" stroke=\"black\" cx=\"213\" cy=\"-18\" rx=\"37.0935\" ry=\"18\"/>\n",
       "<text text-anchor=\"middle\" x=\"213\" y=\"-14.3\" font-family=\"Times,serif\" font-size=\"14.00\">movies</text>\n",
       "</g>\n",
       "<!-- RIRel&#45;&gt;RSel -->\n",
       "<g id=\"edge2\" class=\"edge\"><title>RIRel&#45;&gt;RSel</title>\n",
       "<path fill=\"none\" stroke=\"black\" d=\"M213,-36.3034C213,-44.0173 213,-53.2875 213,-61.8876\"/>\n",
       "<polygon fill=\"black\" stroke=\"black\" points=\"209.5,-61.8956 213,-71.8957 216.5,-61.8957 209.5,-61.8956\"/>\n",
       "</g>\n",
       "</g>\n",
       "</svg>\n"
      ],
      "text/plain": [
       "<graphviz.files.Source at 0x1102d0198>"
      ]
     },
     "execution_count": 47,
     "metadata": {},
     "output_type": "execute_result"
    }
   ],
   "source": [
    "graph = newButBadMovies.get_graph()\n",
    "Source(graph)"
   ]
  },
  {
   "cell_type": "markdown",
   "metadata": {},
   "source": [
    "Alternatively, without intersection but with two conditions in the selection instead."
   ]
  },
  {
   "cell_type": "code",
   "execution_count": 48,
   "metadata": {},
   "outputs": [],
   "source": [
    "newButBadMoviesSel = Selection(movies, \"year>2000 and not rank>=7.5\")"
   ]
  },
  {
   "cell_type": "code",
   "execution_count": 49,
   "metadata": {},
   "outputs": [
    {
     "name": "stdout",
     "output_type": "stream",
     "text": [
      "[Result] : {[ id:int, name:str, year:int, rank:float ]}\n",
      "{\n",
      "\t(393538, Jimmy Kimmel Live!, 2003, 6.7),\n",
      "\t(10934, Aliens of the Deep, 2005, 6.5),\n",
      "\t(127297, Ghosts of the Abyss, 2003, 6.7),\n",
      "\t(96779, Earthship.TV, 2001, 5.6)\n",
      "}\n"
     ]
    }
   ],
   "source": [
    "newButBadMoviesSel.evaluate().print_set()"
   ]
  },
  {
   "cell_type": "code",
   "execution_count": 50,
   "metadata": {},
   "outputs": [
    {
     "data": {
      "image/svg+xml": [
       "<?xml version=\"1.0\" encoding=\"UTF-8\" standalone=\"no\"?>\n",
       "<!DOCTYPE svg PUBLIC \"-//W3C//DTD SVG 1.1//EN\"\n",
       " \"http://www.w3.org/Graphics/SVG/1.1/DTD/svg11.dtd\">\n",
       "<!-- Generated by graphviz version 2.36.0 (20140111.2315)\n",
       " -->\n",
       "<!-- Title: %3 Pages: 1 -->\n",
       "<svg width=\"276pt\" height=\"116pt\"\n",
       " viewBox=\"0.00 0.00 276.00 116.00\" xmlns=\"http://www.w3.org/2000/svg\" xmlns:xlink=\"http://www.w3.org/1999/xlink\">\n",
       "<g id=\"graph0\" class=\"graph\" transform=\"scale(1 1) rotate(0) translate(4 112)\">\n",
       "<title>%3</title>\n",
       "<polygon fill=\"white\" stroke=\"none\" points=\"-4,4 -4,-112 272,-112 272,4 -4,4\"/>\n",
       "<!-- Sel -->\n",
       "<g id=\"node1\" class=\"node\"><title>Sel</title>\n",
       "<ellipse fill=\"none\" stroke=\"black\" cx=\"134\" cy=\"-90\" rx=\"134.576\" ry=\"18\"/>\n",
       "<text text-anchor=\"middle\" x=\"134\" y=\"-86.3\" font-family=\"Times,serif\" font-size=\"14.00\">σ_[year&gt;2000 and not rank&gt;=7.5]</text>\n",
       "</g>\n",
       "<!-- IRel -->\n",
       "<g id=\"node2\" class=\"node\"><title>IRel</title>\n",
       "<ellipse fill=\"none\" stroke=\"black\" cx=\"134\" cy=\"-18\" rx=\"37.0935\" ry=\"18\"/>\n",
       "<text text-anchor=\"middle\" x=\"134\" y=\"-14.3\" font-family=\"Times,serif\" font-size=\"14.00\">movies</text>\n",
       "</g>\n",
       "<!-- IRel&#45;&gt;Sel -->\n",
       "<g id=\"edge1\" class=\"edge\"><title>IRel&#45;&gt;Sel</title>\n",
       "<path fill=\"none\" stroke=\"black\" d=\"M134,-36.3034C134,-44.0173 134,-53.2875 134,-61.8876\"/>\n",
       "<polygon fill=\"black\" stroke=\"black\" points=\"130.5,-61.8956 134,-71.8957 137.5,-61.8957 130.5,-61.8956\"/>\n",
       "</g>\n",
       "</g>\n",
       "</svg>\n"
      ],
      "text/plain": [
       "<graphviz.files.Source at 0x1102d0978>"
      ]
     },
     "execution_count": 50,
     "metadata": {},
     "output_type": "execute_result"
    }
   ],
   "source": [
    "graph = newButBadMoviesSel.get_graph()\n",
    "Source(graph)"
   ]
  },
  {
   "cell_type": "markdown",
   "metadata": {},
   "source": [
    "# Renaming Relation\n",
    "\n",
    "### Implementation"
   ]
  },
  {
   "cell_type": "code",
   "execution_count": 51,
   "metadata": {},
   "outputs": [],
   "source": [
    "class Renaming_Relation(UnaryOperator):\n",
    "    \"\"\"\"The renaming of a relation:\n",
    "    \n",
    "    Note:\n",
    "        In our case renaming a relation isn't really powerful as we do not allow equal attribute names and,\n",
    "        thus, dot-access (relation.attribute) is never required.\n",
    "    \n",
    "    Attributes:    \n",
    "        input (:obj: `Operator`): The input to the renaming operator.\n",
    "        name (:obj: `str`): The new name of the result relation.\n",
    "    \"\"\"\n",
    "    def __init__(self, input, name):\n",
    "        super().__init__(input)\n",
    "        self.name = name\n",
    "        \n",
    "    def __str__(self):\n",
    "        return \"ρ_[{}]({})\".format(self.name, self.input)\n",
    "    \n",
    "    def evaluate(self):\n",
    "        \"\"\"Performs the renaming.\"\"\"\n",
    "        # evaluate child node\n",
    "        eval_input = self.input.evaluate()\n",
    "        # integrity checks\n",
    "        assert self.name.isidentifier()  # the name should be an identifier\n",
    "        # build new empty relation and set name\n",
    "        new_name = self.name\n",
    "        new_schema = build_schema(eval_input.attributes, eval_input.domains)  # schema is left untouched\n",
    "        new_relation = Relation(new_name, new_schema)\n",
    "        # add all existing tuples\n",
    "        for tup in eval_input.tuples:\n",
    "            new_relation.add_tuple(tup)\n",
    "        return new_relation\n",
    "    \n",
    "    def _dot(self, graph, prefix):\n",
    "        # build name and label and call helper function\n",
    "        node_name = prefix + 'ReR'\n",
    "        node_label = \"ρ_[{}]\".format(self.name)\n",
    "        self._dot_helper(graph, prefix, node_name, node_label)\n",
    "        return node_name"
   ]
  },
  {
   "cell_type": "markdown",
   "metadata": {},
   "source": [
    "### Application"
   ]
  },
  {
   "cell_type": "code",
   "execution_count": 52,
   "metadata": {},
   "outputs": [],
   "source": [
    "exp11 = Renaming_Relation(goodOrNew, \"good_or_new\")"
   ]
  },
  {
   "cell_type": "code",
   "execution_count": 53,
   "metadata": {},
   "outputs": [
    {
     "name": "stdout",
     "output_type": "stream",
     "text": [
      "[good_or_new] : {[ id:int, name:str, year:int, rank:float ]}\n",
      "{\n",
      "\t(164572, Jackie Brown, 1997, 7.5),\n",
      "\t(177019, Killing, The, 1956, 8.1),\n",
      "\t(176711, Kill Bill: Vol. 1, 2003, 8.4),\n",
      "\t(92616, Dr. Strangelove or: How I Learned to Stop Worrying and Love the Bomb, 1964, 8.7),\n",
      "\t(96779, Earthship.TV, 2001, 5.6),\n",
      "\t(1711, 2001: A Space Odyssey, 1968, 8.3),\n",
      "\t(105938, Expedition: Bismarck, 2002, 7.5),\n",
      "\t(176712, Kill Bill: Vol. 2, 2004, 8.2),\n",
      "\t(393538, Jimmy Kimmel Live!, 2003, 6.7),\n",
      "\t(193519, Lolita, 1962, 7.6),\n",
      "\t(276217, Reservoir Dogs, 1992, 8.3),\n",
      "\t(127297, Ghosts of the Abyss, 2003, 6.7),\n",
      "\t(267038, Pulp Fiction, 1994, 8.7),\n",
      "\t(121538, Full Metal Jacket, 1987, 8.2),\n",
      "\t(310455, Spartacus, 1960, 8.0),\n",
      "\t(328285, Terminator, The, 1984, 7.9),\n",
      "\t(65764, Clockwork Orange, A, 1971, 8.3),\n",
      "\t(387728, ER, 1994, 7.7),\n",
      "\t(328277, Terminator 2: Judgment Day, 1991, 8.1),\n",
      "\t(299073, Shining, The, 1980, 8.2),\n",
      "\t(159665, Inglorious Bastards, 2006, 8.3),\n",
      "\t(10920, Aliens, 1986, 8.2),\n",
      "\t(250612, Paths of Glory, 1957, 8.6),\n",
      "\t(10934, Aliens of the Deep, 2005, 6.5),\n",
      "\t(30431, Barry Lyndon, 1975, 7.9)\n",
      "}\n"
     ]
    }
   ],
   "source": [
    "exp11.evaluate().print_set()"
   ]
  },
  {
   "cell_type": "code",
   "execution_count": 54,
   "metadata": {},
   "outputs": [
    {
     "data": {
      "image/svg+xml": [
       "<?xml version=\"1.0\" encoding=\"UTF-8\" standalone=\"no\"?>\n",
       "<!DOCTYPE svg PUBLIC \"-//W3C//DTD SVG 1.1//EN\"\n",
       " \"http://www.w3.org/Graphics/SVG/1.1/DTD/svg11.dtd\">\n",
       "<!-- Generated by graphviz version 2.36.0 (20140111.2315)\n",
       " -->\n",
       "<!-- Title: %3 Pages: 1 -->\n",
       "<svg width=\"285pt\" height=\"260pt\"\n",
       " viewBox=\"0.00 0.00 285.00 260.00\" xmlns=\"http://www.w3.org/2000/svg\" xmlns:xlink=\"http://www.w3.org/1999/xlink\">\n",
       "<g id=\"graph0\" class=\"graph\" transform=\"scale(1 1) rotate(0) translate(4 256)\">\n",
       "<title>%3</title>\n",
       "<polygon fill=\"white\" stroke=\"none\" points=\"-4,4 -4,-256 281,-256 281,4 -4,4\"/>\n",
       "<!-- ReR -->\n",
       "<g id=\"node1\" class=\"node\"><title>ReR</title>\n",
       "<ellipse fill=\"none\" stroke=\"black\" cx=\"138\" cy=\"-234\" rx=\"76.8869\" ry=\"18\"/>\n",
       "<text text-anchor=\"middle\" x=\"138\" y=\"-230.3\" font-family=\"Times,serif\" font-size=\"14.00\">ρ_[good_or_new]</text>\n",
       "</g>\n",
       "<!-- ISOp -->\n",
       "<g id=\"node2\" class=\"node\"><title>ISOp</title>\n",
       "<ellipse fill=\"none\" stroke=\"black\" cx=\"138\" cy=\"-162\" rx=\"27\" ry=\"18\"/>\n",
       "<text text-anchor=\"middle\" x=\"138\" y=\"-158.3\" font-family=\"Times,serif\" font-size=\"14.00\">∪</text>\n",
       "</g>\n",
       "<!-- ISOp&#45;&gt;ReR -->\n",
       "<g id=\"edge5\" class=\"edge\"><title>ISOp&#45;&gt;ReR</title>\n",
       "<path fill=\"none\" stroke=\"black\" d=\"M138,-180.303C138,-188.017 138,-197.288 138,-205.888\"/>\n",
       "<polygon fill=\"black\" stroke=\"black\" points=\"134.5,-205.896 138,-215.896 141.5,-205.896 134.5,-205.896\"/>\n",
       "</g>\n",
       "<!-- ILSel -->\n",
       "<g id=\"node3\" class=\"node\"><title>ILSel</title>\n",
       "<ellipse fill=\"none\" stroke=\"black\" cx=\"64\" cy=\"-90\" rx=\"64.189\" ry=\"18\"/>\n",
       "<text text-anchor=\"middle\" x=\"64\" y=\"-86.3\" font-family=\"Times,serif\" font-size=\"14.00\">σ_[rank&gt;=7.5]</text>\n",
       "</g>\n",
       "<!-- ILSel&#45;&gt;ISOp -->\n",
       "<g id=\"edge3\" class=\"edge\"><title>ILSel&#45;&gt;ISOp</title>\n",
       "<path fill=\"none\" stroke=\"black\" d=\"M81.537,-107.589C91.7171,-117.219 104.645,-129.448 115.561,-139.774\"/>\n",
       "<polygon fill=\"black\" stroke=\"black\" points=\"113.416,-142.563 123.086,-146.892 118.227,-137.478 113.416,-142.563\"/>\n",
       "</g>\n",
       "<!-- ILIRel -->\n",
       "<g id=\"node4\" class=\"node\"><title>ILIRel</title>\n",
       "<ellipse fill=\"none\" stroke=\"black\" cx=\"64\" cy=\"-18\" rx=\"37.0935\" ry=\"18\"/>\n",
       "<text text-anchor=\"middle\" x=\"64\" y=\"-14.3\" font-family=\"Times,serif\" font-size=\"14.00\">movies</text>\n",
       "</g>\n",
       "<!-- ILIRel&#45;&gt;ILSel -->\n",
       "<g id=\"edge1\" class=\"edge\"><title>ILIRel&#45;&gt;ILSel</title>\n",
       "<path fill=\"none\" stroke=\"black\" d=\"M64,-36.3034C64,-44.0173 64,-53.2875 64,-61.8876\"/>\n",
       "<polygon fill=\"black\" stroke=\"black\" points=\"60.5001,-61.8956 64,-71.8957 67.5001,-61.8957 60.5001,-61.8956\"/>\n",
       "</g>\n",
       "<!-- IRSel -->\n",
       "<g id=\"node5\" class=\"node\"><title>IRSel</title>\n",
       "<ellipse fill=\"none\" stroke=\"black\" cx=\"212\" cy=\"-90\" rx=\"65.7887\" ry=\"18\"/>\n",
       "<text text-anchor=\"middle\" x=\"212\" y=\"-86.3\" font-family=\"Times,serif\" font-size=\"14.00\">σ_[year&gt;2000]</text>\n",
       "</g>\n",
       "<!-- IRSel&#45;&gt;ISOp -->\n",
       "<g id=\"edge4\" class=\"edge\"><title>IRSel&#45;&gt;ISOp</title>\n",
       "<path fill=\"none\" stroke=\"black\" d=\"M194.463,-107.589C184.283,-117.219 171.355,-129.448 160.439,-139.774\"/>\n",
       "<polygon fill=\"black\" stroke=\"black\" points=\"157.773,-137.478 152.914,-146.892 162.584,-142.563 157.773,-137.478\"/>\n",
       "</g>\n",
       "<!-- IRIRel -->\n",
       "<g id=\"node6\" class=\"node\"><title>IRIRel</title>\n",
       "<ellipse fill=\"none\" stroke=\"black\" cx=\"212\" cy=\"-18\" rx=\"37.0935\" ry=\"18\"/>\n",
       "<text text-anchor=\"middle\" x=\"212\" y=\"-14.3\" font-family=\"Times,serif\" font-size=\"14.00\">movies</text>\n",
       "</g>\n",
       "<!-- IRIRel&#45;&gt;IRSel -->\n",
       "<g id=\"edge2\" class=\"edge\"><title>IRIRel&#45;&gt;IRSel</title>\n",
       "<path fill=\"none\" stroke=\"black\" d=\"M212,-36.3034C212,-44.0173 212,-53.2875 212,-61.8876\"/>\n",
       "<polygon fill=\"black\" stroke=\"black\" points=\"208.5,-61.8956 212,-71.8957 215.5,-61.8957 208.5,-61.8956\"/>\n",
       "</g>\n",
       "</g>\n",
       "</svg>\n"
      ],
      "text/plain": [
       "<graphviz.files.Source at 0x1102fa6a0>"
      ]
     },
     "execution_count": 54,
     "metadata": {},
     "output_type": "execute_result"
    }
   ],
   "source": [
    "graph = exp11.get_graph()\n",
    "Source(graph)"
   ]
  },
  {
   "cell_type": "markdown",
   "metadata": {},
   "source": [
    "# Renaming Attributes\n",
    "\n",
    "### Implementation"
   ]
  },
  {
   "cell_type": "code",
   "execution_count": 55,
   "metadata": {},
   "outputs": [],
   "source": [
    "class Renaming_Attributes(UnaryOperator):\n",
    "    \"\"\"\"The renaming of attributes of a relation:\n",
    "    \n",
    "    Note:\n",
    "        In our case renaming a relation isn't really powerful as we do not allow equal attribute names and,\n",
    "        thus, dot-access (relation.attribute) is never required.\n",
    "    \n",
    "    Attributes:    \n",
    "        input (:obj: `Operator`): The input to the renaming operator.\n",
    "        changes (`list` of :obj: `string`): List of changes of the form 'new_name<-old_name'.\n",
    "    \"\"\"\n",
    "    def __init__(self, input, changes):\n",
    "        super().__init__(input)\n",
    "        self.changes = changes\n",
    "        \n",
    "    def __str__(self):\n",
    "        return \"ρ_{}({})\".format(self.changes, self.input)\n",
    "    \n",
    "    def evaluate(self):\n",
    "        \"\"\"Performs the renaming.\"\"\"\n",
    "        # evaluate child node\n",
    "        eval_input = self.input.evaluate()\n",
    "        # build new empty relation and parse changes\n",
    "        new_attributes = eval_input.attributes\n",
    "        # apply each change to the attribute names\n",
    "        for expr in self.changes:\n",
    "            new_attributes = Renaming_Attributes._parse_attribute_rename(expr, new_attributes)\n",
    "        new_schema = build_schema(new_attributes, eval_input.domains)\n",
    "        new_relation = Relation(\"Result\", new_schema)\n",
    "        # add all existing tuples\n",
    "        for tup in eval_input.tuples:\n",
    "            new_relation.add_tuple(tup)\n",
    "        return new_relation\n",
    "    \n",
    "    def _dot(self, graph, prefix):\n",
    "        # build name and label and call helper function\n",
    "        node_name = prefix + 'ReA'\n",
    "        node_label = \"ρ_{}\".format(self.changes)\n",
    "        self._dot_helper(graph, prefix, node_name, node_label)\n",
    "        return node_name\n",
    "    \n",
    "    @staticmethod\n",
    "    def _parse_attribute_rename(expr, attributes):\n",
    "        \"\"\"\n",
    "        Apply the name change to the attributes\n",
    "        \n",
    "        Args:\n",
    "            expr (:obj: `string`): expression describing the change of the form 'new_name<-old_name'\n",
    "            attributes (`tuple` of :obj: `string`): the list of attributes that the change is to be applied to\n",
    "        \n",
    "        Returns:\n",
    "            A list of attributes with the change applied.\n",
    "        \"\"\"\n",
    "        split = expr.split('<-')\n",
    "        # integrity checks\n",
    "        assert len(split) == 2  # after the split there should just be an old name and a new one\n",
    "        assert all(map(lambda x: x.isidentifier(), split))  # the attribute names should be identifiers\n",
    "        # parse expression\n",
    "        old_attr = split[1]\n",
    "        new_attr = split[0]\n",
    "        tmp_attributes = list(attributes)  # tuple do not allow item assignment\n",
    "        for i, attr in enumerate(tmp_attributes):\n",
    "            if attr == old_attr:\n",
    "                tmp_attributes[i] = new_attr\n",
    "                return tuple(tmp_attributes)\n",
    "        raise ValueError"
   ]
  },
  {
   "cell_type": "markdown",
   "metadata": {},
   "source": [
    "### Application"
   ]
  },
  {
   "cell_type": "code",
   "execution_count": 56,
   "metadata": {},
   "outputs": [],
   "source": [
    "exp12 = Renaming_Attributes(exp11, [\"movies<-name\",\"published<-year\"])"
   ]
  },
  {
   "cell_type": "code",
   "execution_count": 57,
   "metadata": {},
   "outputs": [
    {
     "name": "stdout",
     "output_type": "stream",
     "text": [
      "[Result] : {[ id:int, movies:str, published:int, rank:float ]}\n",
      "{\n",
      "\t(164572, Jackie Brown, 1997, 7.5),\n",
      "\t(177019, Killing, The, 1956, 8.1),\n",
      "\t(176711, Kill Bill: Vol. 1, 2003, 8.4),\n",
      "\t(92616, Dr. Strangelove or: How I Learned to Stop Worrying and Love the Bomb, 1964, 8.7),\n",
      "\t(96779, Earthship.TV, 2001, 5.6),\n",
      "\t(1711, 2001: A Space Odyssey, 1968, 8.3),\n",
      "\t(105938, Expedition: Bismarck, 2002, 7.5),\n",
      "\t(176712, Kill Bill: Vol. 2, 2004, 8.2),\n",
      "\t(393538, Jimmy Kimmel Live!, 2003, 6.7),\n",
      "\t(193519, Lolita, 1962, 7.6)\n",
      "\tWARNING: skipping 15 out of 25 tuples...\n",
      "}\n"
     ]
    }
   ],
   "source": [
    "exp12.evaluate().print_set(10)"
   ]
  },
  {
   "cell_type": "code",
   "execution_count": 58,
   "metadata": {},
   "outputs": [
    {
     "data": {
      "image/svg+xml": [
       "<?xml version=\"1.0\" encoding=\"UTF-8\" standalone=\"no\"?>\n",
       "<!DOCTYPE svg PUBLIC \"-//W3C//DTD SVG 1.1//EN\"\n",
       " \"http://www.w3.org/Graphics/SVG/1.1/DTD/svg11.dtd\">\n",
       "<!-- Generated by graphviz version 2.36.0 (20140111.2315)\n",
       " -->\n",
       "<!-- Title: %3 Pages: 1 -->\n",
       "<svg width=\"308pt\" height=\"332pt\"\n",
       " viewBox=\"0.00 0.00 308.00 332.00\" xmlns=\"http://www.w3.org/2000/svg\" xmlns:xlink=\"http://www.w3.org/1999/xlink\">\n",
       "<g id=\"graph0\" class=\"graph\" transform=\"scale(1 1) rotate(0) translate(4 328)\">\n",
       "<title>%3</title>\n",
       "<polygon fill=\"white\" stroke=\"none\" points=\"-4,4 -4,-328 304,-328 304,4 -4,4\"/>\n",
       "<!-- ReA -->\n",
       "<g id=\"node1\" class=\"node\"><title>ReA</title>\n",
       "<ellipse fill=\"none\" stroke=\"black\" cx=\"150\" cy=\"-306\" rx=\"150.574\" ry=\"18\"/>\n",
       "<text text-anchor=\"middle\" x=\"150\" y=\"-302.3\" font-family=\"Times,serif\" font-size=\"14.00\">ρ_[&#39;movies&lt;&#45;name&#39;, &#39;published&lt;&#45;year&#39;]</text>\n",
       "</g>\n",
       "<!-- IReR -->\n",
       "<g id=\"node2\" class=\"node\"><title>IReR</title>\n",
       "<ellipse fill=\"none\" stroke=\"black\" cx=\"150\" cy=\"-234\" rx=\"76.8869\" ry=\"18\"/>\n",
       "<text text-anchor=\"middle\" x=\"150\" y=\"-230.3\" font-family=\"Times,serif\" font-size=\"14.00\">ρ_[good_or_new]</text>\n",
       "</g>\n",
       "<!-- IReR&#45;&gt;ReA -->\n",
       "<g id=\"edge6\" class=\"edge\"><title>IReR&#45;&gt;ReA</title>\n",
       "<path fill=\"none\" stroke=\"black\" d=\"M150,-252.303C150,-260.017 150,-269.288 150,-277.888\"/>\n",
       "<polygon fill=\"black\" stroke=\"black\" points=\"146.5,-277.896 150,-287.896 153.5,-277.896 146.5,-277.896\"/>\n",
       "</g>\n",
       "<!-- IISOp -->\n",
       "<g id=\"node3\" class=\"node\"><title>IISOp</title>\n",
       "<ellipse fill=\"none\" stroke=\"black\" cx=\"150\" cy=\"-162\" rx=\"27\" ry=\"18\"/>\n",
       "<text text-anchor=\"middle\" x=\"150\" y=\"-158.3\" font-family=\"Times,serif\" font-size=\"14.00\">∪</text>\n",
       "</g>\n",
       "<!-- IISOp&#45;&gt;IReR -->\n",
       "<g id=\"edge5\" class=\"edge\"><title>IISOp&#45;&gt;IReR</title>\n",
       "<path fill=\"none\" stroke=\"black\" d=\"M150,-180.303C150,-188.017 150,-197.288 150,-205.888\"/>\n",
       "<polygon fill=\"black\" stroke=\"black\" points=\"146.5,-205.896 150,-215.896 153.5,-205.896 146.5,-205.896\"/>\n",
       "</g>\n",
       "<!-- IILSel -->\n",
       "<g id=\"node4\" class=\"node\"><title>IILSel</title>\n",
       "<ellipse fill=\"none\" stroke=\"black\" cx=\"76\" cy=\"-90\" rx=\"64.189\" ry=\"18\"/>\n",
       "<text text-anchor=\"middle\" x=\"76\" y=\"-86.3\" font-family=\"Times,serif\" font-size=\"14.00\">σ_[rank&gt;=7.5]</text>\n",
       "</g>\n",
       "<!-- IILSel&#45;&gt;IISOp -->\n",
       "<g id=\"edge3\" class=\"edge\"><title>IILSel&#45;&gt;IISOp</title>\n",
       "<path fill=\"none\" stroke=\"black\" d=\"M93.537,-107.589C103.717,-117.219 116.645,-129.448 127.561,-139.774\"/>\n",
       "<polygon fill=\"black\" stroke=\"black\" points=\"125.416,-142.563 135.086,-146.892 130.227,-137.478 125.416,-142.563\"/>\n",
       "</g>\n",
       "<!-- IILIRel -->\n",
       "<g id=\"node5\" class=\"node\"><title>IILIRel</title>\n",
       "<ellipse fill=\"none\" stroke=\"black\" cx=\"76\" cy=\"-18\" rx=\"37.0935\" ry=\"18\"/>\n",
       "<text text-anchor=\"middle\" x=\"76\" y=\"-14.3\" font-family=\"Times,serif\" font-size=\"14.00\">movies</text>\n",
       "</g>\n",
       "<!-- IILIRel&#45;&gt;IILSel -->\n",
       "<g id=\"edge1\" class=\"edge\"><title>IILIRel&#45;&gt;IILSel</title>\n",
       "<path fill=\"none\" stroke=\"black\" d=\"M76,-36.3034C76,-44.0173 76,-53.2875 76,-61.8876\"/>\n",
       "<polygon fill=\"black\" stroke=\"black\" points=\"72.5001,-61.8956 76,-71.8957 79.5001,-61.8957 72.5001,-61.8956\"/>\n",
       "</g>\n",
       "<!-- IIRSel -->\n",
       "<g id=\"node6\" class=\"node\"><title>IIRSel</title>\n",
       "<ellipse fill=\"none\" stroke=\"black\" cx=\"224\" cy=\"-90\" rx=\"65.7887\" ry=\"18\"/>\n",
       "<text text-anchor=\"middle\" x=\"224\" y=\"-86.3\" font-family=\"Times,serif\" font-size=\"14.00\">σ_[year&gt;2000]</text>\n",
       "</g>\n",
       "<!-- IIRSel&#45;&gt;IISOp -->\n",
       "<g id=\"edge4\" class=\"edge\"><title>IIRSel&#45;&gt;IISOp</title>\n",
       "<path fill=\"none\" stroke=\"black\" d=\"M206.463,-107.589C196.283,-117.219 183.355,-129.448 172.439,-139.774\"/>\n",
       "<polygon fill=\"black\" stroke=\"black\" points=\"169.773,-137.478 164.914,-146.892 174.584,-142.563 169.773,-137.478\"/>\n",
       "</g>\n",
       "<!-- IIRIRel -->\n",
       "<g id=\"node7\" class=\"node\"><title>IIRIRel</title>\n",
       "<ellipse fill=\"none\" stroke=\"black\" cx=\"224\" cy=\"-18\" rx=\"37.0935\" ry=\"18\"/>\n",
       "<text text-anchor=\"middle\" x=\"224\" y=\"-14.3\" font-family=\"Times,serif\" font-size=\"14.00\">movies</text>\n",
       "</g>\n",
       "<!-- IIRIRel&#45;&gt;IIRSel -->\n",
       "<g id=\"edge2\" class=\"edge\"><title>IIRIRel&#45;&gt;IIRSel</title>\n",
       "<path fill=\"none\" stroke=\"black\" d=\"M224,-36.3034C224,-44.0173 224,-53.2875 224,-61.8876\"/>\n",
       "<polygon fill=\"black\" stroke=\"black\" points=\"220.5,-61.8956 224,-71.8957 227.5,-61.8957 220.5,-61.8956\"/>\n",
       "</g>\n",
       "</g>\n",
       "</svg>\n"
      ],
      "text/plain": [
       "<graphviz.files.Source at 0x1102f6080>"
      ]
     },
     "execution_count": 58,
     "metadata": {},
     "output_type": "execute_result"
    }
   ],
   "source": [
    "graph = exp12.get_graph()\n",
    "Source(graph)"
   ]
  },
  {
   "cell_type": "markdown",
   "metadata": {},
   "source": [
    "# Theta Join\n",
    "\n",
    "### Implementation"
   ]
  },
  {
   "cell_type": "code",
   "execution_count": 59,
   "metadata": {},
   "outputs": [],
   "source": [
    "class Theta_Join(BinaryOperator):\n",
    "    \"\"\"The relational theta join\n",
    "    \n",
    "    Note:\n",
    "        We implemented the theta join as a combination of cartesian product, selection, and renaming.\n",
    "    \n",
    "    Attributes:\n",
    "        l_input (:obj: `Operator`): The left input to the difference operator.\n",
    "        r_input (:obj: `Operator`): The right input to the difference operator.\n",
    "        theta (:obj: `string`): The join predicate.\n",
    "    \"\"\"\n",
    "    def __init__(self, l_input, r_input, theta):\n",
    "        super().__init__(l_input, r_input)\n",
    "        self.theta = theta\n",
    "        \n",
    "    def __str__(self):\n",
    "        return \"({}) ⋈_[{}] ({})\".format(self.l_input, self.theta, self.r_input)\n",
    "    \n",
    "    def evaluate(self):\n",
    "        \"\"\"Performs a theta join on its inputs.\"\"\"\n",
    "        # cartesian product, then selection,\n",
    "        # note that the following line has square complexity!\n",
    "        cp = Cartesian_Product(self.l_input, self.r_input)\n",
    "        se = Selection(cp, self.theta)\n",
    "        # evaluate expression and set new name\n",
    "        new_relation = se.evaluate()\n",
    "        new_relation.set_name(\"Result\")\n",
    "        return new_relation\n",
    "        \n",
    "    def _dot(self, graph, prefix):\n",
    "        # build name and label and call helper function\n",
    "        node_name = prefix + 'Joi'\n",
    "        node_label = \"⋈_[{}]\".format(self.theta)\n",
    "        self._dot_helper(graph, prefix, node_name, node_label)\n",
    "        return node_name"
   ]
  },
  {
   "cell_type": "markdown",
   "metadata": {},
   "source": [
    "### Application"
   ]
  },
  {
   "cell_type": "code",
   "execution_count": 60,
   "metadata": {},
   "outputs": [],
   "source": [
    "directorsAndTheirMovies = Theta_Join(directors, movies_directors, \"id==director_id\")"
   ]
  },
  {
   "cell_type": "code",
   "execution_count": 61,
   "metadata": {},
   "outputs": [
    {
     "name": "stdout",
     "output_type": "stream",
     "text": [
      "[Result] : {[ id:int, first_name:str, last_name:str, director_id:int, movie_id:int ]}\n",
      "{\n",
      "\t(43095, Stanley, Kubrick, 43095, 92616),\n",
      "\t(43095, Stanley, Kubrick, 43095, 299073),\n",
      "\t(11652, James (I), Cameron, 11652, 385710),\n",
      "\t(78273, Quentin, Tarantino, 78273, 176711),\n",
      "\t(11652, James (I), Cameron, 11652, 322652),\n",
      "\t(11652, James (I), Cameron, 11652, 328277),\n",
      "\t(11652, James (I), Cameron, 11652, 256530),\n",
      "\t(11652, James (I), Cameron, 11652, 96779),\n",
      "\t(78273, Quentin, Tarantino, 78273, 223710),\n",
      "\t(11652, James (I), Cameron, 11652, 127297)\n",
      "\tWARNING: skipping 30 out of 40 tuples...\n",
      "}\n"
     ]
    }
   ],
   "source": [
    "directorsAndTheirMovies.evaluate().print_set(10)"
   ]
  },
  {
   "cell_type": "code",
   "execution_count": 62,
   "metadata": {},
   "outputs": [
    {
     "data": {
      "image/svg+xml": [
       "<?xml version=\"1.0\" encoding=\"UTF-8\" standalone=\"no\"?>\n",
       "<!DOCTYPE svg PUBLIC \"-//W3C//DTD SVG 1.1//EN\"\n",
       " \"http://www.w3.org/Graphics/SVG/1.1/DTD/svg11.dtd\">\n",
       "<!-- Generated by graphviz version 2.36.0 (20140111.2315)\n",
       " -->\n",
       "<!-- Title: %3 Pages: 1 -->\n",
       "<svg width=\"257pt\" height=\"116pt\"\n",
       " viewBox=\"0.00 0.00 257.00 116.00\" xmlns=\"http://www.w3.org/2000/svg\" xmlns:xlink=\"http://www.w3.org/1999/xlink\">\n",
       "<g id=\"graph0\" class=\"graph\" transform=\"scale(1 1) rotate(0) translate(4 112)\">\n",
       "<title>%3</title>\n",
       "<polygon fill=\"white\" stroke=\"none\" points=\"-4,4 -4,-112 253,-112 253,4 -4,4\"/>\n",
       "<!-- Joi -->\n",
       "<g id=\"node1\" class=\"node\"><title>Joi</title>\n",
       "<ellipse fill=\"none\" stroke=\"black\" cx=\"109\" cy=\"-90\" rx=\"85.5853\" ry=\"18\"/>\n",
       "<text text-anchor=\"middle\" x=\"109\" y=\"-86.3\" font-family=\"Times,serif\" font-size=\"14.00\">⋈_[id==director_id]</text>\n",
       "</g>\n",
       "<!-- LRel -->\n",
       "<g id=\"node2\" class=\"node\"><title>LRel</title>\n",
       "<ellipse fill=\"none\" stroke=\"black\" cx=\"42\" cy=\"-18\" rx=\"42.4939\" ry=\"18\"/>\n",
       "<text text-anchor=\"middle\" x=\"42\" y=\"-14.3\" font-family=\"Times,serif\" font-size=\"14.00\">directors</text>\n",
       "</g>\n",
       "<!-- LRel&#45;&gt;Joi -->\n",
       "<g id=\"edge1\" class=\"edge\"><title>LRel&#45;&gt;Joi</title>\n",
       "<path fill=\"none\" stroke=\"black\" d=\"M57.2033,-34.8841C65.6949,-43.7559 76.449,-54.9914 85.9548,-64.9229\"/>\n",
       "<polygon fill=\"black\" stroke=\"black\" points=\"83.4795,-67.3986 92.9225,-72.2027 88.5364,-62.5583 83.4795,-67.3986\"/>\n",
       "</g>\n",
       "<!-- RRel -->\n",
       "<g id=\"node3\" class=\"node\"><title>RRel</title>\n",
       "<ellipse fill=\"none\" stroke=\"black\" cx=\"176\" cy=\"-18\" rx=\"73.387\" ry=\"18\"/>\n",
       "<text text-anchor=\"middle\" x=\"176\" y=\"-14.3\" font-family=\"Times,serif\" font-size=\"14.00\">movies_directors</text>\n",
       "</g>\n",
       "<!-- RRel&#45;&gt;Joi -->\n",
       "<g id=\"edge2\" class=\"edge\"><title>RRel&#45;&gt;Joi</title>\n",
       "<path fill=\"none\" stroke=\"black\" d=\"M160.122,-35.589C151.817,-44.2662 141.491,-55.054 132.299,-64.6582\"/>\n",
       "<polygon fill=\"black\" stroke=\"black\" points=\"129.616,-62.3995 125.23,-72.0438 134.673,-67.2397 129.616,-62.3995\"/>\n",
       "</g>\n",
       "</g>\n",
       "</svg>\n"
      ],
      "text/plain": [
       "<graphviz.files.Source at 0x1102f67f0>"
      ]
     },
     "execution_count": 62,
     "metadata": {},
     "output_type": "execute_result"
    }
   ],
   "source": [
    "graph = directorsAndTheirMovies.get_graph()\n",
    "Source(graph)"
   ]
  },
  {
   "cell_type": "markdown",
   "metadata": {},
   "source": [
    "# Exercise: Equi-Join\n",
    "\n",
    "### Implementation"
   ]
  },
  {
   "cell_type": "code",
   "execution_count": 63,
   "metadata": {},
   "outputs": [],
   "source": [
    "class Equi_Join(BinaryOperator):\n",
    "    \"\"\"The relational equi join\n",
    "    \n",
    "    Attributes:\n",
    "        l_input (:obj: `Operator`): The left input to the difference operator.\n",
    "        r_input (:obj: `Operator`): The right input to the difference operator.\n",
    "        ... [this is up to you] ...\n",
    "    \"\"\"\n",
    "    def __init__(self, l_input, r_input, l_attrs, r_attrs):\n",
    "        # here l_attrs and r_attrs are lists of attribute names\n",
    "        super().__init__(l_input, r_input)\n",
    "        # add your code here!\n",
    "        # ...\n",
    "        # initialize data structures that are required to perform the equi join.\n",
    "    \n",
    "    def __str__(self):\n",
    "        # add your code here!\n",
    "        # ...\n",
    "        # return a string representation of the equi join.\n",
    "        # use the lecture slides and implementations above to guide you!\n",
    "        pass\n",
    "    \n",
    "    def evaluate(self):\n",
    "        # add your code here!\n",
    "        # ...\n",
    "        # do not use any other operators as subroutines!\n",
    "        # make sure that your implementation is in O(n)\n",
    "        # where n is the number of tuples in l_input and r_input.\n",
    "        pass\n",
    "    \n",
    "    def _dot(self, graph, prefix):\n",
    "        # add your code here!\n",
    "        # ...\n",
    "        # adds the required nodes and edges to the given graph.\n",
    "        # use the helper functions and let the implementations above guide you!\n",
    "        pass"
   ]
  },
  {
   "cell_type": "markdown",
   "metadata": {},
   "source": [
    "### Testing"
   ]
  },
  {
   "cell_type": "code",
   "execution_count": 64,
   "metadata": {},
   "outputs": [],
   "source": [
    "import unittest\n",
    "\n",
    "class EquiJoinTest(unittest.TestCase):\n",
    "    \n",
    "    def setUp(self):\n",
    "        foo = Relation('foo',\n",
    "                       [('fid', int), ('name', str), ('bar_id', int)])\n",
    "        foo.add_tuple( (1, 'first',  3) )\n",
    "        foo.add_tuple( (2, 'second', 2) )\n",
    "        foo.add_tuple( (3, 'third',  1) )\n",
    "        self.foo = LeafRelation(foo)\n",
    "        \n",
    "        \n",
    "        bar = Relation('bar',\n",
    "                            [('bid', int), ('string', str), ('attr', int)])\n",
    "        bar.add_tuple( (1, 'fourth',  42) )\n",
    "        bar.add_tuple( (2, 'second',  99) )\n",
    "        bar.add_tuple( (3, 'first',    0) )\n",
    "        self.bar = LeafRelation(bar)\n",
    "        \n",
    "    def test_1joinattr(self):\n",
    "        eq_join1 = Equi_Join(self.foo, self.bar, ['bar_id'], ['bid'])\n",
    "        res1 = eq_join1.evaluate()\n",
    "        \n",
    "        self.assertEqual(len(res1), 3)  # result contains 3 tuples\n",
    "        self.assertEqual(len(list(res1.tuples)[0]), 6)  # result tuples have 6 attributes\n",
    "        self.assertTrue((1, 'first',  3, 3, 'first',   0) in res1.tuples)\n",
    "        self.assertTrue((2, 'second', 2, 2, 'second', 99) in res1.tuples)\n",
    "        self.assertTrue((3, 'third',  1, 1, 'fourth', 42) in res1.tuples)\n",
    "        \n",
    "        eq_join2 = Equi_Join(self.foo, self.bar, ['name'], ['string'])\n",
    "        res2 = eq_join2.evaluate()\n",
    "        \n",
    "        self.assertEqual(len(res2), 2)  # result contains 2tuples\n",
    "        self.assertEqual(len(list(res2.tuples)[0]), 6)  # result tuples have 6 attributes\n",
    "        self.assertTrue((2, 'second', 2, 2, 'second', 99) in res2.tuples)\n",
    "        self.assertTrue((1, 'first',  3, 3, 'first',   0) in res2.tuples)\n",
    "        \n",
    "    def test_2joinattr(self):\n",
    "        eq_join = Equi_Join(self.foo, self.bar, ['bar_id', 'name'], ['bid', 'string'])\n",
    "        res = eq_join.evaluate()\n",
    "        \n",
    "        self.assertEqual(len(res), 2)  # result contains 2tuples\n",
    "        self.assertEqual(len(list(res.tuples)[0]), 6)  # result tuples have 6 attributes\n",
    "        self.assertTrue((1, 'first',  3, 3, 'first',   0) in res.tuples)\n",
    "        self.assertTrue((2, 'second', 2, 2, 'second', 99) in res.tuples)"
   ]
  },
  {
   "cell_type": "code",
   "execution_count": 65,
   "metadata": {},
   "outputs": [
    {
     "name": "stderr",
     "output_type": "stream",
     "text": [
      "test_1joinattr (__main__.EquiJoinTest) ... ERROR\n",
      "test_2joinattr (__main__.EquiJoinTest) ... ERROR\n",
      "\n",
      "======================================================================\n",
      "ERROR: test_1joinattr (__main__.EquiJoinTest)\n",
      "----------------------------------------------------------------------\n",
      "Traceback (most recent call last):\n",
      "  File \"<ipython-input-64-64076a3695d6>\", line 25, in test_1joinattr\n",
      "    self.assertEqual(len(res1), 3)  # result contains 3 tuples\n",
      "TypeError: object of type 'NoneType' has no len()\n",
      "\n",
      "======================================================================\n",
      "ERROR: test_2joinattr (__main__.EquiJoinTest)\n",
      "----------------------------------------------------------------------\n",
      "Traceback (most recent call last):\n",
      "  File \"<ipython-input-64-64076a3695d6>\", line 43, in test_2joinattr\n",
      "    self.assertEqual(len(res), 2)  # result contains 2tuples\n",
      "TypeError: object of type 'NoneType' has no len()\n",
      "\n",
      "----------------------------------------------------------------------\n",
      "Ran 2 tests in 0.002s\n",
      "\n",
      "FAILED (errors=2)\n"
     ]
    },
    {
     "data": {
      "text/plain": [
       "<unittest.main.TestProgram at 0x110306390>"
      ]
     },
     "execution_count": 65,
     "metadata": {},
     "output_type": "execute_result"
    }
   ],
   "source": [
    "# Run the unit test without shutting down the jupyter kernel\n",
    "unittest.main(argv=['ignored', '-v'], verbosity=2, exit=False)"
   ]
  },
  {
   "cell_type": "markdown",
   "metadata": {},
   "source": [
    "# Grouping\n",
    "\n",
    "### Implementation"
   ]
  },
  {
   "cell_type": "code",
   "execution_count": 66,
   "metadata": {},
   "outputs": [],
   "source": [
    "class Grouping(UnaryOperator):\n",
    "    \"\"\"The relational grouping with aggregation.\n",
    "\n",
    "    Note:\n",
    "        We only support builtin functions for aggregation, e.g. `sum`, `max`.\n",
    "\n",
    "    Attributes:\n",
    "        input (:obj: `Operator`): The input to the renaming operator.\n",
    "        group_by (`list` of :obj: `string`): A list of attributes the input should be grouped by.\n",
    "        aggregations (`list` of `tuple` of builtin function and :obj: `string`):\n",
    "            A list of aggregates of the form (builtin function, attribute)\n",
    "        builtin_to_str (`dict` of builtin function to :obj: `string`):\n",
    "            Dict mapping builtin function to `string` represenation.\n",
    "    \"\"\"\n",
    "    builtin_to_str = {sum: 'sum', max:'max', min:'min', len:'count'}\n",
    "\n",
    "    def __init__(self, input, groups, aggregations=[]):\n",
    "        super().__init__(input)\n",
    "        self.group_by = groups\n",
    "        self.aggregations = aggregations\n",
    "\n",
    "    def __str__(self):\n",
    "        aggr = [\"{}({})\".format(self.builtin_to_str[func], attr) for func, attr in self.aggregations]\n",
    "        return \"(γ_{} {} ({})\".format(self.group_by, aggr, self.input)\n",
    "\n",
    "    def evaluate(self):\n",
    "        \"\"\"Performs grouping and aggregation on its inputs.\"\"\"\n",
    "        # evaluate input\n",
    "        eval_input = self.input.evaluate()\n",
    "        # build groups\n",
    "        groups = self._build_groups(eval_input)\n",
    "        # compute aggregations\n",
    "        tuples = self._compute_aggregations(eval_input, groups)\n",
    "        # build new relation\n",
    "        grp_schema = build_schema(self.group_by, [eval_input.get_attribute_domain(x) for x in self.group_by])\n",
    "        agg_schema = [(self.builtin_to_str[agg[0]]+'_'+agg[1], int) for agg in self.aggregations]\n",
    "        new_schema = grp_schema + agg_schema  # combine both schemas\n",
    "        new_relation = Relation(\"Result\", new_schema)\n",
    "        # insert tuples into relation\n",
    "        for tup in tuples:\n",
    "            new_relation.add_tuple(tup)\n",
    "        return new_relation\n",
    "\n",
    "    def _dot(self, graph, prefix):\n",
    "        # build name and label and call helper function\n",
    "        node_name = prefix + 'Gro'\n",
    "        aggr = [\"{}({})\".format(self.builtin_to_str[func], attr) for func, attr in self.aggregations]\n",
    "        node_label = \"γ_{} {}\".format(self.group_by, aggr)\n",
    "        self._dot_helper(graph, prefix, node_name, node_label)\n",
    "        return node_name\n",
    "\n",
    "    def _build_groups(self, eval_input):\n",
    "        \"\"\"Builds the groups from the evaluated input.\"\"\"\n",
    "        groups = dict()  # maps group to tuples in group\n",
    "        idxs =  [eval_input.get_attribute_index(attr) for attr in self.group_by] # get indexes of attributes in group\n",
    "        # insert each tuple in corresponding group\n",
    "        for tup in eval_input.tuples:\n",
    "            key = tuple(tup[i] for i in idxs)  # determine group of tuple\n",
    "            group = groups.get(key, [])  # retrieve group from map, default: empty list\n",
    "            groups[key] = group+[tup]  # add tuple to group\n",
    "        return groups\n",
    "\n",
    "    def _compute_aggregations(self, eval_input, groups):\n",
    "        \"\"\"Computes aggregations on partitioned groups.\"\"\"\n",
    "        results = set()  # result set of tuples, containing group attributes and aggregates\n",
    "        # for each group, compute aggregates\n",
    "        for key in groups:\n",
    "            result_tup = key  # first part of result tuple is the group\n",
    "            group = groups[key]  # get list of group members to compute aggregations on\n",
    "            # compute each aggregate            \n",
    "            for func, attr in self.aggregations:\n",
    "                idx = eval_input.get_attribute_index(attr)  # position of attribute within each tuple\n",
    "                agg_result = func([x[idx] for x in group])  # apply aggregation function to list of attributes\n",
    "                result_tup += (agg_result, )  # append aggregation result to result tuple\n",
    "            results.add(result_tup)\n",
    "        return results"
   ]
  },
  {
   "cell_type": "markdown",
   "metadata": {},
   "source": [
    "### Application"
   ]
  },
  {
   "cell_type": "code",
   "execution_count": 67,
   "metadata": {},
   "outputs": [],
   "source": [
    "# Idea: count the number of female/male actors\n",
    "\n",
    "# grouping key: ['gender']\n",
    "# aggregation function: len (also called count)\n",
    "# notice that for len() specifying an attribute is actually not required\n",
    "# as only the number of tuples in each group are coiunted\n",
    "# this is independent of a specific attribute value\n",
    "grouping = Grouping(actors, ['gender'], [(len, 'id')])"
   ]
  },
  {
   "cell_type": "code",
   "execution_count": 68,
   "metadata": {},
   "outputs": [
    {
     "name": "stdout",
     "output_type": "stream",
     "text": [
      "(γ_['gender'] ['count(id)'] (actors)\n"
     ]
    }
   ],
   "source": [
    "print(grouping)"
   ]
  },
  {
   "cell_type": "code",
   "execution_count": 69,
   "metadata": {
    "scrolled": false
   },
   "outputs": [
    {
     "name": "stdout",
     "output_type": "stream",
     "text": [
      "[Result] : {[ gender:str, count_id:int ]}\n",
      "{\n",
      "\t(M, 802),\n",
      "\t(F, 289)\n",
      "}\n"
     ]
    }
   ],
   "source": [
    "grouping.evaluate().print_set()"
   ]
  },
  {
   "cell_type": "code",
   "execution_count": 70,
   "metadata": {},
   "outputs": [
    {
     "data": {
      "image/svg+xml": [
       "<?xml version=\"1.0\" encoding=\"UTF-8\" standalone=\"no\"?>\n",
       "<!DOCTYPE svg PUBLIC \"-//W3C//DTD SVG 1.1//EN\"\n",
       " \"http://www.w3.org/Graphics/SVG/1.1/DTD/svg11.dtd\">\n",
       "<!-- Generated by graphviz version 2.36.0 (20140111.2315)\n",
       " -->\n",
       "<!-- Title: %3 Pages: 1 -->\n",
       "<svg width=\"204pt\" height=\"116pt\"\n",
       " viewBox=\"0.00 0.00 204.00 116.00\" xmlns=\"http://www.w3.org/2000/svg\" xmlns:xlink=\"http://www.w3.org/1999/xlink\">\n",
       "<g id=\"graph0\" class=\"graph\" transform=\"scale(1 1) rotate(0) translate(4 112)\">\n",
       "<title>%3</title>\n",
       "<polygon fill=\"white\" stroke=\"none\" points=\"-4,4 -4,-112 200,-112 200,4 -4,4\"/>\n",
       "<!-- Gro -->\n",
       "<g id=\"node1\" class=\"node\"><title>Gro</title>\n",
       "<ellipse fill=\"none\" stroke=\"black\" cx=\"98\" cy=\"-90\" rx=\"98.5829\" ry=\"18\"/>\n",
       "<text text-anchor=\"middle\" x=\"98\" y=\"-86.3\" font-family=\"Times,serif\" font-size=\"14.00\">γ_[&#39;gender&#39;] [&#39;count(id)&#39;]</text>\n",
       "</g>\n",
       "<!-- IRel -->\n",
       "<g id=\"node2\" class=\"node\"><title>IRel</title>\n",
       "<ellipse fill=\"none\" stroke=\"black\" cx=\"98\" cy=\"-18\" rx=\"32.4942\" ry=\"18\"/>\n",
       "<text text-anchor=\"middle\" x=\"98\" y=\"-14.3\" font-family=\"Times,serif\" font-size=\"14.00\">actors</text>\n",
       "</g>\n",
       "<!-- IRel&#45;&gt;Gro -->\n",
       "<g id=\"edge1\" class=\"edge\"><title>IRel&#45;&gt;Gro</title>\n",
       "<path fill=\"none\" stroke=\"black\" d=\"M98,-36.3034C98,-44.0173 98,-53.2875 98,-61.8876\"/>\n",
       "<polygon fill=\"black\" stroke=\"black\" points=\"94.5001,-61.8956 98,-71.8957 101.5,-61.8957 94.5001,-61.8956\"/>\n",
       "</g>\n",
       "</g>\n",
       "</svg>\n"
      ],
      "text/plain": [
       "<graphviz.files.Source at 0x110328dd8>"
      ]
     },
     "execution_count": 70,
     "metadata": {},
     "output_type": "execute_result"
    }
   ],
   "source": [
    "graph = grouping.get_graph()\n",
    "Source(graph)"
   ]
  },
  {
   "cell_type": "code",
   "execution_count": 71,
   "metadata": {},
   "outputs": [],
   "source": [
    "# Idea: count the number of movies per year\n",
    "# also sum up the years in each group which\n",
    "# does not make sense semantically, just done to\n",
    "# show that one can use multiple aggregations in a Grouping\n",
    "\n",
    "# grouping key: ['year']\n",
    "# aggregation function: len (also called count)\n",
    "# aggregation function: sum (also called count)\n",
    "grouping = Grouping(movies, ['year'], [(len, 'year'), (sum, 'id')])"
   ]
  },
  {
   "cell_type": "code",
   "execution_count": 72,
   "metadata": {},
   "outputs": [
    {
     "name": "stdout",
     "output_type": "stream",
     "text": [
      "[Result] : {[ year:int, count_year:int, sum_id:int ]}\n",
      "{\n",
      "\t(1999, 1, 106666),\n",
      "\t(1953, 2, 402079),\n",
      "\t(1978, 1, 369522),\n",
      "\t(1964, 1, 92616),\n",
      "\t(2003, 3, 697546),\n",
      "\t(2002, 1, 105938),\n",
      "\t(1981, 1, 256530),\n",
      "\t(2001, 1, 96779),\n",
      "\t(1968, 1, 1711),\n",
      "\t(1957, 1, 250612),\n",
      "\t(1975, 1, 30431),\n",
      "\t(1994, 3, 995565),\n",
      "\t(2004, 1, 176712),\n",
      "\t(1951, 2, 196085),\n",
      "\t(1995, 1, 118367),\n",
      "\t(2000, 1, 385710),\n",
      "\t(2006, 1, 159665),\n",
      "\t(1992, 1, 276217),\n",
      "\t(1997, 2, 498428),\n",
      "\t(1991, 1, 328277),\n",
      "\t(1986, 1, 10920),\n",
      "\t(1962, 1, 193519),\n",
      "\t(1960, 1, 310455),\n",
      "\t(1984, 1, 328285),\n",
      "\t(1971, 1, 65764),\n",
      "\t(1987, 2, 345248),\n",
      "\t(1996, 1, 322652),\n",
      "\t(2005, 1, 10934),\n",
      "\t(1956, 1, 177019),\n",
      "\t(1989, 1, 5306),\n",
      "\t(1955, 1, 176891),\n",
      "\t(1980, 1, 299073)\n",
      "}\n"
     ]
    }
   ],
   "source": [
    "grouping.evaluate().print_set()"
   ]
  },
  {
   "cell_type": "code",
   "execution_count": null,
   "metadata": {},
   "outputs": [],
   "source": []
  }
 ],
 "metadata": {
  "kernelspec": {
   "display_name": "Python 3",
   "language": "python",
   "name": "python3"
  },
  "language_info": {
   "codemirror_mode": {
    "name": "ipython",
    "version": 3
   },
   "file_extension": ".py",
   "mimetype": "text/x-python",
   "name": "python",
   "nbconvert_exporter": "python",
   "pygments_lexer": "ipython3",
   "version": "3.6.5"
  },
  "varInspector": {
   "cols": {
    "lenName": 16,
    "lenType": 16,
    "lenVar": 40
   },
   "kernels_config": {
    "python": {
     "delete_cmd_postfix": "",
     "delete_cmd_prefix": "del ",
     "library": "var_list.py",
     "varRefreshCmd": "print(var_dic_list())"
    },
    "r": {
     "delete_cmd_postfix": ") ",
     "delete_cmd_prefix": "rm(",
     "library": "var_list.r",
     "varRefreshCmd": "cat(var_dic_list()) "
    }
   },
   "types_to_exclude": [
    "module",
    "function",
    "builtin_function_or_method",
    "instance",
    "_Feature"
   ],
   "window_display": false
  }
 },
 "nbformat": 4,
 "nbformat_minor": 2
}
