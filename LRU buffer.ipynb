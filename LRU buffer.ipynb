{
 "cells": [
  {
   "cell_type": "markdown",
   "metadata": {},
   "source": [
    "simple LRU buffer simulation"
   ]
  },
  {
   "cell_type": "code",
   "execution_count": 1,
   "metadata": {},
   "outputs": [],
   "source": [
    "class Buffer:\n",
    "    maxBufferSize = None\n",
    "\n",
    "    def __init__(self, maxBufferSize): \n",
    "        self.maxBufferSize = maxBufferSize \n",
    "        self.buffer = []\n",
    "        \n",
    "    # visulaize the contents of this buffer:\n",
    "    def showBuffer(self):\n",
    "        print('\\t[',end='')\n",
    "        for i in range(len(self.buffer)):\n",
    "            print(str(self.buffer[i])+',',end='')\n",
    "        print(']')\n",
    "    \n",
    "    # load a data item to this buffer:\n",
    "    def load(self, item):\n",
    "        print(\"load(\"+str(item)+\"):\")\n",
    "\n",
    "        if len(self.buffer) >= self.maxBufferSize:\n",
    "            self.evict()\n",
    "            \n",
    "        # put item in front of this buffer:\n",
    "        self.buffer = [item] + self.buffer\n",
    "        \n",
    "        print(\"\\tappended item\",item,\"to the beginning of the buffer\")\n",
    "        self.showBuffer()\n",
    "\n",
    "    # evict (remove) an item from the buffer:\n",
    "    def evict(self):\n",
    "        print(\"\\tevict():\")\n",
    "        # remove the last element of this buffer:\n",
    "        print(\"\\t\\tremoved item\", self.buffer[-1], \"from the end of the buffer\")\n",
    "        self.buffer = self.buffer[:-1]\n",
    "        print(\"\\t\",end=\"\")\n",
    "        self.showBuffer()\n",
    "        \n",
    "    # get a handle to a particular item contained in the buffer:\n",
    "    def get(self, pos):\n",
    "        print(\"get(\"+str(pos)+\"):\")\n",
    "        if pos >= len(self.buffer):\n",
    "            raise Exception('Index out of bounds')\n",
    "        # push touched item to the front of the list:\n",
    "        self.buffer = [self.buffer[pos]] + self.buffer[:pos] + self.buffer[pos+1:]\n",
    "        self.showBuffer()"
   ]
  },
  {
   "cell_type": "code",
   "execution_count": 2,
   "metadata": {},
   "outputs": [
    {
     "name": "stdout",
     "output_type": "stream",
     "text": [
      "load(10):\n",
      "\tappended item 10 to the beginning of the buffer\n",
      "\t[10,]\n"
     ]
    }
   ],
   "source": [
    "b = Buffer(3)\n",
    "b.load(10)"
   ]
  },
  {
   "cell_type": "code",
   "execution_count": 3,
   "metadata": {},
   "outputs": [
    {
     "name": "stdout",
     "output_type": "stream",
     "text": [
      "load(11):\n",
      "\tappended item 11 to the beginning of the buffer\n",
      "\t[11,10,]\n"
     ]
    }
   ],
   "source": [
    "b.load(11)"
   ]
  },
  {
   "cell_type": "code",
   "execution_count": 4,
   "metadata": {},
   "outputs": [
    {
     "name": "stdout",
     "output_type": "stream",
     "text": [
      "get(1):\n",
      "\t[10,11,]\n"
     ]
    }
   ],
   "source": [
    "b.get(1)"
   ]
  },
  {
   "cell_type": "code",
   "execution_count": 5,
   "metadata": {},
   "outputs": [
    {
     "name": "stdout",
     "output_type": "stream",
     "text": [
      "load(12):\n",
      "\tappended item 12 to the beginning of the buffer\n",
      "\t[12,10,11,]\n",
      "load(42):\n",
      "\tevict():\n",
      "\t\tremoved item 11 from the end of the buffer\n",
      "\t\t[12,10,]\n",
      "\tappended item 42 to the beginning of the buffer\n",
      "\t[42,12,10,]\n",
      "load(3):\n",
      "\tevict():\n",
      "\t\tremoved item 10 from the end of the buffer\n",
      "\t\t[42,12,]\n",
      "\tappended item 3 to the beginning of the buffer\n",
      "\t[3,42,12,]\n",
      "load(9):\n",
      "\tevict():\n",
      "\t\tremoved item 12 from the end of the buffer\n",
      "\t\t[3,42,]\n",
      "\tappended item 9 to the beginning of the buffer\n",
      "\t[9,3,42,]\n",
      "get(2):\n",
      "\t[42,9,3,]\n",
      "load(3):\n",
      "\tevict():\n",
      "\t\tremoved item 3 from the end of the buffer\n",
      "\t\t[42,9,]\n",
      "\tappended item 3 to the beginning of the buffer\n",
      "\t[3,42,9,]\n"
     ]
    }
   ],
   "source": [
    "\n",
    "b.load(12)\n",
    "\n",
    "b.load(42)\n",
    "b.load(3)\n",
    "b.load(9)\n",
    "b.get(2)\n",
    "b.load(3)"
   ]
  },
  {
   "cell_type": "code",
   "execution_count": null,
   "metadata": {},
   "outputs": [],
   "source": []
  }
 ],
 "metadata": {
  "kernelspec": {
   "display_name": "Python 3",
   "language": "python",
   "name": "python3"
  },
  "language_info": {
   "codemirror_mode": {
    "name": "ipython",
    "version": 3
   },
   "file_extension": ".py",
   "mimetype": "text/x-python",
   "name": "python",
   "nbconvert_exporter": "python",
   "pygments_lexer": "ipython3",
   "version": "3.7.6"
  },
  "varInspector": {
   "cols": {
    "lenName": 16,
    "lenType": 16,
    "lenVar": 40
   },
   "kernels_config": {
    "python": {
     "delete_cmd_postfix": "",
     "delete_cmd_prefix": "del ",
     "library": "var_list.py",
     "varRefreshCmd": "print(var_dic_list())"
    },
    "r": {
     "delete_cmd_postfix": ") ",
     "delete_cmd_prefix": "rm(",
     "library": "var_list.r",
     "varRefreshCmd": "cat(var_dic_list()) "
    }
   },
   "types_to_exclude": [
    "module",
    "function",
    "builtin_function_or_method",
    "instance",
    "_Feature"
   ],
   "window_display": false
  }
 },
 "nbformat": 4,
 "nbformat_minor": 2
}
