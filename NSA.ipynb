{
 "cells": [
  {
   "cell_type": "markdown",
   "metadata": {},
   "source": [
    "# NSA\n",
    "\n",
    "This notebook is based on the brilliant book by Andreas Eschbach: [\"NSA: Nationales Sicherheitsamt\"](https://www.amazon.de/dp/B07D18P88V/). \n",
    "\n",
    "\n",
    "The core idea of that book: imagine computers, the internet, and mobile phones developed roughly 70 years earlier, namely in the beginning of the 20th century. A special office called \"Nationales Sicherheitsamt (NSA)\" collects and analyzes data to identify potential \"risks\" for the nation. In the 1930s, the nazi regime takes control of the government and the NSA. Hence they get access to all that data and look for ways to abuse that data for their goals, especially the tracing of hidden jews and political opponents.\n",
    "\n",
    "In this notebook, we demonstrates the scenario described on the first 42 pages.\n",
    "\n",
    "**Notice**: This notebook based on Eschbachs fantastic book is a **warning**: seemingly useless/junk data when combined in the right way, can yield shocking insights. \n",
    "\n",
    "This scenario is **yet another example of the highly unpredictable \"big data arithmetic\": Joining apples with oranges may yield anything.**\n",
    "\n",
    "And you do not need any machine learning or artificial intelligence for this. SQL is enough.\n",
    "\n",
    "Copyright Jens Dittrich & Christian Schön & Joris Nix, [Big Data Analytics Group](https://bigdata.uni-saarland.de/), [CC-BY-SA](https://creativecommons.org/licenses/by-sa/4.0/legalcode)"
   ]
  },
  {
   "cell_type": "code",
   "execution_count": 1,
   "metadata": {},
   "outputs": [],
   "source": [
    "import duckdb"
   ]
  },
  {
   "cell_type": "markdown",
   "metadata": {},
   "source": [
    "## Load Data\n",
    "\n",
    "Before we can start analyzing the data, we first have to load data from the corresponding csv files into an appropriate database schema. This is fake data."
   ]
  },
  {
   "cell_type": "code",
   "execution_count": 2,
   "metadata": {},
   "outputs": [],
   "source": [
    "duckdb.sql(\"\"\"\n",
    "    CREATE TABLE households (\n",
    "    id INTEGER PRIMARY KEY,\n",
    "    street VARCHAR,\n",
    "    postcode INTEGER,\n",
    "    city VARCHAR,\n",
    "    floor INTEGER\n",
    ");\"\"\")\n",
    "\n",
    "duckdb.sql(\"\"\"\n",
    "CREATE TABLE citizens (\n",
    "    id INTEGER PRIMARY KEY,\n",
    "    firstname VARCHAR,\n",
    "    lastname VARCHAR,\n",
    "    birthday TIMESTAMP\n",
    ");\"\"\")\n",
    "\n",
    "duckdb.sql(\"\"\"\n",
    "CREATE TABLE livingIn (\n",
    "    household_id INTEGER,\n",
    "    citizen_id INTEGER,\n",
    "    start TIMESTAMP,\n",
    "    until TIMESTAMP,\n",
    "    FOREIGN KEY(household_id) REFERENCES households(id),\n",
    "    FOREIGN KEY(citizen_id) REFERENCES citizens(id),\n",
    "    PRIMARY KEY(citizen_id, start)\n",
    ");\"\"\")\n",
    "\n",
    "duckdb.sql(\"\"\"\n",
    "CREATE TABLE articles (\n",
    "    id INTEGER PRIMARY KEY,\n",
    "    label VARCHAR,\n",
    "    unit VARCHAR\n",
    ");\"\"\")\n",
    "\n",
    "duckdb.sql(\"\"\"\n",
    "CREATE TABLE groceries (\n",
    "    id INTEGER PRIMARY KEY,\n",
    "    caloriesPer100g INTEGER,\n",
    "    FOREIGN KEY(id) REFERENCES articles(id)\n",
    ");\"\"\")\n",
    "\n",
    "duckdb.sql(\"\"\"\n",
    "CREATE TABLE purchases (\n",
    "    article_id INTEGER,\n",
    "    citizen_id INTEGER,\n",
    "    date TIMESTAMP,\n",
    "    amount FLOAT,\n",
    "    FOREIGN KEY(article_id) REFERENCES articles(id),\n",
    "    FOREIGN KEY(citizen_id) REFERENCES citizens(id),\n",
    "    PRIMARY KEY(article_id, citizen_id, date)\n",
    ");\"\"\")"
   ]
  },
  {
   "cell_type": "code",
   "execution_count": 3,
   "metadata": {},
   "outputs": [],
   "source": [
    "duckdb.sql(\"COPY households FROM './data/nsa/households_no_header.csv' (FORMAT CSV, DELIMITER ',');\")\n",
    "duckdb.sql(\"COPY citizens FROM './data/nsa/citizens_no_header.csv' (FORMAT CSV, DELIMITER ',');\")\n",
    "duckdb.sql(\"COPY livingIn FROM './data/nsa/livingIn_no_header.csv' (FORMAT CSV, DELIMITER ',');\")\n",
    "duckdb.sql(\"COPY articles FROM './data/nsa/articles_no_header.csv' (FORMAT CSV, DELIMITER ',');\")\n",
    "duckdb.sql(\"COPY groceries FROM './data/nsa/groceries_no_header.csv' (FORMAT CSV, DELIMITER ',');\")\n",
    "duckdb.sql(\"COPY purchases FROM './data/nsa/purchases_no_header.csv' (FORMAT CSV, DELIMITER ',');\")"
   ]
  },
  {
   "cell_type": "code",
   "execution_count": 4,
   "metadata": {
    "scrolled": false
   },
   "outputs": [
    {
     "data": {
      "text/plain": [
       "┌───────┬──────────────────────────────┬──────────┬─────────────┬───────┐\n",
       "│  id   │            street            │ postcode │    city     │ floor │\n",
       "│ int32 │           varchar            │  int32   │   varchar   │ int32 │\n",
       "├───────┼──────────────────────────────┼──────────┼─────────────┼───────┤\n",
       "│     1 │ Königinstraße 25             │    66111 │ Saarbrücken │     1 │\n",
       "│     2 │ Königinstraße 25             │    66111 │ Saarbrücken │     2 │\n",
       "│     3 │ Ulrich-Weber-Straße 9        │    66111 │ Saarbrücken │     1 │\n",
       "│     4 │ Wiesenheimstraße 26          │    66111 │ Saarbrücken │     3 │\n",
       "│     5 │ Bodenschatzstraße 13         │    66111 │ Saarbrücken │     1 │\n",
       "│     6 │ Leisringstraße 13            │    66111 │ Saarbrücken │     2 │\n",
       "│     7 │ Leonissenstraße 29           │    66111 │ Saarbrücken │     1 │\n",
       "│     8 │ Passusgasse 7                │    66111 │ Saarbrücken │     1 │\n",
       "│     9 │ Rossauenstraße 5             │    66111 │ Saarbrücken │     1 │\n",
       "│    10 │ Graf-Johann-Ludwig-Straße 10 │    66111 │ Saarbrücken │     1 │\n",
       "│    11 │ Fischerstraße 6              │    66111 │ Saarbrücken │     2 │\n",
       "│    12 │ Simonisstraße 9              │    66111 │ Saarbrücken │     1 │\n",
       "│    13 │ Bergmannweg 7                │    66111 │ Saarbrücken │     1 │\n",
       "│    14 │ Korbinianstraße 13           │    66111 │ Saarbrücken │     2 │\n",
       "│    15 │ Orchideenstraße 8            │    66111 │ Saarbrücken │     1 │\n",
       "├───────┴──────────────────────────────┴──────────┴─────────────┴───────┤\n",
       "│ 15 rows                                                     5 columns │\n",
       "└───────────────────────────────────────────────────────────────────────┘"
      ]
     },
     "metadata": {},
     "output_type": "display_data"
    },
    {
     "data": {
      "text/plain": [
       "┌───────┬────────────┬───────────┬─────────────────────┐\n",
       "│  id   │ firstname  │ lastname  │      birthday       │\n",
       "│ int32 │  varchar   │  varchar  │      timestamp      │\n",
       "├───────┼────────────┼───────────┼─────────────────────┤\n",
       "│     1 │ Herbert    │ Schmidt   │ 1897-04-23 00:00:00 │\n",
       "│     2 │ Wiltrud    │ Schmidt   │ 1898-07-11 00:00:00 │\n",
       "│     3 │ Gerhard    │ Graf      │ 1885-09-27 00:00:00 │\n",
       "│     4 │ Anna       │ Graf      │ 1885-11-03 00:00:00 │\n",
       "│     5 │ Willi      │ Graf      │ 1918-01-02 00:00:00 │\n",
       "│     6 │ Helene     │ Mueller   │ 1863-02-26 00:00:00 │\n",
       "│     7 │ Markus     │ Schneider │ 1879-06-21 00:00:00 │\n",
       "│     8 │ Pauline    │ Schneider │ 1880-01-06 00:00:00 │\n",
       "│     9 │ Vincent    │ Bauer     │ 1912-03-30 00:00:00 │\n",
       "│    10 │ Oskar      │ Meyer     │ 1909-07-17 00:00:00 │\n",
       "│     · │   ·        │   ·       │          ·          │\n",
       "│     · │   ·        │   ·       │          ·          │\n",
       "│     · │   ·        │   ·       │          ·          │\n",
       "│    31 │ Sebastian  │ Fuchs     │ 1876-11-03 00:00:00 │\n",
       "│    32 │ Hilde      │ Fuchs     │ 1879-02-15 00:00:00 │\n",
       "│    33 │ Gottfried  │ Fuchs     │ 1905-01-05 00:00:00 │\n",
       "│    34 │ Pia        │ Fuchs     │ 1907-07-29 00:00:00 │\n",
       "│    35 │ Hanne      │ Fuchs     │ 1932-10-13 00:00:00 │\n",
       "│    36 │ Wolfgang   │ Köhler    │ 1905-02-05 00:00:00 │\n",
       "│    37 │ Liselotte  │ Köhler    │ 1908-07-11 00:00:00 │\n",
       "│    38 │ Maximilian │ Wagner    │ 1903-05-18 00:00:00 │\n",
       "│    39 │ Regina     │ Wagner    │ 1903-06-17 00:00:00 │\n",
       "│    40 │ Margarethe │ Wagner    │ 1940-11-03 00:00:00 │\n",
       "├───────┴────────────┴───────────┴─────────────────────┤\n",
       "│ 40 rows (20 shown)                         4 columns │\n",
       "└──────────────────────────────────────────────────────┘"
      ]
     },
     "metadata": {},
     "output_type": "display_data"
    },
    {
     "data": {
      "text/plain": [
       "┌──────────────┬────────────┬─────────────────────┬─────────────────────┐\n",
       "│ household_id │ citizen_id │        start        │        until        │\n",
       "│    int32     │   int32    │      timestamp      │      timestamp      │\n",
       "├──────────────┼────────────┼─────────────────────┼─────────────────────┤\n",
       "│            1 │          1 │ 1902-02-14 00:00:00 │ NULL                │\n",
       "│            1 │          2 │ 1902-02-14 00:00:00 │ NULL                │\n",
       "│            2 │          6 │ 1894-11-03 00:00:00 │ NULL                │\n",
       "│            3 │          7 │ 1902-07-29 00:00:00 │ 1929-08-31 00:00:00 │\n",
       "│            3 │          8 │ 1903-01-04 00:00:00 │ 1929-08-31 00:00:00 │\n",
       "│            3 │          9 │ 1929-09-02 00:00:00 │ NULL                │\n",
       "│            3 │         10 │ 1929-09-02 00:00:00 │ NULL                │\n",
       "│            4 │         17 │ 1898-03-28 00:00:00 │ 1929-06-13 00:00:00 │\n",
       "│            4 │          7 │ 1929-09-01 00:00:00 │ NULL                │\n",
       "│            4 │          8 │ 1929-09-01 00:00:00 │ NULL                │\n",
       "│            · │          · │          ·          │  ·                  │\n",
       "│            · │          · │          ·          │  ·                  │\n",
       "│            · │          · │          ·          │  ·                  │\n",
       "│           13 │         31 │ 1901-09-08 00:00:00 │ NULL                │\n",
       "│           13 │         32 │ 1879-02-15 00:00:00 │ NULL                │\n",
       "│           13 │         33 │ 1905-01-05 00:00:00 │ NULL                │\n",
       "│           13 │         34 │ 1928-04-28 00:00:00 │ NULL                │\n",
       "│           13 │         35 │ 1932-10-13 00:00:00 │ NULL                │\n",
       "│           14 │         36 │ 1929-11-04 00:00:00 │ NULL                │\n",
       "│           14 │         37 │ 1930-03-05 00:00:00 │ NULL                │\n",
       "│           15 │         38 │ 1934-05-23 00:00:00 │ NULL                │\n",
       "│           15 │         39 │ 1934-05-23 00:00:00 │ NULL                │\n",
       "│           15 │         40 │ 1940-11-03 00:00:00 │ NULL                │\n",
       "├──────────────┴────────────┴─────────────────────┴─────────────────────┤\n",
       "│ 45 rows (20 shown)                                          4 columns │\n",
       "└───────────────────────────────────────────────────────────────────────┘"
      ]
     },
     "metadata": {},
     "output_type": "display_data"
    },
    {
     "data": {
      "text/plain": [
       "┌───────┬─────────────┬──────────┐\n",
       "│  id   │    label    │   unit   │\n",
       "│ int32 │   varchar   │ varchar  │\n",
       "├───────┼─────────────┼──────────┤\n",
       "│     1 │ Potato      │ Kilogram │\n",
       "│     2 │ Apple       │ Kilogram │\n",
       "│     3 │ Grape       │ Kilogram │\n",
       "│     4 │ Red Cabbage │ Kilogram │\n",
       "│     5 │ Beetroot    │ Kilogram │\n",
       "│     6 │ Onion       │ Kilogram │\n",
       "│     7 │ Pork        │ Kilogram │\n",
       "│     8 │ Beef        │ Kilogram │\n",
       "│     9 │ Trout       │ Kilogram │\n",
       "│    10 │ Herring     │ Kilogram │\n",
       "│     · │   ·         │    ·     │\n",
       "│     · │   ·         │    ·     │\n",
       "│     · │   ·         │    ·     │\n",
       "│    24 │ Pasta       │ Kilogram │\n",
       "│    25 │ Kohlrabi    │ Kilogram │\n",
       "│    26 │ Pea         │ Kilogram │\n",
       "│    27 │ Carrot      │ Kilogram │\n",
       "│    28 │ Pumpkin     │ Kilogram │\n",
       "│    29 │ Egg         │ Kilogram │\n",
       "│    30 │ Bean        │ Kilogram │\n",
       "│    31 │ Raspberry   │ Kilogram │\n",
       "│    32 │ Strawberry  │ Kilogram │\n",
       "│    33 │ Corn        │ Kilogram │\n",
       "├───────┴─────────────┴──────────┤\n",
       "│ 33 rows (20 shown)   3 columns │\n",
       "└────────────────────────────────┘"
      ]
     },
     "metadata": {},
     "output_type": "display_data"
    },
    {
     "data": {
      "text/plain": [
       "┌───────┬─────────────────┐\n",
       "│  id   │ caloriesPer100g │\n",
       "│ int32 │      int32      │\n",
       "├───────┼─────────────────┤\n",
       "│     1 │              86 │\n",
       "│     2 │              52 │\n",
       "│     3 │              70 │\n",
       "│     4 │              29 │\n",
       "│     5 │              43 │\n",
       "│     6 │              40 │\n",
       "│     7 │             311 │\n",
       "│     8 │             212 │\n",
       "│     9 │              50 │\n",
       "│    10 │             146 │\n",
       "│     · │              ·  │\n",
       "│     · │              ·  │\n",
       "│     · │              ·  │\n",
       "│    24 │             150 │\n",
       "│    25 │              27 │\n",
       "│    26 │              82 │\n",
       "│    27 │              36 │\n",
       "│    28 │              19 │\n",
       "│    29 │             155 │\n",
       "│    30 │              25 │\n",
       "│    31 │              36 │\n",
       "│    32 │              32 │\n",
       "│    33 │             108 │\n",
       "├───────┴─────────────────┤\n",
       "│   33 rows (20 shown)    │\n",
       "└─────────────────────────┘"
      ]
     },
     "metadata": {},
     "output_type": "display_data"
    },
    {
     "data": {
      "text/plain": [
       "┌────────────┬────────────┬─────────────────────┬────────┐\n",
       "│ article_id │ citizen_id │        date         │ amount │\n",
       "│   int32    │   int32    │      timestamp      │ float  │\n",
       "├────────────┼────────────┼─────────────────────┼────────┤\n",
       "│         22 │          1 │ 1942-04-01 09:03:29 │   0.52 │\n",
       "│         30 │          1 │ 1942-04-01 09:03:29 │   0.54 │\n",
       "│         26 │          1 │ 1942-04-01 09:03:29 │   1.12 │\n",
       "│          8 │          1 │ 1942-04-01 09:03:29 │   0.65 │\n",
       "│         14 │          1 │ 1942-04-01 09:03:29 │    0.7 │\n",
       "│          4 │          1 │ 1942-04-01 09:03:29 │   0.84 │\n",
       "│         33 │          1 │ 1942-04-01 09:03:29 │    0.6 │\n",
       "│         20 │          1 │ 1942-04-01 09:03:29 │   1.14 │\n",
       "│         32 │          1 │ 1942-04-01 09:03:29 │   0.48 │\n",
       "│         23 │          1 │ 1942-04-01 09:03:29 │   0.75 │\n",
       "│          · │          · │          ·          │     ·  │\n",
       "│          · │          · │          ·          │     ·  │\n",
       "│          · │          · │          ·          │     ·  │\n",
       "│         13 │         19 │ 1942-08-07 10:09:52 │   3.52 │\n",
       "│         20 │         19 │ 1942-08-07 10:09:52 │   0.64 │\n",
       "│         16 │         19 │ 1942-08-07 10:09:52 │   1.11 │\n",
       "│         13 │          4 │ 1942-08-07 15:53:18 │   2.65 │\n",
       "│         25 │          4 │ 1942-08-07 15:53:18 │   2.71 │\n",
       "│         10 │          4 │ 1942-08-07 15:53:18 │   2.18 │\n",
       "│         19 │          4 │ 1942-08-07 15:53:18 │   1.51 │\n",
       "│         21 │          4 │ 1942-08-07 15:53:18 │   1.25 │\n",
       "│          2 │          4 │ 1942-08-07 15:53:18 │   0.55 │\n",
       "│         18 │          4 │ 1942-08-07 15:53:18 │   1.37 │\n",
       "├────────────┴────────────┴─────────────────────┴────────┤\n",
       "│ ? rows (>9999 rows, 20 shown)                4 columns │\n",
       "└────────────────────────────────────────────────────────┘"
      ]
     },
     "metadata": {},
     "output_type": "display_data"
    }
   ],
   "source": [
    "display(duckdb.sql('SELECT * FROM households;'))\n",
    "display(duckdb.sql('SELECT * FROM citizens;'))\n",
    "display(duckdb.sql('SELECT * FROM livingIn;'))\n",
    "display(duckdb.sql('SELECT * FROM articles;'))\n",
    "display(duckdb.sql('SELECT * FROM groceries;'))\n",
    "display(duckdb.sql('SELECT * FROM purchases;'))"
   ]
  },
  {
   "cell_type": "markdown",
   "metadata": {},
   "source": [
    "The fake data consists of 15 households with 40 official inhabitants. For the purchases, each (adult) inhabitant can choose out of 33 different articles of food. The corresponding table covers data from 183 days (1942-04-01 to 1942-09-30). The example assumes that all analysis steps are done on the 5th of october 1942, as in the book by Andreas Eschbach."
   ]
  },
  {
   "cell_type": "markdown",
   "metadata": {},
   "source": [
    "## Citizens & Households\n",
    "\n",
    "In a first step, we want to show the citizens and the households they currently live in. The current household can be determined by looking at the \"until\" attribute. If it is `NULL`, the citizen currently lives in this household. If it is not `NULL`, the citizen lived here in the past."
   ]
  },
  {
   "cell_type": "code",
   "execution_count": 5,
   "metadata": {
    "scrolled": false
   },
   "outputs": [
    {
     "data": {
      "text/plain": [
       "┌───────────┬──────────┬──────────────────────┬──────────┬─────────────┐\n",
       "│ firstname │ lastname │        street        │ postcode │    city     │\n",
       "│  varchar  │ varchar  │       varchar        │  int32   │   varchar   │\n",
       "├───────────┼──────────┼──────────────────────┼──────────┼─────────────┤\n",
       "│ Alfred    │ Weber    │ Bodenschatzstraße 13 │    66111 │ Saarbrücken │\n",
       "│ Anna      │ Graf     │ Rossauenstraße 5     │    66111 │ Saarbrücken │\n",
       "│ Berta     │ Herrmann │ Simonisstraße 9      │    66111 │ Saarbrücken │\n",
       "│ Charlotte │ Weber    │ Bodenschatzstraße 13 │    66111 │ Saarbrücken │\n",
       "│ Emil      │ Weber    │ Bodenschatzstraße 13 │    66111 │ Saarbrücken │\n",
       "│ Emma      │ Weber    │ Bodenschatzstraße 13 │    66111 │ Saarbrücken │\n",
       "│ Frieda    │ Braun    │ Fischerstraße 6      │    66111 │ Saarbrücken │\n",
       "│ Fritz     │ Wolf     │ Leonissenstraße 29   │    66111 │ Saarbrücken │\n",
       "│ Gerhard   │ Graf     │ Rossauenstraße 5     │    66111 │ Saarbrücken │\n",
       "│ Gottfried │ Fuchs    │ Bergmannweg 7        │    66111 │ Saarbrücken │\n",
       "├───────────┴──────────┴──────────────────────┴──────────┴─────────────┤\n",
       "│ 10 rows                                                    5 columns │\n",
       "└──────────────────────────────────────────────────────────────────────┘"
      ]
     },
     "execution_count": 5,
     "metadata": {},
     "output_type": "execute_result"
    }
   ],
   "source": [
    "# join three tables citizens, livingIn, and households:\n",
    "duckdb.sql(\"\"\"\n",
    "SELECT citizens.firstname, citizens.lastname, households.street, households.postcode, households.city\n",
    "FROM citizens\n",
    "    JOIN livingIn ON citizens.id = livingIn.citizen_id\n",
    "    JOIN households ON households.id = livingIn.household_id\n",
    "WHERE livingIn.until IS NULL\n",
    "ORDER BY citizens.firstname\n",
    "LIMIT 10;\"\"\")"
   ]
  },
  {
   "cell_type": "markdown",
   "metadata": {},
   "source": [
    "## Count Inhabitants\n",
    "\n",
    "To search for hidden persons, we first need to know the number of (official) inhabitants of each household. This can be achieved by grouping over the id of the household and counting the number of citizen_id within each group."
   ]
  },
  {
   "cell_type": "code",
   "execution_count": 6,
   "metadata": {},
   "outputs": [],
   "source": [
    "# create view to show number of inhabitants per household\n",
    "# note that we do not need to join any table at this point\n",
    "\n",
    "duckdb.sql(\"DROP VIEW IF EXISTS inhabitantsPerHousehold;\")\n",
    "\n",
    "duckdb.sql(\"\"\"\n",
    "CREATE VIEW inhabitantsPerHousehold AS\n",
    "    SELECT livingIn.household_id AS household_id,\n",
    "        COUNT(*) AS numInhabitants\n",
    "    FROM livingIn\n",
    "    WHERE livingIn.until is NULL\n",
    "    GROUP BY livingIn.household_id;\"\"\")"
   ]
  },
  {
   "cell_type": "code",
   "execution_count": 7,
   "metadata": {},
   "outputs": [
    {
     "data": {
      "text/plain": [
       "┌──────────────┬────────────────┐\n",
       "│ household_id │ numInhabitants │\n",
       "│    int32     │     int64      │\n",
       "├──────────────┼────────────────┤\n",
       "│            1 │              2 │\n",
       "│            2 │              1 │\n",
       "│            3 │              2 │\n",
       "│            4 │              2 │\n",
       "│            5 │              4 │\n",
       "│            6 │              2 │\n",
       "│            7 │              1 │\n",
       "│            8 │              6 │\n",
       "│            9 │              3 │\n",
       "│           10 │              1 │\n",
       "│           11 │              3 │\n",
       "│           12 │              3 │\n",
       "│           13 │              5 │\n",
       "│           14 │              2 │\n",
       "│           15 │              3 │\n",
       "├──────────────┴────────────────┤\n",
       "│ 15 rows             2 columns │\n",
       "└───────────────────────────────┘"
      ]
     },
     "execution_count": 7,
     "metadata": {},
     "output_type": "execute_result"
    }
   ],
   "source": [
    "# display the result:\n",
    "duckdb.sql(\"\"\"\n",
    "SELECT *\n",
    "FROM inhabitantsPerHousehold;\"\"\")"
   ]
  },
  {
   "cell_type": "markdown",
   "metadata": {},
   "source": [
    "For each household also show the corresponding address:"
   ]
  },
  {
   "cell_type": "code",
   "execution_count": 8,
   "metadata": {},
   "outputs": [
    {
     "data": {
      "text/plain": [
       "┌───────┬────────────────┬──────────────────────────────┬──────────┬─────────────┐\n",
       "│  id   │ numInhabitants │            street            │ postcode │    city     │\n",
       "│ int32 │     int64      │           varchar            │  int32   │   varchar   │\n",
       "├───────┼────────────────┼──────────────────────────────┼──────────┼─────────────┤\n",
       "│     1 │              2 │ Königinstraße 25             │    66111 │ Saarbrücken │\n",
       "│     2 │              1 │ Königinstraße 25             │    66111 │ Saarbrücken │\n",
       "│     3 │              2 │ Ulrich-Weber-Straße 9        │    66111 │ Saarbrücken │\n",
       "│     4 │              2 │ Wiesenheimstraße 26          │    66111 │ Saarbrücken │\n",
       "│     5 │              4 │ Bodenschatzstraße 13         │    66111 │ Saarbrücken │\n",
       "│     6 │              2 │ Leisringstraße 13            │    66111 │ Saarbrücken │\n",
       "│     7 │              1 │ Leonissenstraße 29           │    66111 │ Saarbrücken │\n",
       "│     8 │              6 │ Passusgasse 7                │    66111 │ Saarbrücken │\n",
       "│     9 │              3 │ Rossauenstraße 5             │    66111 │ Saarbrücken │\n",
       "│    10 │              1 │ Graf-Johann-Ludwig-Straße 10 │    66111 │ Saarbrücken │\n",
       "│    11 │              3 │ Fischerstraße 6              │    66111 │ Saarbrücken │\n",
       "│    12 │              3 │ Simonisstraße 9              │    66111 │ Saarbrücken │\n",
       "│    13 │              5 │ Bergmannweg 7                │    66111 │ Saarbrücken │\n",
       "│    14 │              2 │ Korbinianstraße 13           │    66111 │ Saarbrücken │\n",
       "│    15 │              3 │ Orchideenstraße 8            │    66111 │ Saarbrücken │\n",
       "├───────┴────────────────┴──────────────────────────────┴──────────┴─────────────┤\n",
       "│ 15 rows                                                              5 columns │\n",
       "└────────────────────────────────────────────────────────────────────────────────┘"
      ]
     },
     "execution_count": 8,
     "metadata": {},
     "output_type": "execute_result"
    }
   ],
   "source": [
    "# based on view inhabitantsPerHouseholdalso show addresses\n",
    "# basically, we add a few more columns to inhabitantsPerHousehold:\n",
    "\n",
    "duckdb.sql(\"\"\"\n",
    "SELECT households.id, inhabitantsPerHousehold.numInhabitants, households.street, households.postcode, households.city\n",
    "FROM households\n",
    "    JOIN inhabitantsPerHousehold\n",
    "    ON inhabitantsPerHousehold.household_id = households.id;\"\"\")"
   ]
  },
  {
   "cell_type": "markdown",
   "metadata": {},
   "source": [
    "## Count Calories Per Household\n",
    "\n",
    "For simplicity, all food articles are measured in kilogram or litres. For simplicity we assume that one litre is equal to one kilogram. The nutritional values of the groceries are given in kcal per 100g. We further assume that all food purchases are consumed within the household of the citizen who bought it, i.e. there is no food sharing between households or similar things."
   ]
  },
  {
   "cell_type": "markdown",
   "metadata": {},
   "source": [
    "Define a view computing the number of calories purchased for each houshold and month. Notice that we have to extract the month from each date:"
   ]
  },
  {
   "cell_type": "code",
   "execution_count": 9,
   "metadata": {},
   "outputs": [],
   "source": [
    "# idea: join purchases, livingIn, and groceries;\n",
    "# then group by household_id AND month\n",
    "# as we do not need attributes from citizens and articles,\n",
    "# they do not have to be part of the join\n",
    "duckdb.sql(\"DROP VIEW IF EXISTS caloriesPerHouseholdAndMonth;\")\n",
    "\n",
    "duckdb.sql(\"\"\"\n",
    "CREATE VIEW caloriesPerHouseholdAndMonth AS\n",
    "    SELECT livingIn.household_id AS household_id, extract('month' from purchases.date) AS month, \n",
    "            ROUND(SUM(10 * purchases.amount * groceries.caloriesPer100g), 1) AS calories\n",
    "    FROM purchases\n",
    "        JOIN groceries ON groceries.id = purchases.article_id\n",
    "        JOIN livingIn ON livingIn.citizen_id = purchases.citizen_id\n",
    "    WHERE livingIn.until IS NULL\n",
    "    GROUP BY livingIn.household_id, extract('month' from purchases.date);\"\"\")"
   ]
  },
  {
   "cell_type": "code",
   "execution_count": 10,
   "metadata": {},
   "outputs": [
    {
     "data": {
      "text/plain": [
       "┌──────────────┬───────┬──────────┐\n",
       "│ household_id │ month │ calories │\n",
       "│    int32     │ int64 │  double  │\n",
       "├──────────────┼───────┼──────────┤\n",
       "│           13 │     9 │ 520500.7 │\n",
       "│            8 │     6 │ 439267.2 │\n",
       "│           13 │     7 │ 406861.8 │\n",
       "│            8 │     4 │ 399067.2 │\n",
       "│            8 │     8 │ 399026.8 │\n",
       "│            8 │     7 │ 399008.6 │\n",
       "│            8 │     9 │ 398986.1 │\n",
       "│            8 │     5 │ 398835.7 │\n",
       "│           13 │     5 │ 369754.8 │\n",
       "│           13 │     4 │ 369736.4 │\n",
       "├──────────────┴───────┴──────────┤\n",
       "│ 10 rows               3 columns │\n",
       "└─────────────────────────────────┘"
      ]
     },
     "execution_count": 10,
     "metadata": {},
     "output_type": "execute_result"
    }
   ],
   "source": [
    "# display the result:\n",
    "\n",
    "duckdb.sql(\"\"\"\n",
    "SELECT *\n",
    "FROM caloriesPerHouseholdAndMonth ORDER BY calories DESC LIMIT 10;\"\"\")"
   ]
  },
  {
   "cell_type": "markdown",
   "metadata": {},
   "source": [
    "We multiply by 10 as the nutritional values of the groceries are stored per 100g, however the items purchased are stored per 1000g."
   ]
  },
  {
   "cell_type": "markdown",
   "metadata": {},
   "source": [
    "Define a view ignoring the individual months and computing aggregates for the entire time period:"
   ]
  },
  {
   "cell_type": "code",
   "execution_count": 11,
   "metadata": {},
   "outputs": [],
   "source": [
    "# same as caloriesPerHouseholdAndMonth\n",
    "# but just grouping by household_id only:\n",
    "\n",
    "duckdb.sql(\"DROP VIEW IF EXISTS caloriesPerHousehold;\")\n",
    "\n",
    "duckdb.sql(\"\"\"\n",
    "CREATE VIEW caloriesPerHousehold AS \n",
    "    SELECT CPHM.household_id, ROUND(SUM(CPHM.calories), 1) AS calories\n",
    "    FROM caloriesPerHouseholdAndMonth CPHM\n",
    "    GROUP BY CPHM.household_id;\"\"\")"
   ]
  },
  {
   "cell_type": "code",
   "execution_count": 12,
   "metadata": {},
   "outputs": [
    {
     "data": {
      "text/plain": [
       "┌──────────────┬───────────┐\n",
       "│ household_id │ calories  │\n",
       "│    int32     │  double   │\n",
       "├──────────────┼───────────┤\n",
       "│            1 │  837750.5 │\n",
       "│            2 │  387827.9 │\n",
       "│            3 │  860416.1 │\n",
       "│            4 │  877853.8 │\n",
       "│            5 │ 1701924.6 │\n",
       "│            6 │  921482.8 │\n",
       "│            7 │ 1303957.5 │\n",
       "│            8 │ 2434191.6 │\n",
       "│            9 │ 1729525.2 │\n",
       "│           10 │  426283.6 │\n",
       "│           11 │ 1377200.9 │\n",
       "│           12 │ 1309073.3 │\n",
       "│           13 │ 2406120.7 │\n",
       "│           14 │  855309.2 │\n",
       "│           15 │ 1011035.9 │\n",
       "├──────────────┴───────────┤\n",
       "│ 15 rows        2 columns │\n",
       "└──────────────────────────┘"
      ]
     },
     "execution_count": 12,
     "metadata": {},
     "output_type": "execute_result"
    }
   ],
   "source": [
    "duckdb.sql(\"\"\"\n",
    "SELECT *\n",
    "FROM caloriesPerHousehold;\"\"\")"
   ]
  },
  {
   "cell_type": "markdown",
   "metadata": {},
   "source": [
    "Show total rounded calories per household for all available data in descending order:"
   ]
  },
  {
   "cell_type": "code",
   "execution_count": 13,
   "metadata": {
    "scrolled": false
   },
   "outputs": [
    {
     "data": {
      "text/plain": [
       "┌──────────────┬───────────────┐\n",
       "│ household_id │ totalCalories │\n",
       "│    int32     │    double     │\n",
       "├──────────────┼───────────────┤\n",
       "│            8 │     2434191.6 │\n",
       "│           13 │     2406120.7 │\n",
       "│            9 │     1729525.2 │\n",
       "│            5 │     1701924.6 │\n",
       "│           11 │     1377200.9 │\n",
       "│           12 │     1309073.3 │\n",
       "│            7 │     1303957.5 │\n",
       "│           15 │     1011035.9 │\n",
       "│            6 │      921482.8 │\n",
       "│            4 │      877853.8 │\n",
       "│            3 │      860416.1 │\n",
       "│           14 │      855309.2 │\n",
       "│            1 │      837750.5 │\n",
       "│           10 │      426283.6 │\n",
       "│            2 │      387827.9 │\n",
       "├──────────────┴───────────────┤\n",
       "│ 15 rows            2 columns │\n",
       "└──────────────────────────────┘"
      ]
     },
     "execution_count": 13,
     "metadata": {},
     "output_type": "execute_result"
    }
   ],
   "source": [
    "duckdb.sql(\"\"\"\n",
    "SELECT caloriesPerHousehold.household_id, ROUND(caloriesPerHousehold.calories, 1) AS totalCalories\n",
    "FROM caloriesPerHousehold\n",
    "ORDER BY caloriesPerHousehold.calories DESC;\"\"\")"
   ]
  },
  {
   "cell_type": "markdown",
   "metadata": {},
   "source": [
    "The pure amount of calories per household is however not meaningful for the task specified above. A large household with 5 or 6 inhabitants will by nature have a much larger consumption as a small household with only 1 or 2 inhabitants. The next step is therefore to compute the average amount of calories that each houshold consumes per day and inhabitant. "
   ]
  },
  {
   "cell_type": "markdown",
   "metadata": {},
   "source": [
    "## Daily Calories Per Inhabitant & Household\n",
    "\n",
    "We reuse the views defined before. The daily calories per household and inhabitant are computed by dividing the total calories of the household by the number of inhabitants and the number of days. As we are interested in households consuming on average much more than expected, we are ordering the results in decreasing order based on the average amount of calories."
   ]
  },
  {
   "cell_type": "code",
   "execution_count": 14,
   "metadata": {},
   "outputs": [
    {
     "data": {
      "text/plain": [
       "┌──────────────┬───────────┐\n",
       "│ household_id │ calories  │\n",
       "│    int32     │  double   │\n",
       "├──────────────┼───────────┤\n",
       "│            1 │  837750.5 │\n",
       "│            2 │  387827.9 │\n",
       "│            3 │  860416.1 │\n",
       "│            4 │  877853.8 │\n",
       "│            5 │ 1701924.6 │\n",
       "│            6 │  921482.8 │\n",
       "│            7 │ 1303957.5 │\n",
       "│            8 │ 2434191.6 │\n",
       "│            9 │ 1729525.2 │\n",
       "│           10 │  426283.6 │\n",
       "│           11 │ 1377200.9 │\n",
       "│           12 │ 1309073.3 │\n",
       "│           13 │ 2406120.7 │\n",
       "│           14 │  855309.2 │\n",
       "│           15 │ 1011035.9 │\n",
       "├──────────────┴───────────┤\n",
       "│ 15 rows        2 columns │\n",
       "└──────────────────────────┘"
      ]
     },
     "execution_count": 14,
     "metadata": {},
     "output_type": "execute_result"
    }
   ],
   "source": [
    "duckdb.sql(\"SELECT * FROM caloriesPerHousehold;\")"
   ]
  },
  {
   "cell_type": "code",
   "execution_count": 15,
   "metadata": {},
   "outputs": [
    {
     "data": {
      "text/plain": [
       "┌──────────────┬────────────────┬───────────────┬────────────────────────────┐\n",
       "│ household_id │ numInhabitants │ dailyCalories │ dailyCaloriesPerInhabitant │\n",
       "│    int32     │     int64      │    double     │           double           │\n",
       "├──────────────┼────────────────┼───────────────┼────────────────────────────┤\n",
       "│            7 │              1 │        7125.5 │                     7125.5 │\n",
       "│            9 │              3 │        9451.0 │                     3150.3 │\n",
       "│           13 │              5 │       13148.2 │                     2629.6 │\n",
       "│            6 │              2 │        5035.4 │                     2517.7 │\n",
       "│           11 │              3 │        7525.7 │                     2508.6 │\n",
       "│            4 │              2 │        4797.0 │                     2398.5 │\n",
       "│           12 │              3 │        7153.4 │                     2384.5 │\n",
       "│            3 │              2 │        4701.7 │                     2350.9 │\n",
       "│           14 │              2 │        4673.8 │                     2336.9 │\n",
       "│           10 │              1 │        2329.4 │                     2329.4 │\n",
       "│            5 │              4 │        9300.1 │                     2325.0 │\n",
       "│            1 │              2 │        4577.9 │                     2288.9 │\n",
       "│            8 │              6 │       13301.6 │                     2216.9 │\n",
       "│            2 │              1 │        2119.3 │                     2119.3 │\n",
       "│           15 │              3 │        5524.8 │                     1841.6 │\n",
       "├──────────────┴────────────────┴───────────────┴────────────────────────────┤\n",
       "│ 15 rows                                                          4 columns │\n",
       "└────────────────────────────────────────────────────────────────────────────┘"
      ]
     },
     "execution_count": 15,
     "metadata": {},
     "output_type": "execute_result"
    }
   ],
   "source": [
    "duckdb.sql(\"\"\"\n",
    "SELECT CPH.household_id AS household_id, IPH.numInhabitants,\n",
    "        ROUND(CPH.calories / 183, 1) AS dailyCalories, \n",
    "        ROUND(CPH.calories / IPH.numInhabitants / 183, 1) AS dailyCaloriesPerInhabitant\n",
    "FROM inhabitantsPerHousehold IPH\n",
    "    JOIN caloriesPerHousehold CPH\n",
    "    ON CPH.household_id = IPH.household_id\n",
    "ORDER BY dailyCaloriesPerInhabitant DESC;\"\"\")"
   ]
  },
  {
   "cell_type": "markdown",
   "metadata": {},
   "source": [
    "Recall: 183 is the total number of days covered by our fake dataset."
   ]
  },
  {
   "cell_type": "markdown",
   "metadata": {},
   "source": [
    "## Daily Calories Per Inhabitant\n",
    "\n",
    "To detect outliers, we need to know the average daily amount of calories consumed by each inhabitant of our city."
   ]
  },
  {
   "cell_type": "code",
   "execution_count": 16,
   "metadata": {},
   "outputs": [
    {
     "data": {
      "text/plain": [
       "┌────────────┐\n",
       "│  calories  │\n",
       "│   double   │\n",
       "├────────────┤\n",
       "│ 18439953.6 │\n",
       "└────────────┘"
      ]
     },
     "execution_count": 16,
     "metadata": {},
     "output_type": "execute_result"
    }
   ],
   "source": [
    "duckdb.sql(\"DROP VIEW IF EXISTS totalCalories;\")\n",
    "\n",
    "duckdb.sql(\"\"\"\n",
    "CREATE VIEW totalCalories AS\n",
    "    SELECT ROUND(SUM(caloriesPerHousehold.calories), 1) AS calories\n",
    "    FROM caloriesPerHousehold;\n",
    "    \n",
    "SELECT * FROM totalCalories;\"\"\")"
   ]
  },
  {
   "cell_type": "code",
   "execution_count": 17,
   "metadata": {},
   "outputs": [
    {
     "data": {
      "text/plain": [
       "┌────────────────┐\n",
       "│ numInhabitants │\n",
       "│     int128     │\n",
       "├────────────────┤\n",
       "│             40 │\n",
       "└────────────────┘"
      ]
     },
     "execution_count": 17,
     "metadata": {},
     "output_type": "execute_result"
    }
   ],
   "source": [
    "duckdb.sql(\"DROP VIEW IF EXISTS totalInhabitants;\")\n",
    "\n",
    "duckdb.sql(\"\"\"\n",
    "CREATE VIEW totalInhabitants AS\n",
    "    SELECT SUM(inhabitantsPerHousehold.numInhabitants) AS numInhabitants\n",
    "    FROM inhabitantsPerHousehold;\n",
    "\n",
    "SELECT * FROM totalInhabitants;\"\"\")"
   ]
  },
  {
   "cell_type": "code",
   "execution_count": 18,
   "metadata": {},
   "outputs": [],
   "source": [
    "duckdb.sql(\"DROP VIEW IF EXISTS averageCaloriesPerInhibitant;\")\n",
    "\n",
    "duckdb.sql(\"\"\"\n",
    "CREATE VIEW averageCaloriesPerInhibitant AS\n",
    "    SELECT ROUND(totalCalories.calories / totalInhabitants.numInhabitants / 183, 1) AS dailyCaloriesPerInhabitant\n",
    "    FROM totalCalories, totalInhabitants;\"\"\")"
   ]
  },
  {
   "cell_type": "code",
   "execution_count": 19,
   "metadata": {},
   "outputs": [
    {
     "data": {
      "text/plain": [
       "┌────────────────────────────┐\n",
       "│ dailyCaloriesPerInhabitant │\n",
       "│           double           │\n",
       "├────────────────────────────┤\n",
       "│                     2519.1 │\n",
       "└────────────────────────────┘"
      ]
     },
     "execution_count": 19,
     "metadata": {},
     "output_type": "execute_result"
    }
   ],
   "source": [
    "duckdb.sql(\"\"\"\n",
    "SELECT *\n",
    "FROM averageCaloriesPerInhibitant;\"\"\")"
   ]
  },
  {
   "cell_type": "markdown",
   "metadata": {},
   "source": [
    "Notice that this average is counted assuming 40 inhabitants where in fact there are more (hidden inhabitants). Hence this average is very likely too high."
   ]
  },
  {
   "cell_type": "markdown",
   "metadata": {},
   "source": [
    "## Detecting Outliers\n",
    "\n",
    "The number of calories each person consumes within each day is not strictly constant, but depends on age, gender and other factors such as physical work. For simplicity, we will assume for this exercise that each person consumes roughly 2500 kcal per day.\n",
    "\n",
    "Analyzing the results of the previous queries, we clearly see that the household with id 7 consumes 7125 kcal per day and inhabitant, nearly three times the expected value. Considering the fact that this household has only one official inhabitant, we can expect two hidden persons in this household."
   ]
  },
  {
   "cell_type": "markdown",
   "metadata": {},
   "source": [
    "For the household with id 9, we also see an increased consumption with roughly 3150 kcal per day and inhabitant. This is clearly more than expected. Considering the fact that this household has 3 official inhabitants, we would expect a consumption of roughly 7500 kcal per day for the complete household. However, we measured a consumption of 9451 kcal which is nearly the expected consumption of 4 persons. Based on the data, there is a high chance that one person is hidden in this household.\n",
    "\n",
    "For the remaining households, we only find slight deviations from the expected 2500 kcal per day and inhabitant. Values of less than 2700 kcal per day and inhabitant do not necessarily indicate the presence of hidden persons, but could also result from people having a hard physical work and therefore eating more than the average person."
   ]
  },
  {
   "cell_type": "markdown",
   "metadata": {},
   "source": [
    "## Beyond the Book: More Advanced Analysis Techniques\n",
    "\n",
    "Consider the following scenario: Based on lists of all inhabitants of Saarbrücken and their movements (some might have emigrated), you can identify persons which are hiding somewhere in the city. For the sake of simplicity, we assume that you know that (at the moment of this analysis) 6 persons are still missing and must live in one of the 15 households contained in our database.\n",
    "\n",
    "Based on the previous analysis steps, you already identified three of them. However, there are still three persons missing and you know for sure they did not leave the city and they do not receive food from somewhere outside these 15 households. The previous analysis steps clearly show that each of the other households more or less exactly consumes the expected amount of calories. How can these persons still hide in the city, apparently without eating?\n",
    "\n",
    "### Considering Age\n",
    "\n",
    "So far, we treated all persons equal, no matter which age or gender they have. However, this is not true in reality. A baby of less than two years will not consume a measurable amount of solid food bought by its parents. We should therefore exclude small babies when counting the inhabitants of each household. Remember: As we are following the example in the book, our analysis takes place on the 5th of october 1942. We are therefore looking for inhabitants born before the 5th of october 1940."
   ]
  },
  {
   "cell_type": "markdown",
   "metadata": {},
   "source": [
    "Define a view where we exclude inhibitants younger than two years, works as we assume that this analysis is done now, which is assumed to be Oct 5th, 1942:"
   ]
  },
  {
   "cell_type": "code",
   "execution_count": 20,
   "metadata": {},
   "outputs": [],
   "source": [
    "# new view definition:\n",
    "duckdb.sql(\"DROP VIEW IF EXISTS inhabitantsPerHouseholdExBabies;\")\n",
    "\n",
    "# we have to join with citizens to get the birthday that we want to filter on\n",
    "# DISTINCT shoul dnot make a difference in this case.\n",
    "duckdb.sql(\"\"\"\n",
    "CREATE VIEW inhabitantsPerHouseholdExBabies AS\n",
    "    SELECT livingIn.household_id AS household_id, COUNT(*) AS numInhabitants\n",
    "    FROM livingIn JOIN citizens ON citizens.id = livingIn.citizen_id\n",
    "    WHERE livingIn.until is NULL AND citizens.birthday < TIMESTAMP '1940-10-04 00:00:00'\n",
    "    GROUP BY livingIn.household_id;\"\"\")"
   ]
  },
  {
   "cell_type": "code",
   "execution_count": 21,
   "metadata": {},
   "outputs": [
    {
     "data": {
      "text/plain": [
       "┌───────┬────────────┬───────────┬─────────────────────┐\n",
       "│  id   │ firstname  │ lastname  │      birthday       │\n",
       "│ int32 │  varchar   │  varchar  │      timestamp      │\n",
       "├───────┼────────────┼───────────┼─────────────────────┤\n",
       "│     1 │ Herbert    │ Schmidt   │ 1897-04-23 00:00:00 │\n",
       "│     2 │ Wiltrud    │ Schmidt   │ 1898-07-11 00:00:00 │\n",
       "│     3 │ Gerhard    │ Graf      │ 1885-09-27 00:00:00 │\n",
       "│     4 │ Anna       │ Graf      │ 1885-11-03 00:00:00 │\n",
       "│     5 │ Willi      │ Graf      │ 1918-01-02 00:00:00 │\n",
       "│     6 │ Helene     │ Mueller   │ 1863-02-26 00:00:00 │\n",
       "│     7 │ Markus     │ Schneider │ 1879-06-21 00:00:00 │\n",
       "│     8 │ Pauline    │ Schneider │ 1880-01-06 00:00:00 │\n",
       "│     9 │ Vincent    │ Bauer     │ 1912-03-30 00:00:00 │\n",
       "│    10 │ Oskar      │ Meyer     │ 1909-07-17 00:00:00 │\n",
       "│     · │   ·        │   ·       │          ·          │\n",
       "│     · │   ·        │   ·       │          ·          │\n",
       "│     · │   ·        │   ·       │          ·          │\n",
       "│    31 │ Sebastian  │ Fuchs     │ 1876-11-03 00:00:00 │\n",
       "│    32 │ Hilde      │ Fuchs     │ 1879-02-15 00:00:00 │\n",
       "│    33 │ Gottfried  │ Fuchs     │ 1905-01-05 00:00:00 │\n",
       "│    34 │ Pia        │ Fuchs     │ 1907-07-29 00:00:00 │\n",
       "│    35 │ Hanne      │ Fuchs     │ 1932-10-13 00:00:00 │\n",
       "│    36 │ Wolfgang   │ Köhler    │ 1905-02-05 00:00:00 │\n",
       "│    37 │ Liselotte  │ Köhler    │ 1908-07-11 00:00:00 │\n",
       "│    38 │ Maximilian │ Wagner    │ 1903-05-18 00:00:00 │\n",
       "│    39 │ Regina     │ Wagner    │ 1903-06-17 00:00:00 │\n",
       "│    40 │ Margarethe │ Wagner    │ 1940-11-03 00:00:00 │\n",
       "├───────┴────────────┴───────────┴─────────────────────┤\n",
       "│ 40 rows (20 shown)                         4 columns │\n",
       "└──────────────────────────────────────────────────────┘"
      ]
     },
     "execution_count": 21,
     "metadata": {},
     "output_type": "execute_result"
    }
   ],
   "source": [
    "duckdb.sql(\"\"\"\n",
    "SELECT * FROM citizens;\"\"\")"
   ]
  },
  {
   "cell_type": "code",
   "execution_count": 22,
   "metadata": {},
   "outputs": [
    {
     "data": {
      "text/plain": [
       "┌──────────────┬────────────────┐\n",
       "│ household_id │ numInhabitants │\n",
       "│    int32     │     int64      │\n",
       "├──────────────┼────────────────┤\n",
       "│            1 │              2 │\n",
       "│            2 │              1 │\n",
       "│            3 │              2 │\n",
       "│            4 │              2 │\n",
       "│            5 │              4 │\n",
       "│            6 │              2 │\n",
       "│            7 │              1 │\n",
       "│            8 │              6 │\n",
       "│            9 │              3 │\n",
       "│           10 │              1 │\n",
       "│           11 │              2 │\n",
       "│           12 │              3 │\n",
       "│           13 │              5 │\n",
       "│           14 │              2 │\n",
       "│           15 │              2 │\n",
       "├──────────────┴────────────────┤\n",
       "│ 15 rows             2 columns │\n",
       "└───────────────────────────────┘"
      ]
     },
     "execution_count": 22,
     "metadata": {},
     "output_type": "execute_result"
    }
   ],
   "source": [
    "duckdb.sql(\"\"\"\n",
    "SELECT *\n",
    "FROM inhabitantsPerHouseholdExBabies;\"\"\")"
   ]
  },
  {
   "cell_type": "code",
   "execution_count": 23,
   "metadata": {},
   "outputs": [
    {
     "data": {
      "text/plain": [
       "┌───────────────────────┐\n",
       "│ sum(\"numInhabitants\") │\n",
       "│        int128         │\n",
       "├───────────────────────┤\n",
       "│                    38 │\n",
       "└───────────────────────┘"
      ]
     },
     "execution_count": 23,
     "metadata": {},
     "output_type": "execute_result"
    }
   ],
   "source": [
    "duckdb.sql(\"\"\"\n",
    "SELECT sum(numInhabitants)\n",
    "    FROM inhabitantsPerHouseholdExBabies;\"\"\")"
   ]
  },
  {
   "cell_type": "markdown",
   "metadata": {},
   "source": [
    "Same calories analysis as above, however, this time excluding inhabitants younger than two:"
   ]
  },
  {
   "cell_type": "code",
   "execution_count": 24,
   "metadata": {},
   "outputs": [
    {
     "data": {
      "text/plain": [
       "┌──────────────┬───────────────┬────────────────────────────┬────────────────────────────┐\n",
       "│ household_id │ dailyCalories │ dailyCaloriesPerInhabitant │ inhabitantsExcludingBabies │\n",
       "│    int32     │    double     │           double           │           int64            │\n",
       "├──────────────┼───────────────┼────────────────────────────┼────────────────────────────┤\n",
       "│            7 │        7125.5 │                     7125.5 │                          1 │\n",
       "│           11 │        7525.7 │                     3762.8 │                          2 │\n",
       "│            9 │        9451.0 │                     3150.3 │                          3 │\n",
       "│           15 │        5524.8 │                     2762.4 │                          2 │\n",
       "│           13 │       13148.2 │                     2629.6 │                          5 │\n",
       "│            6 │        5035.4 │                     2517.7 │                          2 │\n",
       "│            4 │        4797.0 │                     2398.5 │                          2 │\n",
       "│           12 │        7153.4 │                     2384.5 │                          3 │\n",
       "│            3 │        4701.7 │                     2350.9 │                          2 │\n",
       "│           14 │        4673.8 │                     2336.9 │                          2 │\n",
       "│           10 │        2329.4 │                     2329.4 │                          1 │\n",
       "│            5 │        9300.1 │                     2325.0 │                          4 │\n",
       "│            1 │        4577.9 │                     2288.9 │                          2 │\n",
       "│            8 │       13301.6 │                     2216.9 │                          6 │\n",
       "│            2 │        2119.3 │                     2119.3 │                          1 │\n",
       "├──────────────┴───────────────┴────────────────────────────┴────────────────────────────┤\n",
       "│ 15 rows                                                                      4 columns │\n",
       "└────────────────────────────────────────────────────────────────────────────────────────┘"
      ]
     },
     "execution_count": 24,
     "metadata": {},
     "output_type": "execute_result"
    }
   ],
   "source": [
    "duckdb.sql(\"\"\"\n",
    "SELECT CPH.household_id AS household_id, \n",
    "        ROUND(CPH.calories / 183, 1) AS dailyCalories, \n",
    "        ROUND(CPH.calories / IPHEB.numInhabitants / 183, 1) AS dailyCaloriesPerInhabitant, \n",
    "        IPHEB.numInhabitants AS inhabitantsExcludingBabies\n",
    "FROM caloriesPerHousehold CPH\n",
    "    JOIN inhabitantsPerHouseholdExBabies IPHEB ON IPHEB.household_id = CPH.household_id\n",
    "GROUP BY CPH.household_id, CPH.calories, IPHEB.numInhabitants\n",
    "ORDER BY dailyCaloriesPerInhabitant DESC;\"\"\")"
   ]
  },
  {
   "cell_type": "markdown",
   "metadata": {},
   "source": [
    "For the household with id 11, we see a dramatic change in average calories consumed. In the previous analysis step, we observed a value of 2508 kcal per inhabitant and day which we considered normal. Now we see a dramatic rise up to 3762 kcal per inhabitant and day. We would expect a consumption of roughly 5000 kcal per day for the complete household, maybe adding a few hundred kcal for the baby. However, we now measure roughly 7524 kcal for the complete household which can only be explained by a hidden person living there."
   ]
  },
  {
   "cell_type": "markdown",
   "metadata": {},
   "source": [
    "### Monthly Deviations\n",
    "\n",
    "In all previous analysis steps, we assumed that the number of inhabitants remains constant over time and argued about averages. This is a common analysis technique which can lead to useful information as we have already seen. However, sometimes it can also be misleading as we will see in the next example.\n",
    "\n",
    "We will now consider the difference between the maximum daily consumption per inhabitant and the average consumption over all months, measured in percent. For simplicity, we assume that each month has 30 days."
   ]
  },
  {
   "cell_type": "code",
   "execution_count": 25,
   "metadata": {},
   "outputs": [
    {
     "data": {
      "text/plain": [
       "┌──────────────┬─────────────────────────────────────────────────────────────────────────┐\n",
       "│ household_id │ round((((sum(\"CPHAM\".calories) / \"IPH\".\"numInhabitants\") / 30) / 6), 1) │\n",
       "│    int32     │                                 double                                  │\n",
       "├──────────────┼─────────────────────────────────────────────────────────────────────────┤\n",
       "│            1 │                                                                  2327.1 │\n",
       "│            2 │                                                                  2154.6 │\n",
       "│            3 │                                                                  2390.0 │\n",
       "│            4 │                                                                  2438.5 │\n",
       "│            5 │                                                                  2363.8 │\n",
       "│            6 │                                                                  2559.7 │\n",
       "│            7 │                                                                  7244.2 │\n",
       "│            8 │                                                                  2253.9 │\n",
       "│            9 │                                                                  3202.8 │\n",
       "│           10 │                                                                  2368.2 │\n",
       "│           11 │                                                                  2550.4 │\n",
       "│           12 │                                                                  2424.2 │\n",
       "│           13 │                                                                  2673.5 │\n",
       "│           14 │                                                                  2375.9 │\n",
       "│           15 │                                                                  1872.3 │\n",
       "├──────────────┴─────────────────────────────────────────────────────────────────────────┤\n",
       "│ 15 rows                                                                      2 columns │\n",
       "└────────────────────────────────────────────────────────────────────────────────────────┘"
      ]
     },
     "execution_count": 25,
     "metadata": {},
     "output_type": "execute_result"
    }
   ],
   "source": [
    "# first compute the total calories consumed in each household within the 180 days of data:\n",
    "duckdb.sql(\"\"\"\n",
    "select CPHAM.household_id, round(sum(CPHAM.calories)/IPH.numInhabitants/30/6,1)\n",
    "FROM caloriesPerHouseholdAndMonth CPHAM\n",
    "    JOIN inhabitantsPerHousehold IPH ON IPH.household_id = CPHAM.household_id\n",
    "GROUP BY CPHAM.household_id, IPH.numInhabitants;\"\"\")"
   ]
  },
  {
   "cell_type": "code",
   "execution_count": 26,
   "metadata": {},
   "outputs": [
    {
     "data": {
      "text/plain": [
       "┌──────────────┬─────────────────────────┐\n",
       "│ household_id │ round(sum(calories), 1) │\n",
       "│    int32     │         double          │\n",
       "├──────────────┼─────────────────────────┤\n",
       "│            1 │                837750.5 │\n",
       "│            2 │                387827.9 │\n",
       "│            3 │                860416.1 │\n",
       "│            4 │                877853.8 │\n",
       "│            5 │               1701924.6 │\n",
       "│            6 │                921482.8 │\n",
       "│            7 │               1303957.5 │\n",
       "│            8 │               2434191.6 │\n",
       "│            9 │               1729525.2 │\n",
       "│           10 │                426283.6 │\n",
       "│           11 │               1377200.9 │\n",
       "│           12 │               1309073.3 │\n",
       "│           13 │               2406120.7 │\n",
       "│           14 │                855309.2 │\n",
       "│           15 │               1011035.9 │\n",
       "├──────────────┴─────────────────────────┤\n",
       "│ 15 rows                      2 columns │\n",
       "└────────────────────────────────────────┘"
      ]
     },
     "execution_count": 26,
     "metadata": {},
     "output_type": "execute_result"
    }
   ],
   "source": [
    "duckdb.sql(\"\"\"\n",
    "SELECT CPHAM.household_id, ROUND(SUM(calories), 1)\n",
    "FROM caloriesPerHouseholdAndMonth CPHAM\n",
    "    JOIN inhabitantsPerHousehold IPH ON IPH.household_id = CPHAM.household_id\n",
    "GROUP BY CPHAM.household_id;\"\"\")"
   ]
  },
  {
   "cell_type": "markdown",
   "metadata": {},
   "source": [
    "For each household show the difference of average vs max calories consumed:"
   ]
  },
  {
   "cell_type": "code",
   "execution_count": 27,
   "metadata": {},
   "outputs": [
    {
     "data": {
      "text/plain": [
       "┌──────────────┬─────────────┬─────────────┬───────────────────┐\n",
       "│ household_id │ avgCalories │ maxCalories │ differencePercent │\n",
       "│    int32     │   double    │   double    │      double       │\n",
       "├──────────────┼─────────────┼─────────────┼───────────────────┤\n",
       "│           13 │      2673.5 │      3470.0 │             29.79 │\n",
       "│            6 │      2559.7 │      2780.7 │              8.64 │\n",
       "│           12 │      2424.2 │      2630.7 │              8.52 │\n",
       "│           11 │      2550.4 │      2765.5 │              8.44 │\n",
       "│            4 │      2438.5 │      2641.3 │              8.32 │\n",
       "│            8 │      2253.9 │      2440.4 │              8.27 │\n",
       "│           14 │      2375.9 │      2571.6 │              8.24 │\n",
       "│            5 │      2363.8 │      2557.5 │               8.2 │\n",
       "│            2 │      2154.6 │      2331.0 │              8.19 │\n",
       "│           15 │      1872.3 │      2025.0 │              8.16 │\n",
       "│            1 │      2327.1 │      2516.4 │              8.14 │\n",
       "│            3 │      2390.0 │      2584.5 │              8.14 │\n",
       "│            7 │      7244.2 │      7834.2 │              8.14 │\n",
       "│            9 │      3202.8 │      3463.2 │              8.13 │\n",
       "│           10 │      2368.2 │      2555.2 │              7.89 │\n",
       "├──────────────┴─────────────┴─────────────┴───────────────────┤\n",
       "│ 15 rows                                            4 columns │\n",
       "└──────────────────────────────────────────────────────────────┘"
      ]
     },
     "execution_count": 27,
     "metadata": {},
     "output_type": "execute_result"
    }
   ],
   "source": [
    "# idea for each household compute the difference in consumption over 6 months:\n",
    "duckdb.sql(\"\"\"\n",
    "SELECT CPHAM.household_id, \n",
    "        ROUND(AVG(CPHAM.calories / IPH.numInhabitants / 30), 1) AS avgCalories, \n",
    "        ROUND(MAX(CPHAM.calories / IPH.numInhabitants / 30), 1) AS maxCalories, \n",
    "        ROUND((MAX(CPHAM.calories) / AVG(CPHAM.calories) - 1) * 100, 2) AS differencePercent\n",
    "FROM caloriesPerHouseholdAndMonth CPHAM\n",
    "    JOIN inhabitantsPerHousehold IPH ON IPH.household_id = CPHAM.household_id\n",
    "GROUP BY CPHAM.household_id\n",
    "ORDER BY differencePercent DESC;\"\"\")"
   ]
  },
  {
   "cell_type": "markdown",
   "metadata": {},
   "source": [
    "Looking at the difference between the maximum consumption and the average consumption, we get additional information:\n",
    "For all but one household, the difference between the month with maximum consumption and the month with minimum consumption is around 8%. However, there is one household, namely id 13, which has a significantly higher difference of almost 30%. There is at least one month where this household had a significantly higher consumption compared to the average over all months.\n",
    "\n",
    "Let's inspect the consumption of household 13 in more detail:"
   ]
  },
  {
   "cell_type": "code",
   "execution_count": 28,
   "metadata": {},
   "outputs": [
    {
     "data": {
      "text/plain": [
       "┌──────────────┬───────┬──────────┬──────────────────────────┐\n",
       "│ household_id │ month │ calories │ avgCaloriesPerInhabitant │\n",
       "│    int32     │ int64 │  double  │          double          │\n",
       "├──────────────┼───────┼──────────┼──────────────────────────┤\n",
       "│           13 │     4 │  12324.5 │                   2464.9 │\n",
       "│           13 │     5 │  12325.2 │                   2465.0 │\n",
       "│           13 │     6 │  12317.9 │                   2463.6 │\n",
       "│           13 │     7 │  13562.1 │                   2712.4 │\n",
       "│           13 │     8 │  12324.3 │                   2464.9 │\n",
       "│           13 │     9 │  17350.0 │                   3470.0 │\n",
       "└──────────────┴───────┴──────────┴──────────────────────────┘"
      ]
     },
     "execution_count": 28,
     "metadata": {},
     "output_type": "execute_result"
    }
   ],
   "source": [
    "duckdb.sql(\"\"\"\n",
    "SELECT CPHAM.household_id, CPHAM.month, \n",
    "        ROUND(CPHAM.calories / 30, 1) AS calories,\n",
    "        ROUND(CPHAM.calories / IPH.numInhabitants / 30, 1) AS avgCaloriesPerInhabitant\n",
    "FROM caloriesPerHouseholdAndMonth CPHAM\n",
    "    JOIN inhabitantsPerHousehold IPH ON IPH.household_id = CPHAM.household_id\n",
    "WHERE CPHAM.household_id = 13\n",
    "GROUP BY CPHAM.household_id, CPHAM.month, CPHAM.calories, IPH.numInhabitants\n",
    "ORDER BY CPHAM.month ASC;\"\"\")"
   ]
  },
  {
   "cell_type": "markdown",
   "metadata": {},
   "source": [
    "The results show a nealy constant consumption for the first few months with a sudden increase in september 1942. The consumption of the complete household for this last month is roughly 17365 kcal, but we would expect only 12500 kcal. We can therefore assume that two persons are hidden in this household, at least for the last month."
   ]
  },
  {
   "cell_type": "markdown",
   "metadata": {},
   "source": [
    "to be continued..."
   ]
  }
 ],
 "metadata": {
  "kernelspec": {
   "display_name": "Python 3 (ipykernel)",
   "language": "python",
   "name": "python3"
  },
  "language_info": {
   "codemirror_mode": {
    "name": "ipython",
    "version": 3
   },
   "file_extension": ".py",
   "mimetype": "text/x-python",
   "name": "python",
   "nbconvert_exporter": "python",
   "pygments_lexer": "ipython3",
   "version": "3.10.11"
  },
  "varInspector": {
   "cols": {
    "lenName": 16,
    "lenType": 16,
    "lenVar": 40
   },
   "kernels_config": {
    "python": {
     "delete_cmd_postfix": "",
     "delete_cmd_prefix": "del ",
     "library": "var_list.py",
     "varRefreshCmd": "print(var_dic_list())"
    },
    "r": {
     "delete_cmd_postfix": ") ",
     "delete_cmd_prefix": "rm(",
     "library": "var_list.r",
     "varRefreshCmd": "cat(var_dic_list()) "
    }
   },
   "types_to_exclude": [
    "module",
    "function",
    "builtin_function_or_method",
    "instance",
    "_Feature"
   ],
   "window_display": false
  }
 },
 "nbformat": 4,
 "nbformat_minor": 2
}
