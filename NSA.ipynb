{
 "cells": [
  {
   "cell_type": "markdown",
   "metadata": {},
   "source": [
    "# NSA\n",
    "\n",
    "This notebook is based on the brilliant book by Andreas Eschbach: [\"NSA: Nationales Sicherheitsamt\"](https://www.amazon.de/dp/B07D18P88V/). \n",
    "\n",
    "\n",
    "The core idea of that book: imagine computers, the internet, and mobile phones developed roughly 70 years earlier, namely in the beginning of the 20th century. A special office called \"Nationales Sicherheitsamt (NSA)\" collects and analyzes data to identify potential \"risks\" for the nation. In the 1930s, the nazi regime takes control of the government and the NSA. Hence they get access to all that data and look for ways to abuse that data for their goals, especially the tracing of hidden jews and political opponents.\n",
    "\n",
    "In this notebook, we demonstrates the scenario described on the first 42 pages.\n",
    "\n",
    "**Notice**: This notebook based on Eschbachs fantastic book is a **warning**: seemingly useless/junk data when combined in the right way, can yield shocking insights. \n",
    "\n",
    "This scenario is **yet another example of the highly unpredictable \"big data arithmetic\": Joining apples with oranges may yield anything.**\n",
    "\n",
    "And you do not need any machine learning or artificial intelligence for this. SQL is enough, and even a relatively restricted subset of SQL (SQL 92), as supported by sqlite3 and used in this notebook, is enough in this case.\n",
    "\n",
    "Copyright Jens Dittrich & Christian Schön, [Big Data Analytics Group](https://bigdata.uni-saarland.de/), [CC-BY-SA](https://creativecommons.org/licenses/by-sa/4.0/legalcode)"
   ]
  },
  {
   "cell_type": "markdown",
   "metadata": {},
   "source": [
    "## Requirements\n",
    "\n",
    "This notebook is based on the sqlite3-kernel by Andrew Brownan which is [available on GitHub](https://github.com/brownan/sqlite3-kernel). As the kernel is based on the bash shell, it will only run on Unix systems, but not on Windows.\n",
    "\n",
    "The easiest way to use this notebook is to use our [vagrant file](https://github.com/BigDataAnalyticsGroup/python/blob/master/Vagrantfile) as explained [here](https://github.com/BigDataAnalyticsGroup/python/blob/master/Instructions.md).\n",
    "\n",
    "Alternatively, if you want to install the sqlite kernel yourself, follow these steps:\n",
    "1. Download the repository as zip file or clone it using git, if necessary unpack the archive.\n",
    "2. If you are using a virtual machine, copy the folder to a location accessible by the virtual machine, e.g. a shared folder. Run your virtual machine and if necessary start your python environment.\n",
    "3. Move to the folder containing the kernel and execute the following commands:\n",
    "  - python setup.py install\n",
    "  - python -m sqlite3_kernel.install\n",
    "  \n",
    "If the kernel was successfully installed, you should now be able to start jupyter notebook and select \"Sqlite3\" as notebook type for new notebooks. \n",
    "\n",
    "In case of problems, you can delete the kernel using the following steps:\n",
    "1. Look up the kernel name by executing the command: jupyter kernelspec list\n",
    "2. Delete the kernel: jupyter kernelspec uninstall kernel_name"
   ]
  },
  {
   "cell_type": "markdown",
   "metadata": {},
   "source": [
    "## Load Data\n",
    "\n",
    "Before we can start analyzing the data, we first have to load data from the corresponding csv files into an appropriate database schema. This is fake data."
   ]
  },
  {
   "cell_type": "code",
   "execution_count": 1,
   "metadata": {},
   "outputs": [
    {
     "name": "stdout",
     "output_type": "stream",
     "text": []
    }
   ],
   "source": [
    "PRAGMA foreign_keys = OFF;\n",
    "\n",
    "DROP TABLE IF EXISTS purchases;\n",
    "DROP TABLE IF EXISTS nutritionalValues;\n",
    "DROP TABLE IF EXISTS livingIn;\n",
    "DROP TABLE IF EXISTS households;\n",
    "DROP TABLE IF EXISTS citizens;\n",
    "DROP TABLE IF EXISTS articles;\n",
    "\n",
    "PRAGMA foreign_keys = ON;\n",
    "\n",
    "CREATE TABLE households (\n",
    "    id INTEGER PRIMARY KEY,\n",
    "    street TEXT,\n",
    "    postcode INTEGER,\n",
    "    city TEXT,\n",
    "    floor INTEGER\n",
    ");\n",
    "\n",
    "CREATE TABLE citizens (\n",
    "    id INTEGER PRIMARY KEY,\n",
    "    firstname TEXT,\n",
    "    lastname TEXT,\n",
    "    birthday TEXT\n",
    ");\n",
    "\n",
    "CREATE TABLE livingIn (\n",
    "    household_id INTEGER,\n",
    "    citizen_id INTEGER,\n",
    "    start TEXT,\n",
    "    until TEXT,\n",
    "    FOREIGN KEY(household_id) REFERENCES households(id),\n",
    "    FOREIGN KEY(citizen_id) REFERENCES citizens(id),\n",
    "    PRIMARY KEY(citizen_id, start, until)\n",
    ");\n",
    "\n",
    "CREATE TABLE articles (\n",
    "    id INTEGER PRIMARY KEY,\n",
    "    label TEXT,\n",
    "    unit INTEGER\n",
    ");\n",
    "\n",
    "CREATE TABLE nutritionalValues (\n",
    "    id INTEGER PRIMARY KEY,\n",
    "    calories INTEGER,\n",
    "    FOREIGN KEY(id) REFERENCES articles(id)\n",
    ");\n",
    "\n",
    "CREATE TABLE purchases (\n",
    "    article_id INTEGER,\n",
    "    citizen_id INTEGER,\n",
    "    date TEXT,\n",
    "    amount REAL,\n",
    "    FOREIGN KEY(article_id) REFERENCES articles(id),\n",
    "    FOREIGN KEY(citizen_id) REFERENCES citizens(id),\n",
    "    PRIMARY KEY(article_id, citizen_id, date)\n",
    ");"
   ]
  },
  {
   "cell_type": "code",
   "execution_count": 2,
   "metadata": {},
   "outputs": [
    {
     "name": "stdout",
     "output_type": "stream",
     "text": []
    }
   ],
   "source": [
    "-- enable csv mode:\n",
    ".mode csv\n",
    "\n",
    "-- import the necessary files:\n",
    ".import data/nsa/households_no_header.csv households\n",
    ".import data/nsa/citizens_no_header.csv citizens\n",
    ".import data/nsa/livingIn_no_header.csv livingIn\n",
    ".import data/nsa/articles_no_header.csv articles\n",
    ".import data/nsa/nutritionalValues_no_header.csv nutritionalValues\n",
    ".import data/nsa/purchases_no_header.csv purchases\n",
    "\n",
    "-- enable pretty formatting:\n",
    ".mode columns\n",
    ".headers on"
   ]
  },
  {
   "cell_type": "code",
   "execution_count": 3,
   "metadata": {
    "scrolled": false
   },
   "outputs": [
    {
     "name": "stdout",
     "output_type": "stream",
     "text": [
      "article_id  citizen_id  date                 amount    \r\n",
      "----------  ----------  -------------------  ----------\r\n",
      "22          1           1942-04-01 09:03:29  0.52      \r\n",
      "30          1           1942-04-01 09:03:29  0.54      \r\n",
      "26          1           1942-04-01 09:03:29  1.12      \r\n",
      "8           1           1942-04-01 09:03:29  0.65      \r\n",
      "14          1           1942-04-01 09:03:29  0.7       \r\n",
      "4           1           1942-04-01 09:03:29  0.84      \r\n",
      "33          1           1942-04-01 09:03:29  0.6       \r\n",
      "20          1           1942-04-01 09:03:29  1.14      \r\n",
      "32          1           1942-04-01 09:03:29  0.48      \r\n",
      "23          1           1942-04-01 09:03:29  0.75      \r\n"
     ]
    }
   ],
   "source": [
    "SELECT * from purchases limit 10"
   ]
  },
  {
   "cell_type": "markdown",
   "metadata": {},
   "source": [
    "The fake data consists of 15 households with 40 official inhabitants. For the purchases, each (adult) inhabitant can choose out of 33 different articles of food. The corresponding table covers data from 183 days (1942-04-01 to 1942-09-30). The example assumes that all analysis steps are done on the 5th of october 1942, as in the book by Andreas Eschbach."
   ]
  },
  {
   "cell_type": "markdown",
   "metadata": {},
   "source": [
    "## Show Schema of Table Citizens\n",
    "\n",
    "The command \".schema table_name\" outputs the SQL command used to generate this table. You can use it to determine the names of the attributes of a table and their datatypes. "
   ]
  },
  {
   "cell_type": "code",
   "execution_count": 4,
   "metadata": {
    "scrolled": true
   },
   "outputs": [
    {
     "name": "stdout",
     "output_type": "stream",
     "text": [
      "CREATE TABLE households (\r\n",
      "    id INTEGER PRIMARY KEY,\r\n",
      "    street TEXT,\r\n",
      "    postcode INTEGER,\r\n",
      "    city TEXT,\r\n",
      "    floor INTEGER\r\n",
      ");\r\n"
     ]
    }
   ],
   "source": [
    ".schema households"
   ]
  },
  {
   "cell_type": "code",
   "execution_count": 5,
   "metadata": {},
   "outputs": [
    {
     "name": "stdout",
     "output_type": "stream",
     "text": [
      "CREATE TABLE livingIn (\r\n",
      "    household_id INTEGER,\r\n",
      "    citizen_id INTEGER,\r\n",
      "    start TEXT,\r\n",
      "    until TEXT,\r\n",
      "    FOREIGN KEY(household_id) REFERENCES households(id),\r\n",
      "    FOREIGN KEY(citizen_id) REFERENCES citizens(id),\r\n",
      "    PRIMARY KEY(citizen_id, start, until)\r\n",
      ");\r\n"
     ]
    }
   ],
   "source": [
    ".schema livingin"
   ]
  },
  {
   "cell_type": "code",
   "execution_count": 6,
   "metadata": {},
   "outputs": [
    {
     "name": "stdout",
     "output_type": "stream",
     "text": [
      "household_id  citizen_id  start                until     \r\n",
      "------------  ----------  -------------------  ----------\r\n",
      "1             1           1902-02-14 00:00:00            \r\n",
      "1             2           1902-02-14 00:00:00            \r\n",
      "2             6           1894-11-03 00:00:00            \r\n",
      "3             7           1902-07-29 00:00:00  1929-08-31\r\n",
      "3             8           1903-01-04 00:00:00  1929-08-31\r\n",
      "3             9           1929-09-02 00:00:00            \r\n",
      "3             10          1929-09-02 00:00:00            \r\n",
      "4             17          1898-03-28 00:00:00  1929-06-13\r\n",
      "4             7           1929-09-01 00:00:00            \r\n",
      "4             8           1929-09-01 00:00:00            \r\n"
     ]
    }
   ],
   "source": [
    "SELECT *\n",
    "FROM livingin LIMIT 10;"
   ]
  },
  {
   "cell_type": "code",
   "execution_count": 7,
   "metadata": {},
   "outputs": [
    {
     "name": "stdout",
     "output_type": "stream",
     "text": [
      "id          firstname   lastname    birthday           \r\n",
      "----------  ----------  ----------  -------------------\r\n",
      "1           Herbert     Schmidt     1897-04-23 00:00:00\r\n",
      "2           Wiltrud     Schmidt     1898-07-11 00:00:00\r\n",
      "3           Gerhard     Graf        1885-09-27 00:00:00\r\n",
      "4           Anna        Graf        1885-11-03 00:00:00\r\n",
      "5           Willi       Graf        1918-01-02 00:00:00\r\n",
      "6           Helene      Mueller     1863-02-26 00:00:00\r\n",
      "7           Markus      Schneider   1879-06-21 00:00:00\r\n",
      "8           Pauline     Schneider   1880-01-06 00:00:00\r\n",
      "9           Vincent     Bauer       1912-03-30 00:00:00\r\n",
      "10          Oskar       Meyer       1909-07-17 00:00:00\r\n"
     ]
    }
   ],
   "source": [
    "SELECT *\n",
    "FROM citizens LIMIT 10;"
   ]
  },
  {
   "cell_type": "code",
   "execution_count": 8,
   "metadata": {},
   "outputs": [
    {
     "name": "stdout",
     "output_type": "stream",
     "text": [
      "id          street            postcode    city         floor     \r\n",
      "----------  ----------------  ----------  -----------  ----------\r\n",
      "1           Königinstraße 25  66111       Saarbrücken  1         \r\n",
      "2           Königinstraße 25  66111       Saarbrücken  2         \r\n",
      "3           Ulrich-Weber-Str  66111       Saarbrücken  1         \r\n",
      "4           Wiesenheimstraße  66111       Saarbrücken  3         \r\n",
      "5           Bodenschatzstraß  66111       Saarbrücken  1         \r\n",
      "6           Leisringstraße 1  66111       Saarbrücken  2         \r\n",
      "7           Leonissenstraße   66111       Saarbrücken  1         \r\n",
      "8           Passusgasse 7     66111       Saarbrücken  1         \r\n",
      "9           Rossauenstraße 5  66111       Saarbrücken  1         \r\n",
      "10          Graf-Johann-Ludw  66111       Saarbrücken  1         \r\n"
     ]
    }
   ],
   "source": [
    "SELECT *\n",
    "FROM households LIMIT 10;"
   ]
  },
  {
   "cell_type": "markdown",
   "metadata": {},
   "source": [
    "## Citizens & Households\n",
    "\n",
    "In a first step, we want to show the citizens and the households they currently live in. The current household can be determined by looking at the \"until\" attribute. If it is the empty string (remember: the fields are generated with datatype \"Text\"), the citizen currently lives in this household. If it is non-empty, the citizen lived here in the past."
   ]
  },
  {
   "cell_type": "code",
   "execution_count": 9,
   "metadata": {
    "scrolled": false
   },
   "outputs": [
    {
     "name": "stdout",
     "output_type": "stream",
     "text": [
      "firstname   lastname    street            postcode    city       \r\n",
      "----------  ----------  ----------------  ----------  -----------\r\n",
      "Herbert     Schmidt     Königinstraße 25  66111       Saarbrücken\r\n",
      "Wiltrud     Schmidt     Königinstraße 25  66111       Saarbrücken\r\n",
      "Helene      Mueller     Königinstraße 25  66111       Saarbrücken\r\n",
      "Vincent     Bauer       Ulrich-Weber-Str  66111       Saarbrücken\r\n",
      "Oskar       Meyer       Ulrich-Weber-Str  66111       Saarbrücken\r\n",
      "Markus      Schneider   Wiesenheimstraße  66111       Saarbrücken\r\n",
      "Pauline     Schneider   Wiesenheimstraße  66111       Saarbrücken\r\n",
      "Charlotte   Weber       Bodenschatzstraß  66111       Saarbrücken\r\n",
      "Emil        Weber       Bodenschatzstraß  66111       Saarbrücken\r\n",
      "Alfred      Weber       Bodenschatzstraß  66111       Saarbrücken\r\n"
     ]
    }
   ],
   "source": [
    "--- join three tables citizens, livingIn, and households:\n",
    "SELECT citizens.firstname, citizens.lastname, households.street, households.postcode, households.city\n",
    "FROM citizens\n",
    "    JOIN livingIn ON citizens.id = livingIn.citizen_id\n",
    "    JOIN households ON households.id = livingIn.household_id\n",
    "WHERE livingIn.until IS \"\"\n",
    "LIMIT 10;"
   ]
  },
  {
   "cell_type": "markdown",
   "metadata": {},
   "source": [
    "## Count Inhabitants\n",
    "\n",
    "To search for hidden persons, we first need to know the number of (official) inhabitants of each household. This can be achieved by grouping over the id of the household and counting the number of citizen_id within each group."
   ]
  },
  {
   "cell_type": "code",
   "execution_count": 10,
   "metadata": {},
   "outputs": [
    {
     "name": "stdout",
     "output_type": "stream",
     "text": []
    }
   ],
   "source": [
    "DROP VIEW IF EXISTS inhabitantsPerHousehold;\n",
    "\n",
    "-- create view to show number of inhabitants per household\n",
    "-- not that we do not need to join any table at this point\n",
    "CREATE VIEW inhabitantsPerHousehold AS\n",
    "    SELECT livingIn.household_id AS household_id,\n",
    "        COUNT(*) AS numInhabitants\n",
    "    FROM livingIn\n",
    "    WHERE livingIn.until is \"\"\n",
    "    GROUP BY livingIn.household_id;"
   ]
  },
  {
   "cell_type": "code",
   "execution_count": 11,
   "metadata": {},
   "outputs": [
    {
     "name": "stdout",
     "output_type": "stream",
     "text": [
      "household_id  numInhabitants\r\n",
      "------------  --------------\r\n",
      "1             2             \r\n",
      "2             1             \r\n",
      "3             2             \r\n",
      "4             2             \r\n",
      "5             4             \r\n",
      "6             2             \r\n",
      "7             1             \r\n",
      "8             6             \r\n",
      "9             3             \r\n",
      "10            1             \r\n",
      "11            3             \r\n",
      "12            3             \r\n",
      "13            5             \r\n",
      "14            2             \r\n",
      "15            3             \r\n"
     ]
    }
   ],
   "source": [
    "--- display the result:\n",
    "SELECT *\n",
    "FROM inhabitantsPerHousehold"
   ]
  },
  {
   "cell_type": "markdown",
   "metadata": {},
   "source": [
    "For each household also show the corresponding address:"
   ]
  },
  {
   "cell_type": "code",
   "execution_count": 12,
   "metadata": {},
   "outputs": [
    {
     "name": "stdout",
     "output_type": "stream",
     "text": [
      "id          numInhabitants  street            postcode    city       \r\n",
      "----------  --------------  ----------------  ----------  -----------\r\n",
      "1           2               Königinstraße 25  66111       Saarbrücken\r\n",
      "2           1               Königinstraße 25  66111       Saarbrücken\r\n",
      "3           2               Ulrich-Weber-Str  66111       Saarbrücken\r\n",
      "4           2               Wiesenheimstraße  66111       Saarbrücken\r\n",
      "5           4               Bodenschatzstraß  66111       Saarbrücken\r\n",
      "6           2               Leisringstraße 1  66111       Saarbrücken\r\n",
      "7           1               Leonissenstraße   66111       Saarbrücken\r\n",
      "8           6               Passusgasse 7     66111       Saarbrücken\r\n",
      "9           3               Rossauenstraße 5  66111       Saarbrücken\r\n",
      "10          1               Graf-Johann-Ludw  66111       Saarbrücken\r\n",
      "11          3               Fischerstraße 6   66111       Saarbrücken\r\n",
      "12          3               Simonisstraße 9   66111       Saarbrücken\r\n",
      "13          5               Bergmannweg 7     66111       Saarbrücken\r\n",
      "14          2               Korbinianstraße   66111       Saarbrücken\r\n",
      "15          3               Orchideenstraße   66111       Saarbrücken\r\n"
     ]
    }
   ],
   "source": [
    "-- based on view inhabitantsPerHouseholdalso show addresses\n",
    "-- basically, we add a few more columns to inhabitantsPerHousehold:\n",
    "SELECT households.id, inhabitantsPerHousehold.numInhabitants, households.street, households.postcode, households.city\n",
    "FROM households\n",
    "    JOIN inhabitantsPerHousehold\n",
    "    ON inhabitantsPerHousehold.household_id = households.id;"
   ]
  },
  {
   "cell_type": "markdown",
   "metadata": {},
   "source": [
    "## Count Calories Per Household\n",
    "\n",
    "For simplicity, all food articles are measured in kilogram or litres. For simplicity we assume that one litre is equal to one kilogram. The nutritional values are given in kcal per 100g. We further assume that all food purchases are consumed within the household of the citizen who bought it, i.e. there is no food sharing between households or similar things."
   ]
  },
  {
   "cell_type": "markdown",
   "metadata": {},
   "source": [
    "Define a view computing the number of calories purchased for each houshold and month. Notice that we have to extract the month from each date:"
   ]
  },
  {
   "cell_type": "code",
   "execution_count": 13,
   "metadata": {},
   "outputs": [
    {
     "name": "stdout",
     "output_type": "stream",
     "text": []
    }
   ],
   "source": [
    "DROP VIEW IF EXISTS caloriesPerHouseholdAndMonth;\n",
    "\n",
    "--- idea: join purchases, livingIn, and nutritionalValues;\n",
    "--- then group by household_id AND month\n",
    "--- as we do not need attributes from citizens and articles,\n",
    "--- they do not have to be part of the join\n",
    "CREATE VIEW caloriesPerHouseholdAndMonth AS\n",
    "    SELECT livingIn.household_id AS household_id, strftime('%m', purchases.date) AS month, \n",
    "            SUM(10 * purchases.amount * nutritionalValues.calories) AS calories\n",
    "    FROM purchases\n",
    "        JOIN nutritionalValues ON nutritionalValues.id = purchases.article_id\n",
    "        JOIN livingIn ON livingIn.citizen_id = purchases.citizen_id\n",
    "    WHERE livingIn.until IS \"\"\n",
    "    GROUP BY livingIn.household_id, strftime('%m', purchases.date);"
   ]
  },
  {
   "cell_type": "code",
   "execution_count": 14,
   "metadata": {},
   "outputs": [
    {
     "name": "stdout",
     "output_type": "stream",
     "text": [
      "household_id  month       calories  \r\n",
      "------------  ----------  ----------\r\n",
      "1             04          137214.2  \r\n",
      "1             05          137731.5  \r\n",
      "1             06          137151.0  \r\n",
      "1             07          150984.9  \r\n",
      "1             08          137470.0  \r\n",
      "1             09          137198.9  \r\n",
      "2             04          63414.0   \r\n",
      "2             05          63479.8   \r\n",
      "2             06          69929.8   \r\n",
      "2             07          63770.7   \r\n"
     ]
    }
   ],
   "source": [
    "--- display the result:\n",
    "SELECT *\n",
    "FROM caloriesPerHouseholdAndMonth LIMIT 10;"
   ]
  },
  {
   "cell_type": "markdown",
   "metadata": {},
   "source": [
    "We multiply by 10 as the nutritional values are stored per 100g, however the items purchased are stored by 1000g."
   ]
  },
  {
   "cell_type": "markdown",
   "metadata": {},
   "source": [
    "Define a view ignoring the individual months and computing aggregates for the entire time period:"
   ]
  },
  {
   "cell_type": "code",
   "execution_count": 15,
   "metadata": {},
   "outputs": [
    {
     "name": "stdout",
     "output_type": "stream",
     "text": []
    }
   ],
   "source": [
    "DROP VIEW IF EXISTS caloriesPerHousehold;\n",
    "\n",
    "-- same as caloriesPerHouseholdAndMonth\n",
    "--- but just grouping by household_id only:\n",
    "CREATE VIEW caloriesPerHousehold AS \n",
    "    SELECT CPHM.household_id, SUM(CPHM.calories) AS calories\n",
    "    FROM caloriesPerHouseholdAndMonth CPHM\n",
    "    GROUP BY CPHM.household_id;"
   ]
  },
  {
   "cell_type": "code",
   "execution_count": 16,
   "metadata": {},
   "outputs": [
    {
     "name": "stdout",
     "output_type": "stream",
     "text": [
      "household_id  calories  \r\n",
      "------------  ----------\r\n",
      "1             837750.5  \r\n",
      "2             387827.9  \r\n",
      "3             860416.1  \r\n",
      "4             877853.8  \r\n",
      "5             1701924.6 \r\n",
      "6             921482.8  \r\n",
      "7             1303957.5 \r\n",
      "8             2434191.6 \r\n",
      "9             1729525.2 \r\n",
      "10            426283.6  \r\n",
      "11            1377200.9 \r\n",
      "12            1309073.3 \r\n",
      "13            2406120.7 \r\n",
      "14            855309.2  \r\n",
      "15            1011035.9 \r\n"
     ]
    }
   ],
   "source": [
    "SELECT *\n",
    "FROM caloriesPerHousehold"
   ]
  },
  {
   "cell_type": "markdown",
   "metadata": {},
   "source": [
    "Show total rounded calories per household for all available data in descending order:"
   ]
  },
  {
   "cell_type": "code",
   "execution_count": 17,
   "metadata": {
    "scrolled": true
   },
   "outputs": [
    {
     "name": "stdout",
     "output_type": "stream",
     "text": [
      "household_id  totalCalories\r\n",
      "------------  -------------\r\n",
      "8             2434191.6    \r\n",
      "13            2406120.7    \r\n",
      "9             1729525.2    \r\n",
      "5             1701924.6    \r\n",
      "11            1377200.9    \r\n",
      "12            1309073.3    \r\n",
      "7             1303957.5    \r\n",
      "15            1011035.9    \r\n",
      "6             921482.8     \r\n",
      "4             877853.8     \r\n",
      "3             860416.1     \r\n",
      "14            855309.2     \r\n",
      "1             837750.5     \r\n",
      "10            426283.6     \r\n",
      "2             387827.9     \r\n"
     ]
    }
   ],
   "source": [
    "SELECT caloriesPerHousehold.household_id, ROUND(caloriesPerHousehold.calories, 5) AS totalCalories\n",
    "FROM caloriesPerHousehold\n",
    "ORDER BY caloriesPerHousehold.calories DESC;"
   ]
  },
  {
   "cell_type": "markdown",
   "metadata": {},
   "source": [
    "The pure amount of calories per household is however not meaningful for the task specified above. A large household with 5 or 6 inhabitants will by nature have a much larger consumption as a small household with only 1 or 2 inhabitants. The next step is therefore to compute the average amount of calories that each houshold consumes per day and inhabitant. "
   ]
  },
  {
   "cell_type": "markdown",
   "metadata": {},
   "source": [
    "## Daily Calories Per Inhabitant & Household\n",
    "\n",
    "We reuse the views defined before. The daily calories per household and inhabitant are computed by dividing the total calories of the household by the number of inhabitants and the number of days. As we are interested in households consuming on average much more than expected, we are ordering the results in decreasing order based on the average amount of calories."
   ]
  },
  {
   "cell_type": "code",
   "execution_count": 18,
   "metadata": {},
   "outputs": [
    {
     "name": "stdout",
     "output_type": "stream",
     "text": [
      "household_id  calories  \r\n",
      "------------  ----------\r\n",
      "1             837750.5  \r\n",
      "2             387827.9  \r\n",
      "3             860416.1  \r\n",
      "4             877853.8  \r\n",
      "5             1701924.6 \r\n",
      "6             921482.8  \r\n",
      "7             1303957.5 \r\n",
      "8             2434191.6 \r\n",
      "9             1729525.2 \r\n",
      "10            426283.6  \r\n",
      "11            1377200.9 \r\n",
      "12            1309073.3 \r\n",
      "13            2406120.7 \r\n",
      "14            855309.2  \r\n",
      "15            1011035.9 \r\n"
     ]
    }
   ],
   "source": [
    "SELECT * FROM caloriesPerHousehold"
   ]
  },
  {
   "cell_type": "code",
   "execution_count": 19,
   "metadata": {},
   "outputs": [
    {
     "name": "stdout",
     "output_type": "stream",
     "text": [
      "household_id  numInhabitants  dailyCalories  dailyCaloriesPerInhabitant\r\n",
      "------------  --------------  -------------  --------------------------\r\n",
      "7             1               7125.5         7125.5                    \r\n",
      "9             3               9451.0         3150.3                    \r\n",
      "13            5               13148.2        2629.6                    \r\n",
      "6             2               5035.4         2517.7                    \r\n",
      "11            3               7525.7         2508.6                    \r\n",
      "4             2               4797.0         2398.5                    \r\n",
      "12            3               7153.4         2384.5                    \r\n",
      "3             2               4701.7         2350.9                    \r\n",
      "14            2               4673.8         2336.9                    \r\n",
      "10            1               2329.4         2329.4                    \r\n",
      "5             4               9300.1         2325.0                    \r\n",
      "1             2               4577.9         2288.9                    \r\n",
      "8             6               13301.6        2216.9                    \r\n",
      "2             1               2119.3         2119.3                    \r\n",
      "15            3               5524.8         1841.6                    \r\n"
     ]
    }
   ],
   "source": [
    "SELECT CPH.household_id AS household_id, IPH.numInhabitants,\n",
    "        ROUND(CPH.calories / 183, 1) AS dailyCalories, \n",
    "        ROUND(CPH.calories / IPH.numInhabitants / 183, 1) AS dailyCaloriesPerInhabitant\n",
    "FROM inhabitantsPerHousehold IPH\n",
    "    JOIN caloriesPerHousehold CPH\n",
    "    ON CPH.household_id = IPH.household_id\n",
    "ORDER BY dailyCaloriesPerInhabitant DESC;"
   ]
  },
  {
   "cell_type": "markdown",
   "metadata": {},
   "source": [
    "Recall: 183 is the total number of days covered by our fake dataset."
   ]
  },
  {
   "cell_type": "markdown",
   "metadata": {},
   "source": [
    "## Daily Calories Per Inhabitant\n",
    "\n",
    "To detect outliers, we need to know the average daily amount of calories consumed by each inhabitant of our city."
   ]
  },
  {
   "cell_type": "code",
   "execution_count": 20,
   "metadata": {},
   "outputs": [
    {
     "name": "stdout",
     "output_type": "stream",
     "text": [
      "calories  \r\n",
      "----------\r\n",
      "18439953.6\r\n"
     ]
    }
   ],
   "source": [
    "DROP VIEW IF EXISTS totalCalories;\n",
    "\n",
    "CREATE VIEW totalCalories AS\n",
    "    SELECT SUM(caloriesPerHousehold.calories) AS calories\n",
    "    FROM caloriesPerHousehold;\n",
    "    \n",
    "SELECT * FROM totalCalories;"
   ]
  },
  {
   "cell_type": "code",
   "execution_count": 21,
   "metadata": {},
   "outputs": [
    {
     "name": "stdout",
     "output_type": "stream",
     "text": [
      "numInhabitants\r\n",
      "--------------\r\n",
      "40            \r\n"
     ]
    }
   ],
   "source": [
    "DROP VIEW IF EXISTS totalInhabitants;\n",
    "\n",
    "CREATE VIEW totalInhabitants AS\n",
    "    SELECT SUM(inhabitantsPerHousehold.numInhabitants) AS numInhabitants\n",
    "    FROM inhabitantsPerHousehold;\n",
    "\n",
    "SELECT * FROM totalInhabitants;"
   ]
  },
  {
   "cell_type": "code",
   "execution_count": 22,
   "metadata": {},
   "outputs": [
    {
     "name": "stdout",
     "output_type": "stream",
     "text": []
    }
   ],
   "source": [
    "DROP VIEW IF EXISTS averageCaloriesPerInhibitant;\n",
    "\n",
    "CREATE VIEW averageCaloriesPerInhibitant AS\n",
    "    SELECT ROUND(totalCalories.calories / totalInhabitants.numInhabitants / 183, 1) AS dailyCaloriesPerInhabitant\n",
    "    FROM totalCalories, totalInhabitants;"
   ]
  },
  {
   "cell_type": "code",
   "execution_count": 23,
   "metadata": {},
   "outputs": [
    {
     "name": "stdout",
     "output_type": "stream",
     "text": [
      "dailyCaloriesPerInhabitant\r\n",
      "--------------------------\r\n",
      "2519.1                    \r\n"
     ]
    }
   ],
   "source": [
    "SELECT *\n",
    "FROM averageCaloriesPerInhibitant;"
   ]
  },
  {
   "cell_type": "markdown",
   "metadata": {},
   "source": [
    "Notice that this average is counted assuming 40 inhabitants where in fact there are more (hidden inhabitants). Hence this average is very likely too high."
   ]
  },
  {
   "cell_type": "markdown",
   "metadata": {},
   "source": [
    "## Detecting Outliers\n",
    "\n",
    "The number of calories each person consumes within each day is not strictly constant, but depends on age, gender and other factors such as physical work. For simplicity, we will assume for this exercise that each person consumes roughly 2500 kcal per day.\n",
    "\n",
    "Analyzing the results of the previous queries, we clearly see that the household with id 7 consumes 7125 kcal per day and inhabitant, nearly three times the expected value. Considering the fact that this household has only one official inhabitant, we can expect two hidden persons in this household."
   ]
  },
  {
   "cell_type": "markdown",
   "metadata": {},
   "source": [
    "For the household with id 9, we also see an increased consumption with roughly 3150 kcal per day and inhabitant. This is clearly more than expected. Considering the fact that this household has 3 official inhabitants, we would expect a consumption of roughly 7500 kcal per day for the complete household. However, we measured a consumption of 9451 kcal which is nearly the expected consumption of 4 persons. Based on the data, there is a high chance that one person is hidden in this household.\n",
    "\n",
    "For the remaining households, we only find slight deviations from the expected 2500 kcal per day and inhabitant. Values of less than 2700 kcal per day and inhabitant do not necessarily indicate the presence of hidden persons, but could also result from people having a hard physical work and therefore eating more than the average person."
   ]
  },
  {
   "cell_type": "markdown",
   "metadata": {},
   "source": [
    "## Beyond the Book: More Advanced Analysis Techniques\n",
    "\n",
    "Consider the following scenario: Based on lists of all inhabitants of Saarbrücken and their movements (some might have emigrated), you can identify persons which are hiding somewhere in the city. For the sake of simplicity, we assume that you know that (at the moment of this analysis) 6 persons are still missing and must live in one of the 15 households contained in our database.\n",
    "\n",
    "Based on the previous analysis steps, you already identified three of them. However, there are still three persons missing and you know for sure they did not leave the city and they do not receive food from somewhere outside these 15 households. The previous analysis steps clearly show that each of the other households more or less exactly consumes the expected amount of calories. How can these persons still hide in the city, apparently without eating?\n",
    "\n",
    "### Considering Age\n",
    "\n",
    "So far, we treated all persons equal, no matter which age or gender they have. However, this is not true in reality. A baby of less than two years will not consume a measurable amount of solid food bought by its parents. We should therefore exclude small babies when counting the inhabitants of each household. Remember: As we are following the example in the book, our analysis takes place on the 5th of october 1942. We are therefore looking for inhabitants born before the 5th of october 1940."
   ]
  },
  {
   "cell_type": "markdown",
   "metadata": {},
   "source": [
    "Define a view where we exclude inhibitants younger than two years, works as we assume that this analysis is done now, which is assumed to be Oct 5th, 1942:"
   ]
  },
  {
   "cell_type": "code",
   "execution_count": 24,
   "metadata": {},
   "outputs": [
    {
     "name": "stdout",
     "output_type": "stream",
     "text": []
    }
   ],
   "source": [
    "--- new view definition:\n",
    "DROP VIEW IF EXISTS inhabitantsPerHouseholdExBabies;\n",
    "\n",
    "--- we have to join with citizens to get the birthday that we want to filter on\n",
    "--- DISTINCT shoul dnot make a difference in this case.\n",
    "CREATE VIEW inhabitantsPerHouseholdExBabies AS\n",
    "    SELECT livingIn.household_id AS household_id, COUNT(*) AS numInhabitants\n",
    "    FROM livingIn JOIN citizens ON citizens.id = livingIn.citizen_id\n",
    "    WHERE livingIn.until is \"\" AND citizens.birthday < \"1940-10-05 00:00:00\"\n",
    "    GROUP BY livingIn.household_id;"
   ]
  },
  {
   "cell_type": "code",
   "execution_count": 25,
   "metadata": {},
   "outputs": [
    {
     "name": "stdout",
     "output_type": "stream",
     "text": [
      "id          firstname   lastname    birthday           \r\n",
      "----------  ----------  ----------  -------------------\r\n",
      "1           Herbert     Schmidt     1897-04-23 00:00:00\r\n",
      "2           Wiltrud     Schmidt     1898-07-11 00:00:00\r\n",
      "3           Gerhard     Graf        1885-09-27 00:00:00\r\n",
      "4           Anna        Graf        1885-11-03 00:00:00\r\n",
      "5           Willi       Graf        1918-01-02 00:00:00\r\n",
      "6           Helene      Mueller     1863-02-26 00:00:00\r\n",
      "7           Markus      Schneider   1879-06-21 00:00:00\r\n",
      "8           Pauline     Schneider   1880-01-06 00:00:00\r\n",
      "9           Vincent     Bauer       1912-03-30 00:00:00\r\n",
      "10          Oskar       Meyer       1909-07-17 00:00:00\r\n",
      "11          Charlotte   Weber       1897-09-15 00:00:00\r\n",
      "12          Emil        Weber       1896-11-24 00:00:00\r\n",
      "13          Alfred      Weber       1927-03-29 00:00:00\r\n",
      "14          Emma        Weber       1928-12-08 00:00:00\r\n",
      "15          Karl        Neumann     1893-10-15 00:00:00\r\n",
      "16          Viktoria    Neumann     1893-08-05 00:00:00\r\n",
      "17          Fritz       Wolf        1903-07-31 00:00:00\r\n",
      "18          Wilhelm     Huber       1874-02-24 00:00:00\r\n",
      "19          Marie       Huber       1899-05-21 00:00:00\r\n",
      "20          Peter       Huber       1898-07-12 00:00:00\r\n",
      "21          Luisa       Huber       1925-08-19 00:00:00\r\n",
      "22          Mathilda    Huber       1928-06-11 00:00:00\r\n",
      "23          Otto        Huber       1934-01-27 00:00:00\r\n",
      "24          Johann      Richter     1917-04-28 00:00:00\r\n",
      "25          Robert      Braun       1904-08-06 00:00:00\r\n",
      "26          Frieda      Braun       1904-04-14 00:00:00\r\n",
      "27          Konrad      Braun       1941-02-08 00:00:00\r\n",
      "28          Theresa     Herrmann    1888-12-03 00:00:00\r\n",
      "29          Theodor     Herrmann    1888-05-24 00:00:00\r\n",
      "30          Berta       Herrmann    1937-08-17 00:00:00\r\n",
      "31          Sebastian   Fuchs       1876-11-03 00:00:00\r\n",
      "32          Hilde       Fuchs       1879-02-15 00:00:00\r\n",
      "33          Gottfried   Fuchs       1905-01-05 00:00:00\r\n",
      "34          Pia         Fuchs       1907-07-29 00:00:00\r\n",
      "35          Hanne       Fuchs       1932-10-13 00:00:00\r\n",
      "36          Wolfgang    Köhler      1905-02-05 00:00:00\r\n",
      "37          Liselotte   Köhler      1908-07-11 00:00:00\r\n",
      "38          Maximilian  Wagner      1903-05-18 00:00:00\r\n",
      "39          Regina      Wagner      1903-06-17 00:00:00\r\n",
      "40          Margarethe  Wagner      1940-11-03 00:00:00\r\n"
     ]
    }
   ],
   "source": [
    "select * from citizens"
   ]
  },
  {
   "cell_type": "code",
   "execution_count": 26,
   "metadata": {},
   "outputs": [
    {
     "name": "stdout",
     "output_type": "stream",
     "text": [
      "household_id  numInhabitants\r\n",
      "------------  --------------\r\n",
      "1             2             \r\n",
      "2             1             \r\n",
      "3             2             \r\n",
      "4             2             \r\n",
      "5             4             \r\n",
      "6             2             \r\n",
      "7             1             \r\n",
      "8             6             \r\n",
      "9             3             \r\n",
      "10            1             \r\n",
      "11            2             \r\n",
      "12            3             \r\n",
      "13            5             \r\n",
      "14            2             \r\n",
      "15            2             \r\n"
     ]
    }
   ],
   "source": [
    "SELECT *\n",
    "FROM inhabitantsPerHouseholdExBabies;"
   ]
  },
  {
   "cell_type": "code",
   "execution_count": 27,
   "metadata": {},
   "outputs": [
    {
     "name": "stdout",
     "output_type": "stream",
     "text": [
      "sum(numInhabitants)\r\n",
      "-------------------\r\n",
      "38                 \r\n"
     ]
    }
   ],
   "source": [
    "SELECT sum(numInhabitants)\n",
    "    FROM inhabitantsPerHouseholdExBabies"
   ]
  },
  {
   "cell_type": "markdown",
   "metadata": {},
   "source": [
    "Same calories analysis as above, however, this time excluding inhabitants younger than two:"
   ]
  },
  {
   "cell_type": "code",
   "execution_count": 28,
   "metadata": {},
   "outputs": [
    {
     "name": "stdout",
     "output_type": "stream",
     "text": [
      "household_id  dailyCalories  dailyCaloriesPerInhabitant  inhabitantsExcludingBabies\r\n",
      "------------  -------------  --------------------------  --------------------------\r\n",
      "7             7125.5         7125.5                      1                         \r\n",
      "11            7525.7         3762.8                      2                         \r\n",
      "9             9451.0         3150.3                      3                         \r\n",
      "15            5524.8         2762.4                      2                         \r\n",
      "13            13148.2        2629.6                      5                         \r\n",
      "6             5035.4         2517.7                      2                         \r\n",
      "4             4797.0         2398.5                      2                         \r\n",
      "12            7153.4         2384.5                      3                         \r\n",
      "3             4701.7         2350.9                      2                         \r\n",
      "14            4673.8         2336.9                      2                         \r\n",
      "10            2329.4         2329.4                      1                         \r\n",
      "5             9300.1         2325.0                      4                         \r\n",
      "1             4577.9         2288.9                      2                         \r\n",
      "8             13301.6        2216.9                      6                         \r\n",
      "2             2119.3         2119.3                      1                         \r\n"
     ]
    }
   ],
   "source": [
    "SELECT CPH.household_id AS household_id, \n",
    "        ROUND(CPH.calories / 183, 1) AS dailyCalories, \n",
    "        ROUND(CPH.calories / IPHEB.numInhabitants / 183, 1) AS dailyCaloriesPerInhabitant, \n",
    "        IPHEB.numInhabitants AS inhabitantsExcludingBabies\n",
    "FROM caloriesPerHousehold CPH\n",
    "    JOIN inhabitantsPerHouseholdExBabies IPHEB ON IPHEB.household_id = CPH.household_id\n",
    "GROUP BY CPH.household_id\n",
    "ORDER BY dailyCaloriesPerInhabitant DESC;"
   ]
  },
  {
   "cell_type": "markdown",
   "metadata": {},
   "source": [
    "For the household with id 11, we see a dramatic change in average calories consumed. In the previous analysis step, we observed a value of 2508 kcal per inhabitant and day which we considered normal. Now we see a dramatic rise up to 3762 kcal per inhabitant and day. We would expect a consumption of roughly 5000 kcal per day for the complete household, maybe adding a few hundred kcal for the baby. However, we now measure roughly 7524 kcal for the complete household which can only be explained by a hidden person living there."
   ]
  },
  {
   "cell_type": "markdown",
   "metadata": {},
   "source": [
    "### Monthly Deviations\n",
    "\n",
    "In all previous analysis steps, we assumed that the number of inhabitants remains constant over time and argued about averages. This is a common analysis technique which can lead to useful information as we have already seen. However, sometimes it can also be misleading as we will see in the next example.\n",
    "\n",
    "We will now consider the difference between the maximum daily consumption per inhabitant and the average consumption over all months, measured in percent. For simplicity, we assume that each month has 30 days."
   ]
  },
  {
   "cell_type": "code",
   "execution_count": 29,
   "metadata": {},
   "outputs": [
    {
     "name": "stdout",
     "output_type": "stream",
     "text": [
      "household_id  round(sum(CPHAM.calories)/IPH.numInhabitants/30/6,1)\r\n",
      "------------  ----------------------------------------------------\r\n",
      "1             2327.1                                              \r\n",
      "2             2154.6                                              \r\n",
      "3             2390.0                                              \r\n",
      "4             2438.5                                              \r\n",
      "5             2363.8                                              \r\n",
      "6             2559.7                                              \r\n",
      "7             7244.2                                              \r\n",
      "8             2253.9                                              \r\n",
      "9             3202.8                                              \r\n",
      "10            2368.2                                              \r\n",
      "11            2550.4                                              \r\n",
      "12            2424.2                                              \r\n",
      "13            2673.5                                              \r\n",
      "14            2375.9                                              \r\n",
      "15            1872.3                                              \r\n"
     ]
    }
   ],
   "source": [
    "--- first compute the total calories consumed in each household within the 180 days of data:\n",
    "select CPHAM.household_id, round(sum(CPHAM.calories)/IPH.numInhabitants/30/6,1)\n",
    "FROM caloriesPerHouseholdAndMonth CPHAM\n",
    "    JOIN inhabitantsPerHousehold IPH ON IPH.household_id = CPHAM.household_id\n",
    "GROUP BY CPHAM.household_id"
   ]
  },
  {
   "cell_type": "code",
   "execution_count": 30,
   "metadata": {},
   "outputs": [
    {
     "name": "stdout",
     "output_type": "stream",
     "text": [
      "household_id  sum(calories)\r\n",
      "------------  -------------\r\n",
      "1             837750.5     \r\n",
      "2             387827.9     \r\n",
      "3             860416.1     \r\n",
      "4             877853.8     \r\n",
      "5             1701924.6    \r\n",
      "6             921482.8     \r\n",
      "7             1303957.5    \r\n",
      "8             2434191.6    \r\n",
      "9             1729525.2    \r\n",
      "10            426283.6     \r\n",
      "11            1377200.9    \r\n",
      "12            1309073.3    \r\n",
      "13            2406120.7    \r\n",
      "14            855309.2     \r\n",
      "15            1011035.9    \r\n"
     ]
    }
   ],
   "source": [
    "select CPHAM.household_id, sum(calories)\n",
    "FROM caloriesPerHouseholdAndMonth CPHAM\n",
    "    JOIN inhabitantsPerHousehold IPH ON IPH.household_id = CPHAM.household_id\n",
    "GROUP BY CPHAM.household_id"
   ]
  },
  {
   "cell_type": "markdown",
   "metadata": {},
   "source": [
    "For each household show the difference of average vs max calories consumed:"
   ]
  },
  {
   "cell_type": "code",
   "execution_count": 31,
   "metadata": {},
   "outputs": [
    {
     "name": "stdout",
     "output_type": "stream",
     "text": [
      "household_id  avgCalories  maxCalories  differencePercent\r\n",
      "------------  -----------  -----------  -----------------\r\n",
      "13            2673.5       3470.0       29.79            \r\n",
      "6             2559.7       2780.7       8.64             \r\n",
      "12            2424.2       2630.7       8.52             \r\n",
      "11            2550.4       2765.5       8.44             \r\n",
      "4             2438.5       2641.3       8.32             \r\n",
      "8             2253.9       2440.4       8.27             \r\n",
      "14            2375.9       2571.6       8.24             \r\n",
      "5             2363.8       2557.5       8.2              \r\n",
      "2             2154.6       2331.0       8.19             \r\n",
      "15            1872.3       2025.0       8.16             \r\n",
      "7             7244.2       7834.2       8.14             \r\n",
      "3             2390.0       2584.5       8.14             \r\n",
      "1             2327.1       2516.4       8.14             \r\n",
      "9             3202.8       3463.2       8.13             \r\n",
      "10            2368.2       2555.2       7.89             \r\n"
     ]
    }
   ],
   "source": [
    "--- idea for each household compute the difference in consumption over 6 months:\n",
    "SELECT CPHAM.household_id, \n",
    "        ROUND(AVG(CPHAM.calories / IPH.numInhabitants / 30), 1) AS avgCalories, \n",
    "        ROUND(MAX(CPHAM.calories / IPH.numInhabitants / 30), 1) AS maxCalories, \n",
    "        ROUND((MAX(CPHAM.calories) / AVG(CPHAM.calories) - 1) * 100, 2) AS differencePercent\n",
    "FROM caloriesPerHouseholdAndMonth CPHAM\n",
    "    JOIN inhabitantsPerHousehold IPH ON IPH.household_id = CPHAM.household_id\n",
    "GROUP BY CPHAM.household_id\n",
    "ORDER BY differencePercent DESC;"
   ]
  },
  {
   "cell_type": "markdown",
   "metadata": {},
   "source": [
    "Looking at the difference between the maximum consumption and the average consumption, we get additional information:\n",
    "For all but one household, the difference between the month with maximum consumption and the month with minimum consumption is around 8%. However, there is one household, namely id 13, which has a significantly higher difference of almost 30%. There is at least one month where this household had a significantly higher consumption compared to the average over all months.\n",
    "\n",
    "Let's inspect the consumption of household 13 in more detail:"
   ]
  },
  {
   "cell_type": "code",
   "execution_count": 32,
   "metadata": {},
   "outputs": [
    {
     "name": "stdout",
     "output_type": "stream",
     "text": [
      "household_id  month       calories    avgCaloriesPerInhabitant\r\n",
      "------------  ----------  ----------  ------------------------\r\n",
      "13            04          12324.5     2464.9                  \r\n",
      "13            05          12325.2     2465.0                  \r\n",
      "13            06          12317.9     2463.6                  \r\n",
      "13            07          13562.1     2712.4                  \r\n",
      "13            08          12324.3     2464.9                  \r\n",
      "13            09          17350.0     3470.0                  \r\n"
     ]
    }
   ],
   "source": [
    "SELECT CPHAM.household_id, CPHAM.month, \n",
    "        ROUND(CPHAM.calories / 30, 1) AS calories,\n",
    "        ROUND(CPHAM.calories / IPH.numInhabitants / 30, 1) AS avgCaloriesPerInhabitant\n",
    "FROM caloriesPerHouseholdAndMonth CPHAM\n",
    "    JOIN inhabitantsPerHousehold IPH ON IPH.household_id = CPHAM.household_id\n",
    "WHERE CPHAM.household_id = \"13\"\n",
    "GROUP BY CPHAM.month\n",
    "ORDER BY CPHAM.month ASC;"
   ]
  },
  {
   "cell_type": "markdown",
   "metadata": {},
   "source": [
    "The results show a nealy constant consumption for the first few months with a sudden increase in september 1942. The consumption of the complete household for this last month is roughly 17365 kcal, but we would expect only 12500 kcal. We can therefore assume that two persons are hidden in this household, at least for the last month."
   ]
  },
  {
   "cell_type": "markdown",
   "metadata": {},
   "source": [
    "to be continued..."
   ]
  },
  {
   "cell_type": "markdown",
   "metadata": {},
   "source": [
    "## Exercises\n",
    "\n",
    "In this exercise, we want to use the data at hand to further investigate the shopping behavior of the citizens.\n",
    "\n",
    "### Query 1\n",
    "\n",
    "First, we would like to find the most commonly bought foods. The output should contain the following attributes, ordered descending by \"Menge\".\n",
    "1. The label of the food as \"Bezeichnung\",\n",
    "2. The total amount purchased of that particular food (either in liter or kilogram) as \"Menge\",\n",
    "3. The total amount of calories contained in that particular food as \"Kalorien\"."
   ]
  },
  {
   "cell_type": "code",
   "execution_count": 33,
   "metadata": {},
   "outputs": [
    {
     "name": "stdout",
     "output_type": "stream",
     "text": [
      "Error: near \";\": syntax error\r\n"
     ]
    }
   ],
   "source": [
    "DROP VIEW IF EXISTS q1_student;\n",
    "CREATE VIEW q1_student AS\n",
    "-- insert your query here\n",
    "-- ..."
   ]
  },
  {
   "cell_type": "code",
   "execution_count": 34,
   "metadata": {},
   "outputs": [
    {
     "name": "stdout",
     "output_type": "stream",
     "text": []
    }
   ],
   "source": [
    "-- TEST\n",
    "-- Prepare the necessary table for result comparison and load the data\n",
    "-- You need to execute this cell only once\n",
    "-- Repeated execution will not affect test results, but lead to error messages as you try to import the same data multiple times\n",
    "\n",
    "DROP TABLE IF EXISTS q1;\n",
    "CREATE TABLE q1 (\n",
    "    Bezeichnung TEXT,\n",
    "    Menge INTEGER,\n",
    "    Kalorien INTEGER,\n",
    "    PRIMARY KEY(Bezeichnung)\n",
    ");\n",
    "\n",
    "-- import query results\n",
    ".mode csv\n",
    ".import data/nsa/tests/q1_no_header.csv q1"
   ]
  },
  {
   "cell_type": "code",
   "execution_count": 35,
   "metadata": {},
   "outputs": [
    {
     "name": "stdout",
     "output_type": "stream",
     "text": [
      "Error: no such table: q1_student\r\n"
     ]
    }
   ],
   "source": [
    "-- TEST\n",
    "-- Note that this test compares the resulting tuples and does not ensure that your query is semantically correct.\n",
    "\n",
    "-- compare query results\n",
    ".mode columns\n",
    "\n",
    "SELECT *\n",
    "FROM (SELECT q1.Bezeichnung, ROUND(q1.Menge, 5) AS Menge, ROUND(q1.Kalorien, 5) AS Kalorien FROM q1\n",
    "      EXCEPT\n",
    "      SELECT q1_student.Bezeichnung, ROUND(q1_student.Menge, 5) AS Menge, ROUND(q1_student.Kalorien, 5) AS Kalorien FROM q1_student)\n",
    "UNION\n",
    "SELECT *\n",
    "FROM (SELECT q1_student.Bezeichnung, ROUND(q1_student.Menge, 5) AS Menge, ROUND(q1_student.Kalorien, 5) AS Kalorien FROM q1_student\n",
    "      EXCEPT\n",
    "      SELECT q1.Bezeichnung, ROUND(q1.Menge, 5) AS Menge, ROUND(q1.Kalorien, 5) AS Kalorien FROM q1);\n",
    "-- We expect an empty result."
   ]
  },
  {
   "cell_type": "markdown",
   "metadata": {},
   "source": [
    "### Query 2\n",
    "\n",
    "Next, we want to identify the citizens who bought the most calories. The output should consists of the following attributes, ordered descending by \"Kalorien\".\n",
    "1. The citizen's first name as \"Vorname\",\n",
    "2. The citizen's last name as \"Nachname\",\n",
    "3. The ID of the houshold in which the citizen is currently living as \"Haushalt\",\n",
    "4. The total amount of calories purchased by the citizen as \"Kalorien\"."
   ]
  },
  {
   "cell_type": "code",
   "execution_count": 36,
   "metadata": {},
   "outputs": [
    {
     "name": "stdout",
     "output_type": "stream",
     "text": [
      "Error: near \";\": syntax error\r\n"
     ]
    }
   ],
   "source": [
    "DROP VIEW IF EXISTS q2_student;\n",
    "CREATE VIEW q2_student AS\n",
    "-- insert your query here\n",
    "-- ..."
   ]
  },
  {
   "cell_type": "code",
   "execution_count": 37,
   "metadata": {},
   "outputs": [
    {
     "name": "stdout",
     "output_type": "stream",
     "text": []
    }
   ],
   "source": [
    "-- TEST\n",
    "-- Prepare the necessary table for result comparison and load the data\n",
    "-- You need to execute this cell only once\n",
    "-- Repeated execution will not affect test results, but lead to error messages as you try to import the same data multiple times\n",
    "\n",
    "DROP TABLE IF EXISTS q2;\n",
    "CREATE TABLE q2 (\n",
    "    Vorname TEXT,\n",
    "    Nachname TEXT,\n",
    "    Haushalt INTEGER,\n",
    "    Kalorien REAL,\n",
    "    FOREIGN KEY(Haushalt) REFERENCES households(id),\n",
    "    PRIMARY KEY(Vorname, Nachname, Haushalt)\n",
    ");\n",
    "\n",
    "-- import query results\n",
    ".mode csv\n",
    ".import data/nsa/tests/q2_no_header.csv q2"
   ]
  },
  {
   "cell_type": "code",
   "execution_count": 38,
   "metadata": {},
   "outputs": [
    {
     "name": "stdout",
     "output_type": "stream",
     "text": [
      "Error: no such table: q2_student\r\n"
     ]
    }
   ],
   "source": [
    "-- TEST\n",
    "-- Note that this test compares the resulting tuples and does not ensure that your query is semantically correct.\n",
    "\n",
    "-- compare query results\n",
    ".mode columns\n",
    "\n",
    "SELECT *\n",
    "FROM (SELECT q2.Vorname, q2.Nachname, q2.Haushalt, ROUND(q2.Kalorien, 5) AS Kalorien FROM q2\n",
    "      EXCEPT\n",
    "      SELECT q2_student.Vorname, q2_student.Nachname, q2_student.Haushalt, ROUND(q2_student.Kalorien, 5) AS Kalorien FROM q2_student)\n",
    "UNION\n",
    "SELECT *\n",
    "FROM (SELECT q2_student.Vorname, q2_student.Nachname, q2_student.Haushalt, ROUND(q2_student.Kalorien, 5) AS Kalorien FROM q2_student\n",
    "      EXCEPT\n",
    "      SELECT q2.Vorname, q2.Nachname, q2.Haushalt, ROUND(q2.Kalorien, 5) AS Kalorien FROM q2);\n",
    "-- We expect an empty result."
   ]
  },
  {
   "cell_type": "markdown",
   "metadata": {},
   "source": [
    "### Query 3\n",
    "\n",
    "Finally, we want to list all households that had at least one resident over 60 years on October 5, 1942 at 2pm. The output should not contain any duplicates and consist of the following attributes, order ascending by \"ID\", limited to 5 rows.\n",
    "1. The ID of the household as \"ID\",\n",
    "2. The street of the household as \"Straße\",\n",
    "3. The zip code of the household as \"PLZ\",\n",
    "4. The city of the houshold as \"Stadt\"."
   ]
  },
  {
   "cell_type": "code",
   "execution_count": 39,
   "metadata": {},
   "outputs": [
    {
     "name": "stdout",
     "output_type": "stream",
     "text": [
      "Error: near \";\": syntax error\r\n"
     ]
    }
   ],
   "source": [
    "DROP VIEW IF EXISTS q3_student;\n",
    "CREATE VIEW q3_student AS\n",
    "-- insert your query here\n",
    "-- ..."
   ]
  },
  {
   "cell_type": "code",
   "execution_count": null,
   "metadata": {},
   "outputs": [],
   "source": [
    "-- TEST\n",
    "-- Prepare the necessary table for result comparison and load the data\n",
    "-- You need to execute this cell only once\n",
    "-- Repeated execution will not affect test results, but lead to error messages as you try to import the same data multiple times\n",
    "\n",
    "DROP TABLE IF EXISTS q3;\n",
    "CREATE TABLE q3 (\n",
    "    ID INTEGER PRIMARY KEY,\n",
    "    Straße TEXT,\n",
    "    PLZ INTEGER,\n",
    "    Stadt TEXT,\n",
    "    FOREIGN KEY(ID) REFERENCES households(id)\n",
    ");\n",
    "\n",
    "-- import query results\n",
    ".mode csv\n",
    ".import data/nsa/tests/q3_no_header.csv q3"
   ]
  },
  {
   "cell_type": "code",
   "execution_count": null,
   "metadata": {},
   "outputs": [],
   "source": [
    "-- TEST\n",
    "-- Note that this test compares the resulting tuples and does not ensure that your query is semantically correct.\n",
    "\n",
    "-- compare query results\n",
    ".mode columns\n",
    "\n",
    "SELECT *\n",
    "FROM (SELECT * FROM q3\n",
    "      EXCEPT\n",
    "      SELECT * FROM q3_student)\n",
    "UNION\n",
    "SELECT *\n",
    "FROM (SELECT * FROM q3_student\n",
    "      EXCEPT\n",
    "      SELECT * FROM q3);\n",
    "-- We expect an empty result."
   ]
  }
 ],
 "metadata": {
  "kernelspec": {
   "display_name": "Sqlite3",
   "language": "sqlite3",
   "name": "sqlite3"
  },
  "language_info": {
   "codemirror_mode": "sql",
   "file_extension": ".sql",
   "mimetype": "text/x-sql",
   "name": "sqlite3"
  },
  "varInspector": {
   "cols": {
    "lenName": 16,
    "lenType": 16,
    "lenVar": 40
   },
   "kernels_config": {
    "python": {
     "delete_cmd_postfix": "",
     "delete_cmd_prefix": "del ",
     "library": "var_list.py",
     "varRefreshCmd": "print(var_dic_list())"
    },
    "r": {
     "delete_cmd_postfix": ") ",
     "delete_cmd_prefix": "rm(",
     "library": "var_list.r",
     "varRefreshCmd": "cat(var_dic_list()) "
    }
   },
   "types_to_exclude": [
    "module",
    "function",
    "builtin_function_or_method",
    "instance",
    "_Feature"
   ],
   "window_display": false
  }
 },
 "nbformat": 4,
 "nbformat_minor": 2
}
