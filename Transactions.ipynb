{
 "cells": [
  {
   "cell_type": "markdown",
   "metadata": {},
   "source": [
    "# Transactions with [`psycopg2`](http://initd.org/psycopg/docs/)\n",
    "\n",
    "In this notebook, we showcase how to connect to a [PostgreSQL](https://www.postgresql.org/) database, execute queries, and run transactions with different isolation levels using the [`psycopg2`](http://initd.org/psycopg/docs/) package for python. The notebook is inspired by [this](https://pynative.com/python-postgresql-transaction-management-using-commit-and-rollback/) website.\n",
    "\n",
    "Copyright Marcel Maltry & Jens Dittrich, [Big Data Analytics Group](https://bigdata.uni-saarland.de/), [CC-BY-SA](https://creativecommons.org/licenses/by-sa/4.0/legalcode)"
   ]
  },
  {
   "cell_type": "markdown",
   "metadata": {},
   "source": [
    "# Setup\n",
    "\n",
    "The following cell serves as setup. We will explain the syntax in more detail below. Here, we simply connect to the database, create a new table `accounts` with attributes `id` and `balance`, and add some toy data."
   ]
  },
  {
   "cell_type": "code",
   "execution_count": 1,
   "metadata": {},
   "outputs": [],
   "source": [
    "import psycopg2\n",
    "\n",
    "# make sure to add your password:\n",
    "dsn = 'dbname=postgres user=postgres host=/var/run/postgresql/'\n",
    "\n",
    "def reset_db(dsn):\n",
    "    # Connect to postgres user's default database\n",
    "    with psycopg2.connect(dsn) as conn:\n",
    "\n",
    "        # Open a cursor to perform database operations\n",
    "        with conn.cursor() as cur:\n",
    "\n",
    "            # Drop table if existing\n",
    "            cur.execute(\"\"\"DROP TABLE IF EXISTS accounts;\"\"\")\n",
    "\n",
    "            # Create accounts table\n",
    "            cur.execute(\"\"\"CREATE TABLE accounts\n",
    "                          (id int PRIMARY KEY, balance float(2));\"\"\")\n",
    "\n",
    "            # Insert sample data into accounts table\n",
    "            cur.execute(\"\"\"INSERT INTO accounts\n",
    "                           VALUES\n",
    "                               (1, 2000.0),\n",
    "                               (2, 520.0),\n",
    "                               (3, 470.0),\n",
    "                               (4, 1700.0),\n",
    "                               (5, 2400.0);\"\"\")\n",
    "\n",
    "            # Note: if no exception has been raised by the block, the transaction is commited implicitly.\n",
    "            \n",
    "reset_db(dsn)"
   ]
  },
  {
   "cell_type": "markdown",
   "metadata": {},
   "source": [
    "# Basics\n",
    "\n",
    "In order to send queries to the database, we first need to establish a `connection`. We call the `connect()` method and provide some basic connection parameters such as the database name, the user, the password, and the host, if the database we try to connect to is running on a remote.\n",
    "\n",
    "We can send queries to the database with a cursor that has to be opened from an established connection via the `cursor()` method. The cursor allows us both to send queries (`execute()`) and retrieve results (`fetchone()`, `fetchall()`). Results are always tuples, even if they consist of a single integer. We have to consider this when parsing the results. When we are done, we close the cursor (and the connection).\n",
    "\n",
    "The following example shows how to query the database for an entire table. We also use the cursor to obtain some additional information on the results."
   ]
  },
  {
   "cell_type": "code",
   "execution_count": 2,
   "metadata": {},
   "outputs": [
    {
     "name": "stdout",
     "output_type": "stream",
     "text": [
      "The last query executed was \"b'SELECT * FROM accounts;'\".\n",
      "The query was executed with status message \"SELECT 5\".\n",
      "The query returned 5 rows that can be fetched.\n",
      "The cursor currently points to row 0.\n",
      "The description of the query result is (Column(name='id', type_code=23), Column(name='balance', type_code=700)).\n"
     ]
    }
   ],
   "source": [
    "# Connect to database as specified in dsn\n",
    "conn1 = psycopg2.connect(dsn)\n",
    "\n",
    "# Set connection to auto-commit mode for now\n",
    "conn1.autocommit = True\n",
    "\n",
    "# Open a cursor to perform database operations\n",
    "cur = conn1.cursor()\n",
    "\n",
    "# Define a SQL query\n",
    "q_accounts = \"\"\"SELECT * FROM accounts;\"\"\"\n",
    "\n",
    "# Execute the query using the cursor\n",
    "cur.execute(q_accounts)\n",
    "\n",
    "# Print information on the query and its result\n",
    "print(f\"The last query executed was \\\"{cur.query}\\\".\")\n",
    "print(f\"The query was executed with status message \\\"{cur.statusmessage}\\\".\")\n",
    "print(f\"The query returned {cur.rowcount} rows that can be fetched.\")\n",
    "print(f\"The cursor currently points to row {cur.rownumber}.\")\n",
    "print(f\"The description of the query result is {cur.description}.\")"
   ]
  },
  {
   "cell_type": "code",
   "execution_count": 3,
   "metadata": {},
   "outputs": [
    {
     "name": "stdout",
     "output_type": "stream",
     "text": [
      "The query returned the following tuples:\n",
      "[(1, 2000.0), (2, 520.0), (3, 470.0), (4, 1700.0), (5, 2400.0)]\n"
     ]
    }
   ],
   "source": [
    "# Fetch results from cursor\n",
    "accounts = cur.fetchall()\n",
    "\n",
    "# Print sorted results\n",
    "print(f\"The query returned the following tuples:\\n{sorted(accounts)}\")\n",
    "\n",
    "# Close the cursor, connection remains open\n",
    "cur.close()"
   ]
  },
  {
   "cell_type": "markdown",
   "metadata": {},
   "source": [
    "# Session Parameters\n",
    "\n",
    "`psycopg2` allows us to set certain session parameters that handle, how the next transaction of a connection is executed. In the following, we will take a closer look at:\n",
    "\n",
    "* `readonly`: The session is set to read-only and, thus, write operations will fail with an exception.\n",
    "* `autocommit`: Every statement sent to the database has an immediate effect, i.e. each statement is an individual transaction that is implicitly commited upon successful completion.\n",
    "* `isolation_level`: This allows us to choose from multiple isolation levels.\n",
    "\n",
    "Session parameters can either be set explicitly, e.g. `conn.readonly = True` or using the `set_session()` method provided by connection. Note that session parameters of a connection can only be set if no transaction is currently being performed on the connection.\n",
    "\n",
    "\n",
    "## Read-Only\n",
    "\n",
    "If we set a connection to read-only mode, write operations will not be executed and instead will raise an `ReadOnlySqlTransaction` exception. The following example demonstrates this behavior."
   ]
  },
  {
   "cell_type": "code",
   "execution_count": 4,
   "metadata": {},
   "outputs": [
    {
     "name": "stdout",
     "output_type": "stream",
     "text": [
      "ERROR: The query failed due to the connection being read-only.\n"
     ]
    }
   ],
   "source": [
    "# Set connection to read-only mode\n",
    "conn1.readonly = True\n",
    "\n",
    "# Open a cursor to perform database operations\n",
    "cur = conn1.cursor()\n",
    "\n",
    "try:\n",
    "    # Try to insert a new tuple into the table\n",
    "    cur.execute(\"INSERT INTO accounts VALUES (5, 100000.0);\")\n",
    "    \n",
    "    # If successful, print newly added tuple\n",
    "    cur.execute(\"SELECT * FROM accounts WHERE id=5;\")\n",
    "    print(cur.fetchone())\n",
    "\n",
    "except psycopg2.errors.ReadOnlySqlTransaction:\n",
    "    print(f\"ERROR: The query failed due to the connection being read-only.\")\n",
    "\n",
    "finally:\n",
    "    # Close the cursor, connection remains open\n",
    "    cur.close()\n",
    "    \n",
    "    # Set connection to read-write mode\n",
    "    conn1.readonly = False"
   ]
  },
  {
   "cell_type": "markdown",
   "metadata": {},
   "source": [
    "## Auto-Commit\n",
    "\n",
    "If `autocommit` is set to `True`, each call of `cur.execute()` is handled as an individual transactions and will either have an immediate effect or fail. The following example shows that each modification is immediately visible to other connections to the database."
   ]
  },
  {
   "cell_type": "code",
   "execution_count": 5,
   "metadata": {},
   "outputs": [
    {
     "name": "stdout",
     "output_type": "stream",
     "text": [
      "Due to auto-commit, the tuple is already visible to the other connection: [(6, 237.0)]\n"
     ]
    }
   ],
   "source": [
    "# Set connection to auto-commit mode\n",
    "conn1.autocommit = True\n",
    "\n",
    "# Open a second connection to the database in read-only and auto-commit mode\n",
    "conn2 = psycopg2.connect(dsn)\n",
    "conn2.set_session(readonly=True, autocommit=True)\n",
    "\n",
    "# Open a cursor on second connection to perform database operations\n",
    "cur2 = conn2.cursor()\n",
    "\n",
    "# Open a cursor on the first (auto-commit) connection and insert a new tuple\n",
    "cur1 = conn1.cursor()\n",
    "cur1.execute(\"\"\"INSERT INTO accounts VALUES (6, 237.0);\"\"\")\n",
    "\n",
    "# Use cursor from second connection to see immediate effect\n",
    "cur2.execute(\"\"\"SELECT * FROM accounts WHERE id=6;\"\"\")\n",
    "print(f\"Due to auto-commit, the tuple is already visible to the other connection: {cur2.fetchall()}\")\n",
    "\n",
    "# Close both cursors, connections remain open\n",
    "cur1.close()\n",
    "cur2.close()"
   ]
  },
  {
   "cell_type": "markdown",
   "metadata": {},
   "source": [
    "### Commit Transaction\n",
    "\n",
    "If we set `autocommit` to `False` (this is the default setting), the first call of execute on a cursor begins a new transaction ([`BEGIN`](https://www.postgresql.org/docs/current/sql-begin.html)) and `commit()` has to be called explicitly to make the transaction persistent ([`COMMIT`](https://www.postgresql.org/docs/current/sql-commit.html)). The example below transfers money from one account to another. It is equivalent to running the following transaction directly from the database shell:\n",
    "```SQL\n",
    "BEGIN;\n",
    "UPDATE accounts SET balance = balance - 100 WHERE id=3;\n",
    "UPDATE accounts SET balance = balance + 100 WHERE id=1;\n",
    "COMMIT;\n",
    "```\n",
    "We also show that as long as the transaction is not commited, changes are not visible to other connections. Note that this also depends on the isolation level (we will get back to this).\n",
    "\n",
    "### Show visibility of local changes:"
   ]
  },
  {
   "cell_type": "code",
   "execution_count": 6,
   "metadata": {},
   "outputs": [
    {
     "name": "stdout",
     "output_type": "stream",
     "text": [
      "Account balances observed by each connection before COMMIT:\n",
      "Transaction 1: [(1, 2100.0), (3, 370.0)]\n",
      "Transaction 2: [(1, 2000.0), (3, 470.0)]\n",
      "Changes not yet visible to connection 2.\n"
     ]
    }
   ],
   "source": [
    "# Set connection to transaction mode\n",
    "conn1.autocommit = False\n",
    "\n",
    "# Open a cursor to perform database operations\n",
    "cur1 = conn1.cursor()\n",
    "\n",
    "# Open a cursor on second connection to perform database operations\n",
    "cur2 = conn2.cursor()\n",
    "\n",
    "# Update balance of account 3, implicitly begins a transaction\n",
    "cur1.execute(\"\"\"UPDATE accounts SET balance = balance - 100 WHERE id=3;\"\"\")\n",
    "\n",
    "# Update balance of account 1, implicitly begins a transaction\n",
    "cur1.execute(\"\"\"UPDATE accounts SET balance = balance + 100 WHERE id=1;\"\"\")\n",
    "\n",
    "# Compare states visible to both transactions\n",
    "q_acc = \"\"\"SELECT * FROM accounts WHERE id=1 OR id=3;\"\"\"\n",
    "cur1.execute(q_acc)\n",
    "cur2.execute(q_acc)\n",
    "print(f\"Account balances observed by each connection before COMMIT:\\n\"\\\n",
    "      f\"Transaction 1: {cur1.fetchall()}\\n\"\\\n",
    "      f\"Transaction 2: {cur2.fetchall()}\\n\"\\\n",
    "      f\"Changes not yet visible to connection 2.\"\\\n",
    "     )"
   ]
  },
  {
   "cell_type": "code",
   "execution_count": 7,
   "metadata": {},
   "outputs": [
    {
     "name": "stdout",
     "output_type": "stream",
     "text": [
      "--Transaction commited--\n",
      "Account balances observed by each connection after COMMIT:\n",
      "Transaction 1: [(1, 2100.0), (3, 370.0)]\n",
      "Transaction 2: [(1, 2100.0), (3, 370.0)]\n",
      "Changes visible to transaction 2.\n"
     ]
    }
   ],
   "source": [
    "# Commit transaction\n",
    "conn1.commit()\n",
    "print(\"--Transaction commited--\")\n",
    "\n",
    "# Compare states visible to both transactions\n",
    "cur1.execute(q_acc)\n",
    "cur2.execute(q_acc)\n",
    "print(f\"Account balances observed by each connection after COMMIT:\\n\"\\\n",
    "      f\"Transaction 1: {cur1.fetchall()}\\n\"\\\n",
    "      f\"Transaction 2: {cur2.fetchall()}\\n\"\\\n",
    "      f\"Changes visible to transaction 2.\"\\\n",
    "     )\n",
    "\n",
    "# close both cursors and commit running transaction of connection 1\n",
    "cur1.close()\n",
    "conn1.commit()\n",
    "cur2.close()"
   ]
  },
  {
   "cell_type": "markdown",
   "metadata": {},
   "source": [
    "### Rollback Transactions\n",
    "\n",
    "The next example shows a similar transaction as above. The only difference is that instead of making the changes persistent, we decide to [`ABORT`](https://www.postgresql.org/docs/current/sql-abort.html) the transaction by calling `rollback()` on the connection. It is equivalent to running the following transaction directly from the database shell:\n",
    "```SQL\n",
    "BEGIN;\n",
    "UPDATE accounts SET balance = balance - 100 WHERE id=3;\n",
    "UPDATE accounts SET balance = balance + 100 WHERE id=1;\n",
    "ABORT;\n",
    "```\n",
    "All changes performed by the aborted must not become durable in the database. Note that if we `close()` an open connection, `rollback()` will be performed implicitly. In other words: if `autocommit` is set to `False`, calling `close()` is equivalent to aborting both the transaction and closing the connection."
   ]
  },
  {
   "cell_type": "code",
   "execution_count": 8,
   "metadata": {},
   "outputs": [
    {
     "name": "stdout",
     "output_type": "stream",
     "text": [
      "Account balances observed by each transaction before COMMIT:\n",
      "Transaction 1: [(1, 2200.0), (3, 270.0)]\n",
      "Transaction 2: [(1, 2100.0), (3, 370.0)]\n",
      "Changes not visible to transaction 2.\n"
     ]
    }
   ],
   "source": [
    "# Open a cursor to perform database operations\n",
    "cur1 = conn1.cursor()\n",
    "\n",
    "# Open a cursor on second connection to perform database operations\n",
    "cur2 = conn2.cursor()\n",
    "\n",
    "# Update balance of account 3, implicitly begins a transaction\n",
    "cur1.execute(\"\"\"UPDATE accounts SET balance = balance - 100 WHERE id=3;\"\"\")\n",
    "\n",
    "# Update balance of account 1, implicitly begins a transaction\n",
    "cur1.execute(\"\"\"UPDATE accounts SET balance = balance + 100 WHERE id=1;\"\"\")\n",
    "\n",
    "# Compare states visible to both transactions\n",
    "q_acc = \"\"\"SELECT * FROM accounts WHERE id=1 OR id=3;\"\"\"\n",
    "cur1.execute(q_acc)\n",
    "cur2.execute(q_acc)\n",
    "print(f\"Account balances observed by each transaction before COMMIT:\\n\"\\\n",
    "      f\"Transaction 1: {cur1.fetchall()}\\n\"\\\n",
    "      f\"Transaction 2: {cur2.fetchall()}\\n\"\\\n",
    "      f\"Changes not visible to transaction 2.\"\\\n",
    "     )"
   ]
  },
  {
   "cell_type": "code",
   "execution_count": 9,
   "metadata": {},
   "outputs": [
    {
     "name": "stdout",
     "output_type": "stream",
     "text": [
      "--Transaction aborted--\n",
      "Account balances observed by each connection after COMMIT:\n",
      "Transaction 1: [(1, 2100.0), (3, 370.0)]\n",
      "Transaction 2: [(1, 2100.0), (3, 370.0)]\n",
      "Changes of transaction undone.\n"
     ]
    }
   ],
   "source": [
    "# Abort transaction\n",
    "conn1.rollback()\n",
    "print(\"--Transaction aborted--\")\n",
    "\n",
    "# Compare states visible to both transactions\n",
    "cur1.execute(q_acc)\n",
    "cur2.execute(q_acc)\n",
    "print(f\"Account balances observed by each connection after COMMIT:\\n\"\\\n",
    "      f\"Transaction 1: {cur1.fetchall()}\\n\"\\\n",
    "      f\"Transaction 2: {cur2.fetchall()}\\n\"\\\n",
    "      f\"Changes of transaction undone.\"\\\n",
    "     )\n",
    "\n",
    "# close both cursors and commit running transaction of connection 1\n",
    "cur1.close()\n",
    "conn1.commit()\n",
    "cur2.close()"
   ]
  },
  {
   "cell_type": "markdown",
   "metadata": {},
   "source": [
    "## Isolation Levels\n",
    "\n",
    "Furthermore, we can set the isolation level ([`SET TRANSACTION`](https://www.postgresql.org/docs/current/sql-set-transaction.html)) per session either by calling `set_isolation_level()` or `set_session()` with the corresponding parameters.\n",
    "\n",
    "The following example showcases the impact of isolation levels. While transaction 1 withdraws money from a bank account, transaction 2 sets its isolation level to `REPEATABLE READ` and reads the entry for this bank account. After transaction 1 commited, transaction 2 again accesses the same bank account. However, since its isolation level is set to `REPEATABLE READ` it still sees the unchanged data.\n",
    "\n",
    "The scenario is equivalent to running the following transactions in parallel from two database shells.\n",
    "\n",
    "Transaction 1:\n",
    "```SQL\n",
    "BEGIN;\n",
    "SELECT * FROM accounts WHERE id=2;\n",
    "UPDATE accounts SET balance = balance - 50 WHERE id=2;\n",
    "COMMIT;\n",
    "```\n",
    "\n",
    "Transaction 2:\n",
    "```SQL\n",
    "BEGIN;\n",
    "SET TRANSACTION ISOLATION LEVEL REPEATABLE READ;\n",
    "SELECT * FROM accounts WHERE id=2;\n",
    "-- in the meantime Transaction 1 updates account 2 and commits.\n",
    "SELECT * FROM accounts WHERE id=2;\n",
    "COMMIT;\n",
    "```\n",
    "\n",
    "Note that in SQL, isolation levels are set *within* a transaction block while `psycopg2` requires us to set the isolation level *before* we start a new transaction. The isolation level supported by PostgreSQL and `psycopg2` can be found [here](http://initd.org/psycopg/docs/extensions.html#isolation-level-constants)."
   ]
  },
  {
   "cell_type": "code",
   "execution_count": 10,
   "metadata": {},
   "outputs": [
    {
     "name": "stdout",
     "output_type": "stream",
     "text": [
      "Account balance observed by each transaction:\n",
      "Transaction 1: [(2, 520.0)]\n",
      "Transaction 2: [(2, 520.0)]\n",
      "Both transactions see the same balance.\n"
     ]
    }
   ],
   "source": [
    "# Set isolation levels\n",
    "# recall that the default isolation level in PostgreSQL is READ COMMITTED\n",
    "conn1.set_session(isolation_level=psycopg2.extensions.ISOLATION_LEVEL_DEFAULT,\n",
    "                  readonly=False, autocommit=False)\n",
    "conn2.set_session(isolation_level=psycopg2.extensions.ISOLATION_LEVEL_REPEATABLE_READ,\n",
    "                  readonly=False, autocommit=False)\n",
    "#conn2.set_session(isolation_level=psycopg2.extensions.ISOLATION_LEVEL_READ_COMMITTED,\n",
    "#                  readonly=False, autocommit=False)\n",
    "\n",
    "\n",
    "# Open cursors for both connections to perform database operations\n",
    "cur1 = conn1.cursor()\n",
    "cur2 = conn2.cursor()\n",
    "\n",
    "# Compare states visible to both transactions\n",
    "q_acc = \"\"\"SELECT * FROM accounts WHERE id=2;\"\"\"\n",
    "cur1.execute(q_acc)\n",
    "cur2.execute(q_acc)\n",
    "print(f\"Account balance observed by each transaction:\\n\"\\\n",
    "      f\"Transaction 1: {cur1.fetchall()}\\n\"\\\n",
    "      f\"Transaction 2: {cur2.fetchall()}\\n\"\\\n",
    "      f\"Both transactions see the same balance.\")"
   ]
  },
  {
   "cell_type": "code",
   "execution_count": 11,
   "metadata": {},
   "outputs": [
    {
     "name": "stdout",
     "output_type": "stream",
     "text": [
      "--update perfomed, transaction 1 commited--\n",
      "Account balance observed by each transaction:\n",
      "Transaction 1: [(2, 470.0)]\n",
      "Transaction 2: [(2, 520.0)]\n",
      "Transaction 2 still sees the state from the beginning of the transaction.\n"
     ]
    }
   ],
   "source": [
    "# Withdraw money from account 2 and commit\n",
    "cur1.execute(\"\"\"UPDATE accounts SET balance = balance - 50 WHERE id=2;\"\"\")\n",
    "conn1.commit()\n",
    "print(\"--update perfomed, transaction 1 commited--\")\n",
    "\n",
    "# Compare states visible to both transactions\n",
    "q_acc = \"\"\"SELECT * FROM accounts WHERE id=2;\"\"\"\n",
    "cur1.execute(q_acc)\n",
    "cur2.execute(q_acc)\n",
    "print(f\"Account balance observed by each transaction:\\n\"\\\n",
    "      f\"Transaction 1: {cur1.fetchall()}\\n\"\\\n",
    "      f\"Transaction 2: {cur2.fetchall()}\\n\"\\\n",
    "      f\"Transaction 2 still sees the state from the beginning of the transaction.\")\n",
    "\n",
    "# Close both cursors and connections\n",
    "cur1.close()\n",
    "cur2.close()\n",
    "conn1.close()\n",
    "conn2.close()  # performs implicit rollback"
   ]
  },
  {
   "cell_type": "markdown",
   "metadata": {},
   "source": [
    "# Exercises\n",
    "\n",
    "In the exercises, we will implement an execution plan with three simultaneous transactions as well as a function for transferring money safely.\n",
    "\n",
    "## Exercise 1 (Execution Plan)\n",
    "\n",
    "Implement the execution plan from the assignment sheet. Whenever a transaction reads all tuples, also print the tuples in a sorted manner and label them with the transaction, e.g. `print(f\"T1: {sorted(cur1.fetchall())}\")`.\n",
    "\n",
    "Note that in order for the execution plan to run without any problems, `autocommit=True` is needed as in all other cases by simply executing the plan, locks cannot be acquired and the cell will not terminate. You should investigate the impact of the different isolation levels in the second part of the exercise."
   ]
  },
  {
   "cell_type": "code",
   "execution_count": 12,
   "metadata": {},
   "outputs": [],
   "source": [
    "# Reset db\n",
    "# This ensures that all changes before do not influence your results.\n",
    "dsn = 'dbname=postgres user=postgres host=/var/run/postgresql/'\n",
    "reset_db(dsn)\n",
    "\n",
    "# Insert your implementation of the execution plan here"
   ]
  },
  {
   "cell_type": "markdown",
   "metadata": {},
   "source": [
    "## Exercise 2 (Money Transfer)\n",
    "\n",
    "Implement the function `transfer_money()` that transfers money from one account to another. For each transfer there is a fee that should also be transferred from the source account to the bank's account (id 0). The transaction should only be executed, if all involved accounts exist and the source account has sufficient money. Otherwise, the transaction should be aborted and an exception should be raised. All checks and the transfer should be executed in a single transaction. Choose a suitable isolation level for this application. Use the provided unit test to debug your implementation."
   ]
  },
  {
   "cell_type": "code",
   "execution_count": 13,
   "metadata": {},
   "outputs": [],
   "source": [
    "def transfer_money(conn, src, dst, amount, fee):\n",
    "    \"\"\"\n",
    "    Transfers amount of money from src account to dst account via connection conn.\n",
    "    The src account must also pay a transaction fee to the bank's account.\n",
    "    The transaction is only executed if all accounts exist and the src account\n",
    "    has enough money, otherwise it is rolled back.\n",
    "    \n",
    "    Params:\n",
    "        conn: pycopg2 connection object the transaction should be performed on\n",
    "        src: id of the source account\n",
    "        dst: id of the destination account\n",
    "        amount: amount of money that should be transferred\n",
    "        fee: percentage of transfer fee that should be transferred to bank's account (id=0)\n",
    "    \"\"\"\n",
    "    # Insert your implementation here\n",
    "    pass"
   ]
  },
  {
   "cell_type": "code",
   "execution_count": 14,
   "metadata": {},
   "outputs": [],
   "source": [
    "import unittest\n",
    "\n",
    "\n",
    "class TestMoneyTransfer(unittest.TestCase):\n",
    "    \n",
    "    def setUp(self):\n",
    "        dsn = 'dbname=postgres user=postgres host=/var/run/postgresql/'\n",
    "        \n",
    "        # Connect to database\n",
    "        self.conn = psycopg2.connect(dsn)\n",
    "        self.conn.set_session(autocommit=True)\n",
    "        \n",
    "        # Obtain cursor\n",
    "        cur = self.conn.cursor()\n",
    "        \n",
    "        # Drop table if existing\n",
    "        cur.execute(\"\"\"DROP TABLE IF EXISTS accounts;\"\"\")\n",
    "        \n",
    "        # Create new table\n",
    "        cur.execute(\"\"\"CREATE TABLE accounts (id int PRIMARY KEY, balance float(2));\"\"\")\n",
    "        \n",
    "        # Insert sample data into accounts table\n",
    "        cur.execute(\"\"\"INSERT INTO accounts VALUES\n",
    "                    (0, 0.0),\n",
    "                    (1, 2000.0),\n",
    "                    (2, 520.0),\n",
    "                    (3, 470.0),\n",
    "                    (4, 1700.0),\n",
    "                    (5, 2400.0);\"\"\")       \n",
    "    \n",
    "    def tearDown(self):\n",
    "        # Obtain cursor\n",
    "        cur = self.conn.cursor()\n",
    "        \n",
    "        # Drop table\n",
    "        cur.execute(\"\"\"DROP TABLE IF EXISTS accounts;\"\"\")\n",
    "        self.conn.commit()\n",
    "        \n",
    "        # Close connection and cursor\n",
    "        cur.close()\n",
    "        self.conn.close()\n",
    "    \n",
    "    def test_sessionparamas(self):\n",
    "        transfer_money(self.conn, 1, 2, 100, 0.01)\n",
    "        \n",
    "        # Check autocommit\n",
    "        self.assertFalse(self.conn.autocommit,\n",
    "                         msg=\"Autocommit should be set to false.\")\n",
    "        # Check readonly\n",
    "        self.assertFalse(self.conn.readonly,\n",
    "                         msg=\"Readonly should be set to false.\")\n",
    "        # Check isolation level\n",
    "        self.assertEqual(self.conn.isolation_level,\n",
    "                         psycopg2.extensions.ISOLATION_LEVEL_SERIALIZABLE,\n",
    "                         msg=\"Isolation level should be SERIALIZABLE.\")\n",
    "        \n",
    "    def test_accountexist(self):\n",
    "        with self.assertRaises(Exception,\n",
    "                               msg=\"Source account does not exist, exception should be raised\"):\n",
    "            transfer_money(self.conn, 6, 2, 100, 0.01)\n",
    "            \n",
    "        with self.assertRaises(Exception,\n",
    "                               msg=\"Destination account does not exist, exception should be raised\"):\n",
    "            transfer_money(self.conn, 1, 7, 100, 0.01)\n",
    "            \n",
    "        with self.assertRaises(Exception,\n",
    "                               msg=\"Bank's account does not exist, exception should be raised\"):\n",
    "            # Delete bank's account\n",
    "            cur = self.conn.cursor()\n",
    "            cur.execute(\"\"\"DELETE FROM accounts WHERE id=0;\"\"\")\n",
    "            cur.close()\n",
    "            conn.commit()\n",
    "            \n",
    "            transfer_money(self.conn, 1, 3, 100, 0.01)\n",
    "            \n",
    "    def test_sufficientmoney(self):\n",
    "        # Check amount too high\n",
    "        with self.assertRaises(Exception,\n",
    "                               msg=\"Source account has insufficient money, exception should be raised\"):\n",
    "            transfer_money(self.conn, 5, 2, 2401, 0.01)\n",
    "        # Check amount+fee too high\n",
    "        with self.assertRaises(Exception,\n",
    "                               msg=\"Source account has insufficient money, exception should be raised\"):\n",
    "            transfer_money(self.conn, 5, 2, 2353, 0.02)     \n",
    "        \n",
    "    def test_correcttransfer(self):\n",
    "        transfer_money(self.conn, 3, 4, 234, 0.05)\n",
    "        cur = self.conn.cursor()\n",
    "        q_bal = \"\"\"SELECT balance FROM accounts WHERE id=%s;\"\"\"\n",
    "        \n",
    "        cur.execute(q_bal, (3,))\n",
    "        acc3 = cur.fetchone()[0]\n",
    "        cur.execute(q_bal, (4,))\n",
    "        acc4 = cur.fetchone()[0]\n",
    "        cur.execute(q_bal, (0,))\n",
    "        bank = cur.fetchone()[0]\n",
    "        \n",
    "        self.assertEqual(acc3, round(470-234-234*0.05, 2),\n",
    "                         msg=\"Source account balance incorrect.\")\n",
    "        self.assertEqual(acc4, 1700+234,\n",
    "                         msg=\"Destination account balance incorrect.\")\n",
    "        self.assertEqual(bank, 0+round(234*0.05, 2),\n",
    "                         msg=\"Bank's account balance incorrect.\")\n",
    "    "
   ]
  },
  {
   "cell_type": "code",
   "execution_count": 15,
   "metadata": {},
   "outputs": [
    {
     "name": "stderr",
     "output_type": "stream",
     "text": [
      "test_accountexist (__main__.TestMoneyTransfer) ... ERROR\n",
      "test_correcttransfer (__main__.TestMoneyTransfer) ... ERROR\n",
      "test_sessionparamas (__main__.TestMoneyTransfer) ... ERROR\n",
      "test_sufficientmoney (__main__.TestMoneyTransfer) ... ERROR\n",
      "\n",
      "======================================================================\n",
      "ERROR: test_accountexist (__main__.TestMoneyTransfer)\n",
      "----------------------------------------------------------------------\n",
      "Traceback (most recent call last):\n",
      "  File \"<ipython-input-14-ac2bcd6d030f>\", line 10, in setUp\n",
      "    self.conn = psycopg2.connect(dsn)\n",
      "  File \"/home/vagrant/.conda/envs/bde/lib/python3.7/site-packages/psycopg2/__init__.py\", line 127, in connect\n",
      "    conn = _connect(dsn, connection_factory=connection_factory, **kwasync)\n",
      "psycopg2.OperationalError: could not connect to server: No such file or directory\n",
      "\tIs the server running locally and accepting\n",
      "\tconnections on Unix domain socket \"/tmp/.s.PGSQL.5432\"?\n",
      "\n",
      "\n",
      "======================================================================\n",
      "ERROR: test_correcttransfer (__main__.TestMoneyTransfer)\n",
      "----------------------------------------------------------------------\n",
      "Traceback (most recent call last):\n",
      "  File \"<ipython-input-14-ac2bcd6d030f>\", line 10, in setUp\n",
      "    self.conn = psycopg2.connect(dsn)\n",
      "  File \"/home/vagrant/.conda/envs/bde/lib/python3.7/site-packages/psycopg2/__init__.py\", line 127, in connect\n",
      "    conn = _connect(dsn, connection_factory=connection_factory, **kwasync)\n",
      "psycopg2.OperationalError: could not connect to server: No such file or directory\n",
      "\tIs the server running locally and accepting\n",
      "\tconnections on Unix domain socket \"/tmp/.s.PGSQL.5432\"?\n",
      "\n",
      "\n",
      "======================================================================\n",
      "ERROR: test_sessionparamas (__main__.TestMoneyTransfer)\n",
      "----------------------------------------------------------------------\n",
      "Traceback (most recent call last):\n",
      "  File \"<ipython-input-14-ac2bcd6d030f>\", line 10, in setUp\n",
      "    self.conn = psycopg2.connect(dsn)\n",
      "  File \"/home/vagrant/.conda/envs/bde/lib/python3.7/site-packages/psycopg2/__init__.py\", line 127, in connect\n",
      "    conn = _connect(dsn, connection_factory=connection_factory, **kwasync)\n",
      "psycopg2.OperationalError: could not connect to server: No such file or directory\n",
      "\tIs the server running locally and accepting\n",
      "\tconnections on Unix domain socket \"/tmp/.s.PGSQL.5432\"?\n",
      "\n",
      "\n",
      "======================================================================\n",
      "ERROR: test_sufficientmoney (__main__.TestMoneyTransfer)\n",
      "----------------------------------------------------------------------\n",
      "Traceback (most recent call last):\n",
      "  File \"<ipython-input-14-ac2bcd6d030f>\", line 10, in setUp\n",
      "    self.conn = psycopg2.connect(dsn)\n",
      "  File \"/home/vagrant/.conda/envs/bde/lib/python3.7/site-packages/psycopg2/__init__.py\", line 127, in connect\n",
      "    conn = _connect(dsn, connection_factory=connection_factory, **kwasync)\n",
      "psycopg2.OperationalError: could not connect to server: No such file or directory\n",
      "\tIs the server running locally and accepting\n",
      "\tconnections on Unix domain socket \"/tmp/.s.PGSQL.5432\"?\n",
      "\n",
      "\n",
      "----------------------------------------------------------------------\n",
      "Ran 4 tests in 0.008s\n",
      "\n",
      "FAILED (errors=4)\n"
     ]
    },
    {
     "data": {
      "text/plain": [
       "<unittest.main.TestProgram at 0x7f68a44f8d90>"
      ]
     },
     "execution_count": 15,
     "metadata": {},
     "output_type": "execute_result"
    }
   ],
   "source": [
    "# Run the unit test without shutting down the jupyter kernel\n",
    "unittest.main(argv=['ignored', '-v'], verbosity=2, exit=False)"
   ]
  }
 ],
 "metadata": {
  "kernelspec": {
   "display_name": "Python 3",
   "language": "python",
   "name": "python3"
  },
  "language_info": {
   "codemirror_mode": {
    "name": "ipython",
    "version": 3
   },
   "file_extension": ".py",
   "mimetype": "text/x-python",
   "name": "python",
   "nbconvert_exporter": "python",
   "pygments_lexer": "ipython3",
   "version": "3.7.6"
  },
  "varInspector": {
   "cols": {
    "lenName": 16,
    "lenType": 16,
    "lenVar": 40
   },
   "kernels_config": {
    "python": {
     "delete_cmd_postfix": "",
     "delete_cmd_prefix": "del ",
     "library": "var_list.py",
     "varRefreshCmd": "print(var_dic_list())"
    },
    "r": {
     "delete_cmd_postfix": ") ",
     "delete_cmd_prefix": "rm(",
     "library": "var_list.r",
     "varRefreshCmd": "cat(var_dic_list()) "
    }
   },
   "types_to_exclude": [
    "module",
    "function",
    "builtin_function_or_method",
    "instance",
    "_Feature"
   ],
   "window_display": false
  }
 },
 "nbformat": 4,
 "nbformat_minor": 2
}
