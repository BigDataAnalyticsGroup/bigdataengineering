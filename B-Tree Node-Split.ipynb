{
 "cells": [
  {
   "cell_type": "code",
   "execution_count": 1,
   "id": "fce3f505",
   "metadata": {},
   "outputs": [
    {
     "name": "stdout",
     "output_type": "stream",
     "text": [
      "7:\t [3, 7, 10, 13, 18, 24, 30]  --->  ([3, 7, 10], [13], [18, 24, 30])\n",
      "\n",
      "6:\t [10, 13, 28, 35, 36, 42]  --->  ([10, 13, 28], [35], [36, 42])\n",
      "\n",
      "5:\t [18, 19, 24, 35, 39]  --->  ([18, 19], [24], [35, 39])\n",
      "\n",
      "4:\t [15, 24, 30, 36]  --->  ([15, 24], [30], [36])\n",
      "\n",
      "3:\t [8, 9, 25]  --->  ([8], [9], [25])\n",
      "\n",
      "Warning: this will create an empty leaf!\n",
      "2:\t [26, 31]  --->  ([26], [31], [])\n",
      "\n",
      "Warning: this will create an empty leaf!\n",
      "1:\t [2]  --->  ([], [2], [])\n",
      "\n",
      "Example from the slides:\n",
      "1:\t [25, 27, 32, 45, 46, 47]  --->  ([25, 27, 32], [45], [46, 47])\n",
      "\n"
     ]
    }
   ],
   "source": [
    "import random as rnd\n",
    "\n",
    "\n",
    "def random_keys(n):\n",
    "    keys = [rnd.randint(0,42) for i in range(n)]\n",
    "    keys.sort()\n",
    "    return keys\n",
    "\n",
    "# simulates a b-tree node split:\n",
    "def node_split(keys):\n",
    "    if len(keys) <= 0:\n",
    "        raise ValueError(\"keys array must contain at least one element!\")\n",
    "    if len(keys) < 3:\n",
    "        print (\"Warning: this will create an empty leaf!\")\n",
    "    pivot_position = len(keys)//2\n",
    "    pivot = [keys[pivot_position]]\n",
    "    \n",
    "    return keys[:pivot_position], pivot, keys[pivot_position+1:]\n",
    "\n",
    "for n in range(7,0,-1):\n",
    "    keys = random_keys(n)\n",
    "    print(str(n)+\":\\t\", keys, \" ---> \", node_split(keys))\n",
    "    print()\n",
    "\n",
    "print(\"Example from the slides:\")\n",
    "slide_example = [25, 27, 32, 45, 46, 47]\n",
    "print(str(n)+\":\\t\", slide_example, \" ---> \", node_split(slide_example))\n",
    "print()"
   ]
  },
  {
   "cell_type": "code",
   "execution_count": null,
   "id": "b66f9c83",
   "metadata": {},
   "outputs": [],
   "source": []
  },
  {
   "cell_type": "code",
   "execution_count": null,
   "id": "5d57ef49",
   "metadata": {},
   "outputs": [],
   "source": []
  }
 ],
 "metadata": {
  "kernelspec": {
   "display_name": "Python 3 (ipykernel)",
   "language": "python",
   "name": "python3"
  },
  "language_info": {
   "codemirror_mode": {
    "name": "ipython",
    "version": 3
   },
   "file_extension": ".py",
   "mimetype": "text/x-python",
   "name": "python",
   "nbconvert_exporter": "python",
   "pygments_lexer": "ipython3",
   "version": "3.10.6"
  }
 },
 "nbformat": 4,
 "nbformat_minor": 5
}
