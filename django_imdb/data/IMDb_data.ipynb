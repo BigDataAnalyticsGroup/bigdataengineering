{
 "cells": [
  {
   "cell_type": "markdown",
   "id": "f9dfbd14",
   "metadata": {},
   "source": [
    "# Convert IMDb CSV Files to Django [Fixture](https://docs.djangoproject.com/en/4.2/topics/db/fixtures/)"
   ]
  },
  {
   "cell_type": "code",
   "execution_count": null,
   "id": "bf63a9ae",
   "metadata": {},
   "outputs": [],
   "source": [
    "# load numpy\n",
    "import numpy as np\n",
    "\n",
    "# load pandas\n",
    "import pandas as pd"
   ]
  },
  {
   "cell_type": "code",
   "execution_count": null,
   "id": "7a1e2267",
   "metadata": {},
   "outputs": [],
   "source": [
    "# load data\n",
    "movies_genres_data = pd.read_csv('movies_genres.csv', delimiter='\\t')\n",
    "movies_directors_data = pd.read_csv('movies_directors.csv', delimiter='\\t')\n",
    "movies_data = pd.read_csv('movies.csv', delimiter='\\t')\n",
    "actors_data = pd.read_csv('actors.csv', delimiter='\\t')\n",
    "directors_data = pd.read_csv('directors.csv', delimiter='\\t')\n",
    "roles_data = pd.read_csv('roles.csv', delimiter='\\t', keep_default_na=False) # keep NULL as empty string\n",
    "\n",
    "display(movies_genres_data.head())\n",
    "display(movies_directors_data.head())\n",
    "display(movies_data.head())\n",
    "display(actors_data.head())\n",
    "display(directors_data.head())\n",
    "display(roles_data.head())"
   ]
  },
  {
   "cell_type": "markdown",
   "id": "de887e35",
   "metadata": {},
   "source": [
    "# Object-oriented Representation of IMDb Data"
   ]
  },
  {
   "cell_type": "code",
   "execution_count": null,
   "id": "388890d1",
   "metadata": {},
   "outputs": [],
   "source": [
    "class Genre:\n",
    "    pk = 0\n",
    "    def __init__(self, name):\n",
    "        self.pk = Genre.pk\n",
    "        Genre.pk += 1\n",
    "        self.name = name\n",
    "    \n",
    "    def __str__(self):\n",
    "        return self.genre\n",
    "        \n",
    "    def to_json(self, f):\n",
    "        \"\"\" @param f: file object (see https://docs.python.org/3/glossary.html#term-file-object) \"\"\"\n",
    "        f.write('{\\n')\n",
    "        f.write('    \"model\": \"movies.genre\",\\n')\n",
    "        f.write(f'    \"pk\": %i,\\n'%self.pk)\n",
    "        f.write('    \"fields\": {\\n')\n",
    "        f.write(f'        \"name\": \"%s\"\\n'%self.name)\n",
    "        f.write('    }\\n')\n",
    "        f.write('}')\n",
    "\n",
    "\n",
    "class Movie:\n",
    "    def __init__(self, pk, name, year, rank, genres):\n",
    "        self.pk = pk\n",
    "        self.name = name\n",
    "        self.year = year\n",
    "        self.rank = rank\n",
    "        self.genres = genres # list of genre pks\n",
    "        \n",
    "    def __str__(self):\n",
    "        return self.name\n",
    "        \n",
    "    def to_json(self, f):\n",
    "        f.write('{\\n')\n",
    "        f.write(f'    \"model\": \"movies.movie\",\\n')\n",
    "        f.write(f'    \"pk\": %i,\\n'%self.pk)\n",
    "        f.write('    \"fields\": {\\n')\n",
    "        f.write(f'        \"name\": \"%s\",\\n'%self.name)\n",
    "        f.write(f'        \"year\": %i,\\n'%self.year)\n",
    "        f.write(f'        \"rank\": %.1f,\\n'%self.rank)\n",
    "        f.write(f'        \"genre\": [\\n')\n",
    "        for i, g in enumerate(self.genres):\n",
    "            if i!=(len(self.genres)-1):\n",
    "                f.write(f'            %i,\\n'%g)\n",
    "            else:\n",
    "                f.write(f'            %i\\n'%g)\n",
    "        f.write('        ]\\n')\n",
    "        f.write('    }\\n')\n",
    "        f.write('}')\n",
    "        \n",
    "            \n",
    "class Actor:\n",
    "    def __init__(self, pk, first_name, last_name, gender):\n",
    "        self.pk = pk\n",
    "        self.first_name = first_name\n",
    "        self.last_name = last_name\n",
    "        self.gender = gender\n",
    "        \n",
    "    def __str__(self):\n",
    "        return self.first_name + ' ' + self.last_name\n",
    "        \n",
    "    def to_json(self, f):\n",
    "        f.write('{\\n')\n",
    "        f.write('    \"model\": \"movies.actor\",\\n')\n",
    "        f.write(f'    \"pk\": %i,\\n'%self.pk)\n",
    "        f.write('    \"fields\": {\\n')\n",
    "        f.write(f'        \"first_name\": \"%s\",\\n'%self.first_name)\n",
    "        f.write(f'        \"last_name\": \"%s\",\\n'%self.last_name)\n",
    "        f.write(f'        \"gender\": \"%s\"\\n'%self.gender)\n",
    "        f.write('    }\\n')\n",
    "        f.write('}')\n",
    "        \n",
    "class Director:\n",
    "    def __init__(self, pk, first_name, last_name, movies):\n",
    "        self.pk = pk\n",
    "        self.first_name = first_name\n",
    "        self.last_name = last_name\n",
    "        self.movies = movies\n",
    "        \n",
    "    def __str__(self):\n",
    "        return self.first_name + ' ' + self.last_name\n",
    "        \n",
    "    def to_json(self, f):\n",
    "        f.write('{\\n')\n",
    "        f.write('    \"model\": \"movies.director\",\\n')\n",
    "        f.write(f'    \"pk\": %i,\\n'%self.pk)\n",
    "        f.write('    \"fields\": {\\n')\n",
    "        f.write(f'        \"first_name\": \"%s\",\\n'%self.first_name)\n",
    "        f.write(f'        \"last_name\": \"%s\",\\n'%self.last_name)\n",
    "        f.write('        \"movies\": [\\n')\n",
    "        for i, g in enumerate(self.movies):\n",
    "            if i!=(len(self.movies)-1):\n",
    "                f.write(f'            %i,\\n'%m.pk)\n",
    "            else:\n",
    "                f.write(f'            %i\\n'%m.pk)\n",
    "        f.write('        ]\\n')\n",
    "        f.write('    }\\n')\n",
    "        f.write('}')\n",
    "        \n",
    "class DirectorMovies:\n",
    "    pk = 0\n",
    "    def __init__(self, director, movie):\n",
    "        self.pk = DirectorMovies.pk\n",
    "        DirectorMovies.pk += 1\n",
    "        self.director = director\n",
    "        self.movie = movie\n",
    "        \n",
    "    def to_json(self, f):\n",
    "        f.write('{\\n')\n",
    "        f.write('    \"model\": \"movies.director_movies\",\\n')\n",
    "        f.write(f'    \"pk\": %i,\\n'%self.pk)\n",
    "        f.write('    \"fields\": {\\n')\n",
    "        f.write(f'        \"director\": %i,\\n'%self.director)\n",
    "        f.write(f'        \"movie\": %i\\n'%self.movie)\n",
    "        f.write('    }\\n')\n",
    "        f.write('}')\n",
    "            \n",
    "class PlayIn:\n",
    "    pk = 0\n",
    "    def __init__(self, actor, movie, role):\n",
    "        self.pk = PlayIn.pk\n",
    "        PlayIn.pk += 1\n",
    "        self.actor = actor\n",
    "        self.movie = movie\n",
    "        self.role = role\n",
    "\n",
    "    def __str__(self):\n",
    "        return self.role\n",
    "        \n",
    "    def to_json(self, f):\n",
    "        f.write('{\\n')\n",
    "        f.write('    \"model\": \"movies.playin\",\\n')\n",
    "        f.write(f'    \"pk\": %i,\\n'%self.pk)\n",
    "        f.write('    \"fields\": {\\n')\n",
    "        f.write(f'        \"actor\": \"%s\",\\n'%self.actor)\n",
    "        f.write(f'        \"movie\": \"%s\",\\n'%self.movie)\n",
    "        f.write(f'        \"role\": \"%s\"\\n'%self.role)\n",
    "        f.write('    }\\n')\n",
    "        f.write('}')"
   ]
  },
  {
   "cell_type": "code",
   "execution_count": null,
   "id": "ddc926d4",
   "metadata": {},
   "outputs": [],
   "source": [
    "def data_to_json(data, filename):\n",
    "    with open(filename, \"w\") as f:\n",
    "        f.write(\"[\\n\")\n",
    "        for idx, item in enumerate(data.items()):\n",
    "            relation, tuples = item\n",
    "            print(\"Writing data for %s.\"%relation)\n",
    "            for t_idx, t in enumerate(tuples):\n",
    "                t.to_json(f)\n",
    "                # check if last entry in dict and last tuple\n",
    "                if (idx == len(data) - 1) and (t_idx == len(tuples) - 1):\n",
    "                    f.write('\\n')\n",
    "                else:\n",
    "                    f.write(',\\n')\n",
    "        f.write(\"]\")"
   ]
  },
  {
   "cell_type": "markdown",
   "id": "7fab1f48",
   "metadata": {},
   "source": [
    "# Convert IMDb csv files to objects"
   ]
  },
  {
   "cell_type": "markdown",
   "id": "c019ab83",
   "metadata": {},
   "source": [
    "### Genre"
   ]
  },
  {
   "cell_type": "code",
   "execution_count": null,
   "id": "934cc846",
   "metadata": {},
   "outputs": [],
   "source": [
    "genres = [Genre(g) for g in set(movies_genres_data['genre'].unique())]"
   ]
  },
  {
   "cell_type": "markdown",
   "id": "db7d3a1f",
   "metadata": {},
   "source": [
    "### Movie"
   ]
  },
  {
   "cell_type": "code",
   "execution_count": null,
   "id": "b91150cf",
   "metadata": {},
   "outputs": [],
   "source": [
    "movies = []\n",
    "\n",
    "# iterate over each row in the csv file\n",
    "for index, row in movies_data.iterrows():\n",
    "    # ID\n",
    "    m_id = row['id']\n",
    "    # Name\n",
    "    m_name = row['name']\n",
    "    # Year\n",
    "    m_year = row['year']\n",
    "    # Rank\n",
    "    m_rank = row['rank']    \n",
    "    # Genre\n",
    "    m_genre_strings = movies_genres_data[movies_genres_data.movie_id == m_id]['genre'].tolist() # List of genre strings\n",
    "    m_genres = []\n",
    "    for genre_string in m_genre_strings:\n",
    "        # get corresponding id from `genres` list\n",
    "        for genre in genres:\n",
    "            if genre_string == genre.name:\n",
    "                m_genres.append(genre.pk)\n",
    "    \n",
    "    # Create Movie\n",
    "    m = Movie(m_id, m_name, m_year, m_rank, m_genres)\n",
    "    movies.append(m)"
   ]
  },
  {
   "cell_type": "markdown",
   "id": "49d4e12e",
   "metadata": {},
   "source": [
    "### Actor"
   ]
  },
  {
   "cell_type": "code",
   "execution_count": null,
   "id": "cf3131d0",
   "metadata": {},
   "outputs": [],
   "source": [
    "# process actors_in_movies mapping\n",
    "actors = []\n",
    "for index, row in actors_data.iterrows():\n",
    "    # ID\n",
    "    a_id = row['id']\n",
    "    # first_name\n",
    "    a_first_name = row['first_name']\n",
    "    # last_name\n",
    "    a_last_name = row['last_name']\n",
    "    # gender\n",
    "    a_gender = row['gender']\n",
    "    \n",
    "    # Create Actor\n",
    "    a = Actor(a_id, a_first_name, a_last_name, a_gender)\n",
    "    actors.append(a)"
   ]
  },
  {
   "cell_type": "markdown",
   "id": "27e802cd",
   "metadata": {},
   "source": [
    "### Director"
   ]
  },
  {
   "cell_type": "code",
   "execution_count": null,
   "id": "f00e0b46",
   "metadata": {},
   "outputs": [],
   "source": [
    "# process actors_in_movies mapping\n",
    "directors = []\n",
    "for index, row in directors_data.iterrows():\n",
    "    # ID\n",
    "    d_id = row['id']\n",
    "    # first_name\n",
    "    d_first_name = row['first_name']\n",
    "    # last_name\n",
    "    d_last_name = row['last_name']\n",
    "    # movies\n",
    "    d_movies = []\n",
    "    d_movie_ids = movies_directors_data[movies_directors_data.director_id == d_id]['movie_id'].tolist()\n",
    "        \n",
    "    # Create Director\n",
    "    d = Director(d_id, d_first_name, d_last_name, d_movies)\n",
    "    directors.append(d)"
   ]
  },
  {
   "cell_type": "markdown",
   "id": "c3696c8e",
   "metadata": {},
   "source": [
    "### DirectorMovies"
   ]
  },
  {
   "cell_type": "code",
   "execution_count": null,
   "id": "128c5cb1",
   "metadata": {},
   "outputs": [],
   "source": [
    "director_movies = []\n",
    "for index, row in movies_directors_data.iterrows():\n",
    "    # director_id\n",
    "    dm_director_id = row['director_id']\n",
    "    dm_movie_id = row['movie_id']\n",
    "    \n",
    "    # Create DirectorMovies\n",
    "    dm = DirectorMovies(dm_director_id, dm_movie_id)\n",
    "    director_movies.append(dm)"
   ]
  },
  {
   "cell_type": "markdown",
   "id": "6be9406a",
   "metadata": {},
   "source": [
    "### PlayIn"
   ]
  },
  {
   "cell_type": "code",
   "execution_count": null,
   "id": "cd7907cd",
   "metadata": {},
   "outputs": [],
   "source": [
    "playsin = []\n",
    "for index, row in roles_data.iterrows():\n",
    "    # actor_id    \n",
    "    p_actor_id = row['actor_id']\n",
    "    # movie_id\n",
    "    p_movie_id = row['movie_id']\n",
    "    # role\n",
    "    p_role = row['role'].replace('\"','')\n",
    "    \n",
    "    # Create PlayIn\n",
    "    p = PlayIn(p_actor_id, p_movie_id, p_role)\n",
    "    playsin.append(p)"
   ]
  },
  {
   "cell_type": "markdown",
   "id": "ae1e070b",
   "metadata": {},
   "source": [
    "## Data"
   ]
  },
  {
   "cell_type": "code",
   "execution_count": null,
   "id": "670fa4e3",
   "metadata": {},
   "outputs": [],
   "source": [
    "data = {\n",
    "    'Genre': genres,\n",
    "    'Movie': movies,\n",
    "    'Actor': actors,\n",
    "    'Director': directors,\n",
    "    'DirectorMovies': director_movies,\n",
    "    'PlayIn':playsin\n",
    "}"
   ]
  },
  {
   "cell_type": "code",
   "execution_count": null,
   "id": "a215922a",
   "metadata": {},
   "outputs": [],
   "source": [
    "data_to_json(data, 'imdb_data.json')"
   ]
  }
 ],
 "metadata": {
  "kernelspec": {
   "display_name": "Python 3 (ipykernel)",
   "language": "python",
   "name": "python3"
  },
  "language_info": {
   "codemirror_mode": {
    "name": "ipython",
    "version": 3
   },
   "file_extension": ".py",
   "mimetype": "text/x-python",
   "name": "python",
   "nbconvert_exporter": "python",
   "pygments_lexer": "ipython3",
   "version": "3.10.10"
  }
 },
 "nbformat": 4,
 "nbformat_minor": 5
}
