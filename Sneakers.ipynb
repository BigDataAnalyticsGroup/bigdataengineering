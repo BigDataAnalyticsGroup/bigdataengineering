{
 "cells": [
  {
   "cell_type": "markdown",
   "metadata": {},
   "source": [
    "# Tracking wihout space and time attributes\n",
    "\n",
    "This notebook showcases an example where a personal database does not contain time or space attributes. Still that data may be critical when combined with other data sources that have spatial and/or temporal attributes.\n",
    "\n",
    "Copyright Jens Dittrich & Christian Schön & Joris Nix, [Big Data Analytics Group](https://bigdata.uni-saarland.de/), [CC-BY-SA](https://creativecommons.org/licenses/by-sa/4.0/legalcode)"
   ]
  },
  {
   "cell_type": "code",
   "execution_count": 1,
   "metadata": {},
   "outputs": [],
   "source": [
    "import duckdb"
   ]
  },
  {
   "cell_type": "markdown",
   "metadata": {},
   "source": [
    "Define the schema and load the data of **Mr. M's** personal database:"
   ]
  },
  {
   "cell_type": "code",
   "execution_count": 2,
   "metadata": {},
   "outputs": [],
   "source": [
    "# personal sneakers \"database\" (in fact just one tiny relation) of Mr. M:\n",
    "\n",
    "duckdb.sql(\"DROP TABLE IF EXISTS sneakers;\")\n",
    "\n",
    "duckdb.sql(\"\"\"\n",
    "CREATE TABLE sneakers (\n",
    "    id INTEGER PRIMARY KEY,\n",
    "    label VARCHAR,\n",
    "    size FLOAT\n",
    ");\"\"\")"
   ]
  },
  {
   "cell_type": "code",
   "execution_count": 3,
   "metadata": {},
   "outputs": [],
   "source": [
    "# load csv data into tables:\n",
    "duckdb.sql(\"COPY sneakers FROM './data/sneakers/MrM_sneakers_no_header.csv' (FORMAT CSV, DELIMITER ',');\")"
   ]
  },
  {
   "cell_type": "code",
   "execution_count": 4,
   "metadata": {},
   "outputs": [
    {
     "data": {
      "text/plain": [
       "┌───────┬─────────┬───────┐\n",
       "│  id   │  label  │ size  │\n",
       "│ int32 │ varchar │ float │\n",
       "├───────┼─────────┼───────┤\n",
       "│     7 │ Runner  │  40.0 │\n",
       "│     9 │ Flyer   │  43.0 │\n",
       "│     4 │ Flyer   │  41.0 │\n",
       "│    10 │ Walker  │  39.0 │\n",
       "│     6 │ Jumper  │  44.0 │\n",
       "│    12 │ Jumper  │  41.0 │\n",
       "└───────┴─────────┴───────┘"
      ]
     },
     "execution_count": 4,
     "metadata": {},
     "output_type": "execute_result"
    }
   ],
   "source": [
    "duckdb.sql(\"\"\"SELECT * FROM sneakers;\"\"\")"
   ]
  },
  {
   "cell_type": "markdown",
   "metadata": {},
   "source": [
    "Define the schema and load the data of the **shop's** private database:"
   ]
  },
  {
   "cell_type": "code",
   "execution_count": 5,
   "metadata": {},
   "outputs": [],
   "source": [
    "# database available at a shop:\n",
    "# just a subset of a possibly larger schema to make the point\n",
    "\n",
    "\n",
    "duckdb.sql(\"DROP TABLE IF EXISTS shoes;\")\n",
    "duckdb.sql(\"DROP TABLE IF EXISTS purchases;\")\n",
    "\n",
    "duckdb.sql(\"\"\"\n",
    "CREATE TABLE shoes (\n",
    "    id INTEGER PRIMARY KEY,\n",
    "    label VARCHAR,\n",
    "    size FLOAT\n",
    ");\"\"\")\n",
    "\n",
    "duckdb.sql(\"\"\"\n",
    "CREATE TABLE purchases (\n",
    "    shoes_id INTEGER,\n",
    "    amount INTEGER,\n",
    "    date TIMESTAMP,\n",
    "    FOREIGN KEY(shoes_id) REFERENCES shoes(id)\n",
    ");\"\"\")"
   ]
  },
  {
   "cell_type": "code",
   "execution_count": 6,
   "metadata": {},
   "outputs": [],
   "source": [
    "# load csv data into tables:\n",
    "\n",
    "duckdb.sql(\"COPY shoes FROM './data/sneakers/shop_shoes_no_header.csv' (FORMAT CSV, DELIMITER ',');\")\n",
    "duckdb.sql(\"COPY purchases FROM './data/sneakers/shop_purchases_no_header.csv' (FORMAT CSV, DELIMITER ',');\")"
   ]
  },
  {
   "cell_type": "code",
   "execution_count": 7,
   "metadata": {},
   "outputs": [
    {
     "data": {
      "text/plain": [
       "┌───────┬─────────┬───────┐\n",
       "│  id   │  label  │ size  │\n",
       "│ int32 │ varchar │ float │\n",
       "├───────┼─────────┼───────┤\n",
       "│     1 │ Runner  │  43.0 │\n",
       "│     2 │ Walker  │  42.0 │\n",
       "│     3 │ Flyer   │  46.0 │\n",
       "│     4 │ Flyer   │  41.0 │\n",
       "│     5 │ Walker  │  44.0 │\n",
       "│     6 │ Jumper  │  44.0 │\n",
       "│     7 │ Jumper  │  43.0 │\n",
       "│     8 │ Jumper  │  41.0 │\n",
       "└───────┴─────────┴───────┘"
      ]
     },
     "execution_count": 7,
     "metadata": {},
     "output_type": "execute_result"
    }
   ],
   "source": [
    "duckdb.sql(\"SELECT * FROM shoes;\")"
   ]
  },
  {
   "cell_type": "code",
   "execution_count": 8,
   "metadata": {},
   "outputs": [
    {
     "data": {
      "text/plain": [
       "┌──────────┬────────┬─────────────────────┐\n",
       "│ shoes_id │ amount │        date         │\n",
       "│  int32   │ int32  │      timestamp      │\n",
       "├──────────┼────────┼─────────────────────┤\n",
       "│        2 │      1 │ 2019-04-01 09:03:29 │\n",
       "│        3 │      1 │ 2019-04-02 10:03:29 │\n",
       "│        8 │      1 │ 2019-04-27 12:01:19 │\n",
       "└──────────┴────────┴─────────────────────┘"
      ]
     },
     "execution_count": 8,
     "metadata": {},
     "output_type": "execute_result"
    }
   ],
   "source": [
    "duckdb.sql(\"SELECT * FROM purchases;\")"
   ]
  },
  {
   "cell_type": "code",
   "execution_count": 9,
   "metadata": {},
   "outputs": [
    {
     "data": {
      "text/plain": [
       "┌─────────┬───────┬────────┬─────────────────────┐\n",
       "│  label  │ size  │ amount │        date         │\n",
       "│ varchar │ float │ int32  │      timestamp      │\n",
       "├─────────┼───────┼────────┼─────────────────────┤\n",
       "│ Walker  │  42.0 │      1 │ 2019-04-01 09:03:29 │\n",
       "│ Flyer   │  46.0 │      1 │ 2019-04-02 10:03:29 │\n",
       "│ Jumper  │  41.0 │      1 │ 2019-04-27 12:01:19 │\n",
       "└─────────┴───────┴────────┴─────────────────────┘"
      ]
     },
     "execution_count": 9,
     "metadata": {},
     "output_type": "execute_result"
    }
   ],
   "source": [
    "# show shoe purchases with timestamps:\n",
    "duckdb.sql(\"DROP VIEW IF EXISTS ShoePurchases;\")\n",
    "\n",
    "duckdb.sql(\"\"\"\n",
    "CREATE VIEW ShoePurchases as\n",
    "SELECT label, size, amount, date\n",
    "FROM shoes, purchases\n",
    "WHERE shoes.id = purchases.shoes_id;\"\"\")\n",
    "\n",
    "duckdb.sql(\"\"\"\n",
    "SELECT *\n",
    "FROM ShoePurchases;\"\"\")"
   ]
  },
  {
   "cell_type": "code",
   "execution_count": 10,
   "metadata": {},
   "outputs": [
    {
     "data": {
      "text/plain": [
       "┌─────────┬───────┐\n",
       "│  label  │ size  │\n",
       "│ varchar │ float │\n",
       "├─────────┼───────┤\n",
       "│ Flyer   │  41.0 │\n",
       "│ Jumper  │  44.0 │\n",
       "│ Jumper  │  41.0 │\n",
       "└─────────┴───────┘"
      ]
     },
     "execution_count": 10,
     "metadata": {},
     "output_type": "execute_result"
    }
   ],
   "source": [
    "# Which shoes exist both in Mr. M's and\n",
    "# the shop's database in the same sizes?\n",
    "duckdb.sql(\"DROP VIEW IF EXISTS SameShoes;\")\n",
    "\n",
    "duckdb.sql(\"\"\"\n",
    "CREATE VIEW SameShoes as\n",
    "SELECT label, size\n",
    "FROM sneakers\n",
    "INTERSECT\n",
    "SELECT label, size\n",
    "FROM shoes;\"\"\")\n",
    "\n",
    "duckdb.sql(\"\"\"\n",
    "SELECT *\n",
    "FROM SameShoes;\"\"\")"
   ]
  },
  {
   "cell_type": "code",
   "execution_count": 11,
   "metadata": {},
   "outputs": [
    {
     "data": {
      "text/plain": [
       "┌─────────┬───────┬─────────────────────┐\n",
       "│  label  │ size  │        date         │\n",
       "│ varchar │ float │      timestamp      │\n",
       "├─────────┼───────┼─────────────────────┤\n",
       "│ Jumper  │  41.0 │ 2019-04-27 12:01:19 │\n",
       "└─────────┴───────┴─────────────────────┘"
      ]
     },
     "execution_count": 11,
     "metadata": {},
     "output_type": "execute_result"
    }
   ],
   "source": [
    "# Does Mr. M own a shoe that was acquired on April 27?\n",
    "duckdb.sql(\"DROP VIEW IF EXISTS MrMOwnsPurchasedShoe;\")\n",
    "\n",
    "duckdb.sql(\"\"\"\n",
    "CREATE VIEW MrMOwnsPurchasedShoe as\n",
    "SELECT ShoePurchases.label, ShoePurchases.size, date\n",
    "FROM ShoePurchases, SameShoes\n",
    "WHERE ShoePurchases.label = SameShoes.label\n",
    "    AND ShoePurchases.size = SameShoes.size;\"\"\")\n",
    "\n",
    "duckdb.sql(\"\"\"\n",
    "SELECT *\n",
    "FROM MrMOwnsPurchasedShoe;\"\"\")"
   ]
  },
  {
   "cell_type": "markdown",
   "metadata": {},
   "source": [
    "From this we conclude that Mr. M He owns a shoe of a brand and size that was was purchased at that store on 2019-04-27 12:01:19. \n",
    "This **does not** imply that we are talking about the same physical shoe. Nor does it imply that Mr. M bought that shoe on that day. He might have acquired it elsewhere...\n",
    "\n",
    "Notice that no banking card information is associated here (then he/she would be easy to track anayways). Let's assume that the shop was paid with cash."
   ]
  },
  {
   "cell_type": "markdown",
   "metadata": {},
   "source": [
    "**What if?**"
   ]
  },
  {
   "cell_type": "markdown",
   "metadata": {},
   "source": [
    "1. That shoe is a rare item that was only sold once in a couple of days\n",
    "\n",
    "2. We get access to a slightly older than April 27th copy of Mr. M's database that does not contain that shoe?\n",
    "\n",
    "3. We systematically acquire other data sources from that shop and from that day that show activities of Mr. M, e.g. other purchases, camera video surveillance footage, audio recordings, etc. The search space for all of this got dramatically smaller due to our analysis above. "
   ]
  },
  {
   "cell_type": "markdown",
   "metadata": {},
   "source": [
    "All this information is circumstantial evidence (Deutsch: Indizien) but no proof.\n"
   ]
  }
 ],
 "metadata": {
  "kernelspec": {
   "display_name": "Python 3 (ipykernel)",
   "language": "python",
   "name": "python3"
  },
  "language_info": {
   "codemirror_mode": {
    "name": "ipython",
    "version": 3
   },
   "file_extension": ".py",
   "mimetype": "text/x-python",
   "name": "python",
   "nbconvert_exporter": "python",
   "pygments_lexer": "ipython3",
   "version": "3.10.10"
  },
  "varInspector": {
   "cols": {
    "lenName": 16,
    "lenType": 16,
    "lenVar": 40
   },
   "kernels_config": {
    "python": {
     "delete_cmd_postfix": "",
     "delete_cmd_prefix": "del ",
     "library": "var_list.py",
     "varRefreshCmd": "print(var_dic_list())"
    },
    "r": {
     "delete_cmd_postfix": ") ",
     "delete_cmd_prefix": "rm(",
     "library": "var_list.r",
     "varRefreshCmd": "cat(var_dic_list()) "
    }
   },
   "types_to_exclude": [
    "module",
    "function",
    "builtin_function_or_method",
    "instance",
    "_Feature"
   ],
   "window_display": false
  }
 },
 "nbformat": 4,
 "nbformat_minor": 2
}
