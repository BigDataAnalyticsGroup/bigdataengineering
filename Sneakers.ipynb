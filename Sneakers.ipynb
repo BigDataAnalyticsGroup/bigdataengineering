{
 "cells": [
  {
   "cell_type": "markdown",
   "metadata": {},
   "source": [
    "# Tracking wihout space and time attributes\n",
    "\n",
    "This notebook showcases an example where a personal database does not contain time or space attributes. Still that data may be critical when combined with other data sources that have spatial and/or temporal attributes.\n",
    "\n",
    "Copyright Jens Dittrich & Christian Schön, [Big Data Analytics Group](https://bigdata.uni-saarland.de/), [CC-BY-SA](https://creativecommons.org/licenses/by-sa/4.0/legalcode)"
   ]
  },
  {
   "cell_type": "markdown",
   "metadata": {},
   "source": [
    "Define the schema and load the data of **Mr. M's** personal database:"
   ]
  },
  {
   "cell_type": "code",
   "execution_count": 1,
   "metadata": {},
   "outputs": [
    {
     "name": "stdout",
     "output_type": "stream",
     "text": []
    }
   ],
   "source": [
    "-- personal sneakers \"database\" (in fact just one tiny relation) of Mr. M:\n",
    "PRAGMA foreign_keys = OFF;\n",
    "\n",
    "DROP TABLE IF EXISTS sneakers;\n",
    "\n",
    "PRAGMA foreign_keys = ON;\n",
    "\n",
    "CREATE TABLE sneakers (\n",
    "    id INTEGER PRIMARY KEY,\n",
    "    label TEXT,\n",
    "    size FLOAT\n",
    ");"
   ]
  },
  {
   "cell_type": "code",
   "execution_count": 2,
   "metadata": {},
   "outputs": [
    {
     "name": "stdout",
     "output_type": "stream",
     "text": []
    }
   ],
   "source": [
    "-- load csv data into tables:\n",
    "-- enable csv mode:\n",
    ".mode csv\n",
    "\n",
    "-- import the necessary files:\n",
    ".import data/sneakers/MrM_sneakers_no_header.csv sneakers\n",
    "\n",
    "-- enable pretty formatting:\n",
    ".mode columns\n",
    ".headers on"
   ]
  },
  {
   "cell_type": "code",
   "execution_count": 3,
   "metadata": {},
   "outputs": [
    {
     "name": "stdout",
     "output_type": "stream",
     "text": [
      "id          label       size      \r\n",
      "----------  ----------  ----------\r\n",
      "4           Flyer       41.0      \r\n",
      "6           Jumper      44.0      \r\n",
      "7           Runner      40.0      \r\n",
      "9           Flyer       43.0      \r\n",
      "10          Walker      39.0      \r\n",
      "12          Jumper      41.0      \r\n"
     ]
    }
   ],
   "source": [
    "SELECT * FROM sneakers;"
   ]
  },
  {
   "cell_type": "markdown",
   "metadata": {},
   "source": [
    "Define the schema and load the data of the **shop's** private database:"
   ]
  },
  {
   "cell_type": "code",
   "execution_count": 4,
   "metadata": {},
   "outputs": [
    {
     "name": "stdout",
     "output_type": "stream",
     "text": []
    }
   ],
   "source": [
    "-- database available at a shop:\n",
    "-- just a subset of a possibly larger schema to make the point\n",
    "PRAGMA foreign_keys = OFF;\n",
    "\n",
    "DROP TABLE IF EXISTS shoes;\n",
    "DROP TABLE IF EXISTS purchases;\n",
    "\n",
    "PRAGMA foreign_keys = ON;\n",
    "\n",
    "CREATE TABLE shoes (\n",
    "    id INTEGER PRIMARY KEY,\n",
    "    label TEXT,\n",
    "    size FLOAT\n",
    ");\n",
    "\n",
    "CREATE TABLE purchases (\n",
    "    shoes_id INTEGER,\n",
    "    amount INTEGER,\n",
    "    date TEXT,\n",
    "    FOREIGN KEY(shoes_id) REFERENCES shoes(id)\n",
    ");"
   ]
  },
  {
   "cell_type": "code",
   "execution_count": 5,
   "metadata": {},
   "outputs": [
    {
     "name": "stdout",
     "output_type": "stream",
     "text": []
    }
   ],
   "source": [
    "-- load csv data into tables:\n",
    "-- enable csv mode:\n",
    ".mode csv\n",
    "\n",
    "-- import the necessary files:\n",
    ".import data/sneakers/shop_shoes_no_header.csv shoes\n",
    ".import data/sneakers/shop_purchases_no_header.csv purchases\n",
    "\n",
    "-- enable pretty formatting:\n",
    ".mode columns\n",
    ".headers on"
   ]
  },
  {
   "cell_type": "code",
   "execution_count": 6,
   "metadata": {},
   "outputs": [
    {
     "name": "stdout",
     "output_type": "stream",
     "text": [
      "id          label       size      \r\n",
      "----------  ----------  ----------\r\n",
      "1           Runner      43.0      \r\n",
      "2           Walker      42.0      \r\n",
      "3           Flyer       46.0      \r\n",
      "4           Flyer       41.0      \r\n",
      "5           Walker      44.0      \r\n",
      "6           Jumper      44.0      \r\n",
      "7           Jumper      43.0      \r\n",
      "8           Jumper      41.0      \r\n"
     ]
    }
   ],
   "source": [
    "SELECT * FROM shoes;"
   ]
  },
  {
   "cell_type": "code",
   "execution_count": 7,
   "metadata": {},
   "outputs": [
    {
     "name": "stdout",
     "output_type": "stream",
     "text": [
      "shoes_id    amount      date               \r\n",
      "----------  ----------  -------------------\r\n",
      "2           1           2019-04-01 09:03:29\r\n",
      "3           1           2019-04-02 10:03:29\r\n",
      "8           1           2019-04-27 12:01:19\r\n"
     ]
    }
   ],
   "source": [
    "SELECT * FROM purchases;"
   ]
  },
  {
   "cell_type": "code",
   "execution_count": 8,
   "metadata": {},
   "outputs": [
    {
     "name": "stdout",
     "output_type": "stream",
     "text": [
      "label       size        amount      date               \r\n",
      "----------  ----------  ----------  -------------------\r\n",
      "Walker      42.0        1           2019-04-01 09:03:29\r\n",
      "Flyer       46.0        1           2019-04-02 10:03:29\r\n",
      "Jumper      41.0        1           2019-04-27 12:01:19\r\n"
     ]
    }
   ],
   "source": [
    "-- show shoe purchases with timestamps:\n",
    "DROP VIEW IF EXISTS ShoePurchases;\n",
    "\n",
    "CREATE VIEW ShoePurchases as\n",
    "SELECT label, size, amount, date\n",
    "FROM shoes, purchases\n",
    "WHERE shoes.id = purchases.shoes_id;\n",
    "\n",
    "SELECT *\n",
    "FROM ShoePurchases;"
   ]
  },
  {
   "cell_type": "code",
   "execution_count": 9,
   "metadata": {},
   "outputs": [
    {
     "name": "stdout",
     "output_type": "stream",
     "text": [
      "label       size      \r\n",
      "----------  ----------\r\n",
      "Flyer       41.0      \r\n",
      "Jumper      41.0      \r\n",
      "Jumper      44.0      \r\n"
     ]
    }
   ],
   "source": [
    "-- Which shoes exist both in Mr. M's and\n",
    "-- the shop's database in the same sizes?\n",
    "DROP VIEW IF EXISTS SameShoes;\n",
    "\n",
    "CREATE VIEW SameShoes as\n",
    "SELECT label, size\n",
    "FROM sneakers\n",
    "INTERSECT\n",
    "SELECT label, size\n",
    "FROM shoes;\n",
    "\n",
    "SELECT *\n",
    "FROM SameShoes;"
   ]
  },
  {
   "cell_type": "code",
   "execution_count": 10,
   "metadata": {},
   "outputs": [
    {
     "name": "stdout",
     "output_type": "stream",
     "text": [
      "label       size        date               \r\n",
      "----------  ----------  -------------------\r\n",
      "Jumper      41.0        2019-04-27 12:01:19\r\n"
     ]
    }
   ],
   "source": [
    "-- Does Mr. M own a shoe that was acquired on April 27?\n",
    "DROP VIEW IF EXISTS MrMOwnsPurchasedShoe;\n",
    "\n",
    "CREATE VIEW MrMOwnsPurchasedShoe as\n",
    "SELECT ShoePurchases.label, ShoePurchases.size, date\n",
    "FROM ShoePurchases, SameShoes\n",
    "WHERE ShoePurchases.label = SameShoes.label\n",
    "    AND ShoePurchases.size = SameShoes.size;\n",
    "\n",
    "SELECT *\n",
    "FROM MrMOwnsPurchasedShoe;"
   ]
  },
  {
   "cell_type": "markdown",
   "metadata": {},
   "source": [
    "From this we conclude that Mr. M He owns a shoe of a brand and size that was was purchased at that store on 2019-04-27 12:01:19. \n",
    "This **does not** imply that we are talking about the same physical shoe. Nor does it imply that Mr. M bought that shoe on that day. He might have acquired it elsewhere...\n",
    "\n",
    "Notice that no banking card information is associated here (then he/she would be easy to track anayways). Let's assume that the shop was paid with cash."
   ]
  },
  {
   "cell_type": "markdown",
   "metadata": {},
   "source": [
    "**What if?**"
   ]
  },
  {
   "cell_type": "markdown",
   "metadata": {},
   "source": [
    "1. That shoe is a rare item that was only sold once in a couple of days\n",
    "\n",
    "2. We get access to a slightly older than April 27th copy of Mr. M's database that does not contain that shoe?\n",
    "\n",
    "3. We systematically acquire other data sources from that shop and from that day that show activities of Mr. M, e.g. other purchases, camera video surveillance footage, audio recordings, etc. The search space for all of this got dramatically smaller due to our analysis above. "
   ]
  },
  {
   "cell_type": "markdown",
   "metadata": {},
   "source": [
    "All this information is circumstantial evidence (Deutsch: Indizien) but no proof.\n"
   ]
  },
  {
   "cell_type": "code",
   "execution_count": null,
   "metadata": {},
   "outputs": [],
   "source": []
  }
 ],
 "metadata": {
  "kernelspec": {
   "display_name": "Sqlite3",
   "language": "sqlite3",
   "name": "sqlite3"
  },
  "language_info": {
   "codemirror_mode": "sql",
   "file_extension": ".sql",
   "mimetype": "text/x-sql",
   "name": "sqlite3"
  },
  "varInspector": {
   "cols": {
    "lenName": 16,
    "lenType": 16,
    "lenVar": 40
   },
   "kernels_config": {
    "python": {
     "delete_cmd_postfix": "",
     "delete_cmd_prefix": "del ",
     "library": "var_list.py",
     "varRefreshCmd": "print(var_dic_list())"
    },
    "r": {
     "delete_cmd_postfix": ") ",
     "delete_cmd_prefix": "rm(",
     "library": "var_list.r",
     "varRefreshCmd": "cat(var_dic_list()) "
    }
   },
   "types_to_exclude": [
    "module",
    "function",
    "builtin_function_or_method",
    "instance",
    "_Feature"
   ],
   "window_display": false
  }
 },
 "nbformat": 4,
 "nbformat_minor": 2
}
