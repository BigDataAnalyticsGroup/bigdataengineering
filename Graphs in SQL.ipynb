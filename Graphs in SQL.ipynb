{
 "cells": [
  {
   "cell_type": "markdown",
   "metadata": {},
   "source": [
    "# Graphs in SQL\n",
    "\n",
    "This notebook gives an introduction to handling graphs in SQL. We assume basic knowledge of the SQL language and the [PostgreSQL](https://www.postgresql.org/) database. It is based on the [`psycopg2`](http://initd.org/psycopg/docs/) and the [`py2neo`](https://py2neo.org/v4/index.html) packages for python. \n",
    "\n",
    "Copyright Christian Schön & Jens Dittrich, [Big Data Analytics Group](https://bigdata.uni-saarland.de/), [CC-BY-SA](https://creativecommons.org/licenses/by-sa/4.0/legalcode)"
   ]
  },
  {
   "cell_type": "markdown",
   "metadata": {},
   "source": [
    "## Setup - PostgreSQL\n",
    "\n",
    "Before you can use the following notebook, you have to setup the databases: PostgreSQL in the beginning, Neo4j in the later sections.\n",
    "The database stores different examples: The first example is a social network graph indicating which person knows, meets, or writes with which other person. The second example is a precedence graph with nine different transactions. Both examples have been presented on the corresponding lecture slides, although the precedence graph example will be extended for later sections of this notebook."
   ]
  },
  {
   "cell_type": "code",
   "execution_count": 1,
   "metadata": {},
   "outputs": [],
   "source": [
    "# Specify paths to CSV files for social network\n",
    "contacts_persons_csv = \"./data/cypher/contacts_persons.csv\"\n",
    "contacts_knows_csv = \"./data/cypher/contacts_knows.csv\"\n",
    "contacts_meets_csv = \"./data/cypher/contacts_meets.csv\"\n",
    "contacts_writes_csv = \"./data/cypher/contacts_writes.csv\"\n",
    "\n",
    "# Specify paths to CSV files for precedence graph\n",
    "transactions_nodes_csv = \"./data/cypher/transactions_nodes.csv\"\n",
    "transactions_precedence_csv = \"./data/cypher/transactions_precedence.csv\""
   ]
  },
  {
   "cell_type": "markdown",
   "metadata": {},
   "source": [
    "### Postgres\n",
    "\n",
    "Inside our database, we create several new tables to store the necessary data for our examples:\n",
    "* The `persons` table with attributes `node_id` and `name` for the social network graph\n",
    "* The `knows` table with attributes `start_id` and `end_id` for the social network graph\n",
    "* The `meets` table with attributes `start_id` and `end_id` for the social network graph\n",
    "* The `writes` table with attributes `start_id` and `end_id` for the social network graph\n",
    "* The `nodes` table with attributes `node_id`and `name` for the precedence graph\n",
    "* The `edges` table with attributes `start_id`and `end_id` for the precedence graph"
   ]
  },
  {
   "cell_type": "code",
   "execution_count": 3,
   "metadata": {},
   "outputs": [],
   "source": [
    "import psycopg2\n",
    "import csv\n",
    "\n",
    "# Import functions used to draw results in later sections\n",
    "from vis.vis import drawSubgraph, print_set_postgres, print_set_neo4j\n",
    "\n",
    "# Specify credentials\n",
    "dsn = \"dbname=postgres user=postgres host=/var/run/postgresql/\"\n",
    "\n",
    "# Create a connection to the database and open a cursor to execute queries\n",
    "conn = psycopg2.connect(dsn)\n",
    "conn.autocommit = True"
   ]
  },
  {
   "cell_type": "code",
   "execution_count": 4,
   "metadata": {},
   "outputs": [],
   "source": [
    "# Social network graph\n",
    "\n",
    "# Create table persons and fill with corresponding values\n",
    "cur = conn.cursor()\n",
    "cur.execute(\"DROP TABLE IF EXISTS persons CASCADE;\")\n",
    "cur.execute(\"CREATE TABLE persons (node_id INTEGER PRIMARY KEY, name CHARACTER VARYING(3) NOT NULL);\")\n",
    "with open(contacts_persons_csv, newline='') as csvfile:\n",
    "    csvreader = csv.DictReader(csvfile)\n",
    "    for row in csvreader:\n",
    "        cur.execute(\"INSERT INTO persons(node_id, name) VALUES({}, '{}');\".format(int(row['node_id']), str(row['name'])))\n",
    "cur.close()\n",
    "\n",
    "# Create tables 'knows', 'meets' and 'writes'; and fill them with corresponding values\n",
    "for entitytype in ['knows','meets','writes']:\n",
    "    cur = conn.cursor()\n",
    "    cur.execute(\"DROP TABLE IF EXISTS \" + entitytype + \" CASCADE;\")\n",
    "    cur.execute(\"CREATE TABLE \" + entitytype + \" (start_id INTEGER, end_id INTEGER, PRIMARY KEY(start_id, end_id));\")\n",
    "    with open(contacts_knows_csv, newline='') as csvfile:\n",
    "        csvreader = csv.DictReader(csvfile)\n",
    "        for row in csvreader:\n",
    "            cur.execute(\"INSERT INTO \" + entitytype + \"(start_id, end_id) VALUES({}, '{}');\".format(int(row['start_id']), int(row['end_id'])))\n",
    "    cur.close()"
   ]
  },
  {
   "cell_type": "code",
   "execution_count": 5,
   "metadata": {},
   "outputs": [],
   "source": [
    "# Precedence graph\n",
    "\n",
    "# Create table nodes and fill with corresponding values\n",
    "cur = conn.cursor()\n",
    "cur.execute(\"DROP TABLE IF EXISTS nodes CASCADE;\")\n",
    "cur.execute(\"CREATE TABLE nodes (node_id INTEGER PRIMARY KEY, name CHARACTER VARYING(3) NOT NULL);\")\n",
    "with open(contacts_persons_csv, newline='') as csvfile:\n",
    "    csvreader = csv.DictReader(csvfile)\n",
    "    for row in csvreader:\n",
    "        cur.execute(\"INSERT INTO nodes(node_id, name) VALUES({}, '{}');\".format(int(row['node_id']), str(row['name'])))\n",
    "cur.close()\n",
    "\n",
    "# Create view nodes_small for the smaller example\n",
    "cur = conn.cursor()\n",
    "cur.execute(\"DROP VIEW IF EXISTS nodes_small;\")\n",
    "cur.execute(\"CREATE VIEW nodes_small AS SELECT * FROM nodes WHERE nodes.node_id <= 3;\")\n",
    "cur.close()\n",
    "\n",
    "# Create table edges\n",
    "cur = conn.cursor()\n",
    "cur.execute(\"DROP TABLE IF EXISTS edges CASCADE;\")\n",
    "cur.execute(\"CREATE TABLE edges (start_id INTEGER, end_id INTEGER, PRIMARY KEY(start_id, end_id));\")\n",
    "with open(transactions_precedence_csv, newline='') as csvfile:\n",
    "    csvreader = csv.DictReader(csvfile)\n",
    "    for row in csvreader:\n",
    "        cur.execute(\"INSERT INTO edges(start_id, end_id) VALUES({}, '{}');\".format(int(row['start_id']), int(row['end_id'])))\n",
    "cur.close()\n",
    "\n",
    "# Create view edges_small for the smaller example\n",
    "cur = conn.cursor()\n",
    "cur.execute(\"DROP VIEW IF EXISTS edges_small;\")\n",
    "cur.execute(\"CREATE VIEW edges_small AS SELECT * FROM edges WHERE edges.start_id <= 3 AND edges.end_id <= 3;\")\n",
    "cur.close()"
   ]
  },
  {
   "cell_type": "markdown",
   "metadata": {},
   "source": [
    "## Social Network Graph - SQL\n",
    "\n",
    "Our first example is the social network graph, consisting of four persons in total which might know, meet, or write with another person in the network."
   ]
  },
  {
   "cell_type": "markdown",
   "metadata": {},
   "source": [
    "### Simple Queries - SQL\n",
    "\n",
    "To check if the PostgreSQL database is setup correctly, we can simply query the list of nodes stored in the database. The result should consist of four persons with IDs 0 to 4 and names 'A' to 'D'."
   ]
  },
  {
   "cell_type": "code",
   "execution_count": 6,
   "metadata": {},
   "outputs": [
    {
     "name": "stdout",
     "output_type": "stream",
     "text": [
      "[Result] : {[ node_id, name ]}\n",
      "{\n",
      "\t(0, A),\n",
      "\t(1, B),\n",
      "\t(2, D),\n",
      "\t(3, C)\n",
      "}\n"
     ]
    }
   ],
   "source": [
    "# PostgreSQL\n",
    "cur = conn.cursor()\n",
    "cur.execute(\"\"\"\n",
    "SELECT *\n",
    "FROM persons\n",
    "ORDER BY node_id;\n",
    "\"\"\")\n",
    "print_set_postgres(cur)\n",
    "cur.close()"
   ]
  },
  {
   "cell_type": "markdown",
   "metadata": {},
   "source": [
    "We can also query which person knows which other person:"
   ]
  },
  {
   "cell_type": "code",
   "execution_count": 7,
   "metadata": {
    "scrolled": true
   },
   "outputs": [
    {
     "name": "stdout",
     "output_type": "stream",
     "text": [
      "[Result] : {[ pStart.name, pEnd.name ]}\n",
      "{\n",
      "\t(A, B),\n",
      "\t(A, C)\n",
      "}\n"
     ]
    }
   ],
   "source": [
    "# PostgreSQL\n",
    "cur = conn.cursor()\n",
    "cur.execute(\"\"\"\n",
    "SELECT pStart.name AS \"pStart.name\", pEnd.name AS \"pEnd.name\"\n",
    "FROM knows \n",
    "    JOIN persons AS pStart ON knows.start_id = pStart.node_id\n",
    "    JOIN persons AS pEnd ON knows.end_id = pEnd.node_id;\n",
    "\"\"\")\n",
    "print_set_postgres(cur)\n",
    "cur.close()"
   ]
  },
  {
   "cell_type": "markdown",
   "metadata": {},
   "source": [
    "## Recursive Queries in SQL\n",
    "\n",
    "Besides the basic language features presented in earlier lectures and notebooks, SQL offers also some more advanced language features that allow us to simplify some queries. The [`WITH RECURSIVE`](https://www.postgresql.org/docs/current/queries-with.html) statement defines a recursive subquery which can be reused inside its own body. The use of [`ARRAYS`](https://www.postgresql.org/docs/current/arrays.html) allows us to work with lists of values in PostgreSQL."
   ]
  },
  {
   "cell_type": "markdown",
   "metadata": {},
   "source": [
    "### Recursive Queries\n",
    "\n",
    "The following query demonstrates the use of recursive queries and outputs the sum of all integers between 1 and 100. It first defines a recursive subquery `t` with the argument `n` which can then be reused in the body of the query (in parentheses following the `AS`). This body first defines a base case for the recursion, setting the argument `n` to the constant value 1. It then appends `n+1` to `t` using `UNION ALL`in each recursive step as long as `n` is smaller than 100. The outer query at the end then simply outputs the sum of all `n` contained in `t`."
   ]
  },
  {
   "cell_type": "code",
   "execution_count": 8,
   "metadata": {},
   "outputs": [
    {
     "name": "stdout",
     "output_type": "stream",
     "text": [
      "[Result] : {[ n ]}\n",
      "{\n",
      "\t(1),\n",
      "\t(2),\n",
      "\t(3)\n",
      "}\n"
     ]
    }
   ],
   "source": [
    "cur = conn.cursor()\n",
    "cur.execute(\"\"\"\n",
    "WITH RECURSIVE foo(n) AS (\n",
    "     VALUES (1)\n",
    "  UNION \n",
    "     SELECT n+1 FROM foo WHERE n < 3\n",
    ")\n",
    "SELECT * FROM foo;\n",
    "\"\"\")\n",
    "print_set_postgres(cur)\n",
    "cur.close()"
   ]
  },
  {
   "cell_type": "code",
   "execution_count": 9,
   "metadata": {},
   "outputs": [
    {
     "name": "stdout",
     "output_type": "stream",
     "text": [
      "[Result] : {[ n ]}\n",
      "{\n",
      "\t(1),\n",
      "\t(2),\n",
      "\t(3),\n",
      "\t(2),\n",
      "\t(3),\n",
      "\t(3)\n",
      "}\n"
     ]
    }
   ],
   "source": [
    "cur = conn.cursor()\n",
    "cur.execute(\"\"\"\n",
    "WITH RECURSIVE foo(n) AS (\n",
    "     VALUES (1),(2),(3)\n",
    "  UNION ALL\n",
    "     SELECT n+1 FROM foo\n",
    "     WHERE n < 3\n",
    ")\n",
    "SELECT * FROM foo;\n",
    "\"\"\")\n",
    "print_set_postgres(cur)\n",
    "cur.close()"
   ]
  },
  {
   "cell_type": "markdown",
   "metadata": {},
   "source": [
    "### Arrays\n",
    "\n",
    "An array in the context of SQL is simply a list of values than can be stored in a database. PostgreSQL uses the `ARRAY` command to generate such an array. An array `arr` can be modified with a Python-like syntax: `arr[1] = 1` assigns the value 1 to the first element of the array. `arr[2:4] = {2,3,4}` assigns new values to the second to fourth element. Pay attention: The index is one-based, not zero-based as in most programming languages. The `||` operator allows to append new elements to the array: `ARRAY[1,2] || ARRAY[3,4]` generates a new array containing the values 1 to 4. The following query demonstrates the use of arrays and outputs a list of arrays, starting with an array containing just the value 1 and appending the next integer in each recursive step. The terminating condition for the recursion is implemented using the `ANY` operator which checks if any value in the array is greater or equal 10."
   ]
  },
  {
   "cell_type": "code",
   "execution_count": 9,
   "metadata": {
    "scrolled": true
   },
   "outputs": [
    {
     "name": "stdout",
     "output_type": "stream",
     "text": [
      "[Result] : {[ n, arr ]}\n",
      "{\n",
      "\t(1, [1]),\n",
      "\t(2, [1, 2]),\n",
      "\t(3, [1, 2, 3]),\n",
      "\t(4, [1, 2, 3, 4]),\n",
      "\t(5, [1, 2, 3, 4, 5]),\n",
      "\t(6, [1, 2, 3, 4, 5, 6]),\n",
      "\t(7, [1, 2, 3, 4, 5, 6, 7]),\n",
      "\t(8, [1, 2, 3, 4, 5, 6, 7, 8]),\n",
      "\t(9, [1, 2, 3, 4, 5, 6, 7, 8, 9]),\n",
      "\t(10, [1, 2, 3, 4, 5, 6, 7, 8, 9, 10])\n",
      "}\n"
     ]
    }
   ],
   "source": [
    "cur = conn.cursor()\n",
    "cur.execute(\"\"\"\n",
    "WITH RECURSIVE t(n, arr) AS (\n",
    "    VALUES(1, ARRAY[1])\n",
    "  UNION ALL\n",
    "    SELECT n+1, arr || n+1 FROM t WHERE NOT 10 <= ANY(arr)\n",
    ")\n",
    "SELECT * FROM t;\n",
    "\"\"\")\n",
    "print_set_postgres(cur)\n",
    "cur.close()"
   ]
  },
  {
   "cell_type": "markdown",
   "metadata": {},
   "source": [
    "## Basic Precedence Graph (SQL)\n",
    "\n",
    "We now move on to the basic transaction graph example presented in the lecture slides, consisting of just 3 transactions.\n",
    "We will first search for cycles in this small graph before moving on to a more complex example.\n",
    "Obviously, we shouldn't find any cycles in this example."
   ]
  },
  {
   "cell_type": "markdown",
   "metadata": {},
   "source": [
    "### Visualize the Graph\n",
    "\n",
    "We first visualize the graph:"
   ]
  },
  {
   "cell_type": "code",
   "execution_count": 10,
   "metadata": {},
   "outputs": [
    {
     "data": {
      "image/png": "[encoded data removed]",
      "text/plain": [
       "<IPython.core.display.Image object>"
      ]
     },
     "execution_count": 10,
     "metadata": {},
     "output_type": "execute_result"
    }
   ],
   "source": [
    "from IPython.display import Image\n",
    "Image(filename='pics/graphs/basic_example.png') "
   ]
  },
  {
   "cell_type": "markdown",
   "metadata": {},
   "source": [
    "### SQL (Naive Way)\n",
    "\n",
    "A naive approach to find cycles is to simply join the `edges` table multiple times with itself to find all paths contained in the graph. We can then detect cycles by comparing the start nodes with the end nodes. In other words, we iteratively expand edges to paths."
   ]
  },
  {
   "cell_type": "code",
   "execution_count": 11,
   "metadata": {},
   "outputs": [
    {
     "name": "stdout",
     "output_type": "stream",
     "text": [
      "[Result] : {[ start_id, end_id, start_id, end_id ]}\n",
      "{\n",
      "\t(1, 2, None, None),\n",
      "\t(1, 3, 3, 2),\n",
      "\t(3, 2, None, None)\n",
      "}\n"
     ]
    }
   ],
   "source": [
    "cur = conn.cursor()\n",
    "cur.execute(\"\"\"\n",
    "SELECT * \n",
    "FROM edges_small AS e1 \n",
    "LEFT OUTER JOIN edges_small AS e2 ON e1.end_id = e2.start_id AND e1.start_id != e2.start_id\n",
    "\"\"\")\n",
    "print_set_postgres(cur)\n",
    "cur.close()"
   ]
  },
  {
   "cell_type": "markdown",
   "metadata": {},
   "source": [
    "Only for edge (1,3) we found a join mate."
   ]
  },
  {
   "cell_type": "code",
   "execution_count": 12,
   "metadata": {},
   "outputs": [
    {
     "name": "stdout",
     "output_type": "stream",
     "text": [
      "[Result] : {[ start_id, end_id, end_id, end_id ]}\n",
      "{\n",
      "\t(1, 2, None, None),\n",
      "\t(1, 3, 2, None),\n",
      "\t(3, 2, None, None)\n",
      "}\n"
     ]
    }
   ],
   "source": [
    "cur = conn.cursor()\n",
    "cur.execute(\"\"\"\n",
    "SELECT e1.start_id, e1.end_id, e2.end_id, e3.end_id\n",
    "FROM edges_small AS e1 \n",
    "LEFT OUTER JOIN edges_small AS e2 ON e1.end_id = e2.start_id AND e1.start_id != e2.start_id\n",
    "LEFT OUTER JOIN edges_small AS e3 ON e2.end_id = e3.start_id AND e1.start_id != e3.start_id;\n",
    "\"\"\")\n",
    "print_set_postgres(cur)\n",
    "cur.close()"
   ]
  },
  {
   "cell_type": "markdown",
   "metadata": {},
   "source": [
    "As there is no outgoing edge from node 2, (None, None) is added to the path.\n",
    "\n",
    "So, let's filter out all result tuples that end at our initial node:"
   ]
  },
  {
   "cell_type": "code",
   "execution_count": 13,
   "metadata": {},
   "outputs": [
    {
     "name": "stdout",
     "output_type": "stream",
     "text": [
      "[Result] : {[ start_id, end_id, end_id, end_id ]}\n",
      "{\n",
      "}\n"
     ]
    }
   ],
   "source": [
    "cur = conn.cursor()\n",
    "cur.execute(\"\"\"\n",
    "SELECT e1.start_id, e1.end_id, e2.end_id, e3.end_id \n",
    "FROM edges_small AS e1 \n",
    "LEFT OUTER JOIN edges_small AS e2 ON e1.end_id = e2.start_id AND e1.start_id != e2.start_id\n",
    "LEFT OUTER JOIN edges_small AS e3 ON e2.end_id = e3.start_id AND e1.start_id != e3.start_id\n",
    "WHERE e1.end_id = e1.start_id -- cycle through a self-reference\n",
    "    OR e2.end_id = e1.start_id -- cycle through one other node than e1\n",
    "    OR e3.end_id = e1.start_id -- cycle through two other nodes than e1\n",
    "ORDER BY e1.start_id, e1.end_id, e2.end_id, e3.end_id;\n",
    "\"\"\")\n",
    "print_set_postgres(cur)\n",
    "cur.close()"
   ]
  },
  {
   "cell_type": "markdown",
   "metadata": {},
   "source": [
    "The result set is empty, hence there are no cycles in this graph."
   ]
  },
  {
   "cell_type": "markdown",
   "metadata": {},
   "source": [
    "## Advanced Precedence Graph (SQL)\n",
    "\n",
    "In the following, we will extend the basic example from the lecture slides to a total of nine transactions containing multiple possible cycles."
   ]
  },
  {
   "cell_type": "code",
   "execution_count": 14,
   "metadata": {},
   "outputs": [
    {
     "data": {
      "image/png": "[encoded data removed]",
      "text/plain": [
       "<IPython.core.display.Image object>"
      ]
     },
     "execution_count": 14,
     "metadata": {},
     "output_type": "execute_result"
    }
   ],
   "source": [
    "from IPython.display import Image\n",
    "Image(filename='pics/graphs/advanced_example.png') "
   ]
  },
  {
   "cell_type": "markdown",
   "metadata": {},
   "source": [
    "### SQL (Naive Way)\n",
    "\n",
    "Of course, we could again use the naive way to compute possible cycles. However, the query becomes pretty large and would grow even further if the number of nodes increases:"
   ]
  },
  {
   "cell_type": "code",
   "execution_count": 15,
   "metadata": {
    "scrolled": false
   },
   "outputs": [
    {
     "name": "stdout",
     "output_type": "stream",
     "text": [
      "[Result] : {[ start_id, end_id, end_id, end_id, end_id, end_id, end_id, end_id, end_id, end_id ]}\n",
      "{\n",
      "\t(1, 2, 4, 7, None, None, None, None, None, None),\n",
      "\t(1, 2, 6, 5, 1, None, None, None, None, None),\n",
      "\t(1, 2, 6, 5, 4, 7, None, None, None, None),\n",
      "\t(1, 2, 9, 6, 5, 1, None, None, None, None),\n",
      "\t(1, 2, 9, 6, 5, 4, 7, None, None, None),\n",
      "\t(1, 3, 2, 4, 7, None, None, None, None, None),\n",
      "\t(1, 3, 2, 6, 5, 1, None, None, None, None),\n",
      "\t(1, 3, 2, 6, 5, 4, 7, None, None, None),\n",
      "\t(1, 3, 2, 9, 6, 5, 1, None, None, None),\n",
      "\t(1, 3, 2, 9, 6, 5, 4, 7, None, None),\n",
      "\t(1, 3, 7, None, None, None, None, None, None, None),\n",
      "\t(1, 3, 8, 7, None, None, None, None, None, None),\n",
      "\t(1, 3, 8, 9, 6, 5, 1, None, None, None),\n",
      "\t(1, 3, 8, 9, 6, 5, 4, 7, None, None),\n",
      "\t(1, 4, 7, None, None, None, None, None, None, None),\n",
      "\t(1, 7, None, None, None, None, None, None, None, None),\n",
      "\t(2, 4, 7, None, None, None, None, None, None, None),\n",
      "\t(2, 6, 5, 1, 2, None, None, None, None, None),\n",
      "\t(2, 6, 5, 1, 3, 2, None, None, None, None),\n",
      "\t(2, 6, 5, 1, 3, 7, None, None, None, None),\n",
      "\t(2, 6, 5, 1, 3, 8, 7, None, None, None),\n",
      "\t(2, 6, 5, 1, 3, 8, 9, 6, 5, 1),\n",
      "\t(2, 6, 5, 1, 3, 8, 9, 6, 5, 4),\n",
      "\t(2, 6, 5, 1, 4, 7, None, None, None, None),\n",
      "\t(2, 6, 5, 1, 7, None, None, None, None, None),\n",
      "\t(2, 6, 5, 4, 7, None, None, None, None, None),\n",
      "\t(2, 9, 6, 5, 1, 2, None, None, None, None),\n",
      "\t(2, 9, 6, 5, 1, 3, 2, None, None, None),\n",
      "\t(2, 9, 6, 5, 1, 3, 7, None, None, None),\n",
      "\t(2, 9, 6, 5, 1, 3, 8, 7, None, None),\n",
      "\t(2, 9, 6, 5, 1, 3, 8, 9, 6, 5),\n",
      "\t(2, 9, 6, 5, 1, 4, 7, None, None, None),\n",
      "\t(2, 9, 6, 5, 1, 7, None, None, None, None),\n",
      "\t(2, 9, 6, 5, 4, 7, None, None, None, None),\n",
      "\t(3, 2, 4, 7, None, None, None, None, None, None),\n",
      "\t(3, 2, 6, 5, 1, 2, 4, 7, None, None),\n",
      "\t(3, 2, 6, 5, 1, 2, 6, 5, 1, 2),\n",
      "\t(3, 2, 6, 5, 1, 2, 6, 5, 1, 3),\n",
      "\t(3, 2, 6, 5, 1, 2, 6, 5, 1, 4),\n",
      "\t(3, 2, 6, 5, 1, 2, 6, 5, 1, 7),\n",
      "\t(3, 2, 6, 5, 1, 2, 6, 5, 4, 7),\n",
      "\t(3, 2, 6, 5, 1, 2, 9, 6, 5, 1),\n",
      "\t(3, 2, 6, 5, 1, 2, 9, 6, 5, 4),\n",
      "\t(3, 2, 6, 5, 1, 3, None, None, None, None),\n",
      "\t(3, 2, 6, 5, 1, 4, 7, None, None, None),\n",
      "\t(3, 2, 6, 5, 1, 7, None, None, None, None),\n",
      "\t(3, 2, 6, 5, 4, 7, None, None, None, None),\n",
      "\t(3, 2, 9, 6, 5, 1, 2, 4, 7, None),\n",
      "\t(3, 2, 9, 6, 5, 1, 2, 6, 5, 1),\n",
      "\t(3, 2, 9, 6, 5, 1, 2, 6, 5, 4),\n",
      "\t(3, 2, 9, 6, 5, 1, 2, 9, 6, 5),\n",
      "\t(3, 2, 9, 6, 5, 1, 3, None, None, None),\n",
      "\t(3, 2, 9, 6, 5, 1, 4, 7, None, None),\n",
      "\t(3, 2, 9, 6, 5, 1, 7, None, None, None),\n",
      "\t(3, 2, 9, 6, 5, 4, 7, None, None, None),\n",
      "\t(3, 7, None, None, None, None, None, None, None, None),\n",
      "\t(3, 8, 7, None, None, None, None, None, None, None),\n",
      "\t(3, 8, 9, 6, 5, 1, 2, 4, 7, None),\n",
      "\t(3, 8, 9, 6, 5, 1, 2, 6, 5, 1),\n",
      "\t(3, 8, 9, 6, 5, 1, 2, 6, 5, 4),\n",
      "\t(3, 8, 9, 6, 5, 1, 2, 9, 6, 5),\n",
      "\t(3, 8, 9, 6, 5, 1, 3, None, None, None),\n",
      "\t(3, 8, 9, 6, 5, 1, 4, 7, None, None),\n",
      "\t(3, 8, 9, 6, 5, 1, 7, None, None, None),\n",
      "\t(3, 8, 9, 6, 5, 4, 7, None, None, None),\n",
      "\t(4, 7, None, None, None, None, None, None, None, None),\n",
      "\t(5, 1, 2, 4, 7, None, None, None, None, None),\n",
      "\t(5, 1, 2, 6, 5, None, None, None, None, None),\n",
      "\t(5, 1, 2, 9, 6, 5, None, None, None, None),\n",
      "\t(5, 1, 3, 2, 4, 7, None, None, None, None),\n",
      "\t(5, 1, 3, 2, 6, 5, None, None, None, None),\n",
      "\t(5, 1, 3, 2, 9, 6, 5, None, None, None),\n",
      "\t(5, 1, 3, 7, None, None, None, None, None, None),\n",
      "\t(5, 1, 3, 8, 7, None, None, None, None, None),\n",
      "\t(5, 1, 3, 8, 9, 6, 5, None, None, None),\n",
      "\t(5, 1, 4, 7, None, None, None, None, None, None),\n",
      "\t(5, 1, 7, None, None, None, None, None, None, None),\n",
      "\t(5, 4, 7, None, None, None, None, None, None, None),\n",
      "\t(6, 5, 1, 2, 4, 7, None, None, None, None),\n",
      "\t(6, 5, 1, 2, 6, None, None, None, None, None),\n",
      "\t(6, 5, 1, 2, 9, 6, None, None, None, None),\n",
      "\t(6, 5, 1, 3, 2, 4, 7, None, None, None),\n",
      "\t(6, 5, 1, 3, 2, 6, None, None, None, None),\n",
      "\t(6, 5, 1, 3, 2, 9, 6, None, None, None),\n",
      "\t(6, 5, 1, 3, 7, None, None, None, None, None),\n",
      "\t(6, 5, 1, 3, 8, 7, None, None, None, None),\n",
      "\t(6, 5, 1, 3, 8, 9, 6, None, None, None),\n",
      "\t(6, 5, 1, 4, 7, None, None, None, None, None),\n",
      "\t(6, 5, 1, 7, None, None, None, None, None, None),\n",
      "\t(6, 5, 4, 7, None, None, None, None, None, None),\n",
      "\t(8, 7, None, None, None, None, None, None, None, None),\n",
      "\t(8, 9, 6, 5, 1, 2, 4, 7, None, None),\n",
      "\t(8, 9, 6, 5, 1, 2, 6, 5, 1, 2),\n",
      "\t(8, 9, 6, 5, 1, 2, 6, 5, 1, 3),\n",
      "\t(8, 9, 6, 5, 1, 2, 6, 5, 1, 4),\n",
      "\t(8, 9, 6, 5, 1, 2, 6, 5, 1, 7),\n",
      "\t(8, 9, 6, 5, 1, 2, 6, 5, 4, 7),\n",
      "\t(8, 9, 6, 5, 1, 2, 9, 6, 5, 1),\n",
      "\t(8, 9, 6, 5, 1, 2, 9, 6, 5, 4),\n",
      "\t(8, 9, 6, 5, 1, 3, 2, 4, 7, None),\n",
      "\t(8, 9, 6, 5, 1, 3, 2, 6, 5, 1),\n",
      "\t(8, 9, 6, 5, 1, 3, 2, 6, 5, 4),\n",
      "\t(8, 9, 6, 5, 1, 3, 2, 9, 6, 5),\n",
      "\t(8, 9, 6, 5, 1, 3, 7, None, None, None),\n",
      "\t(8, 9, 6, 5, 1, 3, 8, None, None, None),\n",
      "\t(8, 9, 6, 5, 1, 4, 7, None, None, None),\n",
      "\t(8, 9, 6, 5, 1, 7, None, None, None, None),\n",
      "\t(8, 9, 6, 5, 4, 7, None, None, None, None),\n",
      "\t(9, 6, 5, 1, 2, 4, 7, None, None, None),\n",
      "\t(9, 6, 5, 1, 2, 6, 5, 1, 2, 4),\n",
      "\t(9, 6, 5, 1, 2, 6, 5, 1, 2, 6),\n",
      "\t(9, 6, 5, 1, 2, 6, 5, 1, 2, 9),\n",
      "\t(9, 6, 5, 1, 2, 6, 5, 1, 3, 2),\n",
      "\t(9, 6, 5, 1, 2, 6, 5, 1, 3, 7),\n",
      "\t(9, 6, 5, 1, 2, 6, 5, 1, 3, 8),\n",
      "\t(9, 6, 5, 1, 2, 6, 5, 1, 4, 7),\n",
      "\t(9, 6, 5, 1, 2, 6, 5, 1, 7, None),\n",
      "\t(9, 6, 5, 1, 2, 6, 5, 4, 7, None),\n",
      "\t(9, 6, 5, 1, 2, 9, None, None, None, None),\n",
      "\t(9, 6, 5, 1, 3, 2, 4, 7, None, None),\n",
      "\t(9, 6, 5, 1, 3, 2, 6, 5, 1, 2),\n",
      "\t(9, 6, 5, 1, 3, 2, 6, 5, 1, 3),\n",
      "\t(9, 6, 5, 1, 3, 2, 6, 5, 1, 4),\n",
      "\t(9, 6, 5, 1, 3, 2, 6, 5, 1, 7),\n",
      "\t(9, 6, 5, 1, 3, 2, 6, 5, 4, 7),\n",
      "\t(9, 6, 5, 1, 3, 2, 9, None, None, None),\n",
      "\t(9, 6, 5, 1, 3, 7, None, None, None, None),\n",
      "\t(9, 6, 5, 1, 3, 8, 7, None, None, None),\n",
      "\t(9, 6, 5, 1, 3, 8, 9, None, None, None),\n",
      "\t(9, 6, 5, 1, 4, 7, None, None, None, None),\n",
      "\t(9, 6, 5, 1, 7, None, None, None, None, None),\n",
      "\t(9, 6, 5, 4, 7, None, None, None, None, None)\n",
      "}\n"
     ]
    }
   ],
   "source": [
    "# show all possible paths through the graph up to length 9:\n",
    "cur = conn.cursor()\n",
    "cur.execute(\"\"\"\n",
    "SELECT e1.start_id, e1.end_id, e2.end_id, e3.end_id, e4.end_id, e5.end_id, e6.end_id, e7.end_id, e8.end_id, e9.end_id\n",
    "FROM edges AS e1 \n",
    "LEFT OUTER JOIN edges AS e2 ON e1.end_id = e2.start_id AND e1.start_id != e2.start_id\n",
    "LEFT OUTER JOIN edges AS e3 ON e2.end_id = e3.start_id AND e1.start_id != e3.start_id\n",
    "LEFT OUTER JOIN edges AS e4 ON e3.end_id = e4.start_id AND e1.start_id != e4.start_id\n",
    "LEFT OUTER JOIN edges AS e5 ON e4.end_id = e5.start_id AND e1.start_id != e5.start_id\n",
    "LEFT OUTER JOIN edges AS e6 ON e5.end_id = e6.start_id AND e1.start_id != e6.start_id\n",
    "LEFT OUTER JOIN edges AS e7 ON e6.end_id = e7.start_id AND e1.start_id != e7.start_id\n",
    "LEFT OUTER JOIN edges AS e8 ON e7.end_id = e8.start_id AND e1.start_id != e8.start_id\n",
    "LEFT OUTER JOIN edges AS e9 ON e8.end_id = e9.start_id AND e1.start_id != e9.start_id\n",
    "ORDER BY e1.start_id, e1.end_id, e2.end_id, e3.end_id, e4.end_id, e5.end_id, e6.end_id, e7.end_id, e8.end_id, e9.end_id;\n",
    "\"\"\")\n",
    "print_set_postgres(cur)\n",
    "cur.close()"
   ]
  },
  {
   "cell_type": "code",
   "execution_count": 16,
   "metadata": {},
   "outputs": [
    {
     "name": "stdout",
     "output_type": "stream",
     "text": [
      "[Result] : {[ start_id, end_id, end_id, end_id, end_id, end_id, end_id, end_id, end_id, end_id ]}\n",
      "{\n",
      "\t(1, 2, 6, 5, 1, None, None, None, None, None),\n",
      "\t(1, 2, 9, 6, 5, 1, None, None, None, None),\n",
      "\t(1, 3, 2, 6, 5, 1, None, None, None, None),\n",
      "\t(1, 3, 2, 9, 6, 5, 1, None, None, None),\n",
      "\t(1, 3, 8, 9, 6, 5, 1, None, None, None),\n",
      "\t(2, 6, 5, 1, 2, None, None, None, None, None),\n",
      "\t(2, 6, 5, 1, 3, 2, None, None, None, None),\n",
      "\t(2, 9, 6, 5, 1, 2, None, None, None, None),\n",
      "\t(2, 9, 6, 5, 1, 3, 2, None, None, None),\n",
      "\t(3, 2, 6, 5, 1, 2, 6, 5, 1, 3),\n",
      "\t(3, 2, 6, 5, 1, 3, None, None, None, None),\n",
      "\t(3, 2, 9, 6, 5, 1, 3, None, None, None),\n",
      "\t(3, 8, 9, 6, 5, 1, 3, None, None, None),\n",
      "\t(5, 1, 2, 6, 5, None, None, None, None, None),\n",
      "\t(5, 1, 2, 9, 6, 5, None, None, None, None),\n",
      "\t(5, 1, 3, 2, 6, 5, None, None, None, None),\n",
      "\t(5, 1, 3, 2, 9, 6, 5, None, None, None),\n",
      "\t(5, 1, 3, 8, 9, 6, 5, None, None, None),\n",
      "\t(6, 5, 1, 2, 6, None, None, None, None, None),\n",
      "\t(6, 5, 1, 2, 9, 6, None, None, None, None),\n",
      "\t(6, 5, 1, 3, 2, 6, None, None, None, None),\n",
      "\t(6, 5, 1, 3, 2, 9, 6, None, None, None),\n",
      "\t(6, 5, 1, 3, 8, 9, 6, None, None, None),\n",
      "\t(8, 9, 6, 5, 1, 3, 8, None, None, None),\n",
      "\t(9, 6, 5, 1, 2, 6, 5, 1, 2, 9),\n",
      "\t(9, 6, 5, 1, 2, 9, None, None, None, None),\n",
      "\t(9, 6, 5, 1, 3, 2, 9, None, None, None),\n",
      "\t(9, 6, 5, 1, 3, 8, 9, None, None, None)\n",
      "}\n"
     ]
    }
   ],
   "source": [
    "# show all possible paths through the graph up to length 9 that end up at the start node, i.e. a cycle:\n",
    "cur = conn.cursor()\n",
    "cur.execute(\"\"\"\n",
    "SELECT e1.start_id, e1.end_id, e2.end_id, e3.end_id, e4.end_id, e5.end_id, e6.end_id, e7.end_id, e8.end_id, e9.end_id\n",
    "FROM edges AS e1 \n",
    "LEFT OUTER JOIN edges AS e2 ON e1.end_id = e2.start_id AND e1.start_id != e2.start_id\n",
    "LEFT OUTER JOIN edges AS e3 ON e2.end_id = e3.start_id AND e1.start_id != e3.start_id\n",
    "LEFT OUTER JOIN edges AS e4 ON e3.end_id = e4.start_id AND e1.start_id != e4.start_id\n",
    "LEFT OUTER JOIN edges AS e5 ON e4.end_id = e5.start_id AND e1.start_id != e5.start_id\n",
    "LEFT OUTER JOIN edges AS e6 ON e5.end_id = e6.start_id AND e1.start_id != e6.start_id\n",
    "LEFT OUTER JOIN edges AS e7 ON e6.end_id = e7.start_id AND e1.start_id != e7.start_id\n",
    "LEFT OUTER JOIN edges AS e8 ON e7.end_id = e8.start_id AND e1.start_id != e8.start_id\n",
    "LEFT OUTER JOIN edges AS e9 ON e8.end_id = e9.start_id AND e1.start_id != e9.start_id\n",
    "WHERE e1.end_id = e1.start_id -- cycle through a self-reference\n",
    "    OR e2.end_id = e1.start_id -- cycle through one other node than e1\n",
    "    OR e3.end_id = e1.start_id -- cycle through two other nodes than e1\n",
    "    OR e4.end_id = e1.start_id -- ...\n",
    "    OR e5.end_id = e1.start_id\n",
    "    OR e6.end_id = e1.start_id\n",
    "    OR e7.end_id = e1.start_id\n",
    "    OR e8.end_id = e1.start_id\n",
    "    OR e9.end_id = e1.start_id \n",
    "ORDER BY e1.start_id, e1.end_id, e2.end_id, e3.end_id, e4.end_id, e5.end_id, e6.end_id, e7.end_id, e8.end_id, e9.end_id;\n",
    "\"\"\")\n",
    "print_set_postgres(cur)\n",
    "cur.close()"
   ]
  },
  {
   "cell_type": "markdown",
   "metadata": {},
   "source": [
    "### SQL (Using Recursive Query)\n",
    "\n",
    "We can simplify the above query if we use the advanced language feature \"recursive queries\" which we introduced in earlier sections of this notebook.\n",
    "However, we must combine the language features introduced above to a pretty complex query. It defines a recursive query `rec_edges` which stores the following arguments:\n",
    "* `start_id`: The id of the node the current edge is starting at\n",
    "* `end_id`: The id of the node the current edge is ending at\n",
    "* `length`: The length of the path already explored\n",
    "* `path`: The path we already explored, stored as an array\n",
    "* `cycle`: A boolean value indicating if we found a cycle in our path\n",
    "\n",
    "In our base case, we initialize an array containing the `start_id` of each edge, set the length to 1 and the boolean flag `cycle` to false. In the recursive step, we then recursively join our previous paths with the edges relation (as we have done in the naive approach using the `LEFT OUTER JOIN`). We increase the `length` parameter of the result by 1 and append the id of the start node of the newly joined edge to the `path`. The `cycle` argument is updated by checking if any value in the `path` is equal to the id of the current start node. We continue this recursive step as long as we haven't found a cycle.\n",
    "\n",
    "We finally output the id of the first node in our path (where we started our exploration), the length of the cycle found and the array containing all node ids within the cycle. We restrict our output to cycles beginning with the first node (i.e. the path contains no node prior to the cycle)."
   ]
  },
  {
   "cell_type": "code",
   "execution_count": 17,
   "metadata": {},
   "outputs": [
    {
     "name": "stdout",
     "output_type": "stream",
     "text": [
      "[Result] : {[ start_id, length, path ]}\n",
      "{\n",
      "\t(1, 5, [1, 2, 6, 5, 1]),\n",
      "\t(1, 6, [1, 2, 9, 6, 5, 1]),\n",
      "\t(1, 6, [1, 3, 2, 6, 5, 1]),\n",
      "\t(1, 7, [1, 3, 2, 9, 6, 5, 1]),\n",
      "\t(1, 7, [1, 3, 8, 9, 6, 5, 1]),\n",
      "\t(2, 5, [2, 6, 5, 1, 2]),\n",
      "\t(2, 6, [2, 6, 5, 1, 3, 2]),\n",
      "\t(2, 6, [2, 9, 6, 5, 1, 2]),\n",
      "\t(2, 7, [2, 9, 6, 5, 1, 3, 2]),\n",
      "\t(3, 6, [3, 2, 6, 5, 1, 3]),\n",
      "\t(3, 7, [3, 2, 9, 6, 5, 1, 3]),\n",
      "\t(3, 7, [3, 8, 9, 6, 5, 1, 3]),\n",
      "\t(5, 5, [5, 1, 2, 6, 5]),\n",
      "\t(5, 6, [5, 1, 2, 9, 6, 5]),\n",
      "\t(5, 6, [5, 1, 3, 2, 6, 5]),\n",
      "\t(5, 7, [5, 1, 3, 2, 9, 6, 5]),\n",
      "\t(5, 7, [5, 1, 3, 8, 9, 6, 5]),\n",
      "\t(6, 5, [6, 5, 1, 2, 6]),\n",
      "\t(6, 6, [6, 5, 1, 2, 9, 6]),\n",
      "\t(6, 6, [6, 5, 1, 3, 2, 6]),\n",
      "\t(6, 7, [6, 5, 1, 3, 2, 9, 6]),\n",
      "\t(6, 7, [6, 5, 1, 3, 8, 9, 6]),\n",
      "\t(8, 7, [8, 9, 6, 5, 1, 3, 8]),\n",
      "\t(9, 6, [9, 6, 5, 1, 2, 9]),\n",
      "\t(9, 7, [9, 6, 5, 1, 3, 2, 9]),\n",
      "\t(9, 7, [9, 6, 5, 1, 3, 8, 9])\n",
      "}\n"
     ]
    }
   ],
   "source": [
    "cur = conn.cursor()\n",
    "cur.execute(\"\"\"\n",
    "-- create a local view with the following attributes:\n",
    "-- start node, end node, length of the path, the path-array, and whether cycle\n",
    "WITH RECURSIVE rec_edges(start_id, end_id, length, path, cycle) AS (\n",
    "        -- return all edges and their start and end nodes \n",
    "        -- expand each tuple by the length of the path (1), the path (start_id) and \n",
    "        -- whether we found a cycle (false unless the edge is a self-reference, not present in the example data)\n",
    "        SELECT e.start_id, e.end_id, 1, ARRAY[e.start_id], e.start_id = e.end_id\n",
    "        FROM edges AS e\n",
    "    UNION\n",
    "        -- join next edge to temporary result,\n",
    "        -- increase path length by one,\n",
    "        -- append current node to path-array (using the ||-operator),\n",
    "        -- additionaly check if e.start_id can be found in the path-array (using ANY(); if true, we found a cycle)\n",
    "        SELECT e.start_id, e.end_id, re.length + 1, path || e.start_id, e.start_id = ANY(path)\n",
    "        FROM edges AS e JOIN rec_edges AS re ON e.start_id = re.end_id\n",
    "        WHERE NOT cycle\n",
    "        -- we only consider paths that do not contain a cycle yet\n",
    "        -- this works as each result of a recursive part of WITH RECURSIVE is added to the total result anayways!\n",
    ")\n",
    "-- pick all paths that are cycles (in the sense that we return to the start node)\n",
    "SELECT DISTINCT start_id, length, path\n",
    "FROM rec_edges\n",
    "WHERE cycle AND start_id = path[1];\n",
    "\"\"\")\n",
    "print_set_postgres(cur)\n",
    "cur.close()"
   ]
  }
 ],
 "metadata": {
  "kernelspec": {
   "display_name": "Python 3",
   "language": "python",
   "name": "python3"
  },
  "language_info": {
   "codemirror_mode": {
    "name": "ipython",
    "version": 3
   },
   "file_extension": ".py",
   "mimetype": "text/x-python",
   "name": "python",
   "nbconvert_exporter": "python",
   "pygments_lexer": "ipython3",
   "version": "3.7.6"
  },
  "varInspector": {
   "cols": {
    "lenName": 16,
    "lenType": 16,
    "lenVar": 40
   },
   "kernels_config": {
    "python": {
     "delete_cmd_postfix": "",
     "delete_cmd_prefix": "del ",
     "library": "var_list.py",
     "varRefreshCmd": "print(var_dic_list())"
    },
    "r": {
     "delete_cmd_postfix": ") ",
     "delete_cmd_prefix": "rm(",
     "library": "var_list.r",
     "varRefreshCmd": "cat(var_dic_list()) "
    }
   },
   "types_to_exclude": [
    "module",
    "function",
    "builtin_function_or_method",
    "instance",
    "_Feature"
   ],
   "window_display": false
  }
 },
 "nbformat": 4,
 "nbformat_minor": 2
}
