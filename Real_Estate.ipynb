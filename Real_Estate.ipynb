{
 "cells": [
  {
   "cell_type": "code",
   "execution_count": null,
   "metadata": {
    "collapsed": true,
    "is_executing": true
   },
   "outputs": [],
   "source": [
    "import duckdb"
   ]
  },
  {
   "cell_type": "markdown",
   "source": [
    "### Relational Schema\n",
    "[persons] : {[pid: int, name: string, birth_year: int, main_residence: (houses)]}\n",
    "[houses] : {[hid: int, city: string, street: string, house_number: int]}\n",
    "[estate_agents] : {[eid: (persons), salary: int, starting_year: int, agency: (estate_agencies)]}\n",
    "[estate_agencies] : {[name: string, founding_year: int, city: string]}\n",
    "[sell] : {[house: (houses), buyer: (persons), date: date, agent: (estate_agents),\n",
    "          seller: (persons), price: int)]}\n",
    "[advertise] : {[house: (houses), agency: (estate_agencies), budget: int]}\n"
   ],
   "metadata": {
    "collapsed": false
   }
  },
  {
   "cell_type": "code",
   "execution_count": 7,
   "outputs": [
    {
     "ename": "CatalogException",
     "evalue": "Catalog Error: Table with name \"houses\" already exists!",
     "output_type": "error",
     "traceback": [
      "\u001B[0;31m---------------------------------------------------------------------------\u001B[0m",
      "\u001B[0;31mCatalogException\u001B[0m                          Traceback (most recent call last)",
      "Cell \u001B[0;32mIn[7], line 1\u001B[0m\n\u001B[0;32m----> 1\u001B[0m \u001B[43mduckdb\u001B[49m\u001B[38;5;241;43m.\u001B[39;49m\u001B[43msql\u001B[49m\u001B[43m(\u001B[49m\u001B[38;5;124;43m\"\"\"\u001B[39;49m\n\u001B[1;32m      2\u001B[0m \u001B[38;5;124;43mCREATE TABLE houses (\u001B[39;49m\n\u001B[1;32m      3\u001B[0m \u001B[38;5;124;43m    hid INTEGER PRIMARY KEY,\u001B[39;49m\n\u001B[1;32m      4\u001B[0m \u001B[38;5;124;43m    city VARCHAR,\u001B[39;49m\n\u001B[1;32m      5\u001B[0m \u001B[38;5;124;43m    street VARCHAR,\u001B[39;49m\n\u001B[1;32m      6\u001B[0m \u001B[38;5;124;43m    house_number INTEGER\u001B[39;49m\n\u001B[1;32m      7\u001B[0m \u001B[38;5;124;43m);\u001B[39;49m\u001B[38;5;124;43m\"\"\"\u001B[39;49m\u001B[43m)\u001B[49m\n\u001B[1;32m      9\u001B[0m duckdb\u001B[38;5;241m.\u001B[39msql(\u001B[38;5;124m\"\"\"\u001B[39m\n\u001B[1;32m     10\u001B[0m \u001B[38;5;124mCREATE TABLE persons (\u001B[39m\n\u001B[1;32m     11\u001B[0m \u001B[38;5;124m    pid INTEGER PRIMARY KEY,\u001B[39m\n\u001B[0;32m   (...)\u001B[0m\n\u001B[1;32m     14\u001B[0m \u001B[38;5;124m    main_residence INTEGER REFERENCES houses(hid)\u001B[39m\n\u001B[1;32m     15\u001B[0m \u001B[38;5;124m);\u001B[39m\u001B[38;5;124m\"\"\"\u001B[39m)\n\u001B[1;32m     17\u001B[0m duckdb\u001B[38;5;241m.\u001B[39msql(\u001B[38;5;124m\"\"\"\u001B[39m\n\u001B[1;32m     18\u001B[0m \u001B[38;5;124mCREATE TABLE estate_agencies (\u001B[39m\n\u001B[1;32m     19\u001B[0m \u001B[38;5;124m    name VARCHAR,\u001B[39m\n\u001B[0;32m   (...)\u001B[0m\n\u001B[1;32m     22\u001B[0m \u001B[38;5;124m    PRIMARY KEY (name)\u001B[39m\n\u001B[1;32m     23\u001B[0m \u001B[38;5;124m);\u001B[39m\u001B[38;5;124m\"\"\"\u001B[39m)\n",
      "\u001B[0;31mCatalogException\u001B[0m: Catalog Error: Table with name \"houses\" already exists!"
     ]
    }
   ],
   "source": [
    "duckdb.sql(\"\"\"\n",
    "CREATE TABLE houses (\n",
    "    hid INTEGER PRIMARY KEY,\n",
    "    city VARCHAR,\n",
    "    street VARCHAR,\n",
    "    house_number INTEGER\n",
    ");\"\"\")\n",
    "\n",
    "duckdb.sql(\"\"\"\n",
    "CREATE TABLE persons (\n",
    "    pid INTEGER PRIMARY KEY,\n",
    "    name VARCHAR,\n",
    "    birth_year INTEGER,\n",
    "    main_residence INTEGER REFERENCES houses(hid)\n",
    ");\"\"\")\n",
    "\n",
    "duckdb.sql(\"\"\"\n",
    "CREATE TABLE estate_agencies (\n",
    "    name VARCHAR,\n",
    "    founding_year INTEGER,\n",
    "    city VARCHAR,\n",
    "    PRIMARY KEY (name)\n",
    ");\"\"\")\n",
    "\n",
    "duckdb.sql(\"\"\"\n",
    "CREATE TABLE estate_agents (\n",
    "    eid INTEGER PRIMARY KEY,\n",
    "    salary INTEGER,\n",
    "    starting_year INTEGER,\n",
    "    agency VARCHAR,\n",
    "    FOREIGN KEY (agency) REFERENCES estate_agencies(name),\n",
    "    FOREIGN KEY (eid) REFERENCES persons(pid)\n",
    ");\"\"\")\n",
    "duckdb.sql(\"\"\"\n",
    "CREATE TABLE sell (\n",
    "    house INTEGER REFERENCES houses(hid),\n",
    "    buyer INTEGER REFERENCES persons(pid),\n",
    "    date DATE,\n",
    "    agent INTEGER REFERENCES estate_agents(eid),\n",
    "    seller INTEGER REFERENCES persons(pid),\n",
    "    price INTEGER,\n",
    "    PRIMARY KEY (house, buyer, date)\n",
    ");\"\"\")\n",
    "duckdb.sql(\"\"\"\n",
    "CREATE TABLE advertise (\n",
    "    house INTEGER REFERENCES houses(hid),\n",
    "    agency VARCHAR REFERENCES estate_agencies(name),\n",
    "    budget INTEGER,\n",
    "    PRIMARY KEY (house, agency)\n",
    ");\"\"\")\n"
   ],
   "metadata": {
    "collapsed": false,
    "ExecuteTime": {
     "end_time": "2023-05-08T17:49:37.842523700Z",
     "start_time": "2023-05-08T17:49:37.785654400Z"
    }
   }
  },
  {
   "cell_type": "code",
   "execution_count": null,
   "outputs": [],
   "source": [
    "duckdb.sql(\"COPY houses FROM './data/real_estate/houses.csv' (FORMAT CSV, DELIMITER ',');\")\n",
    "duckdb.sql(\"COPY persons FROM './data/real_estate/persons.csv' (FORMAT CSV, DELIMITER ',');\")\n",
    "duckdb.sql(\"COPY estate_agencies FROM './data/real_estate/estate_agencies.csv' (FORMAT CSV, DELIMITER ',');\")\n",
    "duckdb.sql(\"COPY estate_agents FROM './data/real_estate/estate_agents.csv' (FORMAT CSV, DELIMITER ',');\")\n",
    "duckdb.sql(\"COPY sell FROM './data/real_estate/sell.csv' (FORMAT CSV, DELIMITER ',');\")\n",
    "duckdb.sql(\"COPY advertise FROM './data/real_estate/advertise.csv' (FORMAT CSV, DELIMITER ',');\")"
   ],
   "metadata": {
    "collapsed": false,
    "ExecuteTime": {
     "start_time": "2023-05-08T17:49:37.810894Z"
    }
   }
  }
 ],
 "metadata": {
  "kernelspec": {
   "display_name": "Python 3",
   "language": "python",
   "name": "python3"
  },
  "language_info": {
   "codemirror_mode": {
    "name": "ipython",
    "version": 2
   },
   "file_extension": ".py",
   "mimetype": "text/x-python",
   "name": "python",
   "nbconvert_exporter": "python",
   "pygments_lexer": "ipython2",
   "version": "2.7.6"
  }
 },
 "nbformat": 4,
 "nbformat_minor": 0
}
