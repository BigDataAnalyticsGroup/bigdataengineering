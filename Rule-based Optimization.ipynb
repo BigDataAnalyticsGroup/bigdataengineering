{
 "cells": [
  {
   "cell_type": "markdown",
   "metadata": {},
   "source": [
    "# Query optimization of relational algebra in Python.\n",
    "\n",
    "Copyright Jens Dittrich & Felix Martin Schuhknecht & Marcel Maltry [Big Data Analytics Group](https://bigdata.uni-saarland.de/), [CC-BY-SA](https://creativecommons.org/licenses/by-sa/4.0/legalcode)\n",
    "\n",
    "## Rule-based Optimization\n",
    "\n",
    "### Imports and Setup"
   ]
  },
  {
   "cell_type": "code",
   "execution_count": null,
   "metadata": {},
   "outputs": [],
   "source": [
    "from graphviz import Digraph, Source\n",
    "from ra.relation import Relation\n",
    "from ra.utils import load_csv\n",
    "from ra.operators_log import *\n",
    "from ra.operators_phys import *\n",
    "from ra.rule import *\n",
    "from ra.rules_log import *\n",
    "from ra.rules_phys import *\n",
    "\n",
    "import copy"
   ]
  },
  {
   "cell_type": "code",
   "execution_count": null,
   "metadata": {},
   "outputs": [],
   "source": [
    "from os import listdir\n",
    "\n",
    "# Data source: https://relational.fit.cvut.cz/dataset/IMDb\n",
    "# Information courtesy of IMDb (http://www.imdb.com). Used with permission.\n",
    "# Notice: The data can only be used for personal and non-commercial use and must not\n",
    "# be altered/republished/resold/repurposed to create any kind of online/offline\n",
    "# database of movie information (except for individual personal use).\n",
    "\n",
    "path = 'data/IMDb_sample'  \n",
    "# create a list of all files in that directory that end with \"*.csv\":\n",
    "files = [file for file in listdir(path) if file.endswith('.csv')]\n",
    "\n",
    "relations = [load_csv(path + '/' + file, file[:-4], delimiter='\\t') for file in files]\n",
    "\n",
    "relationsDict = {}\n",
    "for rel in relations:\n",
    "    relationsDict[rel.name] = rel\n",
    "print(relationsDict)"
   ]
  },
  {
   "cell_type": "code",
   "execution_count": null,
   "metadata": {},
   "outputs": [],
   "source": [
    "# build LeafRelation object from relations dictionary\n",
    "movies_directors = LeafRelation(relationsDict['movies_directors'])\n",
    "actors = LeafRelation(relationsDict['actors'])\n",
    "directors = LeafRelation(relationsDict['directors'])\n",
    "movies_genres = LeafRelation(relationsDict['movies_genres'])\n",
    "directors_genres = LeafRelation(relationsDict['directors_genres'])\n",
    "movies = LeafRelation(relationsDict['movies'])\n",
    "roles = LeafRelation(relationsDict['roles'])"
   ]
  },
  {
   "cell_type": "code",
   "execution_count": null,
   "metadata": {},
   "outputs": [],
   "source": [
    "# build indexes\n",
    "#directors_genres.relation.build_index('genre')\n",
    "#directors_genres.relation.build_index('prob')"
   ]
  },
  {
   "cell_type": "markdown",
   "metadata": {},
   "source": [
    "### Example"
   ]
  },
  {
   "cell_type": "markdown",
   "metadata": {},
   "source": [
    "An example for an unoptimized logical operator tree (aka **canonical plan**):"
   ]
  },
  {
   "cell_type": "code",
   "execution_count": null,
   "metadata": {},
   "outputs": [],
   "source": [
    "# Unoptimized plan\n",
    "cp = Cartesian_Product(directors, directors_genres)\n",
    "sel1 = Selection(cp, 'id == director_id')\n",
    "sel2 = Selection(sel1, 'last_name == \\'Tarantino\\' and prob < 0.7')\n",
    "sel3 = Selection(sel2, 'genre == \\'Mystery\\' or prob >= 0.3')\n",
    "proj = Projection(sel3, 'last_name, prob')\n",
    "\n",
    "graph = proj.get_graph()\n",
    "Source(graph)"
   ]
  },
  {
   "cell_type": "markdown",
   "metadata": {},
   "source": [
    "### Optimization 1: Break up 'and' selections\n",
    "\n",
    "Replace every conjunction, i.e. selection of the form (A and B and C), with a chain of individual selections of the form (A), (B), (C). This optimization enables a fine-granular selection pushdown (Optimization 2)."
   ]
  },
  {
   "cell_type": "code",
   "execution_count": null,
   "metadata": {},
   "outputs": [],
   "source": [
    "# before optimization\n",
    "graph = proj.get_graph()\n",
    "Source(graph)"
   ]
  },
  {
   "cell_type": "code",
   "execution_count": null,
   "metadata": {},
   "outputs": [],
   "source": [
    "bus = BreakUpSelections(proj) \n",
    "bus.optimize(proj)\n",
    "\n",
    "# after optimization\n",
    "graph = bus.root.get_graph()\n",
    "Source(graph)"
   ]
  },
  {
   "cell_type": "markdown",
   "metadata": {},
   "source": [
    "### Optimization 2: Push down selections"
   ]
  },
  {
   "cell_type": "markdown",
   "metadata": {},
   "source": [
    "Push down every selection as far as possible in the operator tree. This assures the early elimination of tuples. We assume that optimization 1 has been applied already."
   ]
  },
  {
   "cell_type": "code",
   "execution_count": null,
   "metadata": {},
   "outputs": [],
   "source": [
    "# before optimization\n",
    "graph = bus.root.get_graph()\n",
    "Source(graph)"
   ]
  },
  {
   "cell_type": "code",
   "execution_count": null,
   "metadata": {},
   "outputs": [],
   "source": [
    "pds = PushDownSelection(bus.root) \n",
    "pds.optimize(bus.root)\n",
    "\n",
    "# after optimization\n",
    "graph = pds.root.get_graph()\n",
    "Source(graph)"
   ]
  },
  {
   "cell_type": "markdown",
   "metadata": {},
   "source": [
    "### Optimization 3: Replace a join-style selection on top of a cartesian product by a theta join "
   ]
  },
  {
   "cell_type": "code",
   "execution_count": null,
   "metadata": {},
   "outputs": [],
   "source": [
    "# before optimization\n",
    "graph = pds.root.get_graph()\n",
    "Source(graph)"
   ]
  },
  {
   "cell_type": "code",
   "execution_count": null,
   "metadata": {},
   "outputs": [],
   "source": [
    "rbj = ReplaceByJoin(pds.root) \n",
    "rbj.optimize(pds.root)\n",
    "\n",
    "# after optimization\n",
    "graph = rbj.root.get_graph()\n",
    "Source(graph)"
   ]
  },
  {
   "cell_type": "markdown",
   "metadata": {},
   "source": [
    "### Optimization 4: Insert projections\n",
    "\n",
    "Project only the attributes, that are needed upwards the tree"
   ]
  },
  {
   "cell_type": "code",
   "execution_count": null,
   "metadata": {},
   "outputs": [],
   "source": [
    "# before optimization\n",
    "graph = rbj.root.get_graph()\n",
    "Source(graph)"
   ]
  },
  {
   "cell_type": "code",
   "execution_count": null,
   "metadata": {},
   "outputs": [],
   "source": [
    "ip = InsertProjection(rbj.root) \n",
    "ip.optimize(rbj.root)\n",
    "\n",
    "# after optimization\n",
    "graph = ip.root.get_graph()\n",
    "Source(graph)"
   ]
  },
  {
   "cell_type": "markdown",
   "metadata": {},
   "source": [
    "### Exercise: Break up 'Or' Selections\n",
    "\n",
    "Replace every selection of the form (A or B or C) with a chain of unions (A) union (B) union (C). For example:\n",
    "\n",
    "You have to translate a tree like the following ..."
   ]
  },
  {
   "cell_type": "code",
   "execution_count": null,
   "metadata": {},
   "outputs": [],
   "source": [
    "ex_sel = Selection(directors_genres, \"genre == 'Mystery' or prob > 0.5\")\n",
    "graph = ex_sel.get_graph()\n",
    "Source(graph)"
   ]
  },
  {
   "cell_type": "markdown",
   "metadata": {},
   "source": [
    "... into a tree like:"
   ]
  },
  {
   "cell_type": "code",
   "execution_count": null,
   "metadata": {},
   "outputs": [],
   "source": [
    "ex_sel1 = Selection(directors_genres, \"genre == 'Mystery'\")\n",
    "ex_sel2 = Selection(directors_genres, \"prob > 0.5\")\n",
    "ex_union = SetOperator(ex_sel1, ex_sel2, operator.or_, \"∪\")\n",
    "graph = ex_union.get_graph()\n",
    "Source(graph)"
   ]
  },
  {
   "cell_type": "markdown",
   "metadata": {},
   "source": [
    "Your implementation should be able to handle multiple 'or' in a selection as well as arbitrarily complex subtrees below the selection. "
   ]
  },
  {
   "cell_type": "code",
   "execution_count": null,
   "metadata": {},
   "outputs": [],
   "source": [
    "class BreakUpOrSelections(Rule):\n",
    "    \"\"\"\"BreakUpOrSelections Class\n",
    "\n",
    "    Note:\n",
    "        Breaks up selections, where the predicates are concatenated via 'or'.\n",
    "    \"\"\"\n",
    "    def __init__(self, root):\n",
    "        super().__init__(root)\n",
    "        \n",
    "    def _is_or_selection(self, op):\n",
    "        # ... check whether it is a compound selection\n",
    "        # Note: for simplicity, we assume predicates of the form 'A op x or B op y or C op z or ...' \n",
    "        # and reject anything else \n",
    "        \n",
    "        # if there are any brackets, reject directly\n",
    "        brackets = r'()'\n",
    "        if(any(elem in op.predicate for elem in brackets)):\n",
    "            return False\n",
    "        \n",
    "        # first split by ' and '\n",
    "        subpredicates = op.predicate.split(' or ')\n",
    "        if(len(subpredicates) < 2):\n",
    "            return False\n",
    "        \n",
    "        comp_operators = ['==', '<=', '<', '>', '>=']\n",
    "        for s in subpredicates:\n",
    "            # next, split by comparison operator\n",
    "            for o in comp_operators:\n",
    "                if(o in s):\n",
    "                    splits = s.split(o)\n",
    "                    if(len(splits) != 2):\n",
    "                        # we should get 2 expression, but we don't, so reject selection\n",
    "                        return False\n",
    "        return True\n",
    "    \n",
    "    def _match(self, op, parent):\n",
    "        # For each selection operator found ...\n",
    "        if(isinstance(op, Selection)):            \n",
    "            # ... check whether it is an 'or' selection\n",
    "            return self._is_or_selection(op)\n",
    "\n",
    "    def _modify(self, op, parent):\n",
    "        \"\"\"\n",
    "        Splits up a selection with multiple predicates connected via OR into individual selection\n",
    "        connected via Union.\n",
    "        \n",
    "        Args:\n",
    "            op (:obj: Operator): the operator that has been matched\n",
    "            parent (:obj: Operator): the direct parent of op \n",
    "        \n",
    "        Returns:\n",
    "            cont_op (:obj: Operator): the operator to continue matching or None, if optimzation should terminate\n",
    "            cont_parent (:obj: Operator): the parent of the operator to continue matching\n",
    "        \"\"\"\n",
    "        # add your code here!\n",
    "        # ...\n",
    "        # Feel free to use self._copy_tree(), self.__split_or_selection, and Rule._replace()\n",
    "        return None, None\n",
    "    \n",
    "    def _copy_tree(self, op):\n",
    "        copy_op = copy.copy(op)\n",
    "        if(isinstance(op, UnaryOperator)):\n",
    "            copy_op.input = self._copy_tree(op.input)\n",
    "        elif(isinstance(op, BinaryOperator)):\n",
    "            copy_op.l_input = self._copy_tree(op.l_input)\n",
    "            copy_op.r_input = self._copy_tree(op.r_input)\n",
    "        return copy_op\n",
    "    \n",
    "    def _split_or_selection(self, op):\n",
    "        \"\"\"Splits an 'and' compound selection\n",
    "\n",
    "        Args:\n",
    "            op (:obj: Operator): The compound selection to split\n",
    "            \n",
    "        Returns:\n",
    "            The chain of Selection objects, represting the split selection\n",
    "        \"\"\"\n",
    "        # split the predicate\n",
    "        predicates = op.predicate.split(' or ')\n",
    "        selections = []\n",
    "        # build the selection chain bottom up\n",
    "        sel = op.input\n",
    "        for p in predicates:\n",
    "            sel = Selection(sel, p)\n",
    "            selections.append(sel)\n",
    "            \n",
    "        return selections"
   ]
  },
  {
   "cell_type": "markdown",
   "metadata": {},
   "source": [
    "#### Testing"
   ]
  },
  {
   "cell_type": "code",
   "execution_count": null,
   "metadata": {},
   "outputs": [],
   "source": [
    "# before optimization\n",
    "test_sel = Selection(directors_genres, \"genre == 'Mystery' or director_id < 5 or prob > 0.5\")\n",
    "graph = test_sel.get_graph()\n",
    "Source(graph)"
   ]
  },
  {
   "cell_type": "code",
   "execution_count": null,
   "metadata": {},
   "outputs": [],
   "source": [
    "bup_or = BreakUpOrSelections(test_sel) \n",
    "bup_or.optimize(test_sel)\n",
    "\n",
    "# after optimization\n",
    "graph = bup_or.root.get_graph()\n",
    "Source(graph)"
   ]
  },
  {
   "cell_type": "markdown",
   "metadata": {},
   "source": [
    "## Query Compilation"
   ]
  },
  {
   "cell_type": "code",
   "execution_count": null,
   "metadata": {},
   "outputs": [],
   "source": [
    "physical_plan = compile_plan(bup_or.root)"
   ]
  },
  {
   "cell_type": "code",
   "execution_count": null,
   "metadata": {},
   "outputs": [],
   "source": [
    "graph = physical_plan.get_graph()\n",
    "Source(graph)"
   ]
  },
  {
   "cell_type": "code",
   "execution_count": null,
   "metadata": {},
   "outputs": [],
   "source": [
    "physical_plan.evaluate().print_set()"
   ]
  }
 ],
 "metadata": {
  "kernelspec": {
   "display_name": "Python 3",
   "language": "python",
   "name": "python3"
  },
  "language_info": {
   "codemirror_mode": {
    "name": "ipython",
    "version": 3
   },
   "file_extension": ".py",
   "mimetype": "text/x-python",
   "name": "python",
   "nbconvert_exporter": "python",
   "pygments_lexer": "ipython3",
   "version": "3.7.7"
  },
  "varInspector": {
   "cols": {
    "lenName": 16,
    "lenType": 16,
    "lenVar": 40
   },
   "kernels_config": {
    "python": {
     "delete_cmd_postfix": "",
     "delete_cmd_prefix": "del ",
     "library": "var_list.py",
     "varRefreshCmd": "print(var_dic_list())"
    },
    "r": {
     "delete_cmd_postfix": ") ",
     "delete_cmd_prefix": "rm(",
     "library": "var_list.r",
     "varRefreshCmd": "cat(var_dic_list()) "
    }
   },
   "types_to_exclude": [
    "module",
    "function",
    "builtin_function_or_method",
    "instance",
    "_Feature"
   ],
   "window_display": false
  }
 },
 "nbformat": 4,
 "nbformat_minor": 2
}
