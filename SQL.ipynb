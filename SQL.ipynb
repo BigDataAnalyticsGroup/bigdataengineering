{
 "cells": [
  {
   "cell_type": "markdown",
   "metadata": {},
   "source": [
    "## SQL-92 Demo\n",
    "\n",
    "This notebook introduces the basics of read-only SQL-92-queries.\n",
    "\n",
    "Copyright Jens Dittrich & Christian Schön, [Big Data Analytics Group](https://bigdata.uni-saarland.de/), [CC-BY-SA](https://creativecommons.org/licenses/by-sa/4.0/legalcode)\n",
    "\n",
    "### Installation\n",
    "\n",
    "This notebook requires the SQLite3 kernel for jupyter notebook. The advantage of this sytem: SQLite is a very lightweight DBMS which does not require a complicated installation outside of jupyter notebook, but still works pretty well for smaller projects/databases, and queries.\n",
    "\n",
    "For the installation instructions of the kernel, please refer to the official [sqlite3-kernel Github repository](https://github.com/brownan/sqlite3-kernel). \n",
    "\n",
    "Afterwards, you can simply switch the active kernel using the menu \"Kernel\"->\"Change Kernel\"->\"Sqlite3\".\n",
    "\n",
    "Unfortunately, the SQLite kernel requires a Unix system and will therefore not work on Windows.\n",
    "If you prefer working on Windows, you have to use a virtual machine or stick to the Python kernel and wrap your queries in Pandas.\n"
   ]
  },
  {
   "cell_type": "markdown",
   "metadata": {},
   "source": [
    "### Database Schema\n",
    "\n",
    "All examples below are taken from the following scenario:\n",
    "\n",
    "You are running a photo agency which has several types of employees: seniors, salespersons, and photographers. "
   ]
  },
  {
   "cell_type": "markdown",
   "metadata": {},
   "source": [
    "Create schemas for all tables:"
   ]
  },
  {
   "cell_type": "code",
   "execution_count": 1,
   "metadata": {},
   "outputs": [
    {
     "name": "stdout",
     "output_type": "stream",
     "text": []
    }
   ],
   "source": [
    "PRAGMA foreign_keys = OFF;\n",
    "\n",
    "DROP TABLE IF EXISTS employees;\n",
    "DROP TABLE IF EXISTS persons;\n",
    "DROP TABLE IF EXISTS seniors;\n",
    "DROP TABLE IF EXISTS salespersons;\n",
    "DROP TABLE IF EXISTS photographers;\n",
    "DROP TABLE IF EXISTS cameras;\n",
    "DROP TABLE IF EXISTS photos;\n",
    "\n",
    "PRAGMA foreign_keys = ON;\n",
    "\n",
    "CREATE TABLE persons (\n",
    "    id INTEGER PRIMARY KEY,\n",
    "    lastname TEXT,\n",
    "    firstname TEXT,\n",
    "    birthday TEXT\n",
    ");\n",
    "\n",
    "CREATE TABLE employees (\n",
    "    personId INTEGER PRIMARY KEY,\n",
    "    salary INTEGER,\n",
    "    experience INTEGER,\n",
    "    FOREIGN KEY(personId) REFERENCES persons(id)\n",
    ");\n",
    "\n",
    "CREATE TABLE seniors (\n",
    "    employeeId INTEGER PRIMARY KEY,\n",
    "    numGreyHairs INTEGER,\n",
    "    bonus INTEGER,\n",
    "    FOREIGN KEY(employeeId) REFERENCES employees(personId)\n",
    ");\n",
    "\n",
    "CREATE TABLE salespersons (\n",
    "    employeeId INTEGER PRIMARY KEY,\n",
    "    areaOfExpertise TEXT,\n",
    "    FOREIGN KEY(employeeId) REFERENCES employees(personId)\n",
    ");\n",
    "\n",
    "CREATE TABLE photographers (\n",
    "    employeeId INTEGER PRIMARY KEY,\n",
    "    FOREIGN KEY(employeeId) REFERENCES employees(personId)\n",
    ");\n",
    "\n",
    "CREATE TABLE cameras (\n",
    "    id INTEGER PRIMARY KEY,\n",
    "    brand TEXT,\n",
    "    model TEXT\n",
    ");\n",
    "\n",
    "CREATE TABLE photos (\n",
    "    id INTEGER PRIMARY KEY,\n",
    "    location TEXT,\n",
    "    unix_time INTEGER,\n",
    "    photographerId INTEGER,\n",
    "    cameraId INTEGER,\n",
    "    FOREIGN KEY(photographerId) REFERENCES photographers(employeeId),\n",
    "    FOREIGN KEY(cameraId) REFERENCES cameras(id)\n",
    ");"
   ]
  },
  {
   "cell_type": "markdown",
   "metadata": {},
   "source": [
    "Import the csv-data into those tables:"
   ]
  },
  {
   "cell_type": "code",
   "execution_count": 2,
   "metadata": {},
   "outputs": [
    {
     "name": "stdout",
     "output_type": "stream",
     "text": []
    }
   ],
   "source": [
    "-- enable CSV mode:\n",
    ".mode csv\n",
    "-- import the necessary CSV-files as tables:\n",
    "-- syntax: .import path/to/csv.file tablename\n",
    "-- warning: be careful to import this data, i.e. execute this cell only once!\n",
    ".import data/photodb/persons.csv persons\n",
    ".import data/photodb/employees.csv employees\n",
    ".import data/photodb/seniors.csv seniors\n",
    ".import data/photodb/salespersons.csv salespersons\n",
    ".import data/photodb/photographers.csv photographers\n",
    ".import data/photodb/cameras.csv cameras\n",
    ".import data/photodb/photos.csv photos"
   ]
  },
  {
   "cell_type": "code",
   "execution_count": 3,
   "metadata": {},
   "outputs": [
    {
     "name": "stdout",
     "output_type": "stream",
     "text": [
      "CREATE TABLE persons (\r\n",
      "    id INTEGER PRIMARY KEY,\r\n",
      "    lastname TEXT,\r\n",
      "    firstname TEXT,\r\n",
      "    birthday TEXT\r\n",
      ");\r\n",
      "CREATE TABLE employees (\r\n",
      "    personId INTEGER PRIMARY KEY,\r\n",
      "    salary INTEGER,\r\n",
      "    experience INTEGER,\r\n",
      "    FOREIGN KEY(personId) REFERENCES persons(id)\r\n",
      ");\r\n",
      "CREATE TABLE seniors (\r\n",
      "    employeeId INTEGER PRIMARY KEY,\r\n",
      "    numGreyHairs INTEGER,\r\n",
      "    bonus INTEGER,\r\n",
      "    FOREIGN KEY(employeeId) REFERENCES employees(personId)\r\n",
      ");\r\n",
      "CREATE TABLE salespersons (\r\n",
      "    employeeId INTEGER PRIMARY KEY,\r\n",
      "    areaOfExpertise TEXT,\r\n",
      "    FOREIGN KEY(employeeId) REFERENCES employees(personId)\r\n",
      ");\r\n",
      "CREATE TABLE photographers (\r\n",
      "    employeeId INTEGER PRIMARY KEY,\r\n",
      "    FOREIGN KEY(employeeId) REFERENCES employees(personId)\r\n",
      ");\r\n",
      "CREATE TABLE cameras (\r\n",
      "    id INTEGER PRIMARY KEY,\r\n",
      "    brand TEXT,\r\n",
      "    model TEXT\r\n",
      ");\r\n",
      "CREATE TABLE photos (\r\n",
      "    id INTEGER PRIMARY KEY,\r\n",
      "    location TEXT,\r\n",
      "    unix_time INTEGER,\r\n",
      "    photographerId INTEGER,\r\n",
      "    cameraId INTEGER,\r\n",
      "    FOREIGN KEY(photographerId) REFERENCES photographers(employeeId),\r\n",
      "    FOREIGN KEY(cameraId) REFERENCES cameras(id)\r\n",
      ");\r\n"
     ]
    }
   ],
   "source": [
    "-- enable pretty formatting of the output:\n",
    ".mode columns\n",
    ".headers on\n",
    ".schema "
   ]
  },
  {
   "cell_type": "code",
   "execution_count": 4,
   "metadata": {
    "scrolled": true
   },
   "outputs": [
    {
     "name": "stdout",
     "output_type": "stream",
     "text": [
      "personId    salary      experience\r\n",
      "----------  ----------  ----------\r\n",
      "1           45000       3         \r\n",
      "2           37000       3         \r\n",
      "3           50000       2         \r\n",
      "4           60000       3         \r\n",
      "5           55000       2         \r\n",
      "6           15000       1         \r\n",
      "7           50000       2         \r\n"
     ]
    }
   ],
   "source": [
    "-- show the complete table:\n",
    "SELECT *\n",
    "FROM employees;"
   ]
  },
  {
   "cell_type": "code",
   "execution_count": 5,
   "metadata": {},
   "outputs": [
    {
     "name": "stdout",
     "output_type": "stream",
     "text": [
      "employeeId  numGreyHairs  bonus     \r\n",
      "----------  ------------  ----------\r\n",
      "1           45            34000     \r\n",
      "2           457           40000     \r\n"
     ]
    }
   ],
   "source": [
    "-- show the complete table:\n",
    "SELECT *\n",
    "FROM seniors;"
   ]
  },
  {
   "cell_type": "code",
   "execution_count": 6,
   "metadata": {},
   "outputs": [
    {
     "name": "stdout",
     "output_type": "stream",
     "text": [
      "42        \r\n",
      "----------\r\n",
      "42        \r\n"
     ]
    }
   ],
   "source": [
    "SELECT 42;"
   ]
  },
  {
   "cell_type": "markdown",
   "metadata": {},
   "source": [
    "### Projection"
   ]
  },
  {
   "cell_type": "code",
   "execution_count": 7,
   "metadata": {},
   "outputs": [
    {
     "name": "stdout",
     "output_type": "stream",
     "text": [
      "salary    \r\n",
      "----------\r\n",
      "45000     \r\n",
      "37000     \r\n",
      "50000     \r\n",
      "60000     \r\n",
      "55000     \r\n",
      "15000     \r\n",
      "50000     \r\n"
     ]
    }
   ],
   "source": [
    "-- projection for the attribute 'salary':\n",
    "SELECT salary\n",
    "FROM employees;"
   ]
  },
  {
   "cell_type": "markdown",
   "metadata": {},
   "source": [
    "First difference to relational algebra: **duplicates**"
   ]
  },
  {
   "cell_type": "code",
   "execution_count": 8,
   "metadata": {},
   "outputs": [
    {
     "name": "stdout",
     "output_type": "stream",
     "text": [
      "salary    \r\n",
      "----------\r\n",
      "45000     \r\n",
      "37000     \r\n",
      "50000     \r\n",
      "60000     \r\n",
      "55000     \r\n",
      "15000     \r\n"
     ]
    }
   ],
   "source": [
    "-- projection for the attribute 'salary', eliminating duplicates using 'DISTINCT'\n",
    "SELECT DISTINCT salary\n",
    "FROM employees;"
   ]
  },
  {
   "cell_type": "code",
   "execution_count": 9,
   "metadata": {
    "scrolled": false
   },
   "outputs": [
    {
     "name": "stdout",
     "output_type": "stream",
     "text": [
      "personId  \r\n",
      "----------\r\n",
      "1         \r\n",
      "2         \r\n",
      "3         \r\n",
      "4         \r\n",
      "5         \r\n",
      "6         \r\n",
      "7         \r\n"
     ]
    }
   ],
   "source": [
    "-- projection for the attribute 'personId':\n",
    "SELECT personid\n",
    "FROM employees;"
   ]
  },
  {
   "cell_type": "markdown",
   "metadata": {},
   "source": [
    "As personId is a key, DISTINCT does not have an effect here."
   ]
  },
  {
   "cell_type": "markdown",
   "metadata": {},
   "source": [
    "### Sorting of the output, order by"
   ]
  },
  {
   "cell_type": "code",
   "execution_count": 10,
   "metadata": {},
   "outputs": [
    {
     "name": "stdout",
     "output_type": "stream",
     "text": [
      "experience  personId  \r\n",
      "----------  ----------\r\n",
      "1           6         \r\n",
      "2           3         \r\n",
      "2           5         \r\n",
      "2           7         \r\n",
      "3           1         \r\n",
      "3           2         \r\n",
      "3           4         \r\n"
     ]
    }
   ],
   "source": [
    "-- projection for the attributes 'experience' and 'personId' using ascending order:\n",
    "SELECT experience, personid\n",
    "FROM employees\n",
    "ORDER BY experience, personid ASC;"
   ]
  },
  {
   "cell_type": "markdown",
   "metadata": {},
   "source": [
    "### Selection/Filter\n",
    "\n",
    "not to be confused with SELECT (which projects the data, see above)"
   ]
  },
  {
   "cell_type": "code",
   "execution_count": 11,
   "metadata": {},
   "outputs": [
    {
     "name": "stdout",
     "output_type": "stream",
     "text": [
      "personId    salary      experience\r\n",
      "----------  ----------  ----------\r\n",
      "4           60000       3         \r\n",
      "5           55000       2         \r\n"
     ]
    }
   ],
   "source": [
    "-- selection of/filter all employees with a salary of more than 50000:\n",
    "SELECT *\n",
    "FROM employees\n",
    "WHERE salary>50000;"
   ]
  },
  {
   "cell_type": "code",
   "execution_count": 12,
   "metadata": {},
   "outputs": [
    {
     "name": "stdout",
     "output_type": "stream",
     "text": [
      "personId    salary      experience\r\n",
      "----------  ----------  ----------\r\n",
      "5           55000       2         \r\n"
     ]
    }
   ],
   "source": [
    "-- selection of all employees with a salary of more than 50000: and a personid > 4:\n",
    "SELECT *\n",
    "FROM employees\n",
    "WHERE salary>50000 AND personid>4;"
   ]
  },
  {
   "cell_type": "markdown",
   "metadata": {},
   "source": [
    "### Filtering Strings"
   ]
  },
  {
   "cell_type": "markdown",
   "metadata": {},
   "source": [
    "To filter on string-types we can use the LIKE-operator:\n",
    "\n",
    "1. percent symbol (%): represents zero, one, or multiple characters\n",
    "\n",
    "2. underscore symbol (_) : represents a single character\n"
   ]
  },
  {
   "cell_type": "code",
   "execution_count": 13,
   "metadata": {},
   "outputs": [
    {
     "name": "stdout",
     "output_type": "stream",
     "text": [
      "id          lastname    firstname   birthday  \r\n",
      "----------  ----------  ----------  ----------\r\n",
      "1           Schweitzer  Albert      1973-03-01\r\n",
      "2           Carlos      Rob         1975-07-12\r\n",
      "3           Mueller     Peter       1963-10-09\r\n",
      "4           Zappa       Frank       1955-11-04\r\n",
      "5           Taylor      Tim         1980-03-04\r\n",
      "6           Wurst       Hans        1974-02-01\r\n",
      "7           Miese       Peter       1983-05-06\r\n",
      "8           Koenig      Dieter      1967-06-11\r\n"
     ]
    }
   ],
   "source": [
    "SELECT *\n",
    "FROM persons"
   ]
  },
  {
   "cell_type": "code",
   "execution_count": 14,
   "metadata": {},
   "outputs": [
    {
     "name": "stdout",
     "output_type": "stream",
     "text": []
    }
   ],
   "source": [
    "SELECT *\n",
    "FROM persons\n",
    "WHERE firstname LIKE '_ank'"
   ]
  },
  {
   "cell_type": "code",
   "execution_count": 15,
   "metadata": {},
   "outputs": [
    {
     "name": "stdout",
     "output_type": "stream",
     "text": [
      "id          lastname    firstname   birthday  \r\n",
      "----------  ----------  ----------  ----------\r\n",
      "4           Zappa       Frank       1955-11-04\r\n"
     ]
    }
   ],
   "source": [
    "SELECT *\n",
    "FROM persons\n",
    "WHERE firstname LIKE '%ank'"
   ]
  },
  {
   "cell_type": "code",
   "execution_count": 16,
   "metadata": {},
   "outputs": [
    {
     "name": "stdout",
     "output_type": "stream",
     "text": [
      "id          lastname    firstname   birthday  \r\n",
      "----------  ----------  ----------  ----------\r\n",
      "3           Mueller     Peter       1963-10-09\r\n",
      "7           Miese       Peter       1983-05-06\r\n"
     ]
    }
   ],
   "source": [
    "SELECT *\n",
    "FROM persons\n",
    "WHERE firstname LIKE '_ete_'"
   ]
  },
  {
   "cell_type": "code",
   "execution_count": 17,
   "metadata": {},
   "outputs": [
    {
     "name": "stdout",
     "output_type": "stream",
     "text": [
      "id          lastname    firstname   birthday  \r\n",
      "----------  ----------  ----------  ----------\r\n",
      "3           Mueller     Peter       1963-10-09\r\n",
      "7           Miese       Peter       1983-05-06\r\n",
      "8           Koenig      Dieter      1967-06-11\r\n"
     ]
    }
   ],
   "source": [
    "SELECT *\n",
    "FROM persons\n",
    "WHERE firstname LIKE '%ete_'"
   ]
  },
  {
   "cell_type": "markdown",
   "metadata": {},
   "source": [
    "### Union"
   ]
  },
  {
   "cell_type": "code",
   "execution_count": 18,
   "metadata": {},
   "outputs": [
    {
     "name": "stdout",
     "output_type": "stream",
     "text": [
      "employeeId\r\n",
      "----------\r\n",
      "3         \r\n",
      "4         \r\n",
      "5         \r\n",
      "6         \r\n",
      "7         \r\n"
     ]
    }
   ],
   "source": [
    "-- example for Union:\n",
    "SELECT employeeId\n",
    "FROM salespersons\n",
    "  UNION\n",
    "SELECT employeeId\n",
    "FROM photographers"
   ]
  },
  {
   "cell_type": "markdown",
   "metadata": {},
   "source": [
    "### Difference"
   ]
  },
  {
   "cell_type": "code",
   "execution_count": 19,
   "metadata": {},
   "outputs": [
    {
     "name": "stdout",
     "output_type": "stream",
     "text": [
      "employeeId\r\n",
      "----------\r\n",
      "4         \r\n",
      "5         \r\n"
     ]
    }
   ],
   "source": [
    "-- example for difference:\n",
    "-- 'MINUS' is called 'EXCEPT' in sqlite\n",
    "SELECT employeeId\n",
    "FROM salespersons\n",
    "  EXCEPT\n",
    "SELECT employeeId\n",
    "FROM photographers"
   ]
  },
  {
   "cell_type": "markdown",
   "metadata": {},
   "source": [
    "### Cross Product"
   ]
  },
  {
   "cell_type": "code",
   "execution_count": 20,
   "metadata": {
    "scrolled": true
   },
   "outputs": [
    {
     "name": "stdout",
     "output_type": "stream",
     "text": [
      "personId    salary      experience  employeeId  numGreyHairs  bonus     \r\n",
      "----------  ----------  ----------  ----------  ------------  ----------\r\n",
      "1           45000       3           1           45            34000     \r\n",
      "1           45000       3           2           457           40000     \r\n",
      "2           37000       3           1           45            34000     \r\n",
      "2           37000       3           2           457           40000     \r\n",
      "3           50000       2           1           45            34000     \r\n",
      "3           50000       2           2           457           40000     \r\n",
      "4           60000       3           1           45            34000     \r\n",
      "4           60000       3           2           457           40000     \r\n",
      "5           55000       2           1           45            34000     \r\n",
      "5           55000       2           2           457           40000     \r\n",
      "6           15000       1           1           45            34000     \r\n",
      "6           15000       1           2           457           40000     \r\n",
      "7           50000       2           1           45            34000     \r\n",
      "7           50000       2           2           457           40000     \r\n"
     ]
    }
   ],
   "source": [
    "-- example for the cross product:\n",
    "SELECT *\n",
    "FROM employees, seniors;"
   ]
  },
  {
   "cell_type": "code",
   "execution_count": 21,
   "metadata": {
    "scrolled": true
   },
   "outputs": [
    {
     "name": "stdout",
     "output_type": "stream",
     "text": [
      "The cross product has:     14          entries.  \r\n"
     ]
    }
   ],
   "source": [
    ".headers off\n",
    "SELECT \"The cross product has: \", (SELECT COUNT(*) FROM employees, seniors) AS cnt, 'entries.';\n",
    ".headers on"
   ]
  },
  {
   "cell_type": "markdown",
   "metadata": {},
   "source": [
    "### Rename"
   ]
  },
  {
   "cell_type": "code",
   "execution_count": 22,
   "metadata": {
    "scrolled": false
   },
   "outputs": [
    {
     "name": "stdout",
     "output_type": "stream",
     "text": [
      "answerToEverything\r\n",
      "------------------\r\n",
      "42                \r\n"
     ]
    }
   ],
   "source": [
    "SELECT 6*7 AS answerToEverything;"
   ]
  },
  {
   "cell_type": "code",
   "execution_count": 23,
   "metadata": {},
   "outputs": [
    {
     "name": "stdout",
     "output_type": "stream",
     "text": [
      "salary      salary    \r\n",
      "----------  ----------\r\n",
      "45000       45000     \r\n",
      "45000       37000     \r\n",
      "45000       50000     \r\n",
      "45000       60000     \r\n",
      "45000       55000     \r\n",
      "45000       15000     \r\n",
      "45000       50000     \r\n",
      "37000       45000     \r\n",
      "37000       37000     \r\n",
      "37000       50000     \r\n",
      "37000       60000     \r\n",
      "37000       55000     \r\n",
      "37000       15000     \r\n",
      "37000       50000     \r\n",
      "50000       45000     \r\n",
      "50000       37000     \r\n",
      "50000       50000     \r\n",
      "50000       60000     \r\n",
      "50000       55000     \r\n",
      "50000       15000     \r\n",
      "50000       50000     \r\n",
      "60000       45000     \r\n",
      "60000       37000     \r\n",
      "60000       50000     \r\n",
      "60000       60000     \r\n",
      "60000       55000     \r\n",
      "60000       15000     \r\n",
      "60000       50000     \r\n",
      "55000       45000     \r\n",
      "55000       37000     \r\n",
      "55000       50000     \r\n",
      "55000       60000     \r\n",
      "55000       55000     \r\n",
      "55000       15000     \r\n",
      "55000       50000     \r\n",
      "15000       45000     \r\n",
      "15000       37000     \r\n",
      "15000       50000     \r\n",
      "15000       60000     \r\n",
      "15000       55000     \r\n",
      "15000       15000     \r\n",
      "15000       50000     \r\n",
      "50000       45000     \r\n",
      "50000       37000     \r\n",
      "50000       50000     \r\n",
      "50000       60000     \r\n",
      "50000       55000     \r\n",
      "50000       15000     \r\n",
      "50000       50000     \r\n"
     ]
    }
   ],
   "source": [
    "-- Building the cross product employees X employees using renaming:\n",
    "SELECT e1.salary, e2.salary\n",
    "FROM employees as e1, employees as e2;"
   ]
  },
  {
   "cell_type": "markdown",
   "metadata": {},
   "source": [
    "### Joins"
   ]
  },
  {
   "cell_type": "code",
   "execution_count": 24,
   "metadata": {},
   "outputs": [
    {
     "name": "stdout",
     "output_type": "stream",
     "text": [
      "personId    salary      experience  employeeId  numGreyHairs  bonus     \r\n",
      "----------  ----------  ----------  ----------  ------------  ----------\r\n",
      "1           45000       3           1           45            34000     \r\n",
      "2           37000       3           2           457           40000     \r\n"
     ]
    }
   ],
   "source": [
    "-- Theta-Join, in this example an equi-join predicate, the explicit way:\n",
    "SELECT *\n",
    "FROM employees JOIN seniors\n",
    "ON personid = employeeId;"
   ]
  },
  {
   "cell_type": "code",
   "execution_count": 25,
   "metadata": {},
   "outputs": [
    {
     "name": "stdout",
     "output_type": "stream",
     "text": [
      "personId    salary      experience  employeeId  numGreyHairs  bonus     \r\n",
      "----------  ----------  ----------  ----------  ------------  ----------\r\n",
      "1           45000       3           1           45            34000     \r\n",
      "2           37000       3           2           457           40000     \r\n"
     ]
    }
   ],
   "source": [
    "-- Theta-Join, explicitly as INNER JOIN, the keyword \"INNER\" is redundant and can be left out:\n",
    "SELECT *\n",
    "FROM employees INNER JOIN seniors\n",
    "ON personid = employeeId;"
   ]
  },
  {
   "cell_type": "code",
   "execution_count": 26,
   "metadata": {},
   "outputs": [
    {
     "name": "stdout",
     "output_type": "stream",
     "text": [
      "personId    salary      experience  employeeId  numGreyHairs  bonus     \r\n",
      "----------  ----------  ----------  ----------  ------------  ----------\r\n",
      "1           45000       3           1           45            34000     \r\n",
      "2           37000       3           2           457           40000     \r\n",
      "3           50000       2                                               \r\n",
      "4           60000       3                                               \r\n",
      "5           55000       2                                               \r\n",
      "6           15000       1                                               \r\n",
      "7           50000       2                                               \r\n"
     ]
    }
   ],
   "source": [
    "-- Left Outer Join:\n",
    "SELECT *\n",
    "FROM employees LEFT OUTER JOIN seniors\n",
    "ON personid = employeeId;"
   ]
  },
  {
   "cell_type": "code",
   "execution_count": 27,
   "metadata": {},
   "outputs": [
    {
     "name": "stdout",
     "output_type": "stream",
     "text": [
      "Error: RIGHT and FULL OUTER JOINs are not currently supported\r\n"
     ]
    }
   ],
   "source": [
    "-- Right Outer Join:\n",
    "SELECT *\n",
    "FROM employees RIGHT OUTER JOIN seniors\n",
    "ON personid = employeeId;"
   ]
  },
  {
   "cell_type": "markdown",
   "metadata": {},
   "source": [
    "**Ouch!** sqlite3 does not support it"
   ]
  },
  {
   "cell_type": "markdown",
   "metadata": {},
   "source": [
    "### Grouping and Aggregation"
   ]
  },
  {
   "cell_type": "code",
   "execution_count": 28,
   "metadata": {},
   "outputs": [
    {
     "name": "stdout",
     "output_type": "stream",
     "text": [
      "count(*)  \r\n",
      "----------\r\n",
      "7         \r\n"
     ]
    }
   ],
   "source": [
    "-- as there is no GROUP BY statement, the entire input is considered \n",
    "-- a single partition/group\n",
    "-- this means the aggregate function is called only once \n",
    "-- count(*) calculates the number of tuples in the group:\n",
    "SELECT count(*)\n",
    "FROM employees;"
   ]
  },
  {
   "cell_type": "code",
   "execution_count": 29,
   "metadata": {},
   "outputs": [
    {
     "name": "stdout",
     "output_type": "stream",
     "text": [
      "count(*)    avg(salary)     \r\n",
      "----------  ----------------\r\n",
      "7           44571.4285714286\r\n"
     ]
    }
   ],
   "source": [
    "-- combining several aggregation functions is no problem:\n",
    "SELECT count(*), avg(salary)\n",
    "FROM employees;"
   ]
  },
  {
   "cell_type": "code",
   "execution_count": 30,
   "metadata": {},
   "outputs": [
    {
     "name": "stdout",
     "output_type": "stream",
     "text": [
      "experience  count(*)    avg(salary)\r\n",
      "----------  ----------  -----------\r\n",
      "1           1           15000.0    \r\n",
      "2           3           51666.66666\r\n",
      "3           3           47333.33333\r\n"
     ]
    }
   ],
   "source": [
    "-- now a real grouping with three different groups, followed by the aggregation:\n",
    "SELECT experience, count(*), avg(salary)\n",
    "FROM employees\n",
    "GROUP BY experience;"
   ]
  },
  {
   "cell_type": "code",
   "execution_count": 31,
   "metadata": {},
   "outputs": [
    {
     "name": "stdout",
     "output_type": "stream",
     "text": [
      "personId    salary      experience\r\n",
      "----------  ----------  ----------\r\n",
      "1           45000       3         \r\n",
      "2           37000       3         \r\n",
      "3           50000       2         \r\n",
      "4           60000       3         \r\n",
      "5           55000       2         \r\n",
      "6           15000       1         \r\n",
      "7           50000       2         \r\n"
     ]
    }
   ],
   "source": [
    "SELECT *\n",
    "FROM employees;"
   ]
  },
  {
   "cell_type": "code",
   "execution_count": 32,
   "metadata": {},
   "outputs": [
    {
     "name": "stdout",
     "output_type": "stream",
     "text": [
      "experience  salary      count(*)  \r\n",
      "----------  ----------  ----------\r\n",
      "1           15000       1         \r\n",
      "2           50000       3         \r\n",
      "3           60000       3         \r\n"
     ]
    }
   ],
   "source": [
    "-- a grouping based on two grouping attributes:\n",
    "SELECT experience, salary, count(*)\n",
    "FROM employees\n",
    "GROUP BY experience;"
   ]
  },
  {
   "cell_type": "markdown",
   "metadata": {},
   "source": [
    "<!---**Autsch!** Hier sollte sqlite besser eine Fehlermeldung werfen (andere Datenbanksysteme wie z.B. PostgreSQL machen das).\n",
    "\n",
    "**Warum?** Diese SQL-Anfrage macht semantisch keinen Sinn!\n",
    "Das Attribut \"gehalt\" hat innerhalb jeder Gruppe potenziell unterschiedliche Werte. Deswegen gilt:\n",
    "Nur Attribute die im GROUP BY stehen dürfen im SELECT außerhalb von Aggregatfunktionen benutzt werden.\n",
    "In diesem Beispiel darf also nur \"erfahrung\" ohne Aggregatfunktion benutzt werden; alle anderen Attribute nicht! -->\n",
    "\n",
    "**Ouch!** Sqlite should better throw an exception in this case (other database systems such as PostgreSQL do it).\n",
    "\n",
    "**WHY?** This SQL query has an ambiguous semantic interpretation!\n",
    "The attribute 'salary' has potentially different values within each group. For this reason:\n",
    "Only use attributes occuring in the GROUP BY clause without a corresponding aggregation function in the SELECT clause.\n",
    "For this example, only the attribute 'experience' can be used without an aggregation function; every other attribute must be used with an aggregation function!"
   ]
  },
  {
   "cell_type": "code",
   "execution_count": 33,
   "metadata": {},
   "outputs": [
    {
     "name": "stdout",
     "output_type": "stream",
     "text": [
      "experience  salary      count(*)  \r\n",
      "----------  ----------  ----------\r\n",
      "1           15000       1         \r\n",
      "2           50000       2         \r\n",
      "2           55000       1         \r\n",
      "3           37000       1         \r\n",
      "3           45000       1         \r\n",
      "3           60000       1         \r\n"
     ]
    }
   ],
   "source": [
    "-- this example is valid and has a semantic meaning:\n",
    "SELECT experience, salary, count(*)\n",
    "FROM employees\n",
    "GROUP BY experience, salary;"
   ]
  },
  {
   "cell_type": "markdown",
   "metadata": {},
   "source": [
    "### Grouping and Aggregation with HAVING"
   ]
  },
  {
   "cell_type": "code",
   "execution_count": 34,
   "metadata": {},
   "outputs": [
    {
     "name": "stdout",
     "output_type": "stream",
     "text": [
      "experience  count(*)    avg(salary)\r\n",
      "----------  ----------  -----------\r\n",
      "3           2           52500.0    \r\n"
     ]
    }
   ],
   "source": [
    "-- now grouping with HAVING:\n",
    "SELECT experience, count(*), avg(salary)\n",
    "FROM employees\n",
    "WHERE salary > 40000\n",
    "GROUP BY experience\n",
    "HAVING avg(salary) > 52000;"
   ]
  },
  {
   "cell_type": "markdown",
   "metadata": {},
   "source": [
    "### Conceptual Order of HAVING\n",
    "\n",
    "The same query with HAVING rolled out in a step-by-step manner according to the conceptual order of execution:"
   ]
  },
  {
   "cell_type": "code",
   "execution_count": 35,
   "metadata": {},
   "outputs": [
    {
     "name": "stdout",
     "output_type": "stream",
     "text": [
      "personId    salary      experience\r\n",
      "----------  ----------  ----------\r\n",
      "1           45000       3         \r\n",
      "2           37000       3         \r\n",
      "3           50000       2         \r\n",
      "4           60000       3         \r\n",
      "5           55000       2         \r\n",
      "6           15000       1         \r\n",
      "7           50000       2         \r\n"
     ]
    }
   ],
   "source": [
    "-- 1. FROM: all employees\n",
    "SELECT * \n",
    "FROM employees"
   ]
  },
  {
   "cell_type": "code",
   "execution_count": 36,
   "metadata": {},
   "outputs": [
    {
     "name": "stdout",
     "output_type": "stream",
     "text": [
      "personId    salary      experience\r\n",
      "----------  ----------  ----------\r\n",
      "1           45000       3         \r\n",
      "3           50000       2         \r\n",
      "4           60000       3         \r\n",
      "5           55000       2         \r\n",
      "7           50000       2         \r\n"
     ]
    }
   ],
   "source": [
    "-- 2. WHERE: selection of tuples with salary > 40000\n",
    "SELECT * \n",
    "FROM employees\n",
    "WHERE salary > 40000"
   ]
  },
  {
   "cell_type": "code",
   "execution_count": 37,
   "metadata": {},
   "outputs": [
    {
     "name": "stdout",
     "output_type": "stream",
     "text": [
      "experience  count(*)    avg(salary)     \r\n",
      "----------  ----------  ----------------\r\n",
      "2           3           51666.6666666667\r\n",
      "3           2           52500.0         \r\n"
     ]
    }
   ],
   "source": [
    "-- 3. GROUP BY: build groups based on \"experience\"\n",
    "-- 5. compute the aggregation functions count(*) and avg(salary) for each group\n",
    "SELECT experience, count(*), avg(salary) \n",
    "FROM employees\n",
    "WHERE salary > 40000\n",
    "GROUP BY experience\n",
    "-- let's call this query Q1"
   ]
  },
  {
   "cell_type": "code",
   "execution_count": 38,
   "metadata": {},
   "outputs": [
    {
     "name": "stdout",
     "output_type": "stream",
     "text": [
      "experience  count(*)    avg(salary)\r\n",
      "----------  ----------  -----------\r\n",
      "3           2           52500.0    \r\n"
     ]
    }
   ],
   "source": [
    "-- 3. GROUP BY: build groups based on \"experience\"\n",
    "-- 4. HAVING: only output groups with avg(salary) > 50000\n",
    "-- 5. compute the aggregation functions count(*) and avg(salary) for each group\n",
    "SELECT experience, count(*), avg(salary) \n",
    "FROM employees\n",
    "WHERE salary > 40000\n",
    "GROUP BY experience\n",
    "HAVING avg(salary) > 52000;"
   ]
  },
  {
   "cell_type": "markdown",
   "metadata": {},
   "source": [
    "### Uncorrelated Subqueries"
   ]
  },
  {
   "cell_type": "markdown",
   "metadata": {},
   "source": [
    "We could also explain the semantics of HAVING using a so-called (uncorrelated) subquery:"
   ]
  },
  {
   "cell_type": "code",
   "execution_count": 39,
   "metadata": {},
   "outputs": [
    {
     "name": "stdout",
     "output_type": "stream",
     "text": [
      "experience  count(*)    avg(salary)     \r\n",
      "----------  ----------  ----------------\r\n",
      "2           3           51666.6666666667\r\n",
      "3           2           52500.0         \r\n"
     ]
    }
   ],
   "source": [
    "-- recall Q1 from above\n",
    "SELECT experience, count(*), avg(salary) \n",
    "FROM employees\n",
    "WHERE salary > 40000\n",
    "GROUP BY experience"
   ]
  },
  {
   "cell_type": "markdown",
   "metadata": {},
   "source": [
    "we could rewrite this to:"
   ]
  },
  {
   "cell_type": "code",
   "execution_count": 40,
   "metadata": {},
   "outputs": [
    {
     "name": "stdout",
     "output_type": "stream",
     "text": [
      "experience  count(*)    avg(salary)     \r\n",
      "----------  ----------  ----------------\r\n",
      "2           3           51666.6666666667\r\n",
      "3           2           52500.0         \r\n"
     ]
    }
   ],
   "source": [
    "SELECT *\n",
    "FROM (\n",
    "    SELECT experience, count(*), avg(salary) \n",
    "    FROM employees\n",
    "    WHERE salary > 40000\n",
    "    GROUP BY experience\n",
    "    );"
   ]
  },
  {
   "cell_type": "markdown",
   "metadata": {},
   "source": [
    "Here Q1 is a subquery (or inner query). Conceptually you can read this as: Q1 produces a relation and that relation is then used as any other relation in the FROM clause."
   ]
  },
  {
   "cell_type": "markdown",
   "metadata": {},
   "source": [
    "Now, we can filter on particular groups and thus simulate the effect of HAVING:"
   ]
  },
  {
   "cell_type": "code",
   "execution_count": 41,
   "metadata": {},
   "outputs": [
    {
     "name": "stdout",
     "output_type": "stream",
     "text": [
      "experience  count(*)    avg_salary\r\n",
      "----------  ----------  ----------\r\n",
      "3           2           52500.0   \r\n"
     ]
    }
   ],
   "source": [
    "SELECT *\n",
    "FROM (\n",
    "    SELECT experience, count(*), avg(salary) AS avg_salary\n",
    "    FROM employees\n",
    "    WHERE salary > 40000\n",
    "    GROUP BY experience\n",
    "    )\n",
    "WHERE avg_salary > 52000;"
   ]
  },
  {
   "cell_type": "markdown",
   "metadata": {},
   "source": [
    "### Views\n",
    "\n",
    "Subqueries can become very hard to read. In general, SQL statements can become pretty large and often large parts of these statements specify things we specify over and over again anyways. Therefore we recommend to break up SQL-statements into building blocks wherever possible to enhance readability. This can be done using views."
   ]
  },
  {
   "cell_type": "code",
   "execution_count": 42,
   "metadata": {},
   "outputs": [
    {
     "name": "stdout",
     "output_type": "stream",
     "text": []
    }
   ],
   "source": [
    "-- delete this view if it already exists:\n",
    "DROP VIEW IF EXISTS HighlyPaidEmployees;\n",
    "\n",
    "-- creta a view\n",
    "CREATE VIEW HighlyPaidEmployees as\n",
    "    SELECT experience, count(*), avg(salary) AS avg_salary\n",
    "    FROM employees\n",
    "    WHERE salary > 40000\n",
    "    GROUP BY experience"
   ]
  },
  {
   "cell_type": "markdown",
   "metadata": {},
   "source": [
    "Notice that a view definition **does not execute any query**, it is merely an alias to an SQL statement. A view can then be used just like any other relation and only then it will be executed:"
   ]
  },
  {
   "cell_type": "code",
   "execution_count": 43,
   "metadata": {},
   "outputs": [
    {
     "name": "stdout",
     "output_type": "stream",
     "text": [
      "experience  count(*)    avg_salary\r\n",
      "----------  ----------  ----------\r\n",
      "3           2           52500.0   \r\n"
     ]
    }
   ],
   "source": [
    "SELECT *\n",
    "FROM (SELECT experience, count(*), avg(salary) AS avg_salary\n",
    "    FROM employees\n",
    "    WHERE salary > 40000\n",
    "    GROUP BY experience)\n",
    "WHERE avg_salary > 52000;"
   ]
  },
  {
   "cell_type": "markdown",
   "metadata": {},
   "source": [
    "If you want to preexecute a view, you can use **materialized views**. Some systems offer this functionality.\n",
    "\n",
    "**General recommendation:** do not use materialized views unless you know exactly what you are doing..."
   ]
  },
  {
   "cell_type": "markdown",
   "metadata": {},
   "source": [
    "<!---**Quintessenz:** sqlite3 ist für sehr sehr einfache SQL-Anfragen innerhalb eines Notebooks, SPJ-Anfragen (select, project, join), ein nützliches Werkzeug. SQL ist aber wesentlich mächtiger als die kleine Teilmenge, die von sqlite unterstützt wird. Für ernsthafte Anwendungen (große Datenmengen, viele Tabellen, komplexere Anfragen, Data Curation, etc.), ist es sinnvoll, ein \"richtiges\" DBMS zu benutzen wie z.B. PostgreSQL.-->\n",
    "\n",
    "**Takeaway message:** sqlite3 is a useful tool for simple SQL queries within notebooks and SPJ-queries (select, project, join). The SQL in general, however, is much more powerful than the small subset implemented by sqlite. For more serious applications (large databases, many tables, complex queries, data curation etc.) stick to a better and more feature-complete DBMS such as PostgreSQL or a commercial DBMS."
   ]
  },
  {
   "cell_type": "markdown",
   "metadata": {},
   "source": [
    "## Exercises\n",
    "\n",
    "In this exercise, we want to further query the photo database.\n",
    "\n",
    "### Query 1\n",
    "\n",
    "First, you should find out how many photos each photographer took. Your output should contain the following information:\n",
    "1. The ID of the photographer as \"PhotographerID\",\n",
    "2. The first name of the photgrapher as \"FirstName\",\n",
    "3. The last name of the photographer as \"LastName\",\n",
    "4. The amount of photos the photographer took as \"Photos\"."
   ]
  },
  {
   "cell_type": "code",
   "execution_count": 44,
   "metadata": {},
   "outputs": [
    {
     "name": "stdout",
     "output_type": "stream",
     "text": []
    }
   ],
   "source": [
    "-- drop view if already existing\n",
    "DROP VIEW IF EXISTS q1_student;\n",
    "-- create view based on student query\n",
    "CREATE VIEW q1_student AS\n",
    "-- insert your query here\n",
    "-- ..."
   ]
  },
  {
   "cell_type": "code",
   "execution_count": 45,
   "metadata": {},
   "outputs": [
    {
     "name": "stdout",
     "output_type": "stream",
     "text": []
    }
   ],
   "source": [
    "-- TEST\n",
    "-- define result table\n",
    "DROP TABLE IF EXISTS q1;\n",
    "CREATE TABLE q1 (\n",
    "    PhotographerID INTEGER PRIMARY KEY,\n",
    "    FirstName TEXT,\n",
    "    LastName TEXT,\n",
    "    Photos INTEGER\n",
    ");\n",
    "\n",
    "-- import query results\n",
    ".mode csv\n",
    ".import data/photodb/tests/q1.csv q1\n",
    ".mode columns\n",
    "-- compare query results\n",
    "SELECT *\n",
    "FROM (SELECT * FROM q1\n",
    "      EXCEPT\n",
    "      SELECT * FROM q1_student)\n",
    "UNION\n",
    "SELECT *\n",
    "FROM (SELECT * FROM q1_student\n",
    "      EXCEPT\n",
    "      SELECT * FROM q1);\n",
    "-- We expect an empty result.\n",
    "-- Note that this test compares the resulting tuples and does not ensure that your query is semantically correct."
   ]
  },
  {
   "cell_type": "markdown",
   "metadata": {},
   "source": [
    "### Query 2\n",
    "\n",
    "Finally, we want to determine how many photos were taken in each year by camera brand. Do not consider cameras made by Nikon. Your output should consists of the following attributes. Sort your descending by the amount of photos and ascending by the year.\n",
    "1. The year of the photos as \"Year\",\n",
    "2. The brand of the cameras as \"Brand\",\n",
    "3. The amaount of photos taken as \"Amount\"."
   ]
  },
  {
   "cell_type": "code",
   "execution_count": 46,
   "metadata": {},
   "outputs": [
    {
     "name": "stdout",
     "output_type": "stream",
     "text": []
    }
   ],
   "source": [
    "-- drop view if already existing\n",
    "DROP VIEW IF EXISTS q2_student;\n",
    "-- create view based on student query\n",
    "CREATE VIEW q2_student AS\n",
    "-- insert your query here\n",
    "-- ..."
   ]
  },
  {
   "cell_type": "code",
   "execution_count": 47,
   "metadata": {},
   "outputs": [
    {
     "name": "stdout",
     "output_type": "stream",
     "text": []
    }
   ],
   "source": [
    "-- TEST\n",
    "-- define result table\n",
    "DROP TABLE IF EXISTS q2;\n",
    "CREATE TABLE q2 (\n",
    "    Year TEXT,\n",
    "    Brand TEXT,\n",
    "    Amount INTEGER,\n",
    "    PRIMARY KEY (Year, Brand)\n",
    ");\n",
    "\n",
    "-- import query results\n",
    ".mode csv\n",
    ".import data/photodb/tests/q2.csv q2\n",
    ".mode columns\n",
    "-- compare query results\n",
    "SELECT *\n",
    "FROM (SELECT * FROM q2\n",
    "      EXCEPT\n",
    "      SELECT * FROM q2_student)\n",
    "UNION\n",
    "SELECT *\n",
    "FROM (SELECT * FROM q2_student\n",
    "      EXCEPT\n",
    "      SELECT * FROM q2);\n",
    "-- We expect an empty result.\n",
    "-- Note that this test compares the resulting tuples and does not ensure that your query is semantically correct."
   ]
  }
 ],
 "metadata": {
  "kernelspec": {
   "display_name": "Sqlite3",
   "language": "sqlite3",
   "name": "sqlite3"
  },
  "language_info": {
   "codemirror_mode": "sql",
   "file_extension": ".sql",
   "mimetype": "text/x-sql",
   "name": "sqlite3"
  },
  "varInspector": {
   "cols": {
    "lenName": 16,
    "lenType": 16,
    "lenVar": 40
   },
   "kernels_config": {
    "python": {
     "delete_cmd_postfix": "",
     "delete_cmd_prefix": "del ",
     "library": "var_list.py",
     "varRefreshCmd": "print(var_dic_list())"
    },
    "r": {
     "delete_cmd_postfix": ") ",
     "delete_cmd_prefix": "rm(",
     "library": "var_list.r",
     "varRefreshCmd": "cat(var_dic_list()) "
    }
   },
   "types_to_exclude": [
    "module",
    "function",
    "builtin_function_or_method",
    "instance",
    "_Feature"
   ],
   "window_display": false
  }
 },
 "nbformat": 4,
 "nbformat_minor": 2
}
