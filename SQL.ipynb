{
 "cells": [
  {
   "cell_type": "markdown",
   "metadata": {},
   "source": [
    "## SQL-92 Demo using DuckDB\n",
    "\n",
    "This notebook introduces the basics of read-only SQL-92-queries.\n",
    "\n",
    "Copyright Jens Dittrich & Christian Schön & Joris Nix, [Big Data Analytics Group](https://bigdata.uni-saarland.de/), [CC-BY-SA](https://creativecommons.org/licenses/by-sa/4.0/legalcode)"
   ]
  },
  {
   "cell_type": "markdown",
   "metadata": {},
   "source": [
    "This notebook uses [DuckDB](https://duckdb.org/).\n",
    "\n",
    "Information on the SQL dialect supported by DuckDB can be found [here](https://duckdb.org/docs/)."
   ]
  },
  {
   "cell_type": "code",
   "execution_count": 1,
   "metadata": {},
   "outputs": [],
   "source": [
    "import duckdb"
   ]
  },
  {
   "cell_type": "markdown",
   "metadata": {},
   "source": [
    "### Database Schema\n",
    "\n",
    "All examples below are taken from the following scenario:\n",
    "\n",
    "You are running a photo agency which has several types of employees: seniors, salespersons, and photographers. "
   ]
  },
  {
   "cell_type": "markdown",
   "metadata": {},
   "source": [
    "Create schemas for all tables:"
   ]
  },
  {
   "cell_type": "code",
   "execution_count": 2,
   "metadata": {},
   "outputs": [],
   "source": [
    "duckdb.sql(\"\"\"\n",
    "CREATE TABLE persons (\n",
    "    id INTEGER PRIMARY KEY,\n",
    "    lastname TEXT,\n",
    "    firstname TEXT,\n",
    "    birthday TEXT\n",
    ");\"\"\")\n",
    "\n",
    "duckdb.sql(\"\"\"\n",
    "CREATE TABLE employees (\n",
    "    personId INTEGER PRIMARY KEY,\n",
    "    salary INTEGER,\n",
    "    experience INTEGER,\n",
    "    FOREIGN KEY(personId) REFERENCES persons(id)\n",
    ");\"\"\")\n",
    "\n",
    "duckdb.sql(\"\"\"\n",
    "CREATE TABLE seniors (\n",
    "    employeeId INTEGER PRIMARY KEY,\n",
    "    numGreyHairs INTEGER,\n",
    "    bonus INTEGER,\n",
    "    FOREIGN KEY(employeeId) REFERENCES employees(personId)\n",
    ");\"\"\")\n",
    "\n",
    "duckdb.sql(\"\"\"\n",
    "CREATE TABLE salespersons (\n",
    "    employeeId INTEGER PRIMARY KEY,\n",
    "    areaOfExpertise TEXT,\n",
    "    FOREIGN KEY(employeeId) REFERENCES employees(personId)\n",
    ");\"\"\")\n",
    "\n",
    "duckdb.sql(\"\"\"\n",
    "CREATE TABLE photographers (\n",
    "    employeeId INTEGER PRIMARY KEY,\n",
    "    FOREIGN KEY(employeeId) REFERENCES employees(personId)\n",
    ");\"\"\")\n",
    "\n",
    "duckdb.sql(\"\"\"\n",
    "CREATE TABLE cameras (\n",
    "    id INTEGER PRIMARY KEY,\n",
    "    brand TEXT,\n",
    "    model TEXT\n",
    ");\"\"\")\n",
    "\n",
    "duckdb.sql(\"\"\"\n",
    "CREATE TABLE photos (\n",
    "    id INTEGER PRIMARY KEY,\n",
    "    location TEXT,\n",
    "    unix_time INTEGER,\n",
    "    photographerId INTEGER,\n",
    "    cameraId INTEGER,\n",
    "    FOREIGN KEY(photographerId) REFERENCES photographers(employeeId),\n",
    "    FOREIGN KEY(cameraId) REFERENCES cameras(id)\n",
    ");\"\"\")"
   ]
  },
  {
   "cell_type": "markdown",
   "metadata": {},
   "source": [
    "Import the csv-data into those tables:"
   ]
  },
  {
   "cell_type": "code",
   "execution_count": 3,
   "metadata": {},
   "outputs": [],
   "source": [
    "duckdb.sql(\"COPY persons FROM './data/photodb/persons.csv' (FORMAT CSV, DELIMITER ',');\")\n",
    "duckdb.sql(\"COPY employees FROM './data/photodb/employees.csv' (FORMAT CSV, DELIMITER ',');\")\n",
    "duckdb.sql(\"COPY seniors FROM './data/photodb/seniors.csv' (FORMAT CSV, DELIMITER ',');\")\n",
    "duckdb.sql(\"COPY salespersons FROM './data/photodb/salespersons.csv' (FORMAT CSV, DELIMITER ',');\")\n",
    "duckdb.sql(\"COPY photographers FROM './data/photodb/photographers.csv' (FORMAT CSV, DELIMITER ',');\")\n",
    "duckdb.sql(\"COPY cameras FROM './data/photodb/cameras.csv' (FORMAT CSV, DELIMITER ',');\")\n",
    "duckdb.sql(\"COPY photos FROM './data/photodb/photos.csv' (FORMAT CSV, DELIMITER ',');\")"
   ]
  },
  {
   "cell_type": "code",
   "execution_count": 4,
   "metadata": {
    "scrolled": true
   },
   "outputs": [
    {
     "data": {
      "text/plain": [
       "┌──────────┬────────┬────────────┐\n",
       "│ personId │ salary │ experience │\n",
       "│  int32   │ int32  │   int32    │\n",
       "├──────────┼────────┼────────────┤\n",
       "│        1 │  45000 │          3 │\n",
       "│        2 │  37000 │          3 │\n",
       "│        3 │  50000 │          2 │\n",
       "│        4 │  60000 │          3 │\n",
       "│        5 │  55000 │          2 │\n",
       "│        6 │  15000 │          1 │\n",
       "│        7 │  50000 │          2 │\n",
       "└──────────┴────────┴────────────┘"
      ]
     },
     "execution_count": 4,
     "metadata": {},
     "output_type": "execute_result"
    }
   ],
   "source": [
    "# show the complete table:\n",
    "duckdb.sql(\"\"\"\n",
    "SELECT *\n",
    "FROM employees;\"\"\")"
   ]
  },
  {
   "cell_type": "code",
   "execution_count": 5,
   "metadata": {},
   "outputs": [
    {
     "data": {
      "text/plain": [
       "┌──────────┬────────┬────────────┬────────────┬──────────────┬───────┐\n",
       "│ personId │ salary │ experience │ employeeId │ numGreyHairs │ bonus │\n",
       "│  int32   │ int32  │   int32    │   int32    │    int32     │ int32 │\n",
       "├──────────┼────────┼────────────┼────────────┼──────────────┼───────┤\n",
       "│        1 │  45000 │          3 │          1 │           45 │ 34000 │\n",
       "│        2 │  37000 │          3 │          2 │          457 │ 40000 │\n",
       "└──────────┴────────┴────────────┴────────────┴──────────────┴───────┘"
      ]
     },
     "execution_count": 5,
     "metadata": {},
     "output_type": "execute_result"
    }
   ],
   "source": [
    "duckdb.sql(\"\"\"\n",
    "SELECT            *\t\n",
    "FROM              employees e, seniors s\n",
    "WHERE             e.personid = s.employeeid;\"\"\")"
   ]
  },
  {
   "cell_type": "code",
   "execution_count": 6,
   "metadata": {},
   "outputs": [
    {
     "data": {
      "text/plain": [
       "┌──────────┬────────┬────────────┬────────────┬──────────────┬───────┐\n",
       "│ personId │ salary │ experience │ employeeId │ numGreyHairs │ bonus │\n",
       "│  int32   │ int32  │   int32    │   int32    │    int32     │ int32 │\n",
       "├──────────┼────────┼────────────┼────────────┼──────────────┼───────┤\n",
       "│        1 │  45000 │          3 │          1 │           45 │ 34000 │\n",
       "│        2 │  37000 │          3 │          2 │          457 │ 40000 │\n",
       "└──────────┴────────┴────────────┴────────────┴──────────────┴───────┘"
      ]
     },
     "execution_count": 6,
     "metadata": {},
     "output_type": "execute_result"
    }
   ],
   "source": [
    "# show the complete table:\n",
    "duckdb.sql(\"\"\"\n",
    "SELECT            *\t\n",
    "FROM              employees e JOIN seniors s\n",
    "                  ON e.personid = s.employeeid;\"\"\")"
   ]
  },
  {
   "cell_type": "code",
   "execution_count": 7,
   "metadata": {},
   "outputs": [
    {
     "data": {
      "text/plain": [
       "┌───────┐\n",
       "│  42   │\n",
       "│ int32 │\n",
       "├───────┤\n",
       "│    42 │\n",
       "└───────┘"
      ]
     },
     "execution_count": 7,
     "metadata": {},
     "output_type": "execute_result"
    }
   ],
   "source": [
    "duckdb.sql(\"SELECT 42;\")"
   ]
  },
  {
   "cell_type": "markdown",
   "metadata": {},
   "source": [
    "### Projection"
   ]
  },
  {
   "cell_type": "code",
   "execution_count": 8,
   "metadata": {},
   "outputs": [
    {
     "data": {
      "text/plain": [
       "┌────────┐\n",
       "│ salary │\n",
       "│ int32  │\n",
       "├────────┤\n",
       "│  45000 │\n",
       "│  37000 │\n",
       "│  50000 │\n",
       "│  60000 │\n",
       "│  55000 │\n",
       "│  15000 │\n",
       "│  50000 │\n",
       "└────────┘"
      ]
     },
     "execution_count": 8,
     "metadata": {},
     "output_type": "execute_result"
    }
   ],
   "source": [
    "# projection for the attribute 'salary':\n",
    "duckdb.sql(\"\"\"\n",
    "SELECT salary\n",
    "FROM employees;\"\"\")"
   ]
  },
  {
   "cell_type": "markdown",
   "metadata": {},
   "source": [
    "First difference to relational algebra: **duplicates**"
   ]
  },
  {
   "cell_type": "code",
   "execution_count": 9,
   "metadata": {},
   "outputs": [
    {
     "data": {
      "text/plain": [
       "┌────────┐\n",
       "│ salary │\n",
       "│ int32  │\n",
       "├────────┤\n",
       "│  45000 │\n",
       "│  37000 │\n",
       "│  50000 │\n",
       "│  60000 │\n",
       "│  55000 │\n",
       "│  15000 │\n",
       "└────────┘"
      ]
     },
     "execution_count": 9,
     "metadata": {},
     "output_type": "execute_result"
    }
   ],
   "source": [
    "# projection for the attribute 'salary', eliminating duplicates using 'DISTINCT'\n",
    "duckdb.sql(\"\"\"\n",
    "SELECT DISTINCT salary\n",
    "FROM employees;\"\"\")"
   ]
  },
  {
   "cell_type": "code",
   "execution_count": 10,
   "metadata": {
    "scrolled": false
   },
   "outputs": [
    {
     "data": {
      "text/plain": [
       "┌──────────┐\n",
       "│ personId │\n",
       "│  int32   │\n",
       "├──────────┤\n",
       "│        1 │\n",
       "│        2 │\n",
       "│        3 │\n",
       "│        4 │\n",
       "│        5 │\n",
       "│        6 │\n",
       "│        7 │\n",
       "└──────────┘"
      ]
     },
     "execution_count": 10,
     "metadata": {},
     "output_type": "execute_result"
    }
   ],
   "source": [
    "# projection for the attribute 'personId':\n",
    "duckdb.sql(\"\"\"\n",
    "SELECT personid\n",
    "FROM employees;\"\"\")"
   ]
  },
  {
   "cell_type": "markdown",
   "metadata": {},
   "source": [
    "As personId is a key, DISTINCT does not have an effect here."
   ]
  },
  {
   "cell_type": "markdown",
   "metadata": {},
   "source": [
    "### Sorting of the output, order by"
   ]
  },
  {
   "cell_type": "code",
   "execution_count": 11,
   "metadata": {},
   "outputs": [
    {
     "data": {
      "text/plain": [
       "┌────────────┬──────────┐\n",
       "│ experience │ personId │\n",
       "│   int32    │  int32   │\n",
       "├────────────┼──────────┤\n",
       "│          3 │        4 │\n",
       "│          3 │        2 │\n",
       "│          3 │        1 │\n",
       "│          2 │        7 │\n",
       "│          2 │        5 │\n",
       "│          2 │        3 │\n",
       "│          1 │        6 │\n",
       "└────────────┴──────────┘"
      ]
     },
     "execution_count": 11,
     "metadata": {},
     "output_type": "execute_result"
    }
   ],
   "source": [
    "# projection for the attributes 'experience' and 'personId' using descending order:\n",
    "# alternative, ascending: ASC\n",
    "duckdb.sql(\"\"\"\n",
    "SELECT experience, personid\n",
    "FROM employees\n",
    "ORDER BY experience DESC, personid DESC;\"\"\")"
   ]
  },
  {
   "cell_type": "markdown",
   "metadata": {},
   "source": [
    "### Selection/Filter\n",
    "\n",
    "not to be confused with SELECT (which projects the data, see above)"
   ]
  },
  {
   "cell_type": "code",
   "execution_count": 12,
   "metadata": {},
   "outputs": [
    {
     "data": {
      "text/plain": [
       "┌──────────┬────────┬────────────┐\n",
       "│ personId │ salary │ experience │\n",
       "│  int32   │ int32  │   int32    │\n",
       "├──────────┼────────┼────────────┤\n",
       "│        4 │  60000 │          3 │\n",
       "│        5 │  55000 │          2 │\n",
       "└──────────┴────────┴────────────┘"
      ]
     },
     "execution_count": 12,
     "metadata": {},
     "output_type": "execute_result"
    }
   ],
   "source": [
    "# selection of/filter all employees with a salary of more than 50000:\n",
    "duckdb.sql(\"\"\"\n",
    "SELECT *\n",
    "FROM employees\n",
    "WHERE salary>50000;\"\"\")"
   ]
  },
  {
   "cell_type": "code",
   "execution_count": 13,
   "metadata": {},
   "outputs": [
    {
     "data": {
      "text/plain": [
       "┌──────────┬────────┬────────────┐\n",
       "│ personId │ salary │ experience │\n",
       "│  int32   │ int32  │   int32    │\n",
       "├──────────┼────────┼────────────┤\n",
       "│        5 │  55000 │          2 │\n",
       "└──────────┴────────┴────────────┘"
      ]
     },
     "execution_count": 13,
     "metadata": {},
     "output_type": "execute_result"
    }
   ],
   "source": [
    "# selection of all employees with a salary of more than 50000: and a personid > 4:\n",
    "duckdb.sql(\"\"\"\n",
    "SELECT *\n",
    "FROM employees\n",
    "WHERE salary>50000 AND personid>4;\"\"\")"
   ]
  },
  {
   "cell_type": "markdown",
   "metadata": {},
   "source": [
    "### Filtering Strings"
   ]
  },
  {
   "cell_type": "markdown",
   "metadata": {},
   "source": [
    "To filter on string-types we can use the LIKE-operator:\n",
    "\n",
    "1. percent symbol (%): represents zero, one, or multiple characters\n",
    "\n",
    "2. underscore symbol (_) : represents a single character\n"
   ]
  },
  {
   "cell_type": "code",
   "execution_count": 14,
   "metadata": {},
   "outputs": [
    {
     "data": {
      "text/plain": [
       "┌───────┬────────────┬───────────┬────────────┐\n",
       "│  id   │  lastname  │ firstname │  birthday  │\n",
       "│ int32 │  varchar   │  varchar  │  varchar   │\n",
       "├───────┼────────────┼───────────┼────────────┤\n",
       "│     1 │ Schweitzer │ Albert    │ 1973-03-01 │\n",
       "│     2 │ Carlos     │ Rob       │ 1975-07-12 │\n",
       "│     3 │ Mueller    │ Peter     │ 1963-10-09 │\n",
       "│     4 │ Zappa      │ Frank     │ 1955-11-04 │\n",
       "│     5 │ Taylor     │ Tim       │ 1980-03-04 │\n",
       "│     6 │ Wurst      │ Hans      │ 1974-02-01 │\n",
       "│     7 │ Miese      │ Peter     │ 1983-05-06 │\n",
       "│     8 │ Koenig     │ Dieter    │ 1967-06-11 │\n",
       "└───────┴────────────┴───────────┴────────────┘"
      ]
     },
     "execution_count": 14,
     "metadata": {},
     "output_type": "execute_result"
    }
   ],
   "source": [
    "duckdb.sql(\"\"\"\n",
    "SELECT *\n",
    "FROM persons;\"\"\")"
   ]
  },
  {
   "cell_type": "code",
   "execution_count": 15,
   "metadata": {},
   "outputs": [
    {
     "data": {
      "text/plain": [
       "┌───────┬────────────┬───────────┬────────────┐\n",
       "│  id   │  lastname  │ firstname │  birthday  │\n",
       "│ int32 │  varchar   │  varchar  │  varchar   │\n",
       "├───────┼────────────┼───────────┼────────────┤\n",
       "│     1 │ Schweitzer │ Albert    │ 1973-03-01 │\n",
       "└───────┴────────────┴───────────┴────────────┘"
      ]
     },
     "execution_count": 15,
     "metadata": {},
     "output_type": "execute_result"
    }
   ],
   "source": [
    "duckdb.sql(\"\"\"\n",
    "SELECT *\n",
    "FROM persons\n",
    "WHERE firstname LIKE '__bert';\"\"\")"
   ]
  },
  {
   "cell_type": "code",
   "execution_count": 16,
   "metadata": {},
   "outputs": [
    {
     "data": {
      "text/plain": [
       "┌───────┬────────────┬───────────┬────────────┐\n",
       "│  id   │  lastname  │ firstname │  birthday  │\n",
       "│ int32 │  varchar   │  varchar  │  varchar   │\n",
       "├───────┼────────────┼───────────┼────────────┤\n",
       "│     1 │ Schweitzer │ Albert    │ 1973-03-01 │\n",
       "└───────┴────────────┴───────────┴────────────┘"
      ]
     },
     "execution_count": 16,
     "metadata": {},
     "output_type": "execute_result"
    }
   ],
   "source": [
    "duckdb.sql(\"\"\"\n",
    "SELECT *\n",
    "FROM persons\n",
    "WHERE firstname LIKE '%bert';\"\"\")"
   ]
  },
  {
   "cell_type": "code",
   "execution_count": 17,
   "metadata": {},
   "outputs": [
    {
     "data": {
      "text/plain": [
       "┌───────┬──────────┬───────────┬────────────┐\n",
       "│  id   │ lastname │ firstname │  birthday  │\n",
       "│ int32 │ varchar  │  varchar  │  varchar   │\n",
       "├───────┼──────────┼───────────┼────────────┤\n",
       "│     3 │ Mueller  │ Peter     │ 1963-10-09 │\n",
       "│     7 │ Miese    │ Peter     │ 1983-05-06 │\n",
       "└───────┴──────────┴───────────┴────────────┘"
      ]
     },
     "execution_count": 17,
     "metadata": {},
     "output_type": "execute_result"
    }
   ],
   "source": [
    "duckdb.sql(\"\"\"\n",
    "SELECT *\n",
    "FROM persons\n",
    "WHERE firstname LIKE '_ete_';\"\"\")"
   ]
  },
  {
   "cell_type": "code",
   "execution_count": 18,
   "metadata": {},
   "outputs": [
    {
     "data": {
      "text/plain": [
       "┌───────┬──────────┬───────────┬────────────┐\n",
       "│  id   │ lastname │ firstname │  birthday  │\n",
       "│ int32 │ varchar  │  varchar  │  varchar   │\n",
       "├───────┼──────────┼───────────┼────────────┤\n",
       "│     3 │ Mueller  │ Peter     │ 1963-10-09 │\n",
       "│     7 │ Miese    │ Peter     │ 1983-05-06 │\n",
       "│     8 │ Koenig   │ Dieter    │ 1967-06-11 │\n",
       "└───────┴──────────┴───────────┴────────────┘"
      ]
     },
     "execution_count": 18,
     "metadata": {},
     "output_type": "execute_result"
    }
   ],
   "source": [
    "duckdb.sql(\"\"\"\n",
    "SELECT *\n",
    "FROM persons\n",
    "WHERE firstname LIKE '%ete_';\"\"\")"
   ]
  },
  {
   "cell_type": "markdown",
   "metadata": {},
   "source": [
    "### Union"
   ]
  },
  {
   "cell_type": "code",
   "execution_count": 19,
   "metadata": {},
   "outputs": [
    {
     "data": {
      "text/plain": [
       "┌────────────┐\n",
       "│ employeeId │\n",
       "│   int32    │\n",
       "├────────────┤\n",
       "│          4 │\n",
       "│          5 │\n",
       "│          3 │\n",
       "│          7 │\n",
       "│          6 │\n",
       "└────────────┘"
      ]
     },
     "execution_count": 19,
     "metadata": {},
     "output_type": "execute_result"
    }
   ],
   "source": [
    "# example for Union:\n",
    "duckdb.sql(\"\"\"\n",
    "SELECT employeeId\n",
    "FROM salespersons\n",
    "  UNION\n",
    "SELECT employeeId\n",
    "FROM photographers;\"\"\")"
   ]
  },
  {
   "cell_type": "markdown",
   "metadata": {},
   "source": [
    "### Difference"
   ]
  },
  {
   "cell_type": "code",
   "execution_count": 20,
   "metadata": {},
   "outputs": [
    {
     "data": {
      "text/plain": [
       "┌────────────┐\n",
       "│ employeeId │\n",
       "│   int32    │\n",
       "├────────────┤\n",
       "│          4 │\n",
       "│          5 │\n",
       "└────────────┘"
      ]
     },
     "execution_count": 20,
     "metadata": {},
     "output_type": "execute_result"
    }
   ],
   "source": [
    "# example for difference:\n",
    "# 'MINUS' is called 'EXCEPT' in duckdb\n",
    "duckdb.sql(\"\"\"\n",
    "SELECT employeeId\n",
    "FROM salespersons\n",
    "  EXCEPT\n",
    "SELECT employeeId\n",
    "FROM photographers;\"\"\")"
   ]
  },
  {
   "cell_type": "markdown",
   "metadata": {},
   "source": [
    "### Cross Product"
   ]
  },
  {
   "cell_type": "code",
   "execution_count": 21,
   "metadata": {
    "scrolled": false
   },
   "outputs": [
    {
     "data": {
      "text/plain": [
       "┌──────────┬────────┬────────────┬────────────┬──────────────┬───────┐\n",
       "│ personId │ salary │ experience │ employeeId │ numGreyHairs │ bonus │\n",
       "│  int32   │ int32  │   int32    │   int32    │    int32     │ int32 │\n",
       "├──────────┼────────┼────────────┼────────────┼──────────────┼───────┤\n",
       "│        1 │  45000 │          3 │          1 │           45 │ 34000 │\n",
       "│        2 │  37000 │          3 │          1 │           45 │ 34000 │\n",
       "│        3 │  50000 │          2 │          1 │           45 │ 34000 │\n",
       "│        4 │  60000 │          3 │          1 │           45 │ 34000 │\n",
       "│        5 │  55000 │          2 │          1 │           45 │ 34000 │\n",
       "│        6 │  15000 │          1 │          1 │           45 │ 34000 │\n",
       "│        7 │  50000 │          2 │          1 │           45 │ 34000 │\n",
       "│        1 │  45000 │          3 │          2 │          457 │ 40000 │\n",
       "│        2 │  37000 │          3 │          2 │          457 │ 40000 │\n",
       "│        3 │  50000 │          2 │          2 │          457 │ 40000 │\n",
       "│        4 │  60000 │          3 │          2 │          457 │ 40000 │\n",
       "│        5 │  55000 │          2 │          2 │          457 │ 40000 │\n",
       "│        6 │  15000 │          1 │          2 │          457 │ 40000 │\n",
       "│        7 │  50000 │          2 │          2 │          457 │ 40000 │\n",
       "├──────────┴────────┴────────────┴────────────┴──────────────┴───────┤\n",
       "│ 14 rows                                                  6 columns │\n",
       "└────────────────────────────────────────────────────────────────────┘"
      ]
     },
     "execution_count": 21,
     "metadata": {},
     "output_type": "execute_result"
    }
   ],
   "source": [
    "# example for the cross product:\n",
    "duckdb.sql(\"\"\"\n",
    "SELECT *\n",
    "FROM employees, seniors;\"\"\")"
   ]
  },
  {
   "cell_type": "code",
   "execution_count": 22,
   "metadata": {},
   "outputs": [
    {
     "data": {
      "text/plain": [
       "┌──────────┬────────┬────────────┐\n",
       "│ personId │ salary │ experience │\n",
       "│  int32   │ int32  │   int32    │\n",
       "├──────────┼────────┼────────────┤\n",
       "│        1 │  45000 │          3 │\n",
       "│        2 │  37000 │          3 │\n",
       "│        3 │  50000 │          2 │\n",
       "│        4 │  60000 │          3 │\n",
       "│        5 │  55000 │          2 │\n",
       "│        6 │  15000 │          1 │\n",
       "│        7 │  50000 │          2 │\n",
       "└──────────┴────────┴────────────┘"
      ]
     },
     "execution_count": 22,
     "metadata": {},
     "output_type": "execute_result"
    }
   ],
   "source": [
    "duckdb.sql(\"\"\"\n",
    "SELECT *\n",
    "FROM employees;\"\"\")"
   ]
  },
  {
   "cell_type": "code",
   "execution_count": 23,
   "metadata": {},
   "outputs": [
    {
     "data": {
      "text/plain": [
       "┌────────────┬──────────────┬───────┐\n",
       "│ employeeId │ numGreyHairs │ bonus │\n",
       "│   int32    │    int32     │ int32 │\n",
       "├────────────┼──────────────┼───────┤\n",
       "│          1 │           45 │ 34000 │\n",
       "│          2 │          457 │ 40000 │\n",
       "└────────────┴──────────────┴───────┘"
      ]
     },
     "execution_count": 23,
     "metadata": {},
     "output_type": "execute_result"
    }
   ],
   "source": [
    "duckdb.sql(\"\"\"\n",
    "SELECT *\n",
    "FROM seniors;\"\"\")"
   ]
  },
  {
   "cell_type": "code",
   "execution_count": 24,
   "metadata": {
    "scrolled": true
   },
   "outputs": [
    {
     "data": {
      "text/plain": [
       "┌───────────────────────────┬───────┬────────────┐\n",
       "│ 'The cross product has: ' │  cnt  │ 'entries.' │\n",
       "│          varchar          │ int64 │  varchar   │\n",
       "├───────────────────────────┼───────┼────────────┤\n",
       "│ The cross product has:    │    14 │ entries.   │\n",
       "└───────────────────────────┴───────┴────────────┘"
      ]
     },
     "execution_count": 24,
     "metadata": {},
     "output_type": "execute_result"
    }
   ],
   "source": [
    "duckdb.sql(\"SELECT 'The cross product has: ', (SELECT COUNT(*) FROM employees, seniors) AS cnt, 'entries.';\")"
   ]
  },
  {
   "cell_type": "markdown",
   "metadata": {},
   "source": [
    "### Rename"
   ]
  },
  {
   "cell_type": "code",
   "execution_count": 25,
   "metadata": {
    "scrolled": false
   },
   "outputs": [
    {
     "data": {
      "text/plain": [
       "┌────────────────────┐\n",
       "│ answerToEverything │\n",
       "│       int32        │\n",
       "├────────────────────┤\n",
       "│                 42 │\n",
       "└────────────────────┘"
      ]
     },
     "execution_count": 25,
     "metadata": {},
     "output_type": "execute_result"
    }
   ],
   "source": [
    "duckdb.sql(\"SELECT 6*7 AS answerToEverything;\")"
   ]
  },
  {
   "cell_type": "code",
   "execution_count": 26,
   "metadata": {},
   "outputs": [
    {
     "data": {
      "text/plain": [
       "┌────────┬────────┐\n",
       "│ salary │ salary │\n",
       "│ int32  │ int32  │\n",
       "├────────┼────────┤\n",
       "│  45000 │  45000 │\n",
       "│  37000 │  45000 │\n",
       "│  50000 │  45000 │\n",
       "│  60000 │  45000 │\n",
       "│  55000 │  45000 │\n",
       "│  15000 │  45000 │\n",
       "│  50000 │  45000 │\n",
       "│  45000 │  37000 │\n",
       "│  37000 │  37000 │\n",
       "│  50000 │  37000 │\n",
       "│    ·   │    ·   │\n",
       "│    ·   │    ·   │\n",
       "│    ·   │    ·   │\n",
       "│  55000 │  15000 │\n",
       "│  15000 │  15000 │\n",
       "│  50000 │  15000 │\n",
       "│  45000 │  50000 │\n",
       "│  37000 │  50000 │\n",
       "│  50000 │  50000 │\n",
       "│  60000 │  50000 │\n",
       "│  55000 │  50000 │\n",
       "│  15000 │  50000 │\n",
       "│  50000 │  50000 │\n",
       "├────────┴────────┤\n",
       "│     49 rows     │\n",
       "│   (20 shown)    │\n",
       "└─────────────────┘"
      ]
     },
     "execution_count": 26,
     "metadata": {},
     "output_type": "execute_result"
    }
   ],
   "source": [
    "# Building the cross product employees X employees using renaming:\n",
    "duckdb.sql(\"\"\"\n",
    "SELECT e1.salary, e2.salary\n",
    "FROM employees AS e1, employees AS e2;\"\"\")"
   ]
  },
  {
   "cell_type": "markdown",
   "metadata": {},
   "source": [
    "### Joins"
   ]
  },
  {
   "cell_type": "code",
   "execution_count": 27,
   "metadata": {},
   "outputs": [
    {
     "data": {
      "text/plain": [
       "┌──────────┬────────┬────────────┬────────────┬──────────────┬───────┐\n",
       "│ personId │ salary │ experience │ employeeId │ numGreyHairs │ bonus │\n",
       "│  int32   │ int32  │   int32    │   int32    │    int32     │ int32 │\n",
       "├──────────┼────────┼────────────┼────────────┼──────────────┼───────┤\n",
       "│        1 │  45000 │          3 │          1 │           45 │ 34000 │\n",
       "│        2 │  37000 │          3 │          2 │          457 │ 40000 │\n",
       "└──────────┴────────┴────────────┴────────────┴──────────────┴───────┘"
      ]
     },
     "execution_count": 27,
     "metadata": {},
     "output_type": "execute_result"
    }
   ],
   "source": [
    "# Theta-Join, in this example an equi-join predicate, the explicit way:\n",
    "duckdb.sql(\"\"\"\n",
    "SELECT *\n",
    "FROM employees JOIN seniors\n",
    "ON personid = employeeId;\"\"\")"
   ]
  },
  {
   "cell_type": "code",
   "execution_count": 28,
   "metadata": {},
   "outputs": [
    {
     "data": {
      "text/plain": [
       "┌──────────┬────────┬────────────┬────────────┬──────────────┬───────┐\n",
       "│ personId │ salary │ experience │ employeeId │ numGreyHairs │ bonus │\n",
       "│  int32   │ int32  │   int32    │   int32    │    int32     │ int32 │\n",
       "├──────────┼────────┼────────────┼────────────┼──────────────┼───────┤\n",
       "│        1 │  45000 │          3 │          1 │           45 │ 34000 │\n",
       "│        2 │  37000 │          3 │          2 │          457 │ 40000 │\n",
       "└──────────┴────────┴────────────┴────────────┴──────────────┴───────┘"
      ]
     },
     "execution_count": 28,
     "metadata": {},
     "output_type": "execute_result"
    }
   ],
   "source": [
    "duckdb.sql(\"\"\"\n",
    "SELECT *\n",
    "FROM employees, seniors\n",
    "where personid = employeeId;\"\"\")"
   ]
  },
  {
   "cell_type": "code",
   "execution_count": 29,
   "metadata": {},
   "outputs": [
    {
     "data": {
      "text/plain": [
       "┌──────────┬────────┬────────────┬────────────┬──────────────┬───────┐\n",
       "│ personId │ salary │ experience │ employeeId │ numGreyHairs │ bonus │\n",
       "│  int32   │ int32  │   int32    │   int32    │    int32     │ int32 │\n",
       "├──────────┼────────┼────────────┼────────────┼──────────────┼───────┤\n",
       "│        1 │  45000 │          3 │          1 │           45 │ 34000 │\n",
       "│        2 │  37000 │          3 │          2 │          457 │ 40000 │\n",
       "└──────────┴────────┴────────────┴────────────┴──────────────┴───────┘"
      ]
     },
     "execution_count": 29,
     "metadata": {},
     "output_type": "execute_result"
    }
   ],
   "source": [
    "# Theta-Join, explicitly as INNER JOIN, the keyword \"INNER\" is redundant and can be left out:\n",
    "duckdb.sql(\"\"\"\n",
    "SELECT *\n",
    "FROM employees INNER JOIN seniors\n",
    "ON personid = employeeId;\"\"\")"
   ]
  },
  {
   "cell_type": "code",
   "execution_count": 30,
   "metadata": {},
   "outputs": [
    {
     "data": {
      "text/plain": [
       "┌────────────┬──────────────┬───────┐\n",
       "│ employeeId │ numGreyHairs │ bonus │\n",
       "│   int32    │    int32     │ int32 │\n",
       "├────────────┼──────────────┼───────┤\n",
       "│          1 │           45 │ 34000 │\n",
       "│          2 │          457 │ 40000 │\n",
       "└────────────┴──────────────┴───────┘"
      ]
     },
     "execution_count": 30,
     "metadata": {},
     "output_type": "execute_result"
    }
   ],
   "source": [
    "duckdb.sql(\"SELECT * FROM seniors;\")"
   ]
  },
  {
   "cell_type": "code",
   "execution_count": 31,
   "metadata": {},
   "outputs": [
    {
     "data": {
      "text/plain": [
       "┌──────────┬────────┬────────────┬────────────┬──────────────┬───────┐\n",
       "│ personId │ salary │ experience │ employeeId │ numGreyHairs │ bonus │\n",
       "│  int32   │ int32  │   int32    │   int32    │    int32     │ int32 │\n",
       "├──────────┼────────┼────────────┼────────────┼──────────────┼───────┤\n",
       "│        1 │  45000 │          3 │          1 │           45 │ 34000 │\n",
       "│        2 │  37000 │          3 │          2 │          457 │ 40000 │\n",
       "│        3 │  50000 │          2 │       NULL │         NULL │  NULL │\n",
       "│        4 │  60000 │          3 │       NULL │         NULL │  NULL │\n",
       "│        5 │  55000 │          2 │       NULL │         NULL │  NULL │\n",
       "│        6 │  15000 │          1 │       NULL │         NULL │  NULL │\n",
       "│        7 │  50000 │          2 │       NULL │         NULL │  NULL │\n",
       "└──────────┴────────┴────────────┴────────────┴──────────────┴───────┘"
      ]
     },
     "execution_count": 31,
     "metadata": {},
     "output_type": "execute_result"
    }
   ],
   "source": [
    "# Left Outer Join:\n",
    "duckdb.sql(\"\"\"\n",
    "SELECT *\n",
    "FROM employees LEFT OUTER JOIN seniors\n",
    "ON personid = employeeId;\"\"\")"
   ]
  },
  {
   "cell_type": "markdown",
   "metadata": {},
   "source": [
    "NULL-values"
   ]
  },
  {
   "cell_type": "code",
   "execution_count": 32,
   "metadata": {},
   "outputs": [
    {
     "data": {
      "text/plain": [
       "┌──────────┬────────┬────────────┬────────────┬──────────────┬───────┐\n",
       "│ personId │ salary │ experience │ employeeId │ numGreyHairs │ bonus │\n",
       "│  int32   │ int32  │   int32    │   int32    │    int32     │ int32 │\n",
       "├──────────┼────────┼────────────┼────────────┼──────────────┼───────┤\n",
       "│        1 │  45000 │          3 │          1 │           45 │ 34000 │\n",
       "│        2 │  37000 │          3 │          2 │          457 │ 40000 │\n",
       "└──────────┴────────┴────────────┴────────────┴──────────────┴───────┘"
      ]
     },
     "execution_count": 32,
     "metadata": {},
     "output_type": "execute_result"
    }
   ],
   "source": [
    "# Right Outer Join:\n",
    "duckdb.sql(\"\"\"\n",
    "SELECT *\n",
    "FROM employees RIGHT OUTER JOIN seniors\n",
    "ON personid = employeeId;\"\"\")"
   ]
  },
  {
   "cell_type": "markdown",
   "metadata": {},
   "source": [
    "well, not much difference to the inner join here, let's switch tables:"
   ]
  },
  {
   "cell_type": "code",
   "execution_count": 33,
   "metadata": {},
   "outputs": [
    {
     "data": {
      "text/plain": [
       "┌────────────┬──────────────┬───────┬──────────┬────────┬────────────┐\n",
       "│ employeeId │ numGreyHairs │ bonus │ personId │ salary │ experience │\n",
       "│   int32    │    int32     │ int32 │  int32   │ int32  │   int32    │\n",
       "├────────────┼──────────────┼───────┼──────────┼────────┼────────────┤\n",
       "│          1 │           45 │ 34000 │        1 │  45000 │          3 │\n",
       "│          2 │          457 │ 40000 │        2 │  37000 │          3 │\n",
       "│       NULL │         NULL │  NULL │        3 │  50000 │          2 │\n",
       "│       NULL │         NULL │  NULL │        4 │  60000 │          3 │\n",
       "│       NULL │         NULL │  NULL │        5 │  55000 │          2 │\n",
       "│       NULL │         NULL │  NULL │        6 │  15000 │          1 │\n",
       "│       NULL │         NULL │  NULL │        7 │  50000 │          2 │\n",
       "└────────────┴──────────────┴───────┴──────────┴────────┴────────────┘"
      ]
     },
     "execution_count": 33,
     "metadata": {},
     "output_type": "execute_result"
    }
   ],
   "source": [
    "# Right Outer Join:\n",
    "duckdb.sql(\"\"\"\n",
    "SELECT *\n",
    "FROM seniors RIGHT OUTER JOIN employees\n",
    "ON personid = employeeId;\"\"\")"
   ]
  },
  {
   "cell_type": "code",
   "execution_count": 34,
   "metadata": {},
   "outputs": [
    {
     "data": {
      "text/plain": [
       "┌────────────┬──────────────┬───────┬──────────┬────────┬────────────┐\n",
       "│ employeeId │ numGreyHairs │ bonus │ personId │ salary │ experience │\n",
       "│   int32    │    int32     │ int32 │  int32   │ int32  │   int32    │\n",
       "├────────────┼──────────────┼───────┼──────────┼────────┼────────────┤\n",
       "│          1 │           45 │ 34000 │        1 │  45000 │          3 │\n",
       "│          2 │          457 │ 40000 │        2 │  37000 │          3 │\n",
       "│       NULL │         NULL │  NULL │        3 │  50000 │          2 │\n",
       "│       NULL │         NULL │  NULL │        4 │  60000 │          3 │\n",
       "│       NULL │         NULL │  NULL │        5 │  55000 │          2 │\n",
       "│       NULL │         NULL │  NULL │        6 │  15000 │          1 │\n",
       "│       NULL │         NULL │  NULL │        7 │  50000 │          2 │\n",
       "└────────────┴──────────────┴───────┴──────────┴────────┴────────────┘"
      ]
     },
     "execution_count": 34,
     "metadata": {},
     "output_type": "execute_result"
    }
   ],
   "source": [
    "# Full Outer Join:\n",
    "duckdb.sql(\"\"\"\n",
    "SELECT *\n",
    "FROM seniors FULL OUTER JOIN employees\n",
    "ON personid = employeeId;\"\"\")"
   ]
  },
  {
   "cell_type": "markdown",
   "metadata": {},
   "source": [
    "### Grouping and Aggregation"
   ]
  },
  {
   "cell_type": "code",
   "execution_count": 35,
   "metadata": {},
   "outputs": [
    {
     "data": {
      "text/plain": [
       "┌──────────────┐\n",
       "│ count_star() │\n",
       "│    int64     │\n",
       "├──────────────┤\n",
       "│            7 │\n",
       "└──────────────┘"
      ]
     },
     "execution_count": 35,
     "metadata": {},
     "output_type": "execute_result"
    }
   ],
   "source": [
    "# as there is no GROUP BY statement, the entire input is considered \n",
    "# a single partition/group\n",
    "# this means the aggregate function is called only once \n",
    "# count(*) calculates the number of tuples in the group:\n",
    "duckdb.sql(\"\"\"\n",
    "SELECT count(*)\n",
    "FROM employees;\"\"\")"
   ]
  },
  {
   "cell_type": "code",
   "execution_count": 36,
   "metadata": {},
   "outputs": [
    {
     "data": {
      "text/plain": [
       "┌────────┬────────────┐\n",
       "│ number │ avg_salary │\n",
       "│ int64  │   int32    │\n",
       "├────────┼────────────┤\n",
       "│      7 │      44571 │\n",
       "└────────┴────────────┘"
      ]
     },
     "execution_count": 36,
     "metadata": {},
     "output_type": "execute_result"
    }
   ],
   "source": [
    "# combining several aggregation functions is no problem:\n",
    "duckdb.sql(\"\"\"\n",
    "SELECT count(*) as number, CAST(round(avg(salary),0) AS INTEGER) as avg_salary\n",
    "FROM employees;\"\"\")"
   ]
  },
  {
   "cell_type": "code",
   "execution_count": 37,
   "metadata": {},
   "outputs": [
    {
     "data": {
      "text/plain": [
       "┌────────────┬──────────────┬────────────┐\n",
       "│ experience │ count_star() │ avg_salary │\n",
       "│   int32    │    int64     │   int32    │\n",
       "├────────────┼──────────────┼────────────┤\n",
       "│          1 │            1 │      15000 │\n",
       "│          2 │            3 │      51667 │\n",
       "│          3 │            3 │      47333 │\n",
       "└────────────┴──────────────┴────────────┘"
      ]
     },
     "execution_count": 37,
     "metadata": {},
     "output_type": "execute_result"
    }
   ],
   "source": [
    "# now a real grouping with three different groups, followed by the aggregation:\n",
    "duckdb.sql(\"\"\"\n",
    "SELECT experience, count(*), CAST(round(avg(salary),0) AS INTEGER) as avg_salary\n",
    "FROM employees\n",
    "GROUP BY experience;\"\"\")"
   ]
  },
  {
   "cell_type": "code",
   "execution_count": 38,
   "metadata": {},
   "outputs": [
    {
     "data": {
      "text/plain": [
       "┌────────┬────────────┬──────────────┐\n",
       "│ salary │ experience │ count_star() │\n",
       "│ int32  │   int32    │    int64     │\n",
       "├────────┼────────────┼──────────────┤\n",
       "│  45000 │          3 │            1 │\n",
       "│  37000 │          3 │            1 │\n",
       "│  50000 │          2 │            2 │\n",
       "│  60000 │          3 │            1 │\n",
       "│  55000 │          2 │            1 │\n",
       "│  15000 │          1 │            1 │\n",
       "└────────┴────────────┴──────────────┘"
      ]
     },
     "execution_count": 38,
     "metadata": {},
     "output_type": "execute_result"
    }
   ],
   "source": [
    "# a grouping based on two grouping attributes:\n",
    "duckdb.sql(\"\"\"\n",
    "SELECT salary, experience, count(*)\n",
    "FROM employees\n",
    "GROUP BY salary, experience;\"\"\")"
   ]
  },
  {
   "cell_type": "code",
   "execution_count": 39,
   "metadata": {},
   "outputs": [
    {
     "data": {
      "text/plain": [
       "┌──────────┬────────┬────────────┐\n",
       "│ personId │ salary │ experience │\n",
       "│  int32   │ int32  │   int32    │\n",
       "├──────────┼────────┼────────────┤\n",
       "│        6 │  15000 │          1 │\n",
       "│        2 │  37000 │          3 │\n",
       "│        1 │  45000 │          3 │\n",
       "│        3 │  50000 │          2 │\n",
       "│        7 │  50000 │          2 │\n",
       "│        5 │  55000 │          2 │\n",
       "│        4 │  60000 │          3 │\n",
       "└──────────┴────────┴────────────┘"
      ]
     },
     "execution_count": 39,
     "metadata": {},
     "output_type": "execute_result"
    }
   ],
   "source": [
    "duckdb.sql(\"\"\"\n",
    "SELECT *\n",
    "FROM employees\n",
    "order by salary asc;\"\"\")"
   ]
  },
  {
   "cell_type": "code",
   "execution_count": 40,
   "metadata": {},
   "outputs": [
    {
     "ename": "BinderException",
     "evalue": "Binder Error: column \"salary\" must appear in the GROUP BY clause or must be part of an aggregate function.\nEither add it to the GROUP BY list, or use \"ANY_VALUE(salary)\" if the exact value of \"salary\" is not important.",
     "output_type": "error",
     "traceback": [
      "\u001b[0;31m---------------------------------------------------------------------------\u001b[0m",
      "\u001b[0;31mBinderException\u001b[0m                           Traceback (most recent call last)",
      "Cell \u001b[0;32mIn [40], line 2\u001b[0m\n\u001b[1;32m      1\u001b[0m \u001b[38;5;66;03m# select using an attribut not appearing in the group by clause\u001b[39;00m\n\u001b[0;32m----> 2\u001b[0m duckdb\u001b[38;5;241m.\u001b[39msql(\u001b[38;5;124m\"\"\"\u001b[39m\n\u001b[1;32m      3\u001b[0m \u001b[38;5;124mSELECT salary, max(salary), count(*)\u001b[39m\n\u001b[1;32m      4\u001b[0m \u001b[38;5;124mFROM employees\u001b[39m\n\u001b[1;32m      5\u001b[0m \u001b[38;5;124mGROUP BY experience;\u001b[39m\u001b[38;5;124m\"\"\"\u001b[39m)\n",
      "\u001b[0;31mBinderException\u001b[0m: Binder Error: column \"salary\" must appear in the GROUP BY clause or must be part of an aggregate function.\nEither add it to the GROUP BY list, or use \"ANY_VALUE(salary)\" if the exact value of \"salary\" is not important."
     ]
    }
   ],
   "source": [
    "# select using an attribut not appearing in the group by clause\n",
    "duckdb.sql(\"\"\"\n",
    "SELECT salary, max(salary), count(*)\n",
    "FROM employees\n",
    "GROUP BY experience;\"\"\")"
   ]
  },
  {
   "cell_type": "markdown",
   "metadata": {},
   "source": [
    "**Note!** This query throws an exception.\n",
    "\n",
    "**WHY?** This SQL query has an ambiguous semantic interpretation!\n",
    "The attribute 'salary' has potentially different values within each group. For this reason:\n",
    "Only use attributes occuring in the GROUP BY clause without a corresponding aggregation function in the SELECT clause.\n",
    "For this example, only the attribute 'experience' can be used without an aggregation function; every other attribute must be used with an aggregation function!"
   ]
  },
  {
   "cell_type": "code",
   "execution_count": 41,
   "metadata": {},
   "outputs": [
    {
     "data": {
      "text/plain": [
       "┌────────────┬────────┐\n",
       "│ experience │ salary │\n",
       "│   int32    │ int32  │\n",
       "├────────────┼────────┤\n",
       "│          1 │  15000 │\n",
       "│          2 │  50000 │\n",
       "│          2 │  55000 │\n",
       "│          2 │  50000 │\n",
       "│          3 │  45000 │\n",
       "│          3 │  37000 │\n",
       "│          3 │  60000 │\n",
       "└────────────┴────────┘"
      ]
     },
     "execution_count": 41,
     "metadata": {},
     "output_type": "execute_result"
    }
   ],
   "source": [
    "# consider again the contents of employees:\n",
    "duckdb.sql(\"\"\"\n",
    "SELECT experience, salary\n",
    "FROM employees\n",
    "order by experience;\"\"\")"
   ]
  },
  {
   "cell_type": "code",
   "execution_count": 42,
   "metadata": {},
   "outputs": [
    {
     "data": {
      "text/plain": [
       "┌────────────┬────────┬──────────────┐\n",
       "│ experience │ salary │ count_star() │\n",
       "│   int32    │ int32  │    int64     │\n",
       "├────────────┼────────┼──────────────┤\n",
       "│          3 │  45000 │            1 │\n",
       "│          3 │  37000 │            1 │\n",
       "│          2 │  50000 │            2 │\n",
       "│          3 │  60000 │            1 │\n",
       "│          2 │  55000 │            1 │\n",
       "│          1 │  15000 │            1 │\n",
       "└────────────┴────────┴──────────────┘"
      ]
     },
     "execution_count": 42,
     "metadata": {},
     "output_type": "execute_result"
    }
   ],
   "source": [
    "# this example is valid and has a semantic meaning:\n",
    "duckdb.sql(\"\"\"\n",
    "SELECT experience, salary, count(*)\n",
    "FROM employees\n",
    "GROUP BY experience, salary;\"\"\")"
   ]
  },
  {
   "cell_type": "markdown",
   "metadata": {},
   "source": [
    "### Grouping and Aggregation with HAVING"
   ]
  },
  {
   "cell_type": "code",
   "execution_count": 43,
   "metadata": {},
   "outputs": [
    {
     "data": {
      "text/plain": [
       "┌────────────┬──────────────┬────────────────────┐\n",
       "│ experience │ count_star() │    avg(salary)     │\n",
       "│   int32    │    int64     │       double       │\n",
       "├────────────┼──────────────┼────────────────────┤\n",
       "│          2 │            3 │ 51666.666666666664 │\n",
       "└────────────┴──────────────┴────────────────────┘"
      ]
     },
     "execution_count": 43,
     "metadata": {},
     "output_type": "execute_result"
    }
   ],
   "source": [
    "# now grouping with HAVING:\n",
    "duckdb.sql(\"\"\"\n",
    "SELECT experience, count(*), avg(salary)\n",
    "FROM employees\n",
    "WHERE salary > 40000\n",
    "GROUP BY experience\n",
    "HAVING count(*) > 2;\"\"\")"
   ]
  },
  {
   "cell_type": "markdown",
   "metadata": {},
   "source": [
    "### Conceptual Order of HAVING\n",
    "\n",
    "The same query with HAVING rolled out in a step-by-step manner according to the conceptual order of execution:"
   ]
  },
  {
   "cell_type": "code",
   "execution_count": 44,
   "metadata": {},
   "outputs": [
    {
     "data": {
      "text/plain": [
       "┌──────────┬────────┬────────────┐\n",
       "│ personId │ salary │ experience │\n",
       "│  int32   │ int32  │   int32    │\n",
       "├──────────┼────────┼────────────┤\n",
       "│        1 │  45000 │          3 │\n",
       "│        2 │  37000 │          3 │\n",
       "│        3 │  50000 │          2 │\n",
       "│        4 │  60000 │          3 │\n",
       "│        5 │  55000 │          2 │\n",
       "│        6 │  15000 │          1 │\n",
       "│        7 │  50000 │          2 │\n",
       "└──────────┴────────┴────────────┘"
      ]
     },
     "execution_count": 44,
     "metadata": {},
     "output_type": "execute_result"
    }
   ],
   "source": [
    "# 1. FROM: all employees\n",
    "duckdb.sql(\"\"\"\n",
    "SELECT * \n",
    "FROM employees;\"\"\")"
   ]
  },
  {
   "cell_type": "code",
   "execution_count": 45,
   "metadata": {},
   "outputs": [
    {
     "data": {
      "text/plain": [
       "┌──────────┬────────┬────────────┐\n",
       "│ personId │ salary │ experience │\n",
       "│  int32   │ int32  │   int32    │\n",
       "├──────────┼────────┼────────────┤\n",
       "│        1 │  45000 │          3 │\n",
       "│        3 │  50000 │          2 │\n",
       "│        4 │  60000 │          3 │\n",
       "│        5 │  55000 │          2 │\n",
       "│        7 │  50000 │          2 │\n",
       "└──────────┴────────┴────────────┘"
      ]
     },
     "execution_count": 45,
     "metadata": {},
     "output_type": "execute_result"
    }
   ],
   "source": [
    "# 2. WHERE: selection of tuples with salary > 40000\n",
    "duckdb.sql(\"\"\"\n",
    "SELECT * \n",
    "FROM employees\n",
    "WHERE salary > 40000;\"\"\")"
   ]
  },
  {
   "cell_type": "code",
   "execution_count": 46,
   "metadata": {},
   "outputs": [
    {
     "data": {
      "text/plain": [
       "┌────────────┬──────────────┬────────────────────┐\n",
       "│ experience │ count_star() │     avg_salary     │\n",
       "│   int32    │    int64     │       double       │\n",
       "├────────────┼──────────────┼────────────────────┤\n",
       "│          2 │            3 │ 51666.666666666664 │\n",
       "│          3 │            2 │            52500.0 │\n",
       "└────────────┴──────────────┴────────────────────┘"
      ]
     },
     "execution_count": 46,
     "metadata": {},
     "output_type": "execute_result"
    }
   ],
   "source": [
    "# 3. GROUP BY: build groups based on \"experience\"\n",
    "# 5. compute the aggregation functions count(*) and avg(salary) for each group\n",
    "Q1 = duckdb.sql(\"\"\"\n",
    "SELECT experience, count(*), avg(salary) AS avg_salary\n",
    "FROM employees\n",
    "WHERE salary > 40000\n",
    "GROUP BY experience;\"\"\")\n",
    "Q1 # let's call this query Q1"
   ]
  },
  {
   "cell_type": "code",
   "execution_count": 47,
   "metadata": {
    "scrolled": true
   },
   "outputs": [
    {
     "data": {
      "text/plain": [
       "┌────────────┬──────────────┬─────────────┐\n",
       "│ experience │ count_star() │ avg(salary) │\n",
       "│   int32    │    int64     │   double    │\n",
       "├────────────┼──────────────┼─────────────┤\n",
       "│          3 │            2 │     52500.0 │\n",
       "└────────────┴──────────────┴─────────────┘"
      ]
     },
     "execution_count": 47,
     "metadata": {},
     "output_type": "execute_result"
    }
   ],
   "source": [
    "# 3. GROUP BY: build groups based on \"experience\"\n",
    "# 4. HAVING: only output groups with avg(salary) > 50000\n",
    "# 5. compute the aggregation functions count(*) and avg(salary) for each group\n",
    "duckdb.sql(\"\"\"\n",
    "SELECT experience, count(*), avg(salary)\n",
    "FROM employees\n",
    "WHERE salary > 40000\n",
    "GROUP BY experience\n",
    "HAVING avg(salary) > 52000;\"\"\")"
   ]
  },
  {
   "cell_type": "code",
   "execution_count": 48,
   "metadata": {},
   "outputs": [
    {
     "data": {
      "text/plain": [
       "┌────────────┬──────────────┬────────────┐\n",
       "│ experience │ count_star() │ avg_salary │\n",
       "│   int32    │    int64     │   double   │\n",
       "├────────────┼──────────────┼────────────┤\n",
       "│          3 │            2 │    52500.0 │\n",
       "└────────────┴──────────────┴────────────┘"
      ]
     },
     "execution_count": 48,
     "metadata": {},
     "output_type": "execute_result"
    }
   ],
   "source": [
    "# or alternatively using Q1\n",
    "duckdb.sql(\"\"\"\n",
    "SELECT *\n",
    "FROM Q1\n",
    "WHERE avg_salary > 52000;\"\"\")"
   ]
  },
  {
   "cell_type": "markdown",
   "metadata": {},
   "source": [
    "### Uncorrelated Subqueries"
   ]
  },
  {
   "cell_type": "markdown",
   "metadata": {},
   "source": [
    "We could also explain the semantics of HAVING using a so-called (uncorrelated) subquery:"
   ]
  },
  {
   "cell_type": "code",
   "execution_count": 49,
   "metadata": {},
   "outputs": [
    {
     "data": {
      "text/plain": [
       "┌────────────┬──────────────┬────────────────────┐\n",
       "│ experience │ count_star() │    avg(salary)     │\n",
       "│   int32    │    int64     │       double       │\n",
       "├────────────┼──────────────┼────────────────────┤\n",
       "│          2 │            3 │ 51666.666666666664 │\n",
       "│          3 │            2 │            52500.0 │\n",
       "└────────────┴──────────────┴────────────────────┘"
      ]
     },
     "execution_count": 49,
     "metadata": {},
     "output_type": "execute_result"
    }
   ],
   "source": [
    "# recall Q1 from above\n",
    "duckdb.sql(\"\"\"\n",
    "SELECT experience, count(*), avg(salary) \n",
    "FROM employees\n",
    "WHERE salary > 40000\n",
    "GROUP BY experience;\"\"\")"
   ]
  },
  {
   "cell_type": "markdown",
   "metadata": {},
   "source": [
    "we could rewrite this to:"
   ]
  },
  {
   "cell_type": "code",
   "execution_count": 50,
   "metadata": {},
   "outputs": [
    {
     "data": {
      "text/plain": [
       "┌────────────┬──────────────┬────────────────────┐\n",
       "│ experience │ count_star() │     avg_salary     │\n",
       "│   int32    │    int64     │       double       │\n",
       "├────────────┼──────────────┼────────────────────┤\n",
       "│          2 │            3 │ 51666.666666666664 │\n",
       "│          3 │            2 │            52500.0 │\n",
       "└────────────┴──────────────┴────────────────────┘"
      ]
     },
     "execution_count": 50,
     "metadata": {},
     "output_type": "execute_result"
    }
   ],
   "source": [
    "duckdb.sql(\"\"\"\n",
    "SELECT *\n",
    "FROM (\n",
    "    SELECT experience, count(*), avg(salary) AS avg_salary\n",
    "    FROM employees\n",
    "    WHERE salary > 40000\n",
    "    GROUP BY experience\n",
    "    );\"\"\")"
   ]
  },
  {
   "cell_type": "markdown",
   "metadata": {},
   "source": [
    "Here Q1 is a subquery (or inner query). Conceptually you can read this as: Q1 produces a relation and that relation is then used as any other relation in the FROM clause."
   ]
  },
  {
   "cell_type": "markdown",
   "metadata": {},
   "source": [
    "Now, we can filter on particular groups and thus simulate the effect of HAVING:"
   ]
  },
  {
   "cell_type": "code",
   "execution_count": 51,
   "metadata": {},
   "outputs": [
    {
     "data": {
      "text/plain": [
       "┌────────────┬──────────────┬────────────┐\n",
       "│ experience │ count_star() │ avg_salary │\n",
       "│   int32    │    int64     │   double   │\n",
       "├────────────┼──────────────┼────────────┤\n",
       "│          3 │            2 │    52500.0 │\n",
       "└────────────┴──────────────┴────────────┘"
      ]
     },
     "execution_count": 51,
     "metadata": {},
     "output_type": "execute_result"
    }
   ],
   "source": [
    "duckdb.sql(\"\"\"\n",
    "SELECT *\n",
    "FROM (\n",
    "    SELECT experience, count(*), avg(salary) AS avg_salary\n",
    "    FROM employees\n",
    "    WHERE salary > 40000\n",
    "    GROUP BY experience\n",
    "    )\n",
    "WHERE avg_salary > 52000;\"\"\")"
   ]
  },
  {
   "cell_type": "markdown",
   "metadata": {},
   "source": [
    "### Views\n",
    "\n",
    "Subqueries can become very hard to read. In general, SQL statements can become pretty large and often large parts of these statements specify things we specify over and over again anyways. Therefore we recommend to break up SQL-statements into building blocks wherever possible to enhance readability. This can be done using views."
   ]
  },
  {
   "cell_type": "code",
   "execution_count": 52,
   "metadata": {},
   "outputs": [],
   "source": [
    "# R:= T_T.x=S.y join S\n",
    "\n",
    "# HighlyPaidEmployees := SELECT experience, count(*), avg(salary) AS avg_salary\n",
    "#     FROM employees\n",
    "#     WHERE salary > 40000\n",
    "#     GROUP BY experience"
   ]
  },
  {
   "cell_type": "code",
   "execution_count": 53,
   "metadata": {},
   "outputs": [],
   "source": [
    "# delete this view if it already exists:\n",
    "\n",
    "duckdb.sql(\"DROP VIEW IF EXISTS HighlyPaidEmployees;\")\n",
    "\n",
    "# create a view\n",
    "duckdb.sql(\"\"\"\n",
    "CREATE VIEW HighlyPaidEmployees as\n",
    "    SELECT experience, count(*), avg(salary) AS avg_salary\n",
    "    FROM employees\n",
    "    WHERE salary > 40000\n",
    "    GROUP BY experience;\"\"\")"
   ]
  },
  {
   "cell_type": "code",
   "execution_count": 54,
   "metadata": {},
   "outputs": [
    {
     "data": {
      "text/plain": [
       "┌────────────┬──────────────┬────────────────────┐\n",
       "│ experience │ count_star() │     avg_salary     │\n",
       "│   int32    │    int64     │       double       │\n",
       "├────────────┼──────────────┼────────────────────┤\n",
       "│          2 │            3 │ 51666.666666666664 │\n",
       "│          3 │            2 │            52500.0 │\n",
       "└────────────┴──────────────┴────────────────────┘"
      ]
     },
     "execution_count": 54,
     "metadata": {},
     "output_type": "execute_result"
    }
   ],
   "source": [
    "duckdb.sql(\"\"\"\n",
    "SELECT *\n",
    "FROM HighlyPaidEmployees;\"\"\")"
   ]
  },
  {
   "cell_type": "markdown",
   "metadata": {},
   "source": [
    "Notice that a view definition **does not execute any query**, it is merely an alias to an SQL statement. A view can then be used just like any other relation and only then it will be executed:"
   ]
  },
  {
   "cell_type": "code",
   "execution_count": 55,
   "metadata": {},
   "outputs": [
    {
     "data": {
      "text/plain": [
       "┌────────────┬──────────────┬────────────────────┐\n",
       "│ experience │ count_star() │     avg_salary     │\n",
       "│   int32    │    int64     │       double       │\n",
       "├────────────┼──────────────┼────────────────────┤\n",
       "│          2 │            3 │ 51666.666666666664 │\n",
       "│          3 │            2 │            52500.0 │\n",
       "└────────────┴──────────────┴────────────────────┘"
      ]
     },
     "execution_count": 55,
     "metadata": {},
     "output_type": "execute_result"
    }
   ],
   "source": [
    "duckdb.sql(\"\"\"\n",
    "SELECT *\n",
    "FROM (SELECT experience, count(*), avg(salary) AS avg_salary\n",
    "    FROM employees\n",
    "    WHERE salary > 40000\n",
    "    GROUP BY experience);\"\"\")"
   ]
  },
  {
   "cell_type": "markdown",
   "metadata": {},
   "source": [
    "If you want to preexecute a view, you can use **materialized views**. Some systems offer this functionality.\n",
    "\n",
    "**General recommendation:** do not use materialized views unless you know exactly what you are doing..."
   ]
  },
  {
   "cell_type": "code",
   "execution_count": null,
   "metadata": {},
   "outputs": [],
   "source": []
  }
 ],
 "metadata": {
  "kernelspec": {
   "display_name": "Python 3 (ipykernel)",
   "language": "python",
   "name": "python3"
  },
  "language_info": {
   "codemirror_mode": {
    "name": "ipython",
    "version": 3
   },
   "file_extension": ".py",
   "mimetype": "text/x-python",
   "name": "python",
   "nbconvert_exporter": "python",
   "pygments_lexer": "ipython3",
   "version": "3.10.10"
  },
  "varInspector": {
   "cols": {
    "lenName": 16,
    "lenType": 16,
    "lenVar": 40
   },
   "kernels_config": {
    "python": {
     "delete_cmd_postfix": "",
     "delete_cmd_prefix": "del ",
     "library": "var_list.py",
     "varRefreshCmd": "print(var_dic_list())"
    },
    "r": {
     "delete_cmd_postfix": ") ",
     "delete_cmd_prefix": "rm(",
     "library": "var_list.r",
     "varRefreshCmd": "cat(var_dic_list()) "
    }
   },
   "types_to_exclude": [
    "module",
    "function",
    "builtin_function_or_method",
    "instance",
    "_Feature"
   ],
   "window_display": false
  }
 },
 "nbformat": 4,
 "nbformat_minor": 2
}
